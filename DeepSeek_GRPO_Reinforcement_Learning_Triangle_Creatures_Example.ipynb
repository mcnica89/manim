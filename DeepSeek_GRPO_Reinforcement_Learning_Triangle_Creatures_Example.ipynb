{
  "nbformat": 4,
  "nbformat_minor": 0,
  "metadata": {
    "colab": {
      "provenance": [],
      "gpuType": "V28",
      "authorship_tag": "ABX9TyNp/MOttEFczGmIz87v2UpC",
      "include_colab_link": true
    },
    "kernelspec": {
      "name": "python3",
      "display_name": "Python 3"
    },
    "language_info": {
      "name": "python"
    },
    "accelerator": "TPU"
  },
  "cells": [
    {
      "cell_type": "markdown",
      "metadata": {
        "id": "view-in-github",
        "colab_type": "text"
      },
      "source": [
        "<a href=\"https://colab.research.google.com/github/mcnica89/manim/blob/main/DeepSeek_GRPO_Reinforcement_Learning_Triangle_Creatures_Example.ipynb\" target=\"_parent\"><img src=\"https://colab.research.google.com/assets/colab-badge.svg\" alt=\"Open In Colab\"/></a>"
      ]
    },
    {
      "cell_type": "markdown",
      "source": [
        "# Triangle Creatures with DeepSeek's Group Relative Policy Optimization Algorithm"
      ],
      "metadata": {
        "id": "b_fnZstdM3EI"
      }
    },
    {
      "cell_type": "code",
      "execution_count": 1,
      "metadata": {
        "id": "euedu6qGMvlw"
      },
      "outputs": [],
      "source": [
        "import jax.numpy as jnp #jax numpy\n",
        "import jax #other jax functions used\n",
        "from tqdm import tqdm #for nice loading  bars\n",
        "import numpy as np #for recording stuff where mutable arrays are helpful vs jax and saving arrays to files easily\n",
        "import optax  # Jax Optimizer library\n",
        "import time # to set random seeds\n",
        "from functools import partial #needed to @jax.jit over only some params"
      ]
    },
    {
      "cell_type": "code",
      "source": [
        "### SUGGESTION ###\n",
        "# In Google Colab, Select Runtime > Change runtime type > TPU (e.g. v2-8 TPU) for accelerated training!"
      ],
      "metadata": {
        "id": "2OXr1xMJcaNp"
      },
      "execution_count": 2,
      "outputs": []
    },
    {
      "cell_type": "markdown",
      "source": [
        "# Physics Simulation\n",
        "\n",
        "## How does the physics of a triangle creature work?\n",
        "\n",
        "The triangle creature is a 2d creature that has:\n",
        "\n",
        "- 3 Edges with Muscle Springs\n",
        "    - The edges represent **\"muscles\"**\n",
        "    - The creautre can choose to either contract or expand each of its edges\n",
        "    - The muscles apply a force to the two vertices attached to it in the same way springs.\n",
        "    - The edges have no mass and no forces are ever applied to them.\n",
        "\n",
        "- 3 Vertices with Mass Pumps:\n",
        "    - The vertices represent **\"feet\"**\n",
        "    - Each vertex has some amount of mass, which can be shifted around between the three vertices.\n",
        "    - The creature can choose to **\"pump\"** mass between its vertices to shift its weight around.\n",
        "    \n",
        "\n",
        "- There is simple friction on the surface the Triangle Creature lives on. It always acts to oppose the direction of each vertex's velocity, and the magnitude of the force is proportional to the mass on that vertex, $F = \\mu_{friction} M g$ .\n",
        "\n",
        "## More edge/muscle details:\n",
        "\n",
        "- The edges act like springs with spring constant $K_{spring}$.\n",
        "- The muscle setting for each edge is either $0$ or $1$. This sets the *equilibrium length* of the spring: if  muscles is $0$ then equlibrium length is $L_{min}$ and if its $1$ the equlibrium length is $L_{max}$.\n",
        "- The force applied is just Hooke's law for springs, $F = -K_{spring}(L - L^{eq})$ along the direction of the edge.\n",
        "\n",
        "## More vertex/pump details:\n",
        "- The creatures total mass $M_{total} $ is always conserved and it has a minimum mass $M_{min}$ that must always be maintained at each foot\n",
        "- This means there is $M_{total} - 3M_{min}$ mass that is free to be pumped around.\n",
        "- The brain of the triangle creature can choose to set each pump to either $0$ or $1$, representing pumping OUT or IN respectively.\n",
        "- The pump settings are converted into fractions of the free mass to be distributed to the three feet, and then converted to an \"equilibrium mass\" that the creature tries to keep on the mass, in proportion to the pump settins:\n",
        "\n",
        "$$M^{eq}_i =  M_{min} + (M_{total} - 3M_{min}) \\frac{pump_i}{pump_1 + pump_2 + pump_3} $$\n",
        "\n",
        "(with the convention that when all pumps are set to $0$, the mass is equally split $1/3:1/3:1/3$)\n",
        "\n",
        "- Once the equilibrium masses are determiend from the pump settings, the mass is pumped around according to a differential equaion very similar to the Hooke's law for springs $\\frac{dM}{dt} = -K_{mass}(M - M^{eq})$\n",
        "\n",
        "## Physics simualtion details:\n",
        "\n",
        "The whole simulation runs by doing an RK2 scheme which is a fancier version of the simple forward Euler update $\\Delta x = x + v \\Delta t$. It works by first estimating the velocity and forces at the midpoint of the time interval at time $\\Delta t/2$. This requires twice as many calls to the functions, but is worth it due to improved error! Detailed implentation comments in the code.\n",
        "\n",
        "\n"
      ],
      "metadata": {
        "id": "cNYYWxtqNAvY"
      }
    },
    {
      "cell_type": "code",
      "source": [
        "#---GLOBAL CONSTANTS FOR THE CREATURE---\n",
        "\n",
        "#--FRICTION STUFF--\n",
        "# Friction forces apply according to mu*g*M where M is the mass of creature\n",
        "g = 10 #gravity constant.\n",
        "mu_friction = 0.15 #kinetic friction coefficent\n",
        "\n",
        "#--PUMPS/MASS STUFF--\n",
        "# The creature weighs M_total across its 3 legs,\n",
        "# but must always have >= M_min mass on each leg at any time\n",
        "M_min = 1.0 #minimum mass on each vertex\n",
        "M_total = 15.0 #total mass of the creature\n",
        "# The creature pumps mass according to dM/dt = -K_Mass(M - M_eq) where M_eq is the equlibrium mass it is aiming for\n",
        "K_mass = 4.0 #pump constant for the masses\n",
        "\n",
        "#--MUSCLES/SPRINGS STUFF--\n",
        "L_min = 1.6 #minimum spring eq lenth, when muscle = 0\n",
        "L_max = 2.8 #maximum spring eq length, when muscle = 1\n",
        "K_spring = 9.0 #spring constant F = K_spring(L - L_eq)\n",
        "\n",
        "#--SIMULATION PARAMETERS--\n",
        "dt = 0.1 #timestep for 1 phyics iteration\n",
        "# How many dt's happen between each use of the creatures brain?\n",
        "num_physics_per_brain_step = 50\n",
        "num_brain_steps = 9 #how many actions the creature gets in one run\n",
        "\n",
        "@jax.jit\n",
        "def calculate_forces(info):\n",
        "    \"\"\"Given the current state, calculates the forces on the three vertices due to\n",
        "    1. Spring forces\n",
        "    2. Friction\n",
        "    Returns the force on each vertex in Shape (batch_size,3,2)\"\"\"\n",
        "\n",
        "    #Input information:\n",
        "    positions, velocities, masses, pumps, muscles = info\n",
        "    #Shapes of things:\n",
        "    # Vertex Indexed Things:\n",
        "    #   positions (batch_size, 3, 2)\n",
        "    #   velocities (batch_size, 3, 2)\n",
        "    #   masses (batch_size, 3)\n",
        "    #   pumps (batch_size, 3)\n",
        "    #     [0,1] valued where 0 represents max shrink, 1 represent max grow\n",
        "    # Edge indexed things: Edge Order 01, 02, 12\n",
        "    #   muscles (batch_size, 3)\n",
        "    #     [0,1] valued  where 0 represents minimum lenght, 1 represents max length\n",
        "\n",
        "\n",
        "    ###--EDGE STUFF--\n",
        "\n",
        "    # Compute edge vectors for all triangles in the batch\n",
        "    edge_01 = positions[..., 1, :] - positions[..., 0, :]  # Vector from point 0 to point 1\n",
        "    edge_02 = positions[..., 2, :] - positions[..., 0, :]  # Vector from point 0 to point 2\n",
        "    edge_12 = positions[..., 2, :] - positions[..., 1, :]  # Vector from point 1 to point 2\n",
        "\n",
        "    # Compute the current lengths of the edges\n",
        "    length_01 = jnp.linalg.norm(edge_01, axis=-1)  # Shape: (batch_size,)\n",
        "    length_02 = jnp.linalg.norm(edge_02, axis=-1)  # Shape: (batch_size,)\n",
        "    length_12 = jnp.linalg.norm(edge_12, axis=-1)  # Shape: (batch_size,)\n",
        "\n",
        "    # Normalize edge vectors to get unit directions.\n",
        "    # make sure lengths are at least epsilon to aviod diveisoon by zero\n",
        "    epsilon = 1e-8\n",
        "    dir_01 = edge_01 / jnp.maximum(length_01[..., None],epsilon)  # Shape: (batch_size, 2)\n",
        "    dir_02 = edge_02 / jnp.maximum(length_02[..., None],epsilon)  # Shape: (batch_size, 2)\n",
        "    dir_12 = edge_12 / jnp.maximum(length_12[..., None],epsilon)  # Shape: (batch_size, 2)\n",
        "\n",
        "    # Compute spring forces based on: F = -K * (L - L_eq) * direction\n",
        "\n",
        "    edge_lengths_eq = L_min + muscles*(L_max - L_min) #equilbirum lengths based on muscle status\n",
        "\n",
        "    s_force_01 = -K_spring * (length_01 - edge_lengths_eq[..., 0])[..., None] * dir_01  # Shape: (batch_size, 2)\n",
        "    s_force_02 = -K_spring * (length_02 - edge_lengths_eq[..., 1])[..., None] * dir_02  # Shape: (batch_size, 2)\n",
        "    s_force_12 = -K_spring * (length_12 - edge_lengths_eq[..., 2])[..., None] * dir_12  # Shape: (batch_size, 2)\n",
        "\n",
        "    # Initialize forces tensor for all vertices\n",
        "    # forces is indexed by the vertices now.\n",
        "    forces = jnp.zeros_like(positions)  # Shape: (batch_size, 3, 2)\n",
        "\n",
        "    # Accumulate spring forces for each vertex\n",
        "    # Note that you have to use x = x.at[ ix ].add[ delta_x ] rather than x += delta_x because jax arrays are imutable\n",
        "\n",
        "    forces = forces.at[..., 0, :].add(-s_force_01 - s_force_02)  # Point 0 affected by edges 01 and 02\n",
        "    forces = forces.at[..., 1, :].add(s_force_01 - s_force_12)   # Point 1 affected by edges 01 and 12\n",
        "    forces = forces.at[..., 2, :].add(s_force_02 + s_force_12 )   # Point 2 affected by edges 02 and 12\n",
        "\n",
        "    ###--FRICTION FORCES--\n",
        "    # Compute the magnitudes of the velocities for each vertex in the batch\n",
        "    speed = jnp.linalg.norm(velocities, axis=-1)  # Shape: (batch_size, 3)\n",
        "    epsilon = 1e-8\n",
        "    velocity_directions = velocities / jnp.maximum(speed[..., None],epsilon)\n",
        "    # Safe divide by numbers close to zero. Shape: (batch_size, 3, 2)\n",
        "\n",
        "\n",
        "    # Compute the kinetic friction force magnitudes\n",
        "    kinetic_friction_magnitudes = mu_friction * masses * g  # Shape: (batch_size, 3)\n",
        "\n",
        "    # Add friction forces opposite the velocity direction to each vertex\n",
        "    forces = forces - kinetic_friction_magnitudes[..., None] * velocity_directions\n",
        "    return  forces\n",
        "\n",
        "\n",
        "@jax.jit\n",
        "def triangle_update(iter_num, info):\n",
        "    \"\"\"Applies one time step, of time dt, to the positions, velocities, masses of the triangle creature\n",
        "    The input is Setup so that it can work with jax.lax for loops for efficnency. iter_num is never used\"\"\"\n",
        "\n",
        "    #Input information:\n",
        "    positions, velocities, masses, pumps, muscles = info\n",
        "    #Shapes:\n",
        "    # Vertex Indexed Things:\n",
        "    #   positions (batch_size, 3, 2)\n",
        "    #   velocities (batch_size, 3, 2)\n",
        "    #   masses (batch_size, 3)\n",
        "    #   pumps (batch_size, 3)\n",
        "    #     [0,1] valued where 0 represents max shrink, 1 represent max grow\n",
        "    # Edge indexed things: Edge Order 01, 02, 12\n",
        "    #   muscles (batch_size, 3)\n",
        "    #     [0,1] valued  where 0 represents minimum lenght, 1 represents max length\n",
        "\n",
        "\n",
        "    # Second-Order Runge-Kutta Method (RK2 - Midpoint Method)\n",
        "    # -------------------------------------------------------\n",
        "    # 1. Compute acceleration at the initial position and velocity.\n",
        "    # 2. Estimate velocity and position at the midpoint using half a time step.\n",
        "    # 3. Compute acceleration at this midpoint.\n",
        "    # 4. Use the midpoint acceleration to update velocity and position for the full step.\n",
        "    # - Requires 2 acceleration function calls per step.\n",
        "    # - Global error is O(dt^2), making it much more accurate than Forward Euler (O(dt)).\n",
        "\n",
        "\n",
        "    #Convert \"pumps\" to fractions, e.g. 0,1,1 -> 0,1/2,1/2. epsilon is there so that (0,0,0) -> (1/3,1/3,1/3)\n",
        "    #this has the property that all entries are in [0,1] and they sum to 1.\n",
        "    epsilon = 1e-6\n",
        "    pumps_fraction = (pumps + epsilon) / jnp.sum( pumps+epsilon, axis=-1, keepdims=True  )\n",
        "\n",
        "    #Compute equilbrium mass amounts by distributing available weight by pump fractions\n",
        "    masses_eq = M_min + pumps_fraction * (M_total - 3.0*M_min)\n",
        "\n",
        "    # RK2 method starts here\n",
        "\n",
        "    #--Initial Calculations\n",
        "    forces = calculate_forces((positions, velocities, masses, pumps, muscles))\n",
        "    accelerations = forces / masses[..., None]  # Shape: (3, 2)\n",
        "\n",
        "    #--Halfway point calculations\n",
        "    masses_half = masses + (masses - masses_eq)*jnp.expm1(-K_mass*0.5*dt)\n",
        "    #note expm1 is the function exp(x)-1.\n",
        "    #This formula is the exact solution do dm/dt = K(m - m_eq) at time 0.5*dt\n",
        "\n",
        "    positions_half = positions + 0.5*dt*velocities #halfway position estimate\n",
        "    velocities_half = velocities + 0.5*dt*accelerations #halfway velocity estimate\n",
        "\n",
        "    forces_half = calculate_forces((positions_half, velocities_half, masses_half, pumps, muscles))\n",
        "    accelerations_half = forces_half / masses_half[..., None]  # Shape: (3, 2)\n",
        "\n",
        "    #--Final calcualtions by using the midpoint\n",
        "    masses_final = masses + (masses - masses_eq)*jnp.expm1(-K_mass*dt) #exact solution\n",
        "    positions_final = positions+dt*velocities_half #estimate using midpoint velocity\n",
        "    velocities_final = velocities+dt*accelerations_half #estimate using midpoint accelerations\n",
        "\n",
        "    #Note pumps, muscles are unchanged, but leave them in here for compatability in jax.lax for-loops\n",
        "    return positions_final, velocities_final, masses_final, pumps, muscles"
      ],
      "metadata": {
        "id": "kWzk8AOsNC_P"
      },
      "execution_count": 3,
      "outputs": []
    },
    {
      "cell_type": "markdown",
      "source": [
        "# Neural Network Brain\n",
        "\n",
        "The Triangle Creature has a simple neural network brain that inputs the current state of the creature, and outputs what action the creature should take next.\n",
        "\n",
        "There are 64 actions the creature can take corresponding to the set $\\{0,1\\}^3 \\times \\{0,1\\}^3$ for the settings of the pumps and muslcles of the creature. Note that because a setting of pumps = $1,1,1$ and pumps = $0,0,0$ are identical (both distribute the mass evenly between the feet), there are actually only 56 distinct actions. The neural network brain outputs the probabilities of taking one of these actions as a size 56 vector. (Specifically it outputs the log-probabilities)\n",
        "\n",
        "The input to the creature is a size 13 vector consisting of:\n",
        "- The relative loctions of all the vertices (3 vertices $\\times$ 2 coordinates per vertex = 6 entries)\n",
        "- The absolute position of the y value of the center of the creater.  (1 entry) [This gives the creature the ability to steer itself up/down to maintain level movement]\n",
        "- The settings of the pumps from $\\{0,1\\}^3$ (3 entries)\n",
        "- The settings of the muscles from $\\{0,1\\}^3$ (3 entries)\n",
        "\n",
        "In practice I made it a fully connected ReLu neural network with 1 single hidden layer of size 32.\n"
      ],
      "metadata": {
        "id": "XZoQ2M2YOhFY"
      }
    },
    {
      "cell_type": "code",
      "source": [
        "### -- INPUT STUFF ---\n",
        "\n",
        "input_size = 13 #Flattened size of relative vertex location, absolute y location, and pump/muslce settings\n",
        "\n",
        "@jax.jit\n",
        "def normalize_points(points):\n",
        "    # given the vertices of a triangle return their relative positions by subtracting off the centroid\n",
        "    centroid = jnp.mean(points, axis=-2, keepdims=True)  # Shape: (batch_size, 1, 2)\n",
        "    normalized_points = points - centroid\n",
        "    return normalized_points\n",
        "\n",
        "@jax.jit\n",
        "def get_input(my_points, my_velocities, my_masses, my_pumps, my_muscles):\n",
        "    #This is the input to the neural network it consits of 15 numbers:\n",
        "     # Next 3 entries: Relative x-coorindates of poitns (so it can know which of its feet are left/right)\n",
        "    # Next 3 entries: Rleative y-coordinattes of points (so it can know which of its feet are up/down)\n",
        "    # Next 3 entries: previous pumps setting as 0 or 1\n",
        "    # Next 3 entries: previous muscle setting as 0 or 1\n",
        "    # Last bonus entry: y-coordinates of the centroid points (so it can know how far up/down it is)\n",
        "\n",
        "\n",
        "    y_centroid = jnp.mean(my_points[..., 1], axis=-1)\n",
        "\n",
        "    #expand_dims on the first one is needed on the y_centroid to prevent it from working when its a scalar\n",
        "    result = jnp.concatenate([\n",
        "                            normalize_points(my_points)[..., 0],  # Ensure at least 1D\n",
        "                            normalize_points(my_points)[..., 1],  # Ensure at least 1D\n",
        "                            my_pumps,\n",
        "                            my_muscles,\n",
        "                            jnp.expand_dims(y_centroid, axis=-1),\n",
        "                        ], axis=-1)\n",
        "    return result #jnp.concatenate([y_centroid,normalize_points(my_points)[...,0],normalize_points(my_points)[...,1],my_pumps, my_muscles],axis=-1)\n",
        "\n",
        "### --- NEURAL NETWORK STUFF ---\n",
        "\n",
        "def init_params(key, input_size, hidden_size, output_size):\n",
        "    \"\"\"Initialize network parameters (weights and biases)\"\"\"\n",
        "    # Weights and biases for the first layer (input to hidden)\n",
        "    key, subkey = jax.random.split(key)\n",
        "    W1 = jax.random.normal(subkey, (input_size, hidden_size)) * 0.1\n",
        "    b1 = jnp.zeros(hidden_size)\n",
        "\n",
        "    # Weights and biases for the second layer (hidden to output)\n",
        "    key, subkey = jax.random.split(key)\n",
        "    W2 = jax.random.normal(subkey, (hidden_size, hidden_size)) * 0.1\n",
        "    b2 = jnp.zeros(hidden_size)\n",
        "\n",
        "    # Weights and biases for the second layer (hidden to output)\n",
        "    key, subkey = jax.random.split(key)\n",
        "    W3 = jax.random.normal(subkey, (hidden_size, output_size)) * 0.1\n",
        "    b3 = jnp.zeros(output_size)\n",
        "\n",
        "    return (W1, b1, W2, b2, W3, b3)\n",
        "\n",
        "@jax.jit\n",
        "def relu(x):\n",
        "    \"\"\"ReLU activation function\"\"\"\n",
        "    return jnp.maximum(0, x)\n",
        "\n",
        "@jax.jit\n",
        "def forward(params, x):\n",
        "    \"\"\"Feedforward function. Returns the log probs for each action\"\"\"\n",
        "    W1, b1, W2, b2, W3, b3 = params\n",
        "    first = jnp.dot(x, W1) + b1\n",
        "    hidden = relu(jnp.dot(first,W2) + b2)  # Hidden layer with ReLU\n",
        "    output = jnp.dot(hidden,W3) + b3\n",
        "\n",
        "    log_probs = jax.nn.log_softmax(output, axis=-1)  # get the log probs\n",
        "    return log_probs\n",
        "\n",
        "### ACTION WORD ENCODING/DECODING\n",
        "# sometimes we need to go back and forth between the representation of the action as a setting of pumps/muslces and a number\n",
        "\n",
        "# Create a function to convert pumps and muscles into integer tokens and vice versa\n",
        "# This is used because the \"Brain\" outputs tokens, but we need the pump/muscle settings to continue the simulation\n",
        "@jax.jit\n",
        "def encode_pumps_muscles(pumps, muscles):\n",
        "    \"\"\"Encode pumps and muscles as a one-hot vector\"\"\"\n",
        "    # Flatten the 3-bit values for pumps and muscles into a single 6-bit vector\n",
        "    # go from shape (batch_size, 3) to (batch_size)\n",
        "    pumps_flat = (pumps[...,0] << 2) + (pumps[...,1] << 1) + pumps[...,2]\n",
        "    muscles_flat = (muscles[...,0] << 2) + (muscles[...,1] << 1) + muscles[...,2]\n",
        "    # We will use the combination of pumps and muscles as a label (from 0 to 63)\n",
        "    return jnp.array([pumps_flat * 8 + muscles_flat])  # 64 possible configurations\n",
        "\n",
        "@jax.jit\n",
        "def decode_pumps_muscles(encoded_value):\n",
        "    \"\"\"Decode an integer (0 to 63) into pump and muscle settings.\"\"\"\n",
        "\n",
        "    # Extract the pumps (first 3 bits)\n",
        "    pumps_flat = encoded_value // 8  # Integer division by 8\n",
        "    pumps = jnp.stack([(pumps_flat >> i) & 1 for i in range(2, -1, -1)], axis=-1)\n",
        "\n",
        "    # Extract the muscles (last 3 bits)\n",
        "    muscles_flat = encoded_value % 8  # Get the last 3 bits using modulus 8\n",
        "    muscles = jnp.stack([(muscles_flat >> i) & 1 for i in range(2, -1, -1)], axis=-1)\n",
        "\n",
        "    return pumps, muscles\n",
        "\n",
        "\n",
        "#### test out the network\n",
        "key = jax.random.PRNGKey(int(time.time()))\n",
        "hidden_size = 32\n",
        "output_size = 64-8  # 64 possible combinations for my_pumps and my_muscles\n",
        "#-8 so that it does not ever use the state where all pumps are set to +1 (thats the same as setting them all to 0)\n",
        "\n",
        "# Initialize network parameters\n",
        "params = init_params(key, input_size, hidden_size, output_size)\n",
        "\n",
        "#initial velocity and masses\n",
        "my_velocities_init = jnp.zeros( (3,2) )\n",
        "my_masses_init = jnp.array([1.0,1.0,1.0])*(M_total)/3.0 #jnp.array([5.0,5.0,5.0])\n",
        "my_points_init = jnp.array([\n",
        "    [-1.0, 0.0],   # First vertex\n",
        "    [1.0, 0.0],    # Second vertex\n",
        "    [0.0, 1.732]  # Third vertex\n",
        "]) #1.732 = sqrt(3)\n",
        "\n",
        "#example points\n",
        "my_muscles = jnp.array([0.0,1.0,0.0])\n",
        "my_pumps = jnp.array([1.0,1.0,0.0])\n",
        "\n",
        "# Initialize simulation data\n",
        "my_points = my_points_init\n",
        "my_velocities = my_velocities_init\n",
        "my_masses = my_masses_init\n",
        "\n",
        "inputs = get_input(my_points, my_velocities, my_masses, my_pumps, my_muscles)\n",
        "log_probs = forward(params, inputs) #outputs the log probs directly\n",
        "print(\"Output probability distribution over {output_size} tokens:\", log_probs)\n",
        "\n"
      ],
      "metadata": {
        "colab": {
          "base_uri": "https://localhost:8080/"
        },
        "id": "tfTd-EgoOibW",
        "outputId": "f0e0fe90-c5d7-481b-d3c5-8def9c4e7a39"
      },
      "execution_count": 4,
      "outputs": [
        {
          "output_type": "stream",
          "name": "stdout",
          "text": [
            "Output probability distribution over {output_size} tokens: [-3.9113    -4.042699  -3.9397042 -3.9584222 -4.035387  -3.9853027\n",
            " -4.0279636 -4.086107  -4.0057697 -4.111607  -4.062903  -4.080378\n",
            " -3.9738386 -4.1053567 -4.084649  -3.9635956 -4.0486293 -4.0157638\n",
            " -4.0272465 -4.01633   -4.121541  -4.015675  -4.066543  -4.0506563\n",
            " -3.9704003 -3.9817898 -4.1459994 -3.9588232 -4.146552  -4.0033975\n",
            " -4.0806127 -4.0919414 -3.9479592 -4.0738506 -4.0487595 -4.0144353\n",
            " -3.929704  -4.0526986 -3.9798033 -4.074592  -4.1077285 -4.081812\n",
            " -3.9812372 -3.971451  -4.1131787 -4.0791855 -4.0385613 -4.008974\n",
            " -3.9028137 -4.002776  -4.049755  -4.0571756 -3.998734  -3.9852312\n",
            " -3.8969414 -4.00624  ]\n"
          ]
        }
      ]
    },
    {
      "cell_type": "markdown",
      "source": [
        "# Reinforcement Learning\n",
        "\n",
        "Main thing is the reward function which computes the reward (techincally its a \"return\" since its the reward at the end) Reward = $\\Delta x - |\\Delta y|$ where this is how far the centroid of the triangle creature moved.\n",
        "\n"
      ],
      "metadata": {
        "id": "jMOyZcB-XBaq"
      }
    },
    {
      "cell_type": "code",
      "source": [
        "\n",
        "@jax.jit\n",
        "def compute_reward_score(my_points):\n",
        "    \"\"\"\n",
        "    Computes the raw reward of a set of points\n",
        "    \"\"\"\n",
        "    # Compute the x-coordinate of the centroid by averaging the x-coordinates of the 3 vertices\n",
        "    centroid_x = jnp.mean(my_points[..., 0], axis=-1)  # Shape: (batch_size,)\n",
        "    centroid_y = jnp.mean(my_points[..., 1], axis=-1)  # Shape: (batch_size,)\n",
        "\n",
        "    #assume that we started at centroid_x = 0 and centroid_y = 0. Then calculate Delta X - |Delta Y|. Normalized so that its on a per brain step basis and measured in units of triangle body size.\n",
        "    return ( centroid_x - jnp.abs(centroid_y) ) / num_brain_steps / (0.5*(L_min + L_max))\n",
        "\n",
        "#Create a batch of initialziations by randomly rotating the creature and then applying an actin word to it. This creates a batch of (batch_size,num_inits,3,2) for the points etc.\n",
        "\n",
        "batch_size = 100 #batch size per initialziation (so 64x this per run)\n",
        "# We do this batch for all possible starting words\n",
        "num_inits = output_size #number of initalizations is one for each word\n",
        "\n",
        "@jax.jit\n",
        "def create_inits(key):\n",
        "    ''' Apply a random rotation to create all the initalizations for a run '''\n",
        "    #returns info of shape (num_inits, batch_size, 3, 2)\n",
        "    key, subkey = jax.random.split(key)\n",
        "    theta = jax.random.uniform(subkey, shape=(), minval=0, maxval=2 * jnp.pi) # a random angle to rotate the intialization\n",
        "\n",
        "    # Define the 2D rotation matrix\n",
        "    rotation_matrix = jnp.array([\n",
        "      [jnp.cos(theta), -jnp.sin(theta)],\n",
        "      [jnp.sin(theta),  jnp.cos(theta)]\n",
        "    ])\n",
        "\n",
        "    # Apply the rotation\n",
        "    rotated_init = jnp.dot(my_points_init, rotation_matrix.T)  # Transpose rotation matrix for proper shape\n",
        "\n",
        "\n",
        "    my_points = jnp.tile(rotated_init, (num_inits , 1, 1))  # Shape: (num_inits, 3, 2)\n",
        "    my_velocities = jnp.tile(my_velocities_init, (num_inits, 1, 1))  # Shape: (batch_size, 3, 2)\n",
        "    my_masses = jnp.tile(my_masses_init, (num_inits, 1))  # Shape: (batch_size, 3)\n",
        "    sample = jnp.arange(num_inits) #one initaliazation for each sample\n",
        "    my_pumps, my_muscles = decode_pumps_muscles(sample) #all the pump/muscle settings!\n",
        "\n",
        "    #run one step of brain activity to set it up!\n",
        "    (my_points, my_velocities, my_masses, my_pumps, my_muscles) = jax.lax.fori_loop(0, num_physics_per_brain_step, triangle_update, (my_points, my_velocities, my_masses, my_pumps, my_muscles))\n",
        "\n",
        "    my_points -= jnp.mean(my_points, axis=-2, keepdims=True) #center points on initalization by subtracting mean\n",
        "\n",
        "    return my_points, my_velocities, my_masses, my_pumps, my_muscles\n",
        "\n",
        "\n",
        "\n",
        "@partial(jax.jit,static_argnames=[\"num_brain_steps\"]) #num_brain_steps is NOT jitted over\n",
        "def create_episodes(params,key,num_brain_steps,my_temp):\n",
        "    '''Creates a bunch of episodes for training. Returns the action, input and reward histories'''\n",
        "    action_history = jnp.zeros((num_brain_steps,batch_size,num_inits),dtype=int) #record which word is being used\n",
        "    input_history = jnp.zeros((num_brain_steps,batch_size,num_inits,input_size)) #record the inputs to the neural networks\n",
        "    reward_history = jnp.zeros((num_brain_steps,batch_size,num_inits)) #record the rewards\n",
        "\n",
        "    key, subkey = jax.random.split(key)\n",
        "    info_init = create_inits(subkey)\n",
        "\n",
        "    #action_history = action_history.at[0].set(jnp.tile(jnp.arange(num_inits)[None, :], (batch_size, 1)))\n",
        "    my_points = jnp.tile(info_init[0], (batch_size, 1, 1,1))  # Shape: (batch_size, 3, 2)\n",
        "    my_velocities = jnp.tile(info_init[1], (batch_size, 1, 1,1))  # Shape: (batch_size, 3, 2)\n",
        "    my_masses = jnp.tile(info_init[2], (batch_size, 1,1))  # Shape: (batch_size, 3)\n",
        "    my_pumps = jnp.tile(info_init[3], (batch_size, 1,1))  # Shape: (batch_size, 3)\n",
        "    my_muscles = jnp.tile(info_init[4], (batch_size, 1,1))  # Shape: (batch_size, 3)\n",
        "\n",
        "    for brain_step in range(num_brain_steps):\n",
        "        inputs = get_input(my_points, my_velocities, my_masses, my_pumps, my_muscles)\n",
        "        input_history = input_history.at[brain_step].set(inputs)\n",
        "\n",
        "\n",
        "        #Feed input into the brain and sample the muscles+pumps word\n",
        "        log_probs = forward(params, inputs)\n",
        "        key, subkey = jax.random.split(key)\n",
        "        sample = jax.random.categorical(subkey, log_probs/my_temp)\n",
        "        action_history = action_history.at[brain_step].set(sample)\n",
        "\n",
        "        #Decode word to get pump and muscle values, and then do physics simulation for num_physics_per_brain_step*dt seconds\n",
        "        my_pumps, my_muscles = decode_pumps_muscles(sample)\n",
        "        (my_points, my_velocities, my_masses, my_pumps, my_muscles) = jax.lax.fori_loop(0, num_physics_per_brain_step, triangle_update, (my_points, my_velocities, my_masses, my_pumps, my_muscles))\n",
        "\n",
        "        #calcualte the reward here.\n",
        "        reward_history = reward_history.at[brain_step].set(compute_reward_score(my_points))\n",
        "\n",
        "    return input_history, action_history, reward_history\n",
        "\n",
        "#NOTE in the jnp.mean, policy_loss assumpes that the batches are flattened so that the actions are shape (batch_size,num_action_words) (i.e. it CANNOT be (batch_axis_0, batch_axis_1,num_action_words) ) Make sure to flatten it before using here!\n",
        "@jax.jit\n",
        "def policy_loss(params, state_inputs, actions, returns):\n",
        "\n",
        "    log_probs = forward(params, state_inputs)  # Shape: (batch_size,)\n",
        "    batch_ix = jnp.arange(actions.shape[0])\n",
        "    log_action_probs = log_probs[batch_ix, actions]  # Correct batch-wise indexing to get the log prob of element i in index i\n",
        "    return -jnp.mean(log_action_probs * returns)  # Scalar loss averaged over the batch\n",
        "\n",
        "# Compute gradients using the JAX package\n",
        "loss_gradient_fn = jax.jit(jax.grad(policy_loss,argnums=0)) #do the derivative with respect to theta\n",
        "\n",
        "\n",
        "@partial(jax.jit,static_argnames=[\"num_brain_steps\"])\n",
        "def single_iteration(params, key, optimizer_state, num_brain_steps, my_temp):\n",
        "    \"\"\"Performs a single iteration of training and updates parameters.\"\"\"\n",
        "    key, subkey = jax.random.split(key)\n",
        "\n",
        "    # Create episodes\n",
        "    input_history, action_history, reward_history = create_episodes(params, subkey, num_brain_steps, my_temp)\n",
        "\n",
        "\n",
        "    last_reward = jnp.mean(reward_history[-1]) #reward at th end\n",
        "\n",
        "    # Flatten episodes\n",
        "    f_input_history = input_history.reshape((num_brain_steps, batch_size * num_inits, input_size))\n",
        "    f_action_history = action_history.reshape((num_brain_steps, batch_size * num_inits))\n",
        "\n",
        "\n",
        "\n",
        "    ###--- GRPO HERE --- #####\n",
        "    #DO the normalizing of the scores based on the group dimension!\n",
        "    epsilon = 1e-7 #for safe division by the STD\n",
        "    group_normed_reward_history = (reward_history - jnp.mean(reward_history,axis=-1,keepdims=True )) / (jnp.std(reward_history,axis=-1,keepdims=True) + epsilon ) #THE GRPO LINE!!!\n",
        "\n",
        "    #f stands for \"flattened\" here: we no longer need them organized into groups\n",
        "    f_reward_history = group_normed_reward_history.reshape((num_brain_steps, batch_size * num_inits))\n",
        "\n",
        "    # Accumulate gradients over the batch before adding them on.\n",
        "    accumulated_grads = None\n",
        "\n",
        "    for t in range(num_brain_steps):\n",
        "        # Compute the gradient at time step t\n",
        "        my_return = f_reward_history[-1] #the reward is the reward at the FINAL time only\n",
        "\n",
        "        loss_gradient = loss_gradient_fn(params, f_input_history[t], f_action_history[t], my_return)\n",
        "\n",
        "        # Accumulate gradients over time steps. Have to use the jax stuff since the params & grads are tuples, and you can't do tuple_1 += tuple_2 by default.\n",
        "        if accumulated_grads is None:\n",
        "            accumulated_grads = loss_gradient\n",
        "        else:\n",
        "            accumulated_grads = jax.tree_util.tree_map(lambda a, b: a + b, accumulated_grads, loss_gradient)\n",
        "\n",
        "    # Apply optimizer update\n",
        "    updates, new_optimizer_state = optimizer.update(accumulated_grads, optimizer_state)\n",
        "    new_params = optax.apply_updates(params, updates)\n",
        "\n",
        "    return new_params, key, new_optimizer_state, last_reward\n",
        "\n",
        "\n",
        "def run_training_loop(params, key, optimizer_state, num_iters, num_brain_steps, my_temp=10):\n",
        "    \"\"\"Runs the reinforcement learning training loop.\"\"\"\n",
        "\n",
        "    final_reward = np.zeros(num_iters)\n",
        "\n",
        "    for iter in tqdm(range(num_iters)):\n",
        "        params, key, optimizer_state, final_reward[iter] = single_iteration(params, key, optimizer_state, num_brain_steps, my_temp)\n",
        "\n",
        "        #Display the average of the last little bit so we can see if the number is going up!\n",
        "        interval = (num_iters//5)\n",
        "        if (iter + 1) % interval == 0:\n",
        "            print(f\"{iter=}, Avg:{np.mean(final_reward[iter+1-interval:iter+1]):.3f}, SD:{np.std(final_reward[iter+1-interval:iter+1]):.3f}\")\n",
        "\n",
        "    return params, key, optimizer_state, final_reward"
      ],
      "metadata": {
        "id": "WJU4yZ9kXY7G"
      },
      "execution_count": 5,
      "outputs": []
    },
    {
      "cell_type": "markdown",
      "source": [
        "# Training"
      ],
      "metadata": {
        "id": "Xy3HAzb0ZFZW"
      }
    },
    {
      "cell_type": "code",
      "source": [
        "# Initialize network parameters\n",
        "params = init_params(key, input_size, hidden_size, output_size)\n",
        "# Initialize optimizer (e.g., Adam)\n",
        "optimizer = optax.adam(learning_rate=1e-2)\n",
        "optimizer_state = optimizer.init(params)\n"
      ],
      "metadata": {
        "id": "KXKjxHjvZD_o"
      },
      "execution_count": 6,
      "outputs": []
    },
    {
      "cell_type": "code",
      "source": [
        "#TRAINING!\n",
        "# Run a bunch of training batches and save some params as we go\n",
        "\n",
        "# This setting took 15 minutes to run for me on Google colab without any TPU/GPU speedup and 2 min with TPU\n",
        "num_iters_per_checkpoint = 50\n",
        "num_checkpoints = 20\n",
        "total_iterations = num_iters_per_checkpoint*num_checkpoints\n",
        "\n",
        "full_rewards_history = np.zeros((num_checkpoints,num_iters_per_checkpoint))\n",
        "params_checkpoints = {0 : params}\n",
        "my_temp = 2.0\n",
        "for ix in range(num_checkpoints):\n",
        "    print(f\"Training Checkpoint {ix+1} of {num_checkpoints}...\")\n",
        "    params, key, optimizer_state, final_rewards = run_training_loop(params, key, optimizer_state, num_iters=num_iters_per_checkpoint, num_brain_steps=num_brain_steps, my_temp=my_temp)\n",
        "    full_rewards_history[ix] = final_rewards\n",
        "    params_checkpoints[ix+1] = params"
      ],
      "metadata": {
        "colab": {
          "base_uri": "https://localhost:8080/"
        },
        "id": "PMUyjgiaZaEp",
        "outputId": "f3af9d20-77c0-43a1-9d22-cee8cba90967"
      },
      "execution_count": 7,
      "outputs": [
        {
          "output_type": "stream",
          "name": "stdout",
          "text": [
            "Training Checkpoint 1 of 20...\n"
          ]
        },
        {
          "output_type": "stream",
          "name": "stderr",
          "text": [
            " 26%|██▌       | 13/50 [00:13<00:16,  2.30it/s]"
          ]
        },
        {
          "output_type": "stream",
          "name": "stdout",
          "text": [
            "iter=9, Avg:-0.037, SD:0.012\n"
          ]
        },
        {
          "output_type": "stream",
          "name": "stderr",
          "text": [
            " 44%|████▍     | 22/50 [00:13<00:04,  6.24it/s]"
          ]
        },
        {
          "output_type": "stream",
          "name": "stdout",
          "text": [
            "iter=19, Avg:0.007, SD:0.023\n"
          ]
        },
        {
          "output_type": "stream",
          "name": "stderr",
          "text": [
            " 68%|██████▊   | 34/50 [00:14<00:01, 13.56it/s]"
          ]
        },
        {
          "output_type": "stream",
          "name": "stdout",
          "text": [
            "iter=29, Avg:0.002, SD:0.034\n"
          ]
        },
        {
          "output_type": "stream",
          "name": "stderr",
          "text": [
            " 86%|████████▌ | 43/50 [00:14<00:00, 17.56it/s]"
          ]
        },
        {
          "output_type": "stream",
          "name": "stdout",
          "text": [
            "iter=39, Avg:0.029, SD:0.024\n"
          ]
        },
        {
          "output_type": "stream",
          "name": "stderr",
          "text": [
            "100%|██████████| 50/50 [00:15<00:00,  3.33it/s]\n"
          ]
        },
        {
          "output_type": "stream",
          "name": "stdout",
          "text": [
            "iter=49, Avg:0.055, SD:0.030\n",
            "Training Checkpoint 2 of 20...\n"
          ]
        },
        {
          "output_type": "stream",
          "name": "stderr",
          "text": [
            " 24%|██▍       | 12/50 [00:00<00:01, 20.75it/s]"
          ]
        },
        {
          "output_type": "stream",
          "name": "stdout",
          "text": [
            "iter=9, Avg:0.069, SD:0.025\n"
          ]
        },
        {
          "output_type": "stream",
          "name": "stderr",
          "text": [
            " 48%|████▊     | 24/50 [00:01<00:01, 20.78it/s]"
          ]
        },
        {
          "output_type": "stream",
          "name": "stdout",
          "text": [
            "iter=19, Avg:0.061, SD:0.027\n"
          ]
        },
        {
          "output_type": "stream",
          "name": "stderr",
          "text": [
            " 66%|██████▌   | 33/50 [00:01<00:00, 20.77it/s]"
          ]
        },
        {
          "output_type": "stream",
          "name": "stdout",
          "text": [
            "iter=29, Avg:0.075, SD:0.029\n"
          ]
        },
        {
          "output_type": "stream",
          "name": "stderr",
          "text": [
            " 84%|████████▍ | 42/50 [00:02<00:00, 20.71it/s]"
          ]
        },
        {
          "output_type": "stream",
          "name": "stdout",
          "text": [
            "iter=39, Avg:0.099, SD:0.040\n"
          ]
        },
        {
          "output_type": "stream",
          "name": "stderr",
          "text": [
            "100%|██████████| 50/50 [00:02<00:00, 20.74it/s]\n"
          ]
        },
        {
          "output_type": "stream",
          "name": "stdout",
          "text": [
            "iter=49, Avg:0.126, SD:0.029\n",
            "Training Checkpoint 3 of 20...\n"
          ]
        },
        {
          "output_type": "stream",
          "name": "stderr",
          "text": [
            " 24%|██▍       | 12/50 [00:00<00:01, 20.37it/s]"
          ]
        },
        {
          "output_type": "stream",
          "name": "stdout",
          "text": [
            "iter=9, Avg:0.137, SD:0.035\n"
          ]
        },
        {
          "output_type": "stream",
          "name": "stderr",
          "text": [
            " 48%|████▊     | 24/50 [00:01<00:01, 20.60it/s]"
          ]
        },
        {
          "output_type": "stream",
          "name": "stdout",
          "text": [
            "iter=19, Avg:0.161, SD:0.020\n"
          ]
        },
        {
          "output_type": "stream",
          "name": "stderr",
          "text": [
            " 66%|██████▌   | 33/50 [00:01<00:00, 20.66it/s]"
          ]
        },
        {
          "output_type": "stream",
          "name": "stdout",
          "text": [
            "iter=29, Avg:0.144, SD:0.035\n"
          ]
        },
        {
          "output_type": "stream",
          "name": "stderr",
          "text": [
            " 84%|████████▍ | 42/50 [00:02<00:00, 20.61it/s]"
          ]
        },
        {
          "output_type": "stream",
          "name": "stdout",
          "text": [
            "iter=39, Avg:0.136, SD:0.033\n"
          ]
        },
        {
          "output_type": "stream",
          "name": "stderr",
          "text": [
            "100%|██████████| 50/50 [00:02<00:00, 20.57it/s]\n"
          ]
        },
        {
          "output_type": "stream",
          "name": "stdout",
          "text": [
            "iter=49, Avg:0.166, SD:0.025\n",
            "Training Checkpoint 4 of 20...\n"
          ]
        },
        {
          "output_type": "stream",
          "name": "stderr",
          "text": [
            " 24%|██▍       | 12/50 [00:00<00:01, 20.72it/s]"
          ]
        },
        {
          "output_type": "stream",
          "name": "stdout",
          "text": [
            "iter=9, Avg:0.176, SD:0.024\n"
          ]
        },
        {
          "output_type": "stream",
          "name": "stderr",
          "text": [
            " 48%|████▊     | 24/50 [00:01<00:01, 20.71it/s]"
          ]
        },
        {
          "output_type": "stream",
          "name": "stdout",
          "text": [
            "iter=19, Avg:0.183, SD:0.038\n"
          ]
        },
        {
          "output_type": "stream",
          "name": "stderr",
          "text": [
            " 66%|██████▌   | 33/50 [00:01<00:00, 20.69it/s]"
          ]
        },
        {
          "output_type": "stream",
          "name": "stdout",
          "text": [
            "iter=29, Avg:0.174, SD:0.014\n"
          ]
        },
        {
          "output_type": "stream",
          "name": "stderr",
          "text": [
            " 84%|████████▍ | 42/50 [00:02<00:00, 20.66it/s]"
          ]
        },
        {
          "output_type": "stream",
          "name": "stdout",
          "text": [
            "iter=39, Avg:0.182, SD:0.027\n"
          ]
        },
        {
          "output_type": "stream",
          "name": "stderr",
          "text": [
            "100%|██████████| 50/50 [00:02<00:00, 20.69it/s]\n"
          ]
        },
        {
          "output_type": "stream",
          "name": "stdout",
          "text": [
            "iter=49, Avg:0.179, SD:0.027\n",
            "Training Checkpoint 5 of 20...\n"
          ]
        },
        {
          "output_type": "stream",
          "name": "stderr",
          "text": [
            " 24%|██▍       | 12/50 [00:00<00:01, 20.12it/s]"
          ]
        },
        {
          "output_type": "stream",
          "name": "stdout",
          "text": [
            "iter=9, Avg:0.186, SD:0.021\n"
          ]
        },
        {
          "output_type": "stream",
          "name": "stderr",
          "text": [
            " 48%|████▊     | 24/50 [00:01<00:01, 20.56it/s]"
          ]
        },
        {
          "output_type": "stream",
          "name": "stdout",
          "text": [
            "iter=19, Avg:0.208, SD:0.029\n"
          ]
        },
        {
          "output_type": "stream",
          "name": "stderr",
          "text": [
            " 66%|██████▌   | 33/50 [00:01<00:00, 20.64it/s]"
          ]
        },
        {
          "output_type": "stream",
          "name": "stdout",
          "text": [
            "iter=29, Avg:0.243, SD:0.017\n"
          ]
        },
        {
          "output_type": "stream",
          "name": "stderr",
          "text": [
            " 84%|████████▍ | 42/50 [00:02<00:00, 20.63it/s]"
          ]
        },
        {
          "output_type": "stream",
          "name": "stdout",
          "text": [
            "iter=39, Avg:0.277, SD:0.019\n"
          ]
        },
        {
          "output_type": "stream",
          "name": "stderr",
          "text": [
            "100%|██████████| 50/50 [00:02<00:00, 20.55it/s]\n"
          ]
        },
        {
          "output_type": "stream",
          "name": "stdout",
          "text": [
            "iter=49, Avg:0.271, SD:0.025\n",
            "Training Checkpoint 6 of 20...\n"
          ]
        },
        {
          "output_type": "stream",
          "name": "stderr",
          "text": [
            " 24%|██▍       | 12/50 [00:00<00:01, 20.64it/s]"
          ]
        },
        {
          "output_type": "stream",
          "name": "stdout",
          "text": [
            "iter=9, Avg:0.309, SD:0.028\n"
          ]
        },
        {
          "output_type": "stream",
          "name": "stderr",
          "text": [
            " 48%|████▊     | 24/50 [00:01<00:01, 20.71it/s]"
          ]
        },
        {
          "output_type": "stream",
          "name": "stdout",
          "text": [
            "iter=19, Avg:0.323, SD:0.041\n"
          ]
        },
        {
          "output_type": "stream",
          "name": "stderr",
          "text": [
            " 66%|██████▌   | 33/50 [00:01<00:00, 20.69it/s]"
          ]
        },
        {
          "output_type": "stream",
          "name": "stdout",
          "text": [
            "iter=29, Avg:0.316, SD:0.041\n"
          ]
        },
        {
          "output_type": "stream",
          "name": "stderr",
          "text": [
            " 84%|████████▍ | 42/50 [00:02<00:00, 20.69it/s]"
          ]
        },
        {
          "output_type": "stream",
          "name": "stdout",
          "text": [
            "iter=39, Avg:0.361, SD:0.022\n"
          ]
        },
        {
          "output_type": "stream",
          "name": "stderr",
          "text": [
            "100%|██████████| 50/50 [00:02<00:00, 20.68it/s]\n"
          ]
        },
        {
          "output_type": "stream",
          "name": "stdout",
          "text": [
            "iter=49, Avg:0.335, SD:0.066\n",
            "Training Checkpoint 7 of 20...\n"
          ]
        },
        {
          "output_type": "stream",
          "name": "stderr",
          "text": [
            " 24%|██▍       | 12/50 [00:00<00:01, 20.20it/s]"
          ]
        },
        {
          "output_type": "stream",
          "name": "stdout",
          "text": [
            "iter=9, Avg:0.378, SD:0.050\n"
          ]
        },
        {
          "output_type": "stream",
          "name": "stderr",
          "text": [
            " 48%|████▊     | 24/50 [00:01<00:01, 20.57it/s]"
          ]
        },
        {
          "output_type": "stream",
          "name": "stdout",
          "text": [
            "iter=19, Avg:0.350, SD:0.051\n"
          ]
        },
        {
          "output_type": "stream",
          "name": "stderr",
          "text": [
            " 66%|██████▌   | 33/50 [00:01<00:00, 20.70it/s]"
          ]
        },
        {
          "output_type": "stream",
          "name": "stdout",
          "text": [
            "iter=29, Avg:0.398, SD:0.030\n"
          ]
        },
        {
          "output_type": "stream",
          "name": "stderr",
          "text": [
            " 84%|████████▍ | 42/50 [00:02<00:00, 20.71it/s]"
          ]
        },
        {
          "output_type": "stream",
          "name": "stdout",
          "text": [
            "iter=39, Avg:0.397, SD:0.053\n"
          ]
        },
        {
          "output_type": "stream",
          "name": "stderr",
          "text": [
            "100%|██████████| 50/50 [00:02<00:00, 20.61it/s]\n"
          ]
        },
        {
          "output_type": "stream",
          "name": "stdout",
          "text": [
            "iter=49, Avg:0.372, SD:0.058\n",
            "Training Checkpoint 8 of 20...\n"
          ]
        },
        {
          "output_type": "stream",
          "name": "stderr",
          "text": [
            " 24%|██▍       | 12/50 [00:00<00:01, 20.77it/s]"
          ]
        },
        {
          "output_type": "stream",
          "name": "stdout",
          "text": [
            "iter=9, Avg:0.407, SD:0.029\n"
          ]
        },
        {
          "output_type": "stream",
          "name": "stderr",
          "text": [
            " 48%|████▊     | 24/50 [00:01<00:01, 20.72it/s]"
          ]
        },
        {
          "output_type": "stream",
          "name": "stdout",
          "text": [
            "iter=19, Avg:0.395, SD:0.023\n"
          ]
        },
        {
          "output_type": "stream",
          "name": "stderr",
          "text": [
            " 66%|██████▌   | 33/50 [00:01<00:00, 20.75it/s]"
          ]
        },
        {
          "output_type": "stream",
          "name": "stdout",
          "text": [
            "iter=29, Avg:0.399, SD:0.026\n"
          ]
        },
        {
          "output_type": "stream",
          "name": "stderr",
          "text": [
            " 84%|████████▍ | 42/50 [00:02<00:00, 20.73it/s]"
          ]
        },
        {
          "output_type": "stream",
          "name": "stdout",
          "text": [
            "iter=39, Avg:0.390, SD:0.021\n"
          ]
        },
        {
          "output_type": "stream",
          "name": "stderr",
          "text": [
            "100%|██████████| 50/50 [00:02<00:00, 20.74it/s]\n"
          ]
        },
        {
          "output_type": "stream",
          "name": "stdout",
          "text": [
            "iter=49, Avg:0.398, SD:0.039\n",
            "Training Checkpoint 9 of 20...\n"
          ]
        },
        {
          "output_type": "stream",
          "name": "stderr",
          "text": [
            " 24%|██▍       | 12/50 [00:00<00:01, 20.71it/s]"
          ]
        },
        {
          "output_type": "stream",
          "name": "stdout",
          "text": [
            "iter=9, Avg:0.401, SD:0.032\n"
          ]
        },
        {
          "output_type": "stream",
          "name": "stderr",
          "text": [
            " 48%|████▊     | 24/50 [00:01<00:01, 20.49it/s]"
          ]
        },
        {
          "output_type": "stream",
          "name": "stdout",
          "text": [
            "iter=19, Avg:0.409, SD:0.024\n"
          ]
        },
        {
          "output_type": "stream",
          "name": "stderr",
          "text": [
            " 66%|██████▌   | 33/50 [00:01<00:00, 20.63it/s]"
          ]
        },
        {
          "output_type": "stream",
          "name": "stdout",
          "text": [
            "iter=29, Avg:0.417, SD:0.028\n"
          ]
        },
        {
          "output_type": "stream",
          "name": "stderr",
          "text": [
            " 84%|████████▍ | 42/50 [00:02<00:00, 20.72it/s]"
          ]
        },
        {
          "output_type": "stream",
          "name": "stdout",
          "text": [
            "iter=39, Avg:0.414, SD:0.021\n"
          ]
        },
        {
          "output_type": "stream",
          "name": "stderr",
          "text": [
            "100%|██████████| 50/50 [00:02<00:00, 20.62it/s]\n"
          ]
        },
        {
          "output_type": "stream",
          "name": "stdout",
          "text": [
            "iter=49, Avg:0.411, SD:0.021\n",
            "Training Checkpoint 10 of 20...\n"
          ]
        },
        {
          "output_type": "stream",
          "name": "stderr",
          "text": [
            " 24%|██▍       | 12/50 [00:00<00:01, 20.75it/s]"
          ]
        },
        {
          "output_type": "stream",
          "name": "stdout",
          "text": [
            "iter=9, Avg:0.388, SD:0.019\n"
          ]
        },
        {
          "output_type": "stream",
          "name": "stderr",
          "text": [
            " 48%|████▊     | 24/50 [00:01<00:01, 20.71it/s]"
          ]
        },
        {
          "output_type": "stream",
          "name": "stdout",
          "text": [
            "iter=19, Avg:0.423, SD:0.030\n"
          ]
        },
        {
          "output_type": "stream",
          "name": "stderr",
          "text": [
            " 66%|██████▌   | 33/50 [00:01<00:00, 20.72it/s]"
          ]
        },
        {
          "output_type": "stream",
          "name": "stdout",
          "text": [
            "iter=29, Avg:0.426, SD:0.016\n"
          ]
        },
        {
          "output_type": "stream",
          "name": "stderr",
          "text": [
            " 84%|████████▍ | 42/50 [00:02<00:00, 20.74it/s]"
          ]
        },
        {
          "output_type": "stream",
          "name": "stdout",
          "text": [
            "iter=39, Avg:0.425, SD:0.020\n"
          ]
        },
        {
          "output_type": "stream",
          "name": "stderr",
          "text": [
            "100%|██████████| 50/50 [00:02<00:00, 20.73it/s]\n"
          ]
        },
        {
          "output_type": "stream",
          "name": "stdout",
          "text": [
            "iter=49, Avg:0.409, SD:0.024\n",
            "Training Checkpoint 11 of 20...\n"
          ]
        },
        {
          "output_type": "stream",
          "name": "stderr",
          "text": [
            " 24%|██▍       | 12/50 [00:00<00:01, 20.68it/s]"
          ]
        },
        {
          "output_type": "stream",
          "name": "stdout",
          "text": [
            "iter=9, Avg:0.425, SD:0.024\n"
          ]
        },
        {
          "output_type": "stream",
          "name": "stderr",
          "text": [
            " 48%|████▊     | 24/50 [00:01<00:01, 20.25it/s]"
          ]
        },
        {
          "output_type": "stream",
          "name": "stdout",
          "text": [
            "iter=19, Avg:0.425, SD:0.023\n"
          ]
        },
        {
          "output_type": "stream",
          "name": "stderr",
          "text": [
            " 66%|██████▌   | 33/50 [00:01<00:00, 20.56it/s]"
          ]
        },
        {
          "output_type": "stream",
          "name": "stdout",
          "text": [
            "iter=29, Avg:0.415, SD:0.014\n"
          ]
        },
        {
          "output_type": "stream",
          "name": "stderr",
          "text": [
            " 84%|████████▍ | 42/50 [00:02<00:00, 20.60it/s]"
          ]
        },
        {
          "output_type": "stream",
          "name": "stdout",
          "text": [
            "iter=39, Avg:0.417, SD:0.018\n"
          ]
        },
        {
          "output_type": "stream",
          "name": "stderr",
          "text": [
            "100%|██████████| 50/50 [00:02<00:00, 20.55it/s]\n"
          ]
        },
        {
          "output_type": "stream",
          "name": "stdout",
          "text": [
            "iter=49, Avg:0.412, SD:0.017\n",
            "Training Checkpoint 12 of 20...\n"
          ]
        },
        {
          "output_type": "stream",
          "name": "stderr",
          "text": [
            " 24%|██▍       | 12/50 [00:00<00:01, 20.67it/s]"
          ]
        },
        {
          "output_type": "stream",
          "name": "stdout",
          "text": [
            "iter=9, Avg:0.402, SD:0.021\n"
          ]
        },
        {
          "output_type": "stream",
          "name": "stderr",
          "text": [
            " 48%|████▊     | 24/50 [00:01<00:01, 20.66it/s]"
          ]
        },
        {
          "output_type": "stream",
          "name": "stdout",
          "text": [
            "iter=19, Avg:0.419, SD:0.019\n"
          ]
        },
        {
          "output_type": "stream",
          "name": "stderr",
          "text": [
            " 66%|██████▌   | 33/50 [00:01<00:00, 20.70it/s]"
          ]
        },
        {
          "output_type": "stream",
          "name": "stdout",
          "text": [
            "iter=29, Avg:0.413, SD:0.024\n"
          ]
        },
        {
          "output_type": "stream",
          "name": "stderr",
          "text": [
            " 84%|████████▍ | 42/50 [00:02<00:00, 20.67it/s]"
          ]
        },
        {
          "output_type": "stream",
          "name": "stdout",
          "text": [
            "iter=39, Avg:0.421, SD:0.011\n"
          ]
        },
        {
          "output_type": "stream",
          "name": "stderr",
          "text": [
            "100%|██████████| 50/50 [00:02<00:00, 20.68it/s]\n"
          ]
        },
        {
          "output_type": "stream",
          "name": "stdout",
          "text": [
            "iter=49, Avg:0.417, SD:0.015\n",
            "Training Checkpoint 13 of 20...\n"
          ]
        },
        {
          "output_type": "stream",
          "name": "stderr",
          "text": [
            " 24%|██▍       | 12/50 [00:00<00:01, 20.71it/s]"
          ]
        },
        {
          "output_type": "stream",
          "name": "stdout",
          "text": [
            "iter=9, Avg:0.432, SD:0.024\n"
          ]
        },
        {
          "output_type": "stream",
          "name": "stderr",
          "text": [
            " 42%|████▏     | 21/50 [00:01<00:01, 20.72it/s]"
          ]
        },
        {
          "output_type": "stream",
          "name": "stdout",
          "text": [
            "iter=19, Avg:0.427, SD:0.022\n"
          ]
        },
        {
          "output_type": "stream",
          "name": "stderr",
          "text": [
            " 66%|██████▌   | 33/50 [00:01<00:00, 20.48it/s]"
          ]
        },
        {
          "output_type": "stream",
          "name": "stdout",
          "text": [
            "iter=29, Avg:0.432, SD:0.027\n"
          ]
        },
        {
          "output_type": "stream",
          "name": "stderr",
          "text": [
            " 84%|████████▍ | 42/50 [00:02<00:00, 20.63it/s]"
          ]
        },
        {
          "output_type": "stream",
          "name": "stdout",
          "text": [
            "iter=39, Avg:0.429, SD:0.013\n"
          ]
        },
        {
          "output_type": "stream",
          "name": "stderr",
          "text": [
            "100%|██████████| 50/50 [00:02<00:00, 20.60it/s]\n"
          ]
        },
        {
          "output_type": "stream",
          "name": "stdout",
          "text": [
            "iter=49, Avg:0.418, SD:0.021\n",
            "Training Checkpoint 14 of 20...\n"
          ]
        },
        {
          "output_type": "stream",
          "name": "stderr",
          "text": [
            " 24%|██▍       | 12/50 [00:00<00:01, 20.75it/s]"
          ]
        },
        {
          "output_type": "stream",
          "name": "stdout",
          "text": [
            "iter=9, Avg:0.435, SD:0.016\n"
          ]
        },
        {
          "output_type": "stream",
          "name": "stderr",
          "text": [
            " 48%|████▊     | 24/50 [00:01<00:01, 20.70it/s]"
          ]
        },
        {
          "output_type": "stream",
          "name": "stdout",
          "text": [
            "iter=19, Avg:0.427, SD:0.018\n"
          ]
        },
        {
          "output_type": "stream",
          "name": "stderr",
          "text": [
            " 66%|██████▌   | 33/50 [00:01<00:00, 20.72it/s]"
          ]
        },
        {
          "output_type": "stream",
          "name": "stdout",
          "text": [
            "iter=29, Avg:0.424, SD:0.024\n"
          ]
        },
        {
          "output_type": "stream",
          "name": "stderr",
          "text": [
            " 84%|████████▍ | 42/50 [00:02<00:00, 20.67it/s]"
          ]
        },
        {
          "output_type": "stream",
          "name": "stdout",
          "text": [
            "iter=39, Avg:0.434, SD:0.020\n"
          ]
        },
        {
          "output_type": "stream",
          "name": "stderr",
          "text": [
            "100%|██████████| 50/50 [00:02<00:00, 20.69it/s]\n"
          ]
        },
        {
          "output_type": "stream",
          "name": "stdout",
          "text": [
            "iter=49, Avg:0.423, SD:0.023\n",
            "Training Checkpoint 15 of 20...\n"
          ]
        },
        {
          "output_type": "stream",
          "name": "stderr",
          "text": [
            " 24%|██▍       | 12/50 [00:00<00:01, 20.63it/s]"
          ]
        },
        {
          "output_type": "stream",
          "name": "stdout",
          "text": [
            "iter=9, Avg:0.418, SD:0.017\n"
          ]
        },
        {
          "output_type": "stream",
          "name": "stderr",
          "text": [
            " 48%|████▊     | 24/50 [00:01<00:01, 20.62it/s]"
          ]
        },
        {
          "output_type": "stream",
          "name": "stdout",
          "text": [
            "iter=19, Avg:0.428, SD:0.018\n"
          ]
        },
        {
          "output_type": "stream",
          "name": "stderr",
          "text": [
            " 66%|██████▌   | 33/50 [00:01<00:00, 20.30it/s]"
          ]
        },
        {
          "output_type": "stream",
          "name": "stdout",
          "text": [
            "iter=29, Avg:0.430, SD:0.013\n"
          ]
        },
        {
          "output_type": "stream",
          "name": "stderr",
          "text": [
            " 84%|████████▍ | 42/50 [00:02<00:00, 20.49it/s]"
          ]
        },
        {
          "output_type": "stream",
          "name": "stdout",
          "text": [
            "iter=39, Avg:0.419, SD:0.012\n"
          ]
        },
        {
          "output_type": "stream",
          "name": "stderr",
          "text": [
            "100%|██████████| 50/50 [00:02<00:00, 20.51it/s]\n"
          ]
        },
        {
          "output_type": "stream",
          "name": "stdout",
          "text": [
            "iter=49, Avg:0.428, SD:0.018\n",
            "Training Checkpoint 16 of 20...\n"
          ]
        },
        {
          "output_type": "stream",
          "name": "stderr",
          "text": [
            " 24%|██▍       | 12/50 [00:00<00:01, 20.65it/s]"
          ]
        },
        {
          "output_type": "stream",
          "name": "stdout",
          "text": [
            "iter=9, Avg:0.406, SD:0.024\n"
          ]
        },
        {
          "output_type": "stream",
          "name": "stderr",
          "text": [
            " 48%|████▊     | 24/50 [00:01<00:01, 20.63it/s]"
          ]
        },
        {
          "output_type": "stream",
          "name": "stdout",
          "text": [
            "iter=19, Avg:0.418, SD:0.026\n"
          ]
        },
        {
          "output_type": "stream",
          "name": "stderr",
          "text": [
            " 66%|██████▌   | 33/50 [00:01<00:00, 20.67it/s]"
          ]
        },
        {
          "output_type": "stream",
          "name": "stdout",
          "text": [
            "iter=29, Avg:0.415, SD:0.013\n"
          ]
        },
        {
          "output_type": "stream",
          "name": "stderr",
          "text": [
            " 84%|████████▍ | 42/50 [00:02<00:00, 20.65it/s]"
          ]
        },
        {
          "output_type": "stream",
          "name": "stdout",
          "text": [
            "iter=39, Avg:0.423, SD:0.012\n"
          ]
        },
        {
          "output_type": "stream",
          "name": "stderr",
          "text": [
            "100%|██████████| 50/50 [00:02<00:00, 20.66it/s]\n"
          ]
        },
        {
          "output_type": "stream",
          "name": "stdout",
          "text": [
            "iter=49, Avg:0.435, SD:0.019\n",
            "Training Checkpoint 17 of 20...\n"
          ]
        },
        {
          "output_type": "stream",
          "name": "stderr",
          "text": [
            " 24%|██▍       | 12/50 [00:00<00:01, 20.67it/s]"
          ]
        },
        {
          "output_type": "stream",
          "name": "stdout",
          "text": [
            "iter=9, Avg:0.424, SD:0.014\n"
          ]
        },
        {
          "output_type": "stream",
          "name": "stderr",
          "text": [
            " 48%|████▊     | 24/50 [00:01<00:01, 20.70it/s]"
          ]
        },
        {
          "output_type": "stream",
          "name": "stdout",
          "text": [
            "iter=19, Avg:0.425, SD:0.014\n"
          ]
        },
        {
          "output_type": "stream",
          "name": "stderr",
          "text": [
            " 66%|██████▌   | 33/50 [00:01<00:00, 20.23it/s]"
          ]
        },
        {
          "output_type": "stream",
          "name": "stdout",
          "text": [
            "iter=29, Avg:0.422, SD:0.017\n"
          ]
        },
        {
          "output_type": "stream",
          "name": "stderr",
          "text": [
            " 84%|████████▍ | 42/50 [00:02<00:00, 20.49it/s]"
          ]
        },
        {
          "output_type": "stream",
          "name": "stdout",
          "text": [
            "iter=39, Avg:0.429, SD:0.012\n"
          ]
        },
        {
          "output_type": "stream",
          "name": "stderr",
          "text": [
            "100%|██████████| 50/50 [00:02<00:00, 20.56it/s]\n"
          ]
        },
        {
          "output_type": "stream",
          "name": "stdout",
          "text": [
            "iter=49, Avg:0.428, SD:0.023\n",
            "Training Checkpoint 18 of 20...\n"
          ]
        },
        {
          "output_type": "stream",
          "name": "stderr",
          "text": [
            " 24%|██▍       | 12/50 [00:00<00:01, 20.66it/s]"
          ]
        },
        {
          "output_type": "stream",
          "name": "stdout",
          "text": [
            "iter=9, Avg:0.435, SD:0.023\n"
          ]
        },
        {
          "output_type": "stream",
          "name": "stderr",
          "text": [
            " 48%|████▊     | 24/50 [00:01<00:01, 20.63it/s]"
          ]
        },
        {
          "output_type": "stream",
          "name": "stdout",
          "text": [
            "iter=19, Avg:0.417, SD:0.027\n"
          ]
        },
        {
          "output_type": "stream",
          "name": "stderr",
          "text": [
            " 66%|██████▌   | 33/50 [00:01<00:00, 20.67it/s]"
          ]
        },
        {
          "output_type": "stream",
          "name": "stdout",
          "text": [
            "iter=29, Avg:0.417, SD:0.014\n"
          ]
        },
        {
          "output_type": "stream",
          "name": "stderr",
          "text": [
            " 84%|████████▍ | 42/50 [00:02<00:00, 20.64it/s]"
          ]
        },
        {
          "output_type": "stream",
          "name": "stdout",
          "text": [
            "iter=39, Avg:0.418, SD:0.014\n"
          ]
        },
        {
          "output_type": "stream",
          "name": "stderr",
          "text": [
            "100%|██████████| 50/50 [00:02<00:00, 20.67it/s]\n"
          ]
        },
        {
          "output_type": "stream",
          "name": "stdout",
          "text": [
            "iter=49, Avg:0.418, SD:0.019\n",
            "Training Checkpoint 19 of 20...\n"
          ]
        },
        {
          "output_type": "stream",
          "name": "stderr",
          "text": [
            " 24%|██▍       | 12/50 [00:00<00:01, 20.66it/s]"
          ]
        },
        {
          "output_type": "stream",
          "name": "stdout",
          "text": [
            "iter=9, Avg:0.432, SD:0.011\n"
          ]
        },
        {
          "output_type": "stream",
          "name": "stderr",
          "text": [
            " 48%|████▊     | 24/50 [00:01<00:01, 20.75it/s]"
          ]
        },
        {
          "output_type": "stream",
          "name": "stdout",
          "text": [
            "iter=19, Avg:0.430, SD:0.024\n"
          ]
        },
        {
          "output_type": "stream",
          "name": "stderr",
          "text": [
            " 66%|██████▌   | 33/50 [00:01<00:00, 20.61it/s]"
          ]
        },
        {
          "output_type": "stream",
          "name": "stdout",
          "text": [
            "iter=29, Avg:0.439, SD:0.028\n"
          ]
        },
        {
          "output_type": "stream",
          "name": "stderr",
          "text": [
            " 84%|████████▍ | 42/50 [00:02<00:00, 20.43it/s]"
          ]
        },
        {
          "output_type": "stream",
          "name": "stdout",
          "text": [
            "iter=39, Avg:0.418, SD:0.011\n"
          ]
        },
        {
          "output_type": "stream",
          "name": "stderr",
          "text": [
            "100%|██████████| 50/50 [00:02<00:00, 20.60it/s]\n"
          ]
        },
        {
          "output_type": "stream",
          "name": "stdout",
          "text": [
            "iter=49, Avg:0.447, SD:0.025\n",
            "Training Checkpoint 20 of 20...\n"
          ]
        },
        {
          "output_type": "stream",
          "name": "stderr",
          "text": [
            " 24%|██▍       | 12/50 [00:00<00:01, 20.70it/s]"
          ]
        },
        {
          "output_type": "stream",
          "name": "stdout",
          "text": [
            "iter=9, Avg:0.443, SD:0.029\n"
          ]
        },
        {
          "output_type": "stream",
          "name": "stderr",
          "text": [
            " 48%|████▊     | 24/50 [00:01<00:01, 20.69it/s]"
          ]
        },
        {
          "output_type": "stream",
          "name": "stdout",
          "text": [
            "iter=19, Avg:0.426, SD:0.021\n"
          ]
        },
        {
          "output_type": "stream",
          "name": "stderr",
          "text": [
            " 66%|██████▌   | 33/50 [00:01<00:00, 20.72it/s]"
          ]
        },
        {
          "output_type": "stream",
          "name": "stdout",
          "text": [
            "iter=29, Avg:0.432, SD:0.019\n"
          ]
        },
        {
          "output_type": "stream",
          "name": "stderr",
          "text": [
            " 84%|████████▍ | 42/50 [00:02<00:00, 20.72it/s]"
          ]
        },
        {
          "output_type": "stream",
          "name": "stdout",
          "text": [
            "iter=39, Avg:0.440, SD:0.018\n"
          ]
        },
        {
          "output_type": "stream",
          "name": "stderr",
          "text": [
            "100%|██████████| 50/50 [00:02<00:00, 20.71it/s]"
          ]
        },
        {
          "output_type": "stream",
          "name": "stdout",
          "text": [
            "iter=49, Avg:0.433, SD:0.022\n"
          ]
        },
        {
          "output_type": "stream",
          "name": "stderr",
          "text": [
            "\n"
          ]
        }
      ]
    },
    {
      "cell_type": "code",
      "source": [
        "# Save the params during training to a file if you want!\n",
        "#\n",
        "#def save_params(params_history, filename=\"params_history.npz\"):\n",
        "#    np_params = {}\n",
        "#    for k, v in params_history.items():\n",
        "#        for i, arr in enumerate(v):  # Iterate over tuple elements\n",
        "#            np_params[f\"{k}_{i}\"] = np.array(arr)  # Convert JAX to NumPy##\n",
        "#\n",
        "#    np.savez(filename, **np_params)  # Save all arrays\n",
        "#\n",
        "# Example usage\n",
        "#save_params(params_history, \"params_history_50_20_9.npz\")\n"
      ],
      "metadata": {
        "id": "FneRLMb9Zkj6"
      },
      "execution_count": 8,
      "outputs": []
    },
    {
      "cell_type": "markdown",
      "source": [
        "# Colab Friendly Plotting"
      ],
      "metadata": {
        "id": "vxwXJ-2nZ4Eg"
      }
    },
    {
      "cell_type": "code",
      "source": [
        "import matplotlib.pyplot as plt\n",
        "from matplotlib.animation import FuncAnimation\n",
        "from IPython.display import HTML"
      ],
      "metadata": {
        "id": "KAQUyrusbxcc"
      },
      "execution_count": 9,
      "outputs": []
    },
    {
      "cell_type": "code",
      "source": [
        "plt.plot(full_rewards_history.flatten())\n",
        "plt.suptitle(\"**Rewards history during training**\")\n",
        "plt.title(f\"Each iteration is {num_inits*batch_size} triangle simulations\")\n",
        "plt.xlabel(\"Training Interation\")\n",
        "plt.ylabel(\"Average Reward in Iteration\")"
      ],
      "metadata": {
        "colab": {
          "base_uri": "https://localhost:8080/",
          "height": 515
        },
        "id": "7lPRcTOeirDA",
        "outputId": "56630a0b-c8a7-4f8b-f410-41ea0277e5fb"
      },
      "execution_count": 10,
      "outputs": [
        {
          "output_type": "execute_result",
          "data": {
            "text/plain": [
              "Text(0, 0.5, 'Average Reward in Iteration')"
            ]
          },
          "metadata": {},
          "execution_count": 10
        },
        {
          "output_type": "display_data",
          "data": {
            "text/plain": [
              "<Figure size 640x480 with 1 Axes>"
            ],
            "image/png": "[encoded data removed]"
          },
          "metadata": {}
        }
      ]
    },
    {
      "cell_type": "code",
      "source": [
        "def sample_to_string(sample):\n",
        "            wordlist = [\"ant\",\n",
        "                        \"bat\", \"bear\", \"bee\", \"beaver\",\n",
        "                        \"cat\", \"crab\", \"cow\", \"caribou\",\n",
        "                        \"dog\", \"duck\", \"deer\",\n",
        "                        \"elk\",\n",
        "                        \"fox\", \"frog\",\n",
        "                        \"goat\", \"goose\",\n",
        "                        \"horse\", \"hawk\",\n",
        "                        \"iguana\",\n",
        "                        \"jaguar\", \"jackal\",\n",
        "                        \"koala\",\n",
        "                        \"llama\", \"lynx\", \"loon\",\n",
        "                        \"mouse\", \"mole\", \"moose\",\n",
        "                        \"newt\", \"narwhale\",\n",
        "                        \"owl\", \"orca\", \"otter\",\n",
        "                        \"pig\", \"panda\", \"parrot\",\n",
        "                        \"quail\",\n",
        "                        \"rabbit\", \"rat\",\n",
        "                        \"seal\", \"shark\", \"swan\",\"skunk\",\n",
        "                         \"toad\", \"turtle\", \"tiger\", \"turkey\",\n",
        "                        \"urchin\",\n",
        "                        \"viper\", \"vulture\",\n",
        "                        \"whale\", \"wolf\", \"walrus\",\n",
        "                        \"yak\",\"zebra\",\n",
        "                        \"ant\",\n",
        "                        \"bat\", \"bear\", \"bee\", \"beaver\",\n",
        "                        \"cat\", \"crab\", \"cow\"]\n",
        "            #print(len(wordlist))\n",
        "            wordlist = [entry.capitalize() for entry in wordlist]\n",
        "            return wordlist[sample]"
      ],
      "metadata": {
        "id": "rd8ilAnLd0h4"
      },
      "execution_count": 11,
      "outputs": []
    },
    {
      "cell_type": "code",
      "source": [
        "#params = params_checkpoints[5] #load some earleir parameters if you want!\n",
        "\n",
        "num_frames_per_brain = 10 #number of frames to plot for each brain step. NOTE: MUST BE A DIVISOR OF num_physics_per_brain or else there are issues!\n",
        "\n",
        "key = jax.random.PRNGKey(int(time.time())) #random time seed!\n",
        "\n",
        "subkey, key = jax.random.split(key)\n",
        "starting_word = jax.random.randint(subkey, shape=(), minval=0, maxval=num_inits).item()\n",
        "print(f\"Starting Word: {sample_to_string(starting_word)}\")\n",
        "\n",
        "my_pumps, my_muscles = decode_pumps_muscles(starting_word)\n",
        "\n",
        "def create_plotting_episode(params,key,starting_word,num_frames_per_brain,my_temp=10):\n",
        "  '''Creates a bunch of episodes and returns the action, input and reward histories that has all the info we need for plotting'''\n",
        "  action_history = jnp.zeros((num_brain_steps),dtype=int) #record which word is being used\n",
        "  my_points_history = jnp.zeros((num_frames_per_brain*num_brain_steps,3,2)) #record the inputs to the neural networks\n",
        "  my_masses_history = jnp.zeros((num_frames_per_brain*num_brain_steps,3))\n",
        "\n",
        "\n",
        "  key, subkey = jax.random.split(key)\n",
        "  info_init = create_inits(subkey)\n",
        "\n",
        "  my_points = info_init[0][starting_word]\n",
        "  my_velocities = info_init[1][starting_word]\n",
        "  my_masses = info_init[2][starting_word]\n",
        "  my_pumps = info_init[3][starting_word]\n",
        "  my_muscles = info_init[4][starting_word]\n",
        "\n",
        "\n",
        "  for brain_step in range(num_brain_steps):\n",
        "\n",
        "\n",
        "\n",
        "    inputs = get_input(my_points, my_velocities, my_masses, my_pumps, my_muscles)\n",
        "\n",
        "\n",
        "    #Feed input into the brain and sample the muscles+pumps word\n",
        "    log_probs = forward(params, inputs)\n",
        "    key, subkey = jax.random.split(key)\n",
        "    sample = jax.random.categorical(subkey, log_probs/my_temp) # sample_action(subkey, log_probs, temperature=my_temp)\n",
        "    action_history = action_history.at[brain_step].set(sample)\n",
        "\n",
        "    #Decode word to get pump and muscle values, and then do physics simulation\n",
        "    my_pumps, my_muscles = decode_pumps_muscles(sample)\n",
        "\n",
        "    for frame in range(num_frames_per_brain):\n",
        "      my_points_history = my_points_history.at[frame + num_frames_per_brain*brain_step].set(my_points)\n",
        "\n",
        "      my_masses_history = my_masses_history.at[frame + num_frames_per_brain*brain_step].set(my_masses)\n",
        "\n",
        "      (my_points, my_velocities, my_masses, my_pumps, my_muscles) = jax.lax.fori_loop(0, num_physics_per_brain_step//num_frames_per_brain, triangle_update, (my_points, my_velocities, my_masses, my_pumps, my_muscles))\n",
        "\n",
        "\n",
        "  return action_history, my_points_history, my_masses_history\n",
        "\n",
        "action_history, my_points_history, my_masses_history = create_plotting_episode(params, subkey, starting_word, num_frames_per_brain, my_temp)\n",
        "\n",
        "\n",
        "# Set up the figure and axis for the animation\n",
        "fig, ax = plt.subplots()\n",
        "sc = ax.scatter([], [], s=[], c=[], cmap=\"coolwarm\", edgecolors=\"k\", vmin=0, vmax=1)\n",
        "lines = [ax.plot([], [], lw=3, alpha=0.8)[0] for _ in range(3)]  # One for each edge\n",
        "\n",
        "ax.set_xlim(-5, 10)\n",
        "ax.set_ylim(-5, 5)\n",
        "\n",
        "def update_frame(i):\n",
        "    global key, my_points, my_velocities, my_masses, my_pumps, my_muscles\n",
        "    if i % num_frames_per_brain == 0:\n",
        "\n",
        "      sample = action_history[i//num_frames_per_brain]\n",
        "      my_title = f\"Step: {i//num_frames_per_brain}, Action Word: {sample_to_string(sample)}\"\n",
        "      plt.title(my_title)\n",
        "      print(my_title)\n",
        "      my_pumps, my_muscles = decode_pumps_muscles(sample)\n",
        "      #print(*[int(my_pumps[i]) for i in range(3)], *[int(my_muscles[i]) for i in range(3)])\n",
        "\n",
        "    my_points = my_points_history[i]\n",
        "    my_masses = my_masses_history[i]\n",
        "    # Extract x and y coordinates of vertices\n",
        "    x, y = my_points[:, 0], my_points[:, 1]\n",
        "\n",
        "    # Update vertex sizes (proportional to mass)\n",
        "    sizes = jnp.sqrt(my_masses)*50  # Scale appropriately for visibility\n",
        "\n",
        "    # Update vertex colors (based on my_pumps)\n",
        "    vertex_colors = my_pumps\n",
        "\n",
        "    # Update edges\n",
        "    for j, (p1, p2) in enumerate([(0, 1), (0,2), (1, 2)]):\n",
        "        lines[j].set_data([x[p1], x[p2]], [y[p1], y[p2]])\n",
        "\n",
        "        # Set edge color based on my_muscles\n",
        "        color_value = 1.0*my_muscles[j]\n",
        "        lines[j].set_color(plt.cm.coolwarm(color_value))  # Apply colormap\n",
        "\n",
        "    # Update scatter plot for vertices\n",
        "    sc.set_offsets(my_points)\n",
        "    sc.set_sizes(sizes)\n",
        "    sc.set_array(vertex_colors)  # Apply colormap to vertices\n",
        "\n",
        "# Create the animation using FuncAnimation\n",
        "ani = FuncAnimation(fig, update_frame, frames=num_brain_steps*num_frames_per_brain, interval=100, blit=False)\n",
        "\n",
        "# Display the animation in Google Colab using HTML\n",
        "HTML(ani.to_html5_video())"
      ],
      "metadata": {
        "colab": {
          "base_uri": "https://localhost:8080/",
          "height": 1000
        },
        "id": "aFwQUagzbA7U",
        "outputId": "d6ada736-0561-4f18-9f6d-54d2b6b85e54"
      },
      "execution_count": 12,
      "outputs": [
        {
          "output_type": "stream",
          "name": "stdout",
          "text": [
            "Starting Word: Orca\n",
            "Step: 0, Action Word: Cat\n",
            "Step: 0, Action Word: Cat\n",
            "Step: 1, Action Word: Hawk\n",
            "Step: 2, Action Word: Llama\n",
            "Step: 3, Action Word: Elk\n",
            "Step: 4, Action Word: Otter\n",
            "Step: 5, Action Word: Cat\n",
            "Step: 6, Action Word: Hawk\n",
            "Step: 7, Action Word: Elk\n",
            "Step: 8, Action Word: Otter\n"
          ]
        },
        {
          "output_type": "execute_result",
          "data": {
            "text/plain": [
              "<IPython.core.display.HTML object>"
            ],
            "text/html": [
              "<video width=\"640\" height=\"480\" controls autoplay loop>\n",
              "  <source type=\"video/mp4\" src=\"data:video/mp4;base64,AAAAIGZ0eXBNNFYgAAACAE00ViBpc29taXNvMmF2YzEAAAAIZnJlZQAAz6RtZGF0AAACrwYF//+r\n",
              "3EXpvebZSLeWLNgg2SPu73gyNjQgLSBjb3JlIDE2MyByMzA2MCA1ZGI2YWE2IC0gSC4yNjQvTVBF\n",
              "Ry00IEFWQyBjb2RlYyAtIENvcHlsZWZ0IDIwMDMtMjAyMSAtIGh0dHA6Ly93d3cudmlkZW9sYW4u\n",
              "b3JnL3gyNjQuaHRtbCAtIG9wdGlvbnM6IGNhYmFjPTEgcmVmPTMgZGVibG9jaz0xOjA6MCBhbmFs\n",
              "eXNlPTB4MzoweDExMyBtZT1oZXggc3VibWU9NyBwc3k9MSBwc3lfcmQ9MS4wMDowLjAwIG1peGVk\n",
              "X3JlZj0xIG1lX3JhbmdlPTE2IGNocm9tYV9tZT0xIHRyZWxsaXM9MSA4eDhkY3Q9MSBjcW09MCBk\n",
              "ZWFkem9uZT0yMSwxMSBmYXN0X3Bza2lwPTEgY2hyb21hX3FwX29mZnNldD0tMiB0aHJlYWRzPTE1\n",
              "IGxvb2thaGVhZF90aHJlYWRzPTIgc2xpY2VkX3RocmVhZHM9MCBucj0wIGRlY2ltYXRlPTEgaW50\n",
              "ZXJsYWNlZD0wIGJsdXJheV9jb21wYXQ9MCBjb25zdHJhaW5lZF9pbnRyYT0wIGJmcmFtZXM9MyBi\n",
              "X3B5cmFtaWQ9MiBiX2FkYXB0PTEgYl9iaWFzPTAgZGlyZWN0PTEgd2VpZ2h0Yj0xIG9wZW5fZ29w\n",
              "PTAgd2VpZ2h0cD0yIGtleWludD0yNTAga2V5aW50X21pbj0xMCBzY2VuZWN1dD00MCBpbnRyYV9y\n",
              "ZWZyZXNoPTAgcmNfbG9va2FoZWFkPTQwIHJjPWNyZiBtYnRyZWU9MSBjcmY9MjMuMCBxY29tcD0w\n",
              "LjYwIHFwbWluPTAgcXBtYXg9NjkgcXBzdGVwPTQgaXBfcmF0aW89MS40MCBhcT0xOjEuMDAAgAAA\n",
              "EflliIQAEP/+94G/MstfIrrJcfnnfSyszzzkPHJdia640AAAAwAAAwAAP8j+NuVUetgS4AAABOzj\n",
              "eOmflbk7IzAFbKRfrFTNBBYK65byTPWNroACzb2BBxrl6AE4iOFTy0suVz7NLKZci0vtfEkAKtdl\n",
              "lTT7OiCgDBGBId4squ7w85Wt+suRY/JmoiiLo9l/wb0bV8y6ODNmUYHgPhfcmHvlwHVKZfHTnK0q\n",
              "nRhMd9TQbeooYlpENcp3Jm0eLPEZT5ce2kNjU70zGvRnEqd4rwkVXPp4bw2VLaGt4x/4HX455SSm\n",
              "xjVDTdeGZuobOlwSxCpniVKQRzmPpzfCgdlUriRg+7cAeYHu1vV5/glTv5cvubzOorMeF71b9g6a\n",
              "UYzHOrChZGI6WiiSC9iIJ1HYyt+2u59MMygNe4c/Q6TWF/hPxi8kLNAF4CxVki/ECc78b2LNWJyG\n",
              "K465P4dUv0nPXyoCrZWNuS6EYz0X9eTkPLYF5abPDP6e4wtqBNyMwWZ5/wxPXcmpHrrKrujjPTC6\n",
              "ABNh2esqzvLYnVi+bGenQOUHhCOvEdaP6+TgmlAbzS+GKBagxPQb5grF5FAC413o01mu1GOvFCtN\n",
              "Jq9sarYgMn0P55xcROHP0oE9sBXJ8X2Bi4gmdfay+h+TFluwC4EHQoKjGm0c68g3poJJ2j+t+ECf\n",
              "UO+WNt5D7HC7qQECDD381zXSf8n2IzSz4uq0Ly5kR7CJZRaQsGVcV6LrADPI2LhJynowde6Sh7y5\n",
              "rGLKhSw9edRN3hNcE5LX5Dz7cGyOwIfkrJ5FyFTzUyRAe166rlaSTdhBpI6RDf2AAJOsKyyCI/CR\n",
              "1z71vVdyimLGr9CQWYMdl003Xm+CDlrQR4Zl5jkbaD6i24vhLeBk2jTPicNYJ2IkqlazPZqG9L+/\n",
              "3UubNag2aG83a7XdTy3IW0aoO54qwyPZFD+lW9+Uj67SefVJUcN6qyCd8DFEeYd0+3tmKahON1Wg\n",
              "qFz4FQmpfmkKqGw4iqKNwOJDFjitRRVpfVQ8OH9By84DQA1r0Kx/Tt1HthVRv3nzHBCMOoWGMMin\n",
              "EprKJXWtW/JSbZbXUMQdxFdL26D+H/yPYp1Qp/rAAyuKFAFMRe5gEDkjRzN7ZeIG6CKzPMKUTMnw\n",
              "4nFn6jvgXHuR774yzIVmf2BBEDgx5fEN28ZgsRiMykgO1pz1CFjuQ17r24vNYxIx5t5u/YgQAvLh\n",
              "C/gb5yP1KFglMtZjJjxmGUC8Qh+1Jj1/62Kq1pJfK17JH6bdNVHORktUFsD+uR472EKlXID31YwG\n",
              "z/xu+nBQvxcHI9VNjPPvFgcSdimD7Ipz6uXqTpp3HfjA3jjZ7sM84Q9FsIp0q54nbb18SU2FgAyv\n",
              "quolYKfpoMFAJpfiLp9tuTEIpqnfUsUmnvWHNrxhT6bAI+8/5gyTSKnXP2tvUpBFzf+7ltZYn9Aq\n",
              "hjLaIcSX89QRdvRJuI0IixF4X8TnlPY2ghrJqLQtyc56zvhsZ7vtMca7WbrS2cSh1VhFxiKJJe97\n",
              "VTQCFVzCYX5n1DfaVZdyypmOJ/nqWpWNhQsMuWYsJOVZqqmhwKvO/hRgCjVlgYY1wKvJajir5Fzt\n",
              "nkr4Cmf3xP9RmB+fH6sJvPr8YXHbulSY9U4s+29ABbocesUGP6D5x5IH0E+Gjs8IOD/+QRzLHfRZ\n",
              "Etq+zm4mDOVV4Us6iyAUI/N/mFvT61XFF58HRRiYO1KoAMkNQVclkI2/tVqWRxmZifHnF6XfLgbH\n",
              "d5gjjmYms1zrfoIsXyOkCjsvQwn5gevUOS6OJEDdY4KrLESD06dARe6mKyHutwvgiRy5P+eXbn8k\n",
              "T7+lpg+2FsRTNN9PgQPOOXuWfzFsmzzfWOc7VswVDC+Ua1W5my6Tl9AxTXwtvm2NutZktMlOpPWx\n",
              "ZboOpQVIf8lz+Z8lXBj03LH/viFblBZu2ouOmee24anbe1g6d+JgTwdd7o0TfbsJBJZlwmzS3RiF\n",
              "BwJ2MbQgPR+u06hNxtYq9NbnDMNqbqOyzTi0b+kpvdiwbAex/4EUSnw26dCfYQffjegOxVBCsxD6\n",
              "PcEVa36W9OU5tJroszGMVP88gqIJ7g36LhP5cJeWPPvzOFmpkTfO77q4Zq+NGB56BLc5BPQz+5Ez\n",
              "manmgfQcMwPDvqN6cDBwBNVAB/WbNXj0n4l/OcuYxYi/pvWKmUUpc48LNjfcnT6seAIahuSDA9op\n",
              "k+7o7pqXHuRXI9uwVBfVMAoK3B/PiYkP8W4FQlLsMak8joAPJRowF0XMFb5TNjs9ZAFdKv44SFzq\n",
              "oWRfo70AD0IvLQUSkzNQxeP5AbUY9DkkLaMQebBbhVlPsMDilBonZQaF4VEkeSFYNKi6oJyihY3Q\n",
              "jsb6NuSf+eLKgITIbyeXIEEg2TPoUswmQy+8QJR1SgHzGksoHT6K/DE7MNdTgY5PisGPPmjVuJa0\n",
              "EK+UiYGqcVpx9U/LGt4ICNWxNYKCNEKxeT6Wb8iyEQp87SeOxIULfDiDu+UfWmgJeGgEfDr2PVmD\n",
              "tIH/w8Dt+Y7jt1h160GRnfIivMPaWno7VDZDtRtg+aX3+I6YI7KRPE9mgP9aduXxBrM7W4t7Ac9o\n",
              "ph0oL7rccSugf/4M63gOKkQACB0i4ZRzv6bI9w+dxF0ls00xpkaQDsxm3AlYFQhpKp6xdXjfxCr8\n",
              "Jc/XdWvR6dyi5QOBnHgY0R3gNQsXKXaNVXWdp0n10mCv4OD0f1E52nbPENgPY+0ABcR3FbLw9CA2\n",
              "DeGfMgJOGG3sfMEtTsgbFd3awVpcZxDsmpzZXDAl5ahrf91ptKEf08J9DbCdhPBZCljfOypQzs6l\n",
              "SGK7xXzgf0yMSKpaP7PjCpEWGa1iphvLTGRjur6XI8PQdxms5nyvI/6TbRPsZ8KNPd513582c7XZ\n",
              "F+4kcmrnGPJf+3XgvFFFFCKrNLYNRIf3nGG309pFsWTFIqrqFo8E6TCbI9ELT/u+QdkLxLf2drLu\n",
              "PhZj8A1RgPnc1Qvm99wxY/xGy/G3/8Uy3PDGNKERlcahDnXmzrYIecMyObZsNiqjOWlwk74gz8i6\n",
              "EqVMFaj3oedF5ITE+upbdvgk1/hmntZdUSzeiVS2c5HOBZWK0zVSsY5Ff9SLCbGBMUjzhgnEYkMo\n",
              "uqc+CtjKSZkeXgrph/g/dSXLLu+zjqR/7qKoQacvSoDQS+4E3fbbJu3pKbnm5H9fEY63+291kPyE\n",
              "6nVv3y0FYM23jfqbfQbR3MVApLoxl1GJ0ZpUbaGB8hZljrL7ANF/Sm+8TL0S29gawpVLgBnMwhbQ\n",
              "zlaZYzkCXDYZYBQ41e429B5gc1B1yfkivN9XDr8gs6vUp71BlZxR6qHXEbFlvjrSwPOZ6zOKP6tI\n",
              "T3/EZPqJK1AavtLkcpkachz9rjM4BhJvNqZAPs5oC6+eO6HKeZnXisKa99kmOCsDpKHW7ijRVBDc\n",
              "GRmTUls4x1Lfnb1buU0HU1ehNBtOjD0jqrGqi0F4GJeDRFubZs5YJS3IEFoYvkbEtVY6dvNGKt2q\n",
              "TM+Qx2fV1iYN7qE4AAb0HWRWgVzx8Kyz51SCikcoxD/NxAbvbvpxYOcTgfp7bW6FdZFjwEVHd6Y3\n",
              "S2zEnoAjCU3r+p6jNsNBMnDemVmbPphStyk7/u5ynT6+KdY8vMIyNKc3JbfTOz3kZ7wHVYgPVkQf\n",
              "Br51ucBXgmXwRbPZuymp8wIaL0IX5gRcRPNv92Ztrn6aEjT0fzQXtZZqlumRMwHp/8ggaEZ+rVpA\n",
              "j0AB1IVT8JpIRMo5ZHZZ6W9tYCtlU3Attq1fK0jzTqlZpuEEhRyDhPT6q/6ed2p+FXY/jbg/QNn+\n",
              "iE28RV7zUjiPb5R7L8g+m7arjOgDU2yZq4jvfJzQcaE88MS40BkA8G1cYEnbFv07bk8P8vfzobI3\n",
              "aPr887Y261C7p27TiD3M/0vxMQlYbKzakI35QO1kvncLoLxUygMgxGvRWiGERc+YcBQxYaArFybf\n",
              "CBRwCg5Xh8s4EKA/i4xgIbLuNMIP/OCGrEyFOtNyUoilmoc5yeS0ZWrEldeGU3L8kTQzBjvpwsKy\n",
              "F8F1baHslV8z69cOkzvUCqOzj8FeQap7WO4NhClFfJki7x8PNFu1D1bUbMy4KgEYBPBfIu9f4IVg\n",
              "/v97+J7KN37V7Sjx0FtyiiNJ5v+WU3HeblcEB7nqScJEbTJ4UK0Ew4oMEGRo5Pd6/+EGGRcngBt5\n",
              "IIv4piMqaL5n1Cn1BltBPuYg6U+k7y+9j5CqbzgT/0WlNkicGSQ4J78DohMYECE1JMsDYTPsp2Rg\n",
              "xLFFA0N05SM5fjKhiofi4/MTZXVdcuzrK5RgvOvIg2HOvq5pnp7SJLq6gAAM/vkNZai4Z15v2ADN\n",
              "YGS7lJScOWnlP8HYohujobHr0AsBLwXF/OgktVyVE9fTT78G+Y1xC0vbmv8S0nsxa03OZ/L5KfXh\n",
              "R41d6igsPTAp3GxDb7pgx8/DD4j1bt/HUNGS8+jC1sunlbw8HTHAxYsyHkwKL19pikGVNj4+Ea6d\n",
              "gAgDOJABpopsI1pvGkbNtYpOAAADAAADAFHseKKxU6mFCj5nj0gXwmtEOCsz3qIF3fR8AFkGrnlu\n",
              "DSkMGgIifaQvV0hvT6vy6BhS/0zNw9fCf/JEEyHuO3o/n6ICTo7zUYTtuI2wQzaams6Dw2s0eEkC\n",
              "PP8L4wtDppyUDviKq3XCCkWWYsmhHi1VVR3kag9OEWwseAF0yuFuIwyMAAAUV8CpASHXcF/SF9XR\n",
              "EMN8HzGZpkKmkUGNSMmTw431tnLpNsLdPSckYj9MlEccnnKKoDcGFFhQVTuE2KqNJ1w8PrHGqKZY\n",
              "RXnTIvYstnqnmRPV3RfPBQdOOep9bUgVgBz5XksMDNMHAQgFUvM0PB9zeEDoLSbg78XxAOhiTPfh\n",
              "gYFf+rwR4UPX66DITCftZzsd8HcAfaf3Lt4h7f7dKiiRt8kj8yZCUbMjxKuP3eR3fGFQqh2AY0Pw\n",
              "QDHxNlnL3JvsOMxm23E9mfyBHuXi6g+B9ud1qCmjDRcyb6oTG1GviZLLiKsKnQV+5O3y7sxCrNYu\n",
              "RNwSH2RXDHUHRpw33PqFloW/rdiy3u0z5/aIu0/P9E7rv9TayM4CgjUSMFZFlPOqIjyOpyAJeN8c\n",
              "MYBiAYciQvaVgTR3D1PnMwR+wpt1jLdXFdTUPrP/suGJg6gkKC658plxBCSHuj0zYzpP4ylqBXi6\n",
              "vG2Ltr8OobCgvxwAYuDl8hbBOALTQd/X+sS28G7nnFz+XiNHsyax87PODYMwq33Wudc8ivtUondp\n",
              "4O9+/dzcxGDuGpxcPXq1LamAOxw7i6GCfK2Wh2RKmQfBA7BrMSQg48ZjHxLp5mgqSZAAYIIcHHbK\n",
              "Nipskly3DB4ltucWvKtI1QKKH9v5h+oPfLvRgRFhnCDGzPj/llieTuD+jD4yISQCXNIl4/K7hbks\n",
              "GFjeIlMLH/g3vmT6qRDHU9RcA8B4hMB5rqQYtUkhiK5PlY5jPugOTl5uPI+KDNOBAKWYbKiAk/4B\n",
              "02S/CZALJm/q4QrW8EUbXJPC8eGNt3L3TnpgYfML4yJv4hh8P1OlgH4BxnKuFGeRJEQDVEXDqvlX\n",
              "LuLblEdfxmt1vXgHhfRcdNXXRgPVxZx6Dad4eM+Ai5xElZEGguTAsLw7LedFcnljU5wgxKeuX/vW\n",
              "kqedqI7prhxuYeuOokYANGZ1IVPd6GkPrFZg5Zkjw454ueM4ScuRw6U3o5ZoZYygMYySBulI0Q8p\n",
              "xuX7Q3KKW0uPiupRBLOLWlN5vVWtUGdg7DAmdtpXZmcdAEukDW8PTz8aOvfYGDJgd6l0JbvWPV8y\n",
              "vXMho5lyhvAz+zJfXA7x6f6qVWGZxQoYKwaEUv8j3KctdQhAqlWLrCsB4xB0bb63E9JDUgESV3yE\n",
              "zqgcFvkrHzvk4kZrgX5IRksf+9GzUBbbZeDXMwnUP39lwcw3gm3QRjBTTeuRNeD4GFR2tuyza50f\n",
              "wkapt/BrOyo0Otx2uuPwF6K/czho9n3FeYX8sCgA9nnjz/t+4hFHi125IeOejeRZYvRXnllGaWwu\n",
              "l1g3QcV5902p6fve9snTdzjMxvbZh7VI1BnovK0a3f1F0swduh9i1GgsBMJ+l9ZNPytow9u/MEZG\n",
              "USw0HizCXYWIvmB/xsXv+vNr71CFNPHFNqDBe8sDADLQkUljYdKAAADigQAABDVBmiFsQQ/+qlUA\n",
              "AAMB82pUABJVDChnLHtODpZTesvVRqVurKbd9XoatiFZQ50SLKd8wXdNR0Z8iFUViYdYQXBaI2MB\n",
              "Rl1nrMDtpjA7gSmfHcM/LQg8FIJz4JKGDmMU9VxwAhBdwaocqDOIxNkr6GejaHux3wITGvP4sLYp\n",
              "bNsfV+8BSqG5KK3R0E6G5gkesZ+CXaw5TEkHL1F1PXDu+sltQK/X9NG3vZDP3Q6rhSPD+obcvxHH\n",
              "g4CSia1K+1SGboGfrcmVFhg3TZcW8UulN/WVPD3fOBvxqtus3wbv1PI12pggvQqhrUwupIEPzN5x\n",
              "6Wc9wKNC/c5GBJn3UnsHIAnboMVQvtKvCI44y6NCpjCbvv0qaZjFBc7oHOkhOtOuZuMrU5LRf04M\n",
              "BvZSltLJFOCOw7UCec88Rg4z6WNuYLVu1IgDVyG3nLEvNrr0qR80mcRUGJXCDO3i3zL7h9t3SUWh\n",
              "T/qDwnZMqglDlTI5K6L8kbMjWHdhA0mP+rZY4MCOfhnwWjnaEsZ+hRK1Any7y2H8t1Rjrrkzp4cc\n",
              "pYzygmLu2GNiqK+w9p81nbpIEFdnEEGKFomT0xqTZ5iww0CfF/UQo9H5TfKVLEaYNqTQSrV/mQqw\n",
              "6rH4NTNJhZit42RNKo4UfZPG+33Hhnd4seCFG8TiTuA7/yFDhWFDqE3eQJ0J1AM+piZdESKyOwOl\n",
              "dAg9q0Ywpp14G3ORC5eE4IIoQ3fn38Ru0VHJogemiR0fOwXmnkg8LU7FuNlGtUk72Pa4xLqlCBVQ\n",
              "x/mcNv/ASxTGoLUDjwjznCAlQ/dOAO8fyk7ynwkvy/AUu/rr7H7heeNXfgQA6s/YCRiqThEoEJOn\n",
              "ofMNQT5hZLEUXyXJt9D6fIP0Spnafuxg82CH2ojCiV5n+lCa90/9xbBVDxvuPqMF+oE+8Zpe17Ol\n",
              "rEpe6Rbd0NiVv4x7W/a9HrdRDLJVnLpy5X3L2SR8Sj8mh8tnB7PalvuA7IUoeM1xCVvaglcILM9R\n",
              "mjCejVN/hOWTcH/+KGlEr9LvgDq9JO5AJjLHQiqD37MjH02Ex0iFkaU29msqAB9l00b38Dt5avly\n",
              "sdx1PQRsdq5ZcqbBd6asa2xxNAHDObAojZ0Zi500XRiseeaHP43Sj1zbGxsIQjatKmkSkaTn/uvh\n",
              "90jCJSx24cd/85udvc8gvVrXagIET5xQXquxIQ6BQEM7T4MKkbposqHf6OKtYGSCIno0SpJhWEjA\n",
              "Wl27bwWjhRD2NqXHtcWe+5ubGtFISEIWVRo4BdleCPjnzyMCScAHgpICuzmn1aPCn4DO1o9qjMyg\n",
              "35sgbPcI204sNsBceB9TG7aXPC/7JWVwr294RGYPbuKnCfH6w5Dd0fA+YHawmfOxKFuMJwKawNtt\n",
              "8V9X+yNJXq0x4ZMLEs9aI4p4+mOxaf3en44TtPQWEprxVTiDMT9LpaYAAAOhQZpCPCGTKYQR//61\n",
              "KoAAAEYaRHDqQALdzMSmaeewKhdwwJcO7+6mNTn/KB5I5wcDZR61WU6bc4njGobPWXWx5D+yZ1YT\n",
              "0yjzFY9w7rFqk6U9883J7MQkMgGS613V+hVTovPYQTnDw99lUsciY7eTwX4PX0IxVhLUYwW4j/Fg\n",
              "cUf/J1bR1b1XPpDsLEdFMRTsTqrr9AbX7vP/T26l1bKZxKdZlLI88mFvkPzhOi8dyTeJzYuu4hEP\n",
              "q3NINujlA4t6ycBLckhdzWpggIYGl7XZbWWW46bHkeBxLKln/DFW7dvvXBcPUdPxjMNHXGGRMj6h\n",
              "HqrGBLiNNOBszuNVSOvi+fZPOGKodjDXSSj2kVaEkGaAKSJT1ozOpDnpEch5AzK3pwya88UZuwY/\n",
              "u/eBrmk0sVybfLUWZDcXQuJE52Vd+TUhLoj+ISODNhNPBSaKDHVsm/4/9VYVa7zX2aWDsvdW/9Vd\n",
              "z5E1aaodvtYo7TdmZ5pvWFgZN5vSCwJGZ6yAgyKat39NipHkrNUu/T4y2yFbIiFxKuOXN8Y0sLAN\n",
              "CpO1v63JaFgsCUknir2ACUyOy2we0bFuGHRkCR0gcun84GBDgLjaADy8f8FK2l57uguL5Z7feUol\n",
              "oz5BXbhR4W4go4T0F0r9e5qVsF20AErO+HrlNL8hhtvtTWku56slbNichMShiOuiNFPCPNFfNilV\n",
              "DyZjWl1aZXhLmzQudUhLP8q5ZQ5/4pLTZMKrBLedLtHB63jWXzY5f2frdDjqy6WFiZuXYBy6TA13\n",
              "VxewqgjQKJ3lXS2DIX4ae1zn3zF/V3GARehZwGmua1vnBzBouCQG2mS1db2bE8X10Eb0lLLjHhhs\n",
              "iheWnwrDtawzcWgu+v5S3/kCHuniLndekscw4B8cc6aWMVdbDhTpVhArVCr01aInl6j2aht0m8k1\n",
              "uq5R9fTcHmEkOTgu0rLT2jAnuOAgrx+xaZHYKD22cmC6snZcUzyqooOfjFQtajHfgs+qpq5xKIq+\n",
              "mMzQTNGLNeFo5SQjSHAWzuIR8wPuijiQhpX1UUFqECuhuM1QkU/dXptqYVbwU8F51Yf3K1WLHF58\n",
              "Om4hcjsdBukl/L6siEYiU3Ul9pC9H/YNB5/W9qQPJIqSEX6mVJs0KbJA7q5F4eNXvOBBqEyZ95we\n",
              "28gDZgNa7Bj2wl0cTu3m0lZ8nZdHgPUCvFIdsJVElMJkMlUB2w5g4NLueinxXcfM+OFDY/FDTsXX\n",
              "ti13/4EAAAFOQZpmSeEPJlMCCH/+qlUAAAMAjPzUp3334XXwjUtSqJVBwIEYukvLKt0BtOPMT+PG\n",
              "A67SQALNkDbMZcXSUeJ+Kx9NwnAtQlLKaPKnMgxhi1nD2I1/cQDROdBZRDOMk7m2WSMP0bIWZjJX\n",
              "VB29QQpSjZq6p4+55GiHTlwUfSh6xwhbnwiXDh/0lXJKFOHOVWaPTp67uHzzSap/xx9XLZzDpFwp\n",
              "T/WIieW95QFCuk4t5U0v3p7PlFDZ0aK+rtPPCW/abu9cj8bHsRzbSL46HpMSVnGo8DJoRGj5B+4i\n",
              "4dlTwkQdXkqptZKRUpITQnm99rZFL6JHKXEN75vzr8r0icowO6znjRr2ta+FetN6FLyu0SYUoD10\n",
              "Z2O+3qreEGHX7rjHqvVe9EzY5rGi1AXeUvovS/Qf284TZ8fv+6godJcahm7CH9FXRj5f//d/1MRF\n",
              "8AAAANNBnoRFETw7/wAAAwEQcjqnAHEcAG6HzNTLMj853kJn0B+u/ebU514GfOLeqCRYLkLBRhmI\n",
              "w4nGdnx0MzAxj5ysY5C9P4rbSbykacAbSk7fxKLBeEx70WSyACDmvNIPvZSvovJA/+rIYuQ9FIXI\n",
              "JaO/DtKy3aIanMoGi+E1VGuno20CS/Bn7humR9YCVLZT0KevoeyFpTQMNZr85Qk8S1Rv4jV6f/yN\n",
              "Qf1v0AKgIchZGt+FVDmQ0grclpZfZPGSkKeLZIAVGJZrkdLIxRMNQHoH9oNxAAAAnAGeo3RDfwAA\n",
              "AwGH+WNwTB0yWgATlNxCEGiZwespEdyP2EMYMmdMB6C2HJz0dzgbeNYYU5n976V9EugHrVHhEsxd\n",
              "xG7Yz6ugEiITYtFY5uhohEa/geq9vZMsJ9IKiYlazARTe0kai2rUiwCE/r9Dq6t6G47qeA1g9ShF\n",
              "+aPLHGWc6xRd9I+CbpWySavKMwwRTrdJK0wNg/du35a2gQAAAKEBnqVqQ38AAAMBeup499XHPkR9\n",
              "QAfIuZNM3wD9AdNCcIfZN6mrFb9AiD2PnW9W6JxNASaw84egJ7zJxFgrR9GVQnQeB5zee+Psf1Pv\n",
              "JrCqd5r6EbWd7m73CYlUxTyn9tbDqdOEfEbhEzfe+q7FF/ziHGvfOhHcwqqVdEktQHc2K7YOnolr\n",
              "8iOpAWcpCG//e0PJFOJB2TvRApGyW+/8yd9vQQAAAM9BmqlJqEFomUwIIf/+qlUACA8ufaBxPy7E\n",
              "+LtkwcBpryQ6B+AAuRkyO8p5SNClCMV/S8Lml+PMcgoT4frReo4Euj96e2LbgD57LAi/x38jUYyd\n",
              "Ifb5wCPRs+ROvNSdlozwgqKvOms8ZLvYWnDttML+tRp2jixn0C+qgmNLRwgVwp1CoFVxAUiNMsA5\n",
              "wK08mo7nC4lQuVQsvaJSph/gpBvgytgVvZgKjk4JO4iNeXv9+0roLcXMG67l/Z6jYx78o1M54GAc\n",
              "6ozT653is2sSbiEAAACwQZ7HRREsN/8AAAMAipqwiaPcAN0lofvUVSlCp6AU4RmZEvdAMGFWJTZs\n",
              "h548TYCPHkSKhHqzyyR5yZf/YBVNXd7LkLor0X9uLWhAa9dHK8MIcEnp1YeWZIrwNtCEM2m7iMfS\n",
              "eFPjapzWxSB528QI+ie1CQhtGdERKxWCNGaOsIvIHZnmrqFtwG83utPfPayqIEAEpj/6PnfxbXju\n",
              "Dz3QqTvyaGfrFQ3NPSr/Vj/28TAAAAB3AZ7oakN/AAADAX5TWWjqfHbYpeaxzvnZDrLIBZuvDEDN\n",
              "whGrYxnN3Jf19toEkvGwlgdIN8fVbuy0n9J9Rfnq1nkQnrc17/ZOLAB/jBMaAcSEw5sGKFOsgnUj\n",
              "JCFz9i9PJlRs4IZ8p/V2IOOYAXxccM63GAruYkAAAAbGQZrqSahBbJlMCCH//qpVABbeUXMx9p5M\n",
              "oFoyosjvcgDloz8mAr+4pf/pKSXwpE48vUf/jWT4LEHybm6ehVEvw22CKiZKphGb+f4PF7VsnY4l\n",
              "REj0Bvjar6qtVetfS2vNGdZhVMlphgYRmyK7Wx+ZygI+CAh/bZ+FOCcT/m4N1UxNHx2g+govcoae\n",
              "0zFM9jCVO2no8SlbKN/cLA9eDNoH/rC3V6t1VJOnRyb9eLLX6IKQq5/cR5FOh7Kzn/aTx8xBhsPn\n",
              "d2pJCbRSdJfPrJQsMFBS6eHgK9juXgB00YZq1iji68iEPjpR1N3witx6lzBneZGki4as6iIWTtZ2\n",
              "DKH5/Bsr8Xx6YwuMoFvcWnRhXKN1xdh2rphduUa+sAYpsPz5WdPX75MW4x50OPJLt8IjhHzAT4Yt\n",
              "2AHEGJioDDEOLLkNFw4Ikl0a9/GFzRfmgUwxsxz/m61wL5S/U4wIL8xWUO/BVTVKKBN6qh9RAJuL\n",
              "u1ICAGlQnNTq7kQHgbb2rxDKwDKBj21pPh0/SAFsbw6MVtu6UYEm/c3Ubs8UMCT0BLu5yThhyo5U\n",
              "bDGumeZr4XI7Qz/+ibl3QofsPwI5Nyx4zx842S9I0GPg80T1MKRB0Lr0T0Lfa1h3p7pEHxMLk7ib\n",
              "Hjzo3PyhxsWi7pquDkviERbro7x7UO+YNFRTem7RaHWZ0JgTyqVJ0y6tQaA526nIHhRLFa70fCtE\n",
              "BtZbq1lTYSPDkCanLkxIc3HiyPVczQ/UK6bydbjn0kRjJXfQCXTCIRZDR9L5oKhBsxbN2dG7Mr7v\n",
              "GPpFe026E/Y9SDBaAY36pAQB1tmWqA0aOU22M2TYaGq3OToShPA1GqoXrKqtdavXfWiF90wcqy+c\n",
              "fQ+ZiVeZjlTqC6SdA//PtzGpjdkz3NbpEr4SqpQcqTPIGfE3gNGu3tIDGx+dYrwHAwl8QV6OqK23\n",
              "5sKgFfUbMoy1xszyip0i9PSIzd6HDHvVxws01331oWOVKhGL8fpKbyj5M//iyXvRhP8t8WcDUTGR\n",
              "JXV9kebx6X1/Nf+/ZdKgX6PYBRV1xWUuoCcmtDzgkP0nZlbzgSja9cN42WjhIOicUURokrM73adx\n",
              "8XWDYYtPPDKSkEmXtJww62Ut0lSjmm/u0yURbr60Kc1kJyjsQFMu4xBJHvqAN+dL5Qs943TnGKAt\n",
              "SVa39wIbdRvdJOLipg77r3ruQEoitsmI7lyCwMLgqTA9V18PRzfU5tnWZ+nL0deKY6nwShAE04tx\n",
              "RLlYYv+x8WCNMav8NeYlg6xZ8BjW1ELmP4cpqohU7BTPrpOVLMhyb+LaGuESN6MDgKcaZA5svAzQ\n",
              "nvClNDxhDlcWMjMHRm9PHeHxEmSqyd5O4ZFO5b/eUtJznS1rtpeSvLG+2SlW0F/3Suk3QduMmfa8\n",
              "V9A3kOqQnL9VinUg2AWG3hN1QXwAVZTRA0llIWzHeaDEToXTz1sMnlo/UBI5wBOevvdhKt1/Aevc\n",
              "hWS5LnmEthnNl7HfGAnUd21OaMMpeRseiQU3aiDFGq4sQ4mZUsQTbBu9dNhWy+5KX41x5ZSTfUss\n",
              "VjIjsoLacW1mIZqzBKHXIRsPJYpJmDSD2dHDWcP8Hd94ldnPVMTSpxqUdOf6BEAiIDMunOlm8EeB\n",
              "7W9K3vBY3w5vCBGdjdehKMB7rVPUGdWAlqpSwZWEfIIKYtP+6PYjsdggMlWpaEZR/HC8zW9p+qlT\n",
              "A0kl6+i3Dy+QgENfn9kpLm2x3jfhS2UXyTKimTdubrUko/6yRm/FjO6E/Y7kXC7GrnGjWWCqJ8fU\n",
              "7Euy9w0S1A0zxU4nttKjs6h1Zxj7Zkiz2RxHi6NDCsiJIIlaxnzs4DHJF09v8e+yFGJDH8HqMwN+\n",
              "iNiujB7ZuVRdPipRS2dOYxYqUD91zHrjyLZ8vFmoSQuEmKd4u8RFxudz0hf63GK0Z7Bo6K7wWM0E\n",
              "S3/xZNobrzLdybWUA0l+FoAkLW0tN7a7ROVHXmRgCD7RtsVvqUJ3XLaHfgsTNIzzwfnTjYbTuOJK\n",
              "+rGu1mrR4sRWq9MOAlNiereR9OGqUhmTVH23ZQaOdpRYw06myBXR/O7Jn+XPhtnEVGF4vEazkBuB\n",
              "JpD5G1RrIGn5FFY2gtDgqCLi+Sdfph1C9GQt9jfrJVZbhtoYI/3SGfCtMdw/IeBY8bpWbC2/hoUd\n",
              "fFA9hydVF9RRuzabmwGMFZvQUfTjfS0lDu9eq57hVW38d3lrTIJNg3KeAo4ZqFyxbDyIKsQ41IEO\n",
              "VngquGZy3wmTVRTMzP5LaVcF6UzDqIoX7anafKurmU8kXB8e8uuxTIJbMGhL78baBJFPEt1lnPs3\n",
              "AAAD4kGbDEnhClJlMFFSwQ/+qlUAAAMAiPzQIbO5a+ozCbH/iApxAC2kWvfJEu75YPseXKVMMu7f\n",
              "E6z+lGpZjyq5IY4h2P6utRWmhRgXapkr8uILUN2MizAB6Hq0r28UG+tLX/DxADYSjz+T3F9T4vxa\n",
              "iPH4r/NKOF/k5Ml1YWd4NHtPqBnVmGHWNg+EZZQuJ1XpvneNQKEw1PifzTOy2FB/HEvQsOjx7xW+\n",
              "1uHgrZp6vV2BmTXJYww7Mo9QA7AKPHV+BewRq9xiSyPOVm+hTgrxzClpO5xGuj7QMMkp4w9FQeIF\n",
              "YxtzVnEoX9eu6NrkLXhDPLB78JgiBD/xvpPjt7VRxFhXQep/DlAvFJcPKIP1q2LtkOOFFM697Xrn\n",
              "lfMaxTDrLnjDrpk56SjEYIMVaWae+bGH8LK6m320hgr5I2tuJx6MTeYjSJpHYQN371990tcrIsss\n",
              "FrUHyAAqRhLeFXwS9TD4sbGoVnqGXiooUBR1X0LiZtm2hVvlWvDHMjegqYegJBZ1YvmuNdS3TvgH\n",
              "JmULubinwz9GOnD2E+xvDqqhEp7pwGyLD1DqeNhI+nzvHAI95Jn5g4smpspA2GqbE929Pn47t4d5\n",
              "Kbniulj1CpwW3d8il6jDrZ00HsQzhucJXrJMsTssBcJN90pe+iGs7LQT1qaRu/fSMYbuTV1UV8XS\n",
              "CkZKy2ni64CPxLJO91g69dx7hJi4lydUtFxNhFxQ7+h3prpB6Er8cIIgqFZ1RmHGOrSUSx69a/Wi\n",
              "WzVj2pWZA3OeUYJRf/X4ZT/XGpp6KgHQYVIKvD9Fq4+mR5pQWoYXGkdI5frwX6JVgsE4jBHx1O4C\n",
              "NWnl5gE0SfOnKAC6QUKzVeGJDb6LDkaAUSng5FOfrOv0o2ZJ0fA7xzzAzKRhReYqCQiXug3NGhT5\n",
              "YeAG7Ym93f7oeFQwiPE//zjA5wgPfYfADC1cMmFAHJT5ocZ7bdT8T615PY3tUzUt/ESdfgSJ1q+B\n",
              "DuaxY3qSUHlB6G6X7HD+isKNIv5CaeyY70ltAEQM4/qCww8HE4he7yS2r+rQZMMaCbOf6zK3F50V\n",
              "2ZlNhEg4Bd2Xn/zHtdPbnWcGELRrB1SjVQbp/ZrOg925HGGt50/RDmMbjGz20ccBjVCTKi+rZR+/\n",
              "9EI1d/mzck6zTZrJGENAeReckPP7GaYMFY4yA6uKvMkWOU/aRGDrAPZeX45gxo37e5nkvn6nvxJg\n",
              "2yF/R1fTtUWgJdX+8w3OKTSXk88+xVQfAs0iix9VHDGcFBHNsc3QIDNevzDG88Q2jEvGW41PVtiv\n",
              "ftnbzxIIdvpNPqADaVwE8hA0dK9rVgWPo3VFpMAAAAI2AZ8rakN/AAADAYhTRLMQRd5b/DZgwAbU\n",
              "bV/Z1XtB8Kv/r+x7hVrHff5196ghDPbjPce1FXkleiKUxe5pAhJLLuLblcgpf+mrKcrInPTtQtOO\n",
              "pqCN99LLv7+6ahfRvsxgKWe5DD4HMYLRlzsAZ5X8Uat1fLW3Yj7z7FCfro2KuN9qUXshkqVXGfv6\n",
              "Ttvf8JjesFTIYS+pj0puDMv9uABJeCzDWEhZVp10CBe6c8IqeMPwqqKbofEuAPzbkdstMl0MkjKj\n",
              "RxCpSiZCFJoIBBio2ax+M5BmzfzUixOiElKZdPjy+vpSYbLeWHgAJKdasMuk9+qw1O7E+eAz3C4+\n",
              "RByBRD6GonLmSO7vge6/pCJErsxVobc7IA1CJf3Mz2yl5pr67flrat04lySRl1A+vb0/1OIoRuf6\n",
              "+zFoZc5xCiN4H04KDNOlU5BKe1uVJZwoHBf7wKMJghxPfNc5ibMebpWFNIEozS6gG32AaTY8gvJv\n",
              "dcy/3/wQiWulN2YNfY+6GyyHnuoO76k1n3Oc8NLzK6XZI8T9C+7a0ruTxDEZZRnj45y/Z5c1U8ow\n",
              "zH1CMZr+d3ABTqXjlxUNowpGfS9xTIWN9CmGYaXNT4NjD2ogV9Bh8VZKZi/uZrsd64V9q0cU6ymv\n",
              "jQSaJHSNSbZGlvKfi5/nwYbpgxZcgOfdzFisO9VGDCkUG7i8DiTeZpuglabbP5UqUFUPhT1zHwqS\n",
              "tVUX513SQSHWQb/dl/Z4nwvTOQctjAbCLGFKn1AAAAJvQZstSeEOiZTAgh/+qlUAAAMALf8XtNHb\n",
              "rGs1vpvCcY9n5QWHZXyABUevJSh2wyQAIkRxZXmLERXXSt5K7NfUnf9I/2ci1jr0q3ucK4w9jrH5\n",
              "6Hv0dW/zW9fOofGY+V2KAvUitB4q9aifeZei+Hon6knZYBbLSOovmlzafiYLC6VtR2/0cN7g52zA\n",
              "ozSEyxWXF78rAdCzjVdgdvNyzr91VUyidRxexFKiRWnsG8OW1GkDBCLj19btq/c/TJsM2ybxP2iy\n",
              "7QD+8aFiuiiOGGv1j3fMb1YAZrc4RLIgC1nfVVYZT8hF/RRlbxdpjKV+uI+njBMzXOSgb4HZXSzr\n",
              "ggoXtN460unPNjCj+l6y2TsC+czp1OlW2h6HgAgzb2pjo8AowXJaAsTRQUXo78nKGRXKPQEMWQay\n",
              "e4Aj8ONunSsfLbObB4khPyW/pG3kPFMhOUOOaIHKJ/IGiKb4dWAGRxgetGUzkX2Qx7HVI8lz0NVq\n",
              "QDPjCNeZwwL5WPtuVpx8dG//84cZdnZ7vmZ5gonEAKHnHcTCe9wTcQRN8w5BeNjhyAEuoSQUKqRH\n",
              "NHguiaYz7ch7Ft7cNOSgQGGXs2c/AAErjJyeoW9CiiXPK6LUh6GVb3i4LyznTqT3v8R6FeWs2NHE\n",
              "XHeYq170MocrtgS//duuv8XIT/Na8lBfQljmT+P6pmnZEdlSq/csTBkHMUrcCKgCgjqcEDz/u15t\n",
              "pnYNtlKFbVVkEhzeHBFVnqX7vsAFaBBNh0kmmFJAwuczR6yDMgtZ+gets/8a/ubDSOvXZrtisPjX\n",
              "IU+gfENaJ89mqAU8DgExo0t2oPJLTYXQJ6xAakEAAAUDQZtPSeEPJlMFFTwR//61KoACzfYqgLj1\n",
              "Fu6AJ/i/gOur7tIGcL3Td3NbwciM/wrWqAy9gzLTHWB2uQire6xA92Smj8c5NQghbjoRoRvU9ugZ\n",
              "iU2+Px6/H8UdV/0NPwneleFePWwub/uRRiLC0ojCKrHhWzLVHkqFB4HsW0cgenk5ft8eZXPSt73d\n",
              "TGEkPBuX1ySjDztJCngK7FbSyautkfSpkje0kmykJuocfisTT6Dzi7Rft9TtS2Xnhp/3n1k2LLdI\n",
              "XJ8AedCxA0UsGRg0DHcdT/9BicQJR+HHpnd1X1jK9t/33tH0iFVcdEobmxoJbyJuiuQ9O29vPlcG\n",
              "mJgW2ZnwTIyuXTt/85mZTgTxPkNQq5n2EikIKTZlOKorWSC0B6J5ezWTwhurzk/yBZ5Y0SopkpiJ\n",
              "8kG9yy3CGcRPRj9+vr45/PId2K3ls4CRlsFZXE7H6dYpVPArLG0FDz17Kl3Ff4eonBW7sHsXrMPT\n",
              "ioaP4DXQqcRxcfGdvt2QxdlA0WAxZRy28Kj8dtmXvhawo23tRaKstB0n6Jmcsr0vUFAPWS/b2zHu\n",
              "thvUI5GIiQR8gtnQEBNDWzEnpVRZvAxRTd7IpEIWp/UkU5JqlEKdodiX1hDWobqg+wynsNzRXWm6\n",
              "8R0Uv7O8fC0IaukNo4PpypgCYp+9Lrgbruo+QfzeNZzXy/8oUiKUmJ83b7agDg+CYZaN4shSbsBv\n",
              "d2autZT8yFEAWoMQStrIpNYH3gPtVWUUNxeA6wBQ6KkIyU8oSih+ZdL5kOl0sv+HJZzdf190eaKU\n",
              "vqWM38Cmw5mOofxXVkRWk25JnO9n0uPnmmReashfs9+yoK/VZPgRTHJwkdaGPRBllKjdBS3t6QNq\n",
              "BMHd2VkhDrPOAtn/oKWopqqD52ysRDVJx9WICa0uGgdS6Vj+ZbfylGRxEW9X7iiyNBmD8hOYL9xJ\n",
              "cvJjuc3mlHhazF2cwXnZnCsS9FOWei8uiQs5jHNChTd9j8JarJsT2V+i6guo9mTrFnfONFtmyFXc\n",
              "R7CRYYqJb2gdIYXVBFgYVlwJMmJbAItnerCVqifEN7eyPbg/X9oDyy+L7aR49pddigfAcszss57a\n",
              "/loC9/zGupNLrlSd7sol2DOPwXgmsa+VWDnZY4hqBZw0+0JHNlqBrdoacSvrvXSHY87t6vGd9jau\n",
              "KmxOfgwHYv36d5CjBEp3ZJfeeiT58bAsdwTJ0tnHAVerFyswWJ8nluGGCSgVqBcAE+CKiJI39mP3\n",
              "BW+zLUpovsfstC+hS+bauBMojoOR5+ikwnq6PLEZYE/ZAZPdOyf5+2JBbbu5JLg8APZK0Z1m8zfB\n",
              "HS5upKWp83iOvNjibdcy81jX57TvAIlHFeAn00Z6mkI2LzXPMCOrFKMhmS84DPuhdmVUBD2er5oG\n",
              "IJdQz5Kcnw1IrLmglaottrLYjSJ9z6VihxpW8xeqaKVuenPtTTlz5nHrxKDrqLCiAHrWmgfyQ2vj\n",
              "aexsgFA5VOhRlxILdecrz8ut6KugjXseVOWse0bi7UZ+bDLNVpwjzdG8fdemiUzGVG7hwXb0Mo3b\n",
              "xPtKsiMoK+XjxcHoGpfP1K7vhF8DNke+1p+V3pyq46sHzmDVXKgyNS65ea2HFqHFVzGuX97R8lND\n",
              "yHH7ZtPf5ctZv81/m1+0b6mAlF7wQrnL3bBEimQbWsbYlHgphLn/0jjxqxEUjGQkrIo2uLfoT8Z2\n",
              "OE7MivkAAAFjAZ9uakN/AAADAA8vcBnZg5c9O11OSAD5KdBxgIdrPqEV0Gp864mBIamd/fI3ZkR2\n",
              "Zu2uc2qPckKbvGi9t0KdAPLcTUdKK+/kTDYPU5tZ4k6YNQsvQtwUoD30fYPP6/yVJLIsLy2NzxDO\n",
              "tua26VwEyN/O2xgQ5l3CV7aiWGTjef05DsfpdKhSsFC07Za2RAfEm2jwgbbiQL2PqRRuinpGUcMY\n",
              "oTgcY7/TWVSVK43jt4aRCzuUSV4SOzCZ6t8zwR59NS4sm+YA0c39ca/lrZ//yM9z+DfrpjpqgCiQ\n",
              "+7ExBFqVMN63vn+fY/MKsoKbr77TwbE88625HwqbEF2ZJUFbxkI+KzfXyO6XKKnFFV09CWgqxxLa\n",
              "HinTx/+Mv/rzAIV1xPsI90rnQFPaVcgGLQSRbbiGnfn3fuKqpUNDTQWWH4an5dn/YGJ9o+yhSvPo\n",
              "2iP0/pS/2YbKl9E/HY5ohXLNxHqpgQAAARdBm3NJ4Q8mUwIIf/6qVQAAAwAAwEtDcgAHSuAS7Wnh\n",
              "EtK20gFtOxSYMplKkuZ8navAfQUf0OijjH2LX2AELUDS28HlI3kUEzLsYbXMv0G38aUiQ/mgZcjy\n",
              "UEC7lRacocY4fysXi/DZwUywP0H8e7Q2iqU1AWKZLs+rx/bseWrttu7AIkmfQEEJl5+9UblYALlL\n",
              "fF9gNqOGxOpT1XQCzv9Z9nCrpLoBdOXIEhB2My8Ub37o4aSA3bdXnzKy56QOIkcMgpwxAjamGVK/\n",
              "BOfetWIlYQixPv8M9UtF7YRx8tBIBLYpLG9+8NELo2V+P4y+Zn7yElhrr+Jsb+/pnNx+snOIszKS\n",
              "y0bbVEn2p6OhV0tePMUOGyKiu6AAAACFQZ+RRRE8O/8AAAMBDYAK0voS8miVI+AI+QWBmEau/oYm\n",
              "xJv+96u08futTCuXPCVd9w8VljFDHswPzJmGAn2UpmaCbt7rrjJ5d4JbQAKv3+v+aVPSGF9ACktH\n",
              "7c0ATSTtSy6NnWi8uxA9bj5DJ+Ue2Clv+EzxzXwtL789pmDdgdJfo93UIAAAAHMBn7B0Q38AAAMB\n",
              "h+r6cqOYWJX/YAW0F5TNvwDwN0SbfwdBRAVixmlPlE7fDIZw7HIR0a8f3Dwb9R2P0pKw8g+faIvj\n",
              "l+c6sXP39c7WjO5IVEpdu/3E2ILrsmhwo9aAu8Z2aPSemaKY4CZWfCVGFAjlPhnxAAAAagGfsmpD\n",
              "fwAAAwGILr9OdXeuHm5PMW19JdN/0aAC7Z8D316sJKUJrHPG2itWegiA+Dpinw9BWMfkIrCbwEKY\n",
              "34R4F89E8AdGCWap5ctICB4zIXdgY3lSo94fsX0f+OhM+V095MNpWinUmzAAAAQwQZu1SahBaJlM\n",
              "FPBD//6qVQAW3lwtx69QsJvU4ZIbtcgCt/MX2Xpaa720Uoe2n9OL3GF9pdplhSn9SbWyr2QKOrM5\n",
              "4IsNygpPgOJ3zMOAPCvOTO2sbLEzJesCkB31K4ZtCh3A9XrWjs+rA3QnbQdOy4Q5wI8BjtTVqwIC\n",
              "e4qBe2WwM6i3m21Km2EghV2vvQcP7uqASMgOZHUFOlq8dtlV8OE7pvMgTLcGKWLcEXILM1cSoCTL\n",
              "pHh8xcBVUGsIVMJYviLZerF+64TNvyP/nN7Xtr+7Wv4uT5v05YYxeOnpblG+IDuY/OFETDvOlAzK\n",
              "CntW0Fw1nUgX6uUDuUfCFquKYR1yyoT1RYC4hoknBJiz2yDxBNJyNinfMAKaGBcMy/t2ieBTDGyL\n",
              "JsJFHbTWLH37NNG5mECK5jLjnRU1tB0fq/jxXSnJjFJFFAODehtmSdWqrFvPDx4ekgUfqEPnlM/9\n",
              "/DjkRYdlMTLpAyyzR527abI8wcBTUf5wZr3uz15k75vODt08wqsAI4J1o0WoILnlN4WIB5qkGrxz\n",
              "SCBCW9uotVFcEPIFCZ3MNgeDgCWrbZnkVFT52CCQJ/99UDiusabCToof+31vc0xumYN4Q6pcIpJH\n",
              "ldYXzNU6kjgdYZVO1qPcPagCNX6jgO6KrFZk/1t4glPr0L0cs8VRUb0LJ1iI2kvMIESydQxsyV3Q\n",
              "bGWb0FZ7Gy05Vy5knaiQl8N96snljvqe30CnOUXvUC8xXjOPuiqSErVXQtG2mwSl9oT6yS0Di8wG\n",
              "ZVNgdOBj0yv71c0Nkc6u11sX+Z5W8C49jsqbPfP5tCGCzJYY3wiXMGrcxdXPpb2U43V5gokRL24j\n",
              "mWD9jda7d4i1q1bbbgTQ7fZpk5Wme9q4kODne68YEEKGFHmlJ2X1cdfc8A6W+cy3g2qz9r8LRLqu\n",
              "kcALiSvay9MTBcOM/5L9aTdK6M/JLcfZ/EQZq/8sy3Wz3I80lZ4t+qR+WyUh7D90oDsIu/48w/mN\n",
              "UJxOhwv8WfmMNbBGCkxEa4zLxBHuto36SGbZEIYApyNQ2pCTwkOnMFkV+Rh0JNnZB5WnJLcVCCcc\n",
              "JriKhmtSyEVAr+bJj5Ng04EWMHKNm50p/bSPWyBJ0ML0yPO2eJXhcLshXn8Z1NmnRoonkyu/e7sb\n",
              "Cv1T+iFAIOTzRF0xJM4x0MEYO4dxt5QwxnSLfEA9WadBj0MuO9eKpJ6eHfvkPCf4fR+pofeIoPNC\n",
              "/yeCVqoBtVGtV+v9JujUIJFHNgWK0LRJW9j64k3blzOTVFA9Bul6fo68byv0KVFCz4RViPK38Dsu\n",
              "Kwx8iPdcnGX4I+lZVBSBul7MHzRP3GR1tbaqeDj+3avl+VkHWzyzneK8UTt78gPNAuXMdWdZ4VD+\n",
              "8yNUj4t6HcfZyH14rv+dRPHyAgYUjBSP8wlks5dCobMfgCFi0AAAARsBn9RqQ38Af1eyW7nLhbaC\n",
              "uW8yG6D60dPAKdCpYfxxsAE5DAiJdfQAupvTsaYBq0Yz1PxIqzg3dDKOpVYfVjtnbBz4wHZQCcwv\n",
              "FlxPcmKFqhI54fNlUy+mmx2x9FjDo/6F/ywhUddTKxsaqRiXttUifoOIugPhoWG7PDqov1EUNSqB\n",
              "hFSNBykzz7kzPpjxGrxnhr06qOlDK5Xsdek6OfFHw+ytEWl7si6MJpF+5ZA3IIb5QN7sP9MLFsvg\n",
              "OVeMrCEwVyfHk2r2/wPeJOehjUFgV00eLJzAUmXincxkXjSpmMBQ4f+gPSgc4lkWxzjCCmWavQ0l\n",
              "Me/1uciIz46Pm5nYESYipYbeuPc2jVi/mI9xcQPrznNLKoazf029AAAFekGb1knhClJlMCCH//6q\n",
              "VQAVLx8AAVz8NNikJW58R/hRCzAA8/F/NqGclccvzycV5SSHypa0mglnvC+ix1zcrG4scxEX1R9W\n",
              "gKf9R0BEpxKlTlIlvv0OPaGSvXdaDS7/nW2oH6W3vZ4wC/e1t9knqkM4RXOPQw6b/0v4EcxSgNCV\n",
              "ZdJhALVq3PUG2FpYLpOqF6/HWa2swv1p9ZlNeZ7RwHvnQyEjEoAA0xEVdvNaX36jX5gpEAdsrd9T\n",
              "nKfFXp8FZ5fufB7si10KFX2TFBx1dSEmx13NXcXnhVwRfzGkKVntHId3Os2CZGJNzu1yHAmeol+B\n",
              "ilsh71ec58ssFkvOYfYRG6+EK5bGkZcORNNZ0WDlqNx39onWvHnDcH6F7gXstVZ7fRuJXNEIPvL0\n",
              "biCd6XTrtZGEiXnYwc+weg6zR87fPYo4O/jdXBPBGniYbWRiWnT8VE9Jr+Ecu+60WZZYPUq8u4yp\n",
              "mA6wqML6PwtaPPBxpQlOJB16aA4I2aXTQ7FMRavevP683BgCp1IjOvn/ohF22mdnqoheHAmN60gv\n",
              "opI/zPuxN3m79Pcp23juEe1IYf+JJBpumMoz1rmk4IHmRzLWO/ARuNzBIUbTVGGcdFLhvOl9CEHP\n",
              "gOWVmdeDuzkLkujiUUK18AP24xA1Tir87WKB6KlCaxRIoEi4GAOjHMKg5dhVStyCJMB/Sdl5CbF+\n",
              "f4/F9wb4U2PJ+GsQQJFWR5xjYKTL9fMb7V/uJWXqKww5uaPf2/gU76I1oWyL/hYYvTUOfURIuJ0h\n",
              "x67ew7ugPABVIK1DyAIzImABs12ebQ87YHAkMweBBbOk6xEa4hOARPePjmHDI5YYfp5tuXoNlbVO\n",
              "vra5qg+1lVbSNsx1h4HE5jAJ6aoyi3mZlFpV9kWlynQhLn34bFbUqBCsZj5WzzncASBUD7wQA4nB\n",
              "iSRF/nPDdXJ/hmR1IZu2owVN4WF5WP9IcFrJUuO+5f38PoNxPnbV1QcZyEbnZUsXeRfc1cFmN+td\n",
              "zRiSLN3eiVcRcmu8eZ7V1Kk0Tli1abTYNEkv4/gOE2LjDKxh6uhPKDEBvpSxOVhwvWOZ6S49iOO6\n",
              "VskJIyBMdSCjdzE97Cd1sAyxKJJNEQKj9fQewXJvkhVXtucynOBjzoRLnao3k+4s6KLIc3ez4Mbo\n",
              "8dDhJcBrVH0bhSB4sdwjYK9KNq0Ilj0ebBhgj/Y6JeMu73pQQjcKWcrJQUxPgNiaKZRvIaFti09T\n",
              "f9/o3AsvRh2wJg5fId0BDuyLsAhJ+bmn8I3ieVDKh4M5kH9iOyl1VWwVMeovMoVKzCE/58CHz+Xf\n",
              "wn9IqQo+Q0Us09zBqmKx1JMczbZMIGYMWD63AuPICHS0aw2XBn2oa65CoYAa+M/cZwLCJ9CHLWj2\n",
              "Ds3BoE/zBDKyP/dbHmoX1EXCKXPzoISQDR4mGxThAYIcNmvDIq+pvLIsQrUrzt2W0Eyms3QsEwIk\n",
              "T3A2UoMj4i5pGRo60LlGUk4LrCEC2/3Pt8D2xeF+su8zy9wMhbR4ff5/qVVVG9sJzxdijqNnR0uX\n",
              "HCl7h79V8pYHQlPK9Wzh7VU9SrzMoDcFFMTegMxh6GGHtrPj0zY3wmleTueis7JpPavx4jELV8j1\n",
              "WwgjuFC5k5OTtK4xa/aB7VhRSkfnuzTbdv2ORGZt9rLFvaPU0QtY6GpuVT2F/t08F8/tY1++7d2O\n",
              "d5WDmGUAPdBdHep7dUe6+Ky6M1vDG1DVqQUG47cogqmACwRr0UgGmsApVaruSQjP8yjGAPDqGh5m\n",
              "Na+N/0a+fkpDpFjvsexyWciEQCNXbA0+et5zW9piqeeSpJO9x+lbC5em193os7LnZQuzeWeDnU5f\n",
              "eCFeyABtEZE5KznqDAcsaLoqvuoAAAFFQZv4SeEOiZTBTRMEP/6qVQAAAwAAwXvaKIPOg4KpHEJe\n",
              "VBA7jEa4vZFV/I96b81uwZNKhfY2BGCI6OJXgh22UwwjPxv9VRhFdQEqkWqK8cVFOAGyqFW2DiGG\n",
              "UlmK+W/RDqixU+ufZ1sfSJn2TDEbMZ8/Sa7+o3XeTdLdMmR8CX/G9l5WF+CmV3KoU4Y2eMaNBIfS\n",
              "TaEmIjH4q4G0GgJabpsrmqNSyZkJbGi3uG80ROTkP+v8V6l31ews4EmDKOnN/dMl/bQkfLRoluIg\n",
              "JAvKZAlDZ6ivHcYCDZK5xC1VCnKB8E8VOvOtBAIWF9ke8F3BNiUE9CkVx9mDj1BbweG9UW2JgUFL\n",
              "KDQV2qgUFfPTjyUmFabYEijw+s7xWJqnvge6elNHMTZJgUcjWoq1f85W6wRXTMX3OIQ5BHuezmy/\n",
              "EahEgh+UBQAAAjABnhdqQ38AAAMAAgsZysQNk4G0TKpL3UrwVEAA3pxaRqMMth1eATnk+a/GBiS4\n",
              "mSjLrHY+/Qs3an5uizGWn1bwfAprqaTwNG8fwCBLWFYtdeDwRjnFqAdjh+NO5ZIVCCNvAdfVge3s\n",
              "XwLxlvqQLAq1AqYXgfwZBXTYXafSc09RKSZhf8WlZrQ13vxc3vUf3PXDXZOnLMMx/Ux9TU9BfCXt\n",
              "3gO/tYpna333Qsgalv46KD8w/uIINPTgUM0250uKHgg5oaGM3S8bV9ZhmsLaClOBEtvlvfcdHMQv\n",
              "X6vIkUv97NiFQyBt7vDCVdBWtjyPXLrjDsxPVWdJaugfr4xmxX1ycwN07BhN2wEZfhJrTF9KLYQn\n",
              "4gL58R0KwhUyFrWu/E7XewErBXISzXG/qdFMSf4ziKMnz33cWYVyLLbHCrj1kmvMTyoV4+6o6T3o\n",
              "w4UxYxvt7/9KKGGgk4zC/2dES89WRDAxo/my43ipJmhApyWKzMVIQhA6wJ7zZrQesCklQg5q3nLT\n",
              "DklMNBHMerXvf4nrVXY8BqtRxAIUyDlO49JuYy6yJ2ijpe2QsfZw/7+kWW6QKKLZ5rdy4cL6bTdZ\n",
              "NV7izIAD6P57ZnWjJcnKTDPtCppGfTsqY9DHX5+GSQBJlI1v8YOHm+OjHsWVL/sAd9vbNaxu9yRA\n",
              "a0/SZsXImLz/xHdy7AIwX/ukBzmLsDGp7Ufecq2u0hhzBbijCPiH/nebeIFDgUDWhNLptHcRffbc\n",
              "sQAAAahBmhlJ4Q8mUwII//61KoAAAAMAIz1/3kxkz0HPq1ACCXewulI2Hfl4PznYM/yZREhibyxD\n",
              "bb6k+1m9Dv6ODpzCzMyy12qQeWjxTOykajI6Ayga3lj9zMCUp9IWWj/ndjEstRM8VePcn4lWfMgB\n",
              "XjraebBHc/vHJjxqpQR8tj3oBUyk9hv6yqbt3eAmCYrp1bi+ZEV26gzLSCH34HPnXfXwG2s2E3q9\n",
              "GPzQxw6I9sLBwfHe4AelXvgFV6GkbHI6zykNHU859M7pIVOzve4enbumMzmcoodg3UHZ3q1spxiZ\n",
              "ZB0g/7QEy4Lv6gYuAO2Eb458cQ4QPBgk8WsZZkBboGDV4mou/8O7SMOn9u7UA/pIcL4A1f9aG1uc\n",
              "FXl9fXIFjdbrTjhfciXbh9BOZSBpQSwkQFumycFpi1QeTNXYfZXQA/WuCbtrCwMOsIDpmhS73eM8\n",
              "WI3DsSBrDJ4m/vxFH73fJ9RD67sBElFn57/lFhJlBPiJqYdwL/lwgxXiuYruY8dNerE3DWOLWIY2\n",
              "Adl8rtBdcj+NeVCm4XJ+Q5j8s8m/7v95tktbwiVxAAABMUGaPUnhDyZTAgh//qpVAAADAABEGJYt\n",
              "flDoLaGLElKAATDRNglii6c6CLQ7O5WaLW/9B+PHzy79hI123wBjXOPHvNlk2Ym88E5Qh+Xw59v+\n",
              "tPJXp2Pzd+BMgmm8+HZIhUArSlYddc4Vqz26TajNcufHCaYA4aubeWFegCItOAvU73ZftBdVtlcy\n",
              "PF2L/IosTLMaED3s+Y0aSAZELQTDiojyzE9j/YsfTa7Hhc7nsRPoO6ZbNhJhN21HsQT/p+9GJwit\n",
              "rWezjqO0Y1gNUE7b4ctOmKCmCreLWEOV2X/2wfSIJ6h87hU5ZD5/SiWwcJRA8YywV4Yw4lL/xRpE\n",
              "k5cVdzi1AzpUNDNQw5IbD9+BeCsJnGTPbBB/9T6pxvv8o8FdSbFBD/ViDdxn0oO/Ghn+tPcJAAAA\n",
              "vUGeW0URPDv/AAADAQ2ACs/xO0Ttv1kJagA1MiYARydb8CqAk8aggD1vo9U2JfuA1ZnlK4cK/xyi\n",
              "ktAgYvecRcmbJ3szI0J3UmtIHa2IJdEXPtipggAkEE+3gOXn38BIxAC/DmypyM3LRAS8T/Ej7X5C\n",
              "tTFrvz9S+t+LmujJnEe/CcivIPvejldSIbvAu5lHUAva8F4CvSNSfwMZqFBnhChOtDtHnWN0IeqB\n",
              "8Rzx4906dWby2OC9a6tlfPIg0AAAAHwBnnp0Q38AAAMBh+r6SraBEFLiSQZbSAC+qcV+V5T3oeej\n",
              "OPFn2F14dK1kZ1fGnK56jGHha58hLLa8SklTPqGsxQ9q4lfqy2qdS7KGv5dOkVqnogICSbtBSwaE\n",
              "IV49rW/ka3a5G3cuu1Nc6ngds2GHFYpaF1WKNb1NvZgnAAAAbQGefGpDfwAAAwGILr8yfetB0ZAJ\n",
              "dc7yDxXZABzBSv6OQNrEZBMjbHJeXfd+5/F+70IGVZ+1dedpPu0lTIJDK+34sE6MkpJB7dKPWXE8\n",
              "4l6oTK5I/Q7g1UrNrDzhKG4eRoxONaepAKHUTF/xwmEAAAVgQZp/SahBaJlMFPBD//6qVQAW/nns\n",
              "bLgjN1N+jegseOWAK1NKSLJG1lCdBcC0dRWlpKCr3fp74ejvkupU7ebGBL1QdhxkhchUSYT9tZ2x\n",
              "IkXIklDOaTYSEDnTkx+Rg9n5Cl3yGc4RqaUfZXQ+GJjyjPsomJn7MzIPcj8e7B8Q9mbj9xx1l6gI\n",
              "y6lcDl+vLjSwhNuB1MjtaBQTsznhf3XlIPGseLk8xbjLvKx9m0yKkQMjXnfoPo3Byhw1//YttDd4\n",
              "FazB29C4qY1ufwZ7mVskpKv/LSs98h21qJyukUQTd9cmnuNaLZqsZ4xKRTjta91LlQKP4pUFDC/O\n",
              "YmGzxTdYIaQcMhUtUajdRM8Jw/B9COi5xL5twa1imN9pLoXwJZ4MwKOlPQSX+2hN4tISQetmK+2A\n",
              "JnkOqgOudTNdbtrGhWTU4MOP7VBsT7cXYgJjI6GlMakJXSKjUtEDZjhYAeZTPP/SaBNVKfQ+H/E6\n",
              "bkYH42vi8PSTGZ9+SX+t7YTHQUWnk6+lDP6LPc/cPFgbXzZ3DNoh4HeA8SrrqJ6Aph+zymCmV8+d\n",
              "c0XdjHeok36sojkZAsGm0mHxSL1lhYCMZr9WKVKMysSVkcWuwQ1gnlRF/cM803diL5+4ResIcaMU\n",
              "zRuKNR22OESaLiLVbm/SQskfzGoHBBDBHxOyq2h9hXxD6zMrMfpA6w07sHdcrOWFOCdiXYWH6rre\n",
              "x1TpY+n1NlBlGnP5FBcBi/+IrOal+EIWQKgtLwu5X0fwyNtHiKrU/KihfthIZwoNiXnTG2nd3kI4\n",
              "8+vbUNeawQgtZ0HHOxzhdEcaOJaDeGQ0gOg3ybRFxbUGaUzrSLjHIk42U6s4R8zRt0SCmDls/okV\n",
              "tfuONZFEv5Tvo8TO3df9b+B/+7bGSYufl8Uraa3+rl3ONrIlGvleTkDcPAuSAP7ZdHtsdp16oRze\n",
              "qcXuUgnAnoRA27o2CSfWzhOiw2SBTD4O8mjflyhqVa+pFoH3go4xWtqePvfkONa1CohcYbgbTkbc\n",
              "pyzLaE1VEOyrNNEOOm/+p3q0wQzMRmy36Ulseb84JwiPIOpPgRs0Sw6sD7Ozxl49EHy072XlfNWD\n",
              "1GS+OrEm1+HHi7btRZhrKkF2sXWfo/YFSlpA1Kdo1UsclWWJ7M47XQRc/LRymuLnEtmXCGwkvO3f\n",
              "uMeBOkXuJFA+3gvgCoJ4ITQ2Q9J3CkWDK/UJpUfExRmEkxINlyTToUvmzwi/acYOZ6U41LfH0Ev8\n",
              "OCplwN2NhV0Gcm4P1JNBwj94rMamGcfymF7Z8fBtgafqYFQw/bD6LciJiKNZUoF9unI0zdEvc/YJ\n",
              "uUEYisHBbt60tty0DMKrE8ez8EYFJaxd+fjXDVK667Z94Aw/Bd2AJVRw1cpAFImsn2l/IQM4hzD6\n",
              "DaejX6jeRxB+hcgc051AK56vfkMbfD8AfWWM9NL7KYNfbyyBl+/48W3Gx7sWwa9hhmSOXWxTxqGG\n",
              "PlTj+n3YGrNuCikbxClanZcPbFix0pZp5rpA7U7RVGKezaaXcfUlRLWsFG2Cb3DcsYpFKZdbjpvL\n",
              "sHZB/a0ZSVylBODnmGVsZQ4CgqtnNml69GuJPSzJixGeh3DGYuKhTxuojoE2IKll179S6oQvKgX1\n",
              "+B2KJxc2mCrar1AX84hT/bWDJaExmmQusmLF5uCMR8gqc/ZyJdrKk9mcZs8gxURVmfQAuXfyBVNK\n",
              "5rSu9JKYFRbdl9MTUCZ9yhSO9uAIXZXSAkRQWkKOvtrc+P7BTjGPVU9/U/tU9BhOHJ5HkZyOl9gl\n",
              "k4s7+rW3oMw2X++k79YNxQVfejpMPxSYGdw14l1SBD/HC5pDuvqFEXdNwvoAAAJWAZ6eakN/AHwK\n",
              "Ipu5y4W2grlvMpkI8NetHTwCc94BMfmkEPunDOAC+hJU6qC+DRyDhkJ08nZT0t5N/h32aj9Iu090\n",
              "eQ82x5TbLCDZ0P9oz5yQLCHvY40moplrnHfK6GABb/CnrZ/0YkyQlpgPYDeKQhiPwmIJLusIvwcj\n",
              "5BrV1zktF/So2kbRuZ4V5hteaDMWz2eWiIA1gliUcChpUuitxoAtTiK0DB2vNk5PeEkHKgOpU1gd\n",
              "gj1T/ZWT/aV9Ko/rCaeM3wuaW2DAucXgVloTEvDRW+n70JGCa2Eb/JzoTlRPiSpEhEhWVnlLV546\n",
              "cRlz5rqwv3vgyrFz6suRqVsObkVBW0Wmm8QW06wfZfStuNrDernMyUssxkBrFh94IuH029NfPjLY\n",
              "z/wS49kD5dc1ZvJTyEmwYgFkOuOt4n6b4WJ+x7tN2W2i9gSnKLSc2aCfA+MmdLxeTTFAv3GUzkeH\n",
              "ocHepjfD8UUPuLCddakVu9+JLJscALmuO7ykfdzdL7cwO74qS4I3SQ5lozcjb/iPCPYTBZvaHESY\n",
              "8PgmbGU2cG9ECKpvMThqwm6fqg2OoNI5YsTOWNS4QE0r338dJB5XICKVBnRuWU+fcGf0dxY8FhwY\n",
              "8MlFrS/VECq7R2GkyZ34cIImneHkP9NZABbGXW6jsuIppU60YyA+2lMKfN3Kzc6J/hjh2Oz4gE/p\n",
              "HNLJV9BnhIRCWk2pmKkHfCGXFh8GYXGwsR0gXAle2R10AfznTki6Q9NAZKOTs4AxlW9lEUSReLyH\n",
              "qZkgG6Fo0RIE+00p479lPCjHwAAAAzZBmoBJ4QpSZTAgj//+tSqACMOxiYAFb4FAkzQABu+Q+wRW\n",
              "WpPuMCk9py4QE5ZBN9c4uwXPy9xPx56EaV/MnbQwp+oLoHingF3Vsfa6vhH5gUnGqpNRVL8ZPUfv\n",
              "2Jo4Bt6WHP7VheRaSaj3s704nqIbEoidCUKbkhrPBwhhXq4rJXL0txeHu1qu9wLsaepjUPjqNHMk\n",
              "/ms4vTntT8bpSViSQbySBDfG+P/mYbVpe7burld6h/el1AK7iBHIcv1hJotZKt1MWcDhjDSitW7F\n",
              "3qcOqJDMPu5IxD6kXkPQKHLB/9vYpW1MM+1t17QTxrbky0JuZUIAePIysHt3Xn22KlWEk0Ud4Rme\n",
              "b7xaYEzvcEmQvmM4ruGlIBp7bT1j3W6p6WWVmZQ7Ai0hv40TxahFeqVQGilfqlElT2cFzNeFdpO4\n",
              "/lGU1TKGGgKvJIl8igVbgkJm3gqC5smrCvAPtofCTa5/bNLQwmI0LWv8YkpuWe2gpQlh21miNQpj\n",
              "kv+EGmgP+IiUAnp3urjQ6kzTt1RQNoFoye6SRXaPUdsBSADaDughQatOq9qieKrqMJ3FsOyy5fGw\n",
              "X9/T+K6m7sdo2k6Ca++2wI45GCnZXaYS2evXVWiyevlWChzfl5qa18LFnVF7yEJ16D6lJjeYcqjO\n",
              "mvNvOPg1kJSFOQA7PbPtORJc+bU7Lx8pXwXZWZIeaSwk3PJh6sZwRQ/m6HiriaogY2FXTFkBgaS1\n",
              "0DJWGKpvsGKDgOU/AOpjIViFZIxM3x3iESUkH4uu9DhiL9ZT9s5LQ8whQiwDpQyVEdU3+XrZ3B4q\n",
              "roa0VLV+mjWPwZWK1HcoBK0yo0a1P04ZxDME9lsHEKsYpsp3STzMBXQVQsS6Ggi75K/Y+j/inQ7i\n",
              "Os7ht/qv09WiB4n719K4lQq766sywO3MaJwZQC91OExvj8uW3Zk15hZ1M7Dum0FyIfh0AivzEhsq\n",
              "xhzjv/XbgjZT1kWPMbyEm9mnm8gH4im1tGfTkgMUpig2yLY7EleACSSlIrVaDf6E4ORABy3c1b9m\n",
              "XG6kMRyloLh+koKHzpKxeUKELa7u5+TFsyPtVGUd0o6h7LQHEUUS3bXufn28Q0EAAAL2QZqjSeEO\n",
              "iZTAgj/+tSqAAAADACI/ZubBoL/YWSkgAD+EiptN6ONBxjT1KmjWm6EZbjlFtjd7tnrhXhLvxN3i\n",
              "tojA82RTATool1q82Lb3uEj0jSsD0VzNZeqBRZ40sEYC+p5r98R6xGc37YHM518kIcWEjGHsLeCA\n",
              "q9pv7lCBZbT0ZI6fY3oNIKTSxwf24uDRcnGkIuC0TPOQ/y3C5vGhhny/HNVU8ivxIos0ziLn302g\n",
              "mNXHAwniwD37MgS/QqGGsWMNn2JVac3Max0JqoC6fJJ5zoYvnXifvnE0Vy/4ij8IcdqesC1ievec\n",
              "VtLnHA8F3N3GXHK9hZazdiaIZiaYEwwK4yIuRDyPgrq9B4X2lYp54owN+ZZ4saQeBfwrpMB1+y0Z\n",
              "A8FKjAacw1xOSsOGkq0x1DHIwn/Fhub2z9X2g4QoEXWB8TrQzCF3YKdkcHN3K1OZ4Ik/kqCqPn2K\n",
              "14GbJa1IuJQDqHXhdDtSZHqtp7eTILdeGksi/XTh+BeAwFIXvhaBwqozovLafuLTplNiG+6PjndT\n",
              "YjIGO6XHTRRseFzbcrADrKvEZzrOgq8YBEpmSCvDLwt+VqoVLPe7OKFTzQJK9RDa8ldRe7JyuZ0k\n",
              "Yau7q3M2LZplmlADtv/HaAs88h+Ett2v989JykaldXjgg9RPwRnZvS+o8bkGvT4G7oWK3CczhG9+\n",
              "yKf39Z9PQy7pd3ajuAHJgWJQxuLb65ElBXKvpro6cvKCehDb4MeHi+JrkgKzYhpFpx/CKiOtVBOm\n",
              "geDJu76LhNN0460O3/eftZKG8LxRsCa+WqTHsOZZctlHfxIA2Hu+Ky6FSdIhCwQoMGk0ob2iTDQN\n",
              "bGrde3l6cJIORvImbm6UgVny4VUdAGlVhgFGqVw7/beErt8VhRg6r7oKyKn/szcdc4tIeBk/qAbi\n",
              "Udn1BG2AxsiGdSDdV4YjS0ok4jRwqTyZ2cicQIhq68Ize/r1laxg45t39ihYv7l3esmVb0h37KOQ\n",
              "M9AwgW0Lil2hIaAAAAEdQZ7BRRE8N/8AfA+d8gKVJNS9rr9szhZ+enIvHUEABOp3GqHkLQCfHg6v\n",
              "XNEQZMtQQKoPLoOEP/EwN9xW6BKtdiDBtiXHMiduqIlEoA7WFzi7XIMiDWs9oyMKtHqzab4zCgU3\n",
              "heoJvnJE3XWfvHlaab+MFvtm/If9Qe2kI8sMR3DJJa06tuajEfzJkZBdjGrt7c0E/ypjeQ+/x7Nd\n",
              "QPRbLZTvZZBVo03TGj/VfExiavAf7ELL7dep8kCUm2NoqgIwemSrFZuh9UJuhsiVniaNPZaPJDi9\n",
              "17IxRRibG75bqCi3hHaf4rnDG28GsY7LmSnNmnQzjCohumJHW4EBIAtWub6hlSoId7Q1PYV5dycZ\n",
              "zpZqaqf2dqoOkVGsNf3RAAAAsAGe4mpDfwB8Ch6MDtkFY3zm39jSw4I7iJ8QBiAAnMZo9XJf+BUR\n",
              "ltzPjkJcpnBIxY9cvaQco3AibcklbakNy2ywbbUjxnYfp/h2yXZ0aVGxVy8I9zyDi99Muukvt7UN\n",
              "a4CuYBJd8D+f9KqB4ROsKf8q8+2/WkaBCf0hseLN3RETFtfebEvAJU9VIl+LON/hzX79Z/mEypNu\n",
              "tJQ8+UXPSWvcEsqjKljVSIKX5zZNS7KgAAABC0Ga50moQWiZTAgj//61KoAAAAMAIB72KC2bojbI\n",
              "M+EADQlQxBC9ujvY0utnHvUJ9AGBFjcWk5sDBq7X8J7As8NdlFw9vmQg9eCIS3pNGs0CwqX2PgAW\n",
              "HC8zqveHE9oH9HmBSz0PxzqZrgE2TGBxS19mqiDcSqz+8r1xitCl7BFX57Du/8KWkkPYDeJaHfV8\n",
              "Xptwr3JV1tGS7q0dDCnDnhFliRaNKtJi8nBAregyPzryB5dQebs5AkKOrUaxaAMe9Oj7cv3Q3dmA\n",
              "aHpzv7D8iRQl65aHkVgZChbrE8Re+JXjZFzUfNV/XvXuXolmNGf3tMs2TVZQauaCfY3gGoZBZYJw\n",
              "6uPojowmiaebQQAAALpBnwVFESw7/wBZXC/nAisqrjfLC9uze3G7enYAbgG4Pl/UfAt6e/1ARmmF\n",
              "ZQzwKfZ48Fz8EJTdzFQNjcfVz5S2IycqZe4LSZ1Zq6bZhgIHa6uEgV/XpFngj3WVpxycMRJgrWsx\n",
              "BQTDKUnwQtY9sU8ev2CIAWHhJ4EUVblWnvkqG01Q9imv5cMey/3ENb+kkXQedWvzHB//Ur0WVbiF\n",
              "0QUYuBDsfLdgBsBdlR5bxAEFicGg741ROKZKMeEAAAB4AZ8kdEN/AHv07owO1RKXtQPnE4u/QAJy\n",
              "qpFz3jXHmnBgO4AMxvWDvET8OU4n+nVErc9DsQQTxgkhYBkZMZ16aYch6NOLYxX4hFkdydqKyYbp\n",
              "UfQ8abPVfqKSfJn/6r9l1QjCyMRNc9p7CTc0jV+gQdUi7Wv3+X1JAAAAhwGfJmpDfwB8Ch6MDtkF\n",
              "Y3zm3+RX3uAAJ1/R5vr4/hjqBVg+xDkd66rf3PYl0XGCphq0RpOZ6VkBys4yvH5N49fyW80qU7KL\n",
              "UHhZ/Y2Abg2UogZrEecjKWp5ugD5VsdKp7SNkkb3wJ3GtVAQMJqf45iCvHNWkbov2oNEebBohz8e\n",
              "ij1CO9uxYQAAB5tBmypJqEFsmUwII//+tSqAC3Ds23ixoKK115v0ZYh0AIyvTJn3S1KHtP6dW4L9\n",
              "8lBkKIT0lH8IDLgyRhkR9K0wsTR0gTs89sA+rf+x1fwYZ4TY/uJhKaC5IYha3UVnwcLFj4QLCuYK\n",
              "H1e2u/pktNMIvgzWqkrciRFgXITt7k4sF77hU6YKGCsgxPyZYAbvU/510rluoXEGxrJJ8rtUeiT4\n",
              "PSmgX+puKf2caYfP1RHIwAxiUIt7QR5fMKp7yH07EJdhVI/6aNzwdXX6mG3wm3wJDNXPG7N0WuwJ\n",
              "FS1l5sXt/o37Ptx8zTfHDiOTbcfn/9rYe+uSGmX0zzlttfW7tzmOAQFXV4Zayxu/VlFcoYiT05tz\n",
              "20/Um5EN472QvY63Coqd6mCHoqWIZpfgcqDYm2Gzkjfp36Pg+Z5rX6YSOXtdssr/XAfiOxpszR7a\n",
              "MXvW1sfHY0vH4IEc95DXhMObab82QheGmnyWWnC2zuYSLGGr51cIfHHkohUQQYUavUDwEaT+COXP\n",
              "/g4GOIWxaljV7Nii13RlWQuivwkKftZ6uMZcSckN/lo8ly7TH+o/MwBHodo0Jotr15hgy+Jfo/a6\n",
              "1ZHMisAXy1HBIEePA5bwwGbBgFxtM2BqTyAh2Q4XeSAeVFo+eszXyBiPF6TTRma+kOUXu7txtg1W\n",
              "e4nwC2z8TFmtarotZ94lsENPuV4xwSdyyC2nOPPF50XeS/d/7E0/vMTlrqRK7elUPYgiVXYeIq5I\n",
              "WxG7der31oeqi682D2aB67jPC7CABsR3xiZwJ+eGBuRMOkaN+5cgwJ9SvOBl3jugidQDEfnKG9zg\n",
              "5UrnrTJczkWoFdUGbv0gtymwliQ1jr5wmAPgGPpEgOCEpGQQOdgp+iLEY9KF+4viAd4y5L+eDlZZ\n",
              "Gh4mZk/LnbgugXxXctR5lu02A+foph1ZJF6xr01IkiujQl3t3QywID5WEbERSb+JpKajReDXEbpA\n",
              "FpjaRU3/GSHLiVaRvrVwhvi1KrDIAUBxBv4uAG5z90SdVipBp56PWet20d1+OuzDG5e1fdEm8Tq2\n",
              "t6YcniiSnna6H75kYR09WdduNt7LUAINxpZisgfJkLFgZveiq/QRAS/nJpui39cyNSlUA0Se/JVz\n",
              "vGGZeql5QqQYNUD833W0EipNqZSRipQXRWYkZ5/bEZ7Caf16nTjw2eCYwxSKjoSH1IlA8TTUl1hM\n",
              "w/orQKdZmtRTPODlKExArMN6hlnw15Nli/r9V8hrnLJbHO+KoS9c5Hb78DjgJk3obeI3Q3r7gUxk\n",
              "pdt402SzNpqLNV25xfARmWmnU+oNjCsdoUUHoYa2y8t0kSpvz4cb27Q56aVEeQ99ui1YWTUs2pDP\n",
              "3DOpOCOWLl0hMbITj3QPOA7pTtKRqZ+HFu1WkW0HPttWOWt2hs4zvi774/M/Y1ib/12S/VURx/zb\n",
              "6mnOIs4FUoE6P9gcwnY/ubRn7wYV7GFIRmYN+G6drMliwgNehzPSeoh8gAws/ml5Bf32TJtA9a1h\n",
              "gQLCJ39hXeM7OSEvi34CkitJGQWXK6bJWEb8Vm0FhUissjJQqnEh7v+8alagQEH+CeoCBbUp7REp\n",
              "UiHbqKa5uJj5IvoqT5E9sKFr7W+Col3lNpgfJZJWNr80OiVmmfsvHtZ9ZmMsAbZNVIn5J1HKK4e3\n",
              "xQOHCk5Cst/Lzp94JeMAjTA1+WrqNbQLp5KDwYuwU4ZDjsdInCR1bxqzhXXRmOmlWWZheSXUFfSf\n",
              "QE6DcpzyoK6RE/YvKmeILWlYu+tTOBpNEqZWfBYV7mTjSg1i0bhBXQyIyLPffG+H1M5o2AQ4p37P\n",
              "IDIS3DN9945yfQuklbPwmGtrFIEnBrn1LJq+HCWkxUsu09AZ7pTJUd9g4CR5m6pzeVaESJdS44w5\n",
              "piElSkejRmvX0gVOGcHUcvlcRoq4oh7pgvi7rLS525Qsfrh10v0QSeTQbGTw77hMMGqF9OXZSM5e\n",
              "QKD7wkPGUZ/+UvcHviRN0iwEocmAX8Aqy6hv/gs+88C1LlcinsMiYlqxwH/t0n/aRwkkDzRVBfXs\n",
              "RXPZP5+O6CoHEtw2hLesuB2CZ2xIihVTO6sD8B05NuQP0qAR4n/EnkJA3dOTe7PpL6oGe3TLh4Fl\n",
              "vKODEgy67koLQ7lepziD6bPJ+rli7vmE4zp1xe5mYgTmMPIsroi7uYMNauntEcjaOWYC8c2EIPMs\n",
              "BvMPgXZ/RpAjekXFJ3IGx1EyU4uiv64J/oy6aBFTDQey30PvK8mVdMwUWntM5uYy7FgLRx+J19AQ\n",
              "hQHa9zDbeEVIWmKkBsOXaOt6nRR6FF8oXj6cAR/q3AM7laHQkN5oB2iIgDqHKOBXi6/lzNYRoH52\n",
              "TwcklZ/wpl4ZPdVx239I8PyfkJgC4TXFb/kws/34sePCVeq9od2dHuGrpfJwQ1GfNli8VrhIHrq0\n",
              "3FX6fh8hPScnMfjYjZ7devNhrInP8HqSIfS0tXmSSDuLcW2iO29O6ggtL8JHBxbQyzfmCOky7DJP\n",
              "AfXaUoTF685wRW1XoyyprfjoPcB7TIFAKsxShlXm+b/6R7oXKXHZ+Lnd00FE4g3iIcfAI6IACnYh\n",
              "v7hdQJj+RV5NDaz4hYcY62zTxBAAAAH3QZ9IRRUsN/8Af0ZKbKirADjOgOQGcvWG1UOUClgC8EYt\n",
              "rLd8Pg95ryvoACAh7gDH74MA2ln1YlzLOoInE7jgCGX9W0rtCFCikwgO2ygD6/AfhzvS4x8k6Gah\n",
              "RuPe4fJ+tLi7R+Z4zwN/cUdu39MqWcrbb/Rzuo/ShXTceQDcJ/QJthx+Yes4ODsV2dvoHX3vL5bL\n",
              "0452rJn37ivNArUpDxDEDM9o8ALBteLjRmWpoUGzsdIc/13KGJg3yJCHLqgyPRajihmpIyxt+eN3\n",
              "LNzkYszOLOsbZ8HtqCpkE4BqMcNS/BDhs0kVJfQiR0H9T7fuP3T1Jh3XQx1/Wx8ZoLBvCVW6Ew+r\n",
              "EVEt91sn6jDFxEDTaaVlnvj7OSESnsGZolBsb0nq6RIn5ruFUPD0+mBP0Mh2Q9UR3OLqABVTJuxB\n",
              "EGtHX1nfDKmWxpO/C5AfLtayaWu10FOPh4+f+HQQGdKhniXQyfWe/lOJTJOmSzaa8Z6K8p5KTzNi\n",
              "vXzytHBrNzAIbPsAW21yOOt9qdxtuIlUSLTUvnXbKcG4+PGMwpCEwQV8DZqhg+3esOUD+5VaLJXl\n",
              "WXIPfOZQKjk0D4SAOHHU8xtRQFbnQjq85B7KYfscI3Ms1r+loow2h7GrYeS+zUlJ1qoTZ/1G7jrR\n",
              "pkU+hIwEhqv1EMXYXYAAAAJXAZ9pakN/AIdXrowOKQVjfObdwesTEDQoIICVCEFwh9QOcuOwAlmy\n",
              "EYSpMhiHODgW/PH9Q+J71eYHnAdpBB10UB8TcA5OwAIwEKSOH9E37pM7NUA7B91nIT/L2J+/Pj3n\n",
              "b+SCB2Fy96rqJS/bhQIML7VPr5jmrqTmy17Rvu0TKH90udMX1R6q76Jp7HfQeGNbCCEj2cQMh7LO\n",
              "/AlzvJgPrD5riMDopnX8DLyhWPibMsFHUau9HxvTs0lw6VO7z8RtLOFAsG3tnyAl7L6a9EXqxDJJ\n",
              "fgqmk/ma8lWyFpMgGsdtOrvXv5dNcMew9Wqh5W1J27eZ2PtcGibI9g4gnQmZm+A28og77jNUj7ah\n",
              "X+D1uU0U9DI/55wrqwAKbO+3fp3OVZAS5kvdlykDkGyAgxovfE6jeGWhfXU+aynnAuwLr1pWFo1b\n",
              "b/mSpo1H3OKdWF+TiuvPcIVA554jyMB3cQrtVLtC5N9U/3WKiV36gciLq5+WK2i7rQQDOAbnRUeL\n",
              "uaX9SWszLol57q41c1b9yFfAaW4l3dwINkFarR8yRgN/186KQTqHyTVcCVx0Vn12MGKJMlprtjsS\n",
              "6g38SElpcbwSd+N8euetLHkfrFbMNqg34NKna4umxLH9gF9VZh1RbfxYP2ulsL3t96Dqb8fy3nVl\n",
              "PsYUgGmezMv5RTvZynRVghDoAYNON6vOH5XpMXGIvmN6NF5hoUxAy6S8O4zWoNIjjZ6KpJL+mc/h\n",
              "6MgEsirqTFj3/u2Dh1TA9MvppJKNmkA41uR+l0OjOCneYGDAbeouqi+V1wp6aNkAAAQPQZtuSahB\n",
              "bJlMCCP//rUqgAAAAwAd/kPjdWdoZdDACaH7d9iSyCqBRcR7cMcmn6Ev1YXIRH5+rqMMvPPwEzkk\n",
              "CTz7xaqVRABh4XNKHnziHgqUzvC7lCLTCb5NYcF6JOyVZkSxR+IWNZCVpFnB9r55yu+orXCG0jNd\n",
              "DRuK2kYLARUxLFyL9EYYurTSS6Ij3mLOmqq9Xhs0E1URdXfllxFNjZJG2ODY/QbSXTjUbK7U8TsQ\n",
              "u1otloVXO3xVBGomeSii4TotsLHWn/1e71xx5+fX5JvikQdO8799T3lv6LiOKnQwTCZIUhpXbQ06\n",
              "jLO/BCmcyszee6c9/A906TyK64EguGEsNp98GNl/ah1MphUqtYNvzgRVqzXVVYsR2KqzWFgVlWh4\n",
              "djQGihV6tndhvCnEr7tTVrxfPqe5Ya+T6u/xPBdc6n9aOfy+p0jJQpwhTzu8YUnirhD8WxsFyXhP\n",
              "gZ8iIlBtVM+lEhfOuk/j9Hv8XjshkPEWqfGgQqfCS7aKCJlC+eVubCYqHV1Rtm8dESHNLUl7Bqt4\n",
              "Hi1iy5Nq2Pb6v0ertznHfeU6SKOQ+Vggn1X9JaSd1q/VGErwMmbRHNgo2gq7m+uAA3pH09PoO7Vl\n",
              "IiXB9lov/86YbCZJNc2h/nY/Zh3Dop0HbP+Vo3cKg4Cv/1TgvA36/jaWT/pM0F31OBDrtUTSRUua\n",
              "Ui4tdQUq21rMs5TmDS6q4o0S402ZpoH7xe/Nb5FV9Y+/kGEKzmvnj8+RWtMd7aQdYYgCKbEkzKg2\n",
              "miw0DX4VtRGYAVs6C/R78t0MMrCyhneAXw34GvtkESCV7769Uc4amwEZSYUhXFyeKg04N9vxUJqc\n",
              "ij3Mg65KcFMyhulGiSTn75vGQlZPQv8wAY0OfutabLtAYSGQjh5Nu5mAjAyXIgUk679bj+NOXPcE\n",
              "2wKmz1BiMHW/jSn1MFI4E7J+TpE/0vKJNWtO0DAEvMQycveqPDbWNI6cUe6/Mgl82GOZC8k29SXm\n",
              "mw8aSZZDqxuHU1kIRo7q1x66lvBwuA7MGIP0z/hDCCgP8c7rfk6JlPwCoCWtSh5iZxtNbPqpwfGo\n",
              "oPckYpXv1+FhIgi8S7SfbKdoo1Q+2b/MA3Fnsjv+B/yF3Gn7CrW00bC1CcerHCovtgEg2Tn9pbZx\n",
              "09BIyORgzPm2WTeaZbvsFcJlRwLPsX71RivyJfRCA8unTZ96lDNuJSYAmMWWitwxdfHp5ssr/WKu\n",
              "OmwewxtwzfWCK3AL0EpByFyTAdQtDMI5QWG3oRwqGIRlFwF1W8aioEXxnnt7N8GRrr2tfyeAAOUS\n",
              "tUmhnzYkoDp+q9IqBOfsaK4MA1aEWcB0zeSolSEPhVR9IKYUW0e/6gXkNT4CPij5dnuQSM7nNxlc\n",
              "/JuyvZuUnAAAAeVBn4xFFSw7/wBgSP2lrngZvzvrA+IBtB7A2tWOACHy8Rp0NQGLA3h4qw3zFwxj\n",
              "zlQA/efp9MMuwl3bR7yCJbLb2b5dSGmrB4BiQUYirirrnAKQkXQRSjPOhT62bTwRM4YoosoaAGBy\n",
              "Z9XNnkVxgRX/ShIlaYI001yP18G1L6JtUo+TbKBGV2jboi23L5fwntittqOTlX8g4l35aLJH6xhE\n",
              "VZ0Kv2qgmZ3K2Exj/xrZh1tr1bnabhtiQECpJM/ONrugPxoytQIdIZL/2o5v6OK1WU723HKX/0/Q\n",
              "RCabvG0eoY3YsSEECyGFwnR2okQWWVBtmMoJWMpdxvrwxWXM6et5cszQDHN+VQnD6/SDakzK4+dQ\n",
              "RkED1Wxw2ZGxcl0NwZVcK9Q3A6DDTI1rMfqx8P2TySFxw2lTh4oHoLo8fu8mD4mRKMEy4Stc3N2/\n",
              "v/yAD+AWwMPJ+njVmRYbyq2lmVhfnwuO05l9n6PiYeLJMZMUOwVjx4FOLLZfqok+/ilYZOiZt3KJ\n",
              "vnFtdNrZMAVpWQ2vLi5iBF+jtLw32wOtjIZuDhXv37UJFTeJcs3EvdG+qXYwnHcsYq7N4vjt7kS7\n",
              "eWUjNL/svzIT5qiySWiONegHs4ZUuphyx5m7OQB492XVYP+2fkAo0AAAAr8Bn6t0Q38Ahz7HjA4l\n",
              "Epe1A9fSJHM32EADtJ+QXQ6TpUtjXkhhwPDU/2L86ek7ZP5gXoIjImygV7818/kIAjvygoX7aU8v\n",
              "LY+k7SE0iIEhq+vSC3XfNPQUJoSuCDlEF1E2G7RFToBapd9FEwm2JUm/V8KtlBlcJCnMw0AvQf7J\n",
              "8ThDe4VI++CcGaU5jiymedlRXC0+nGukt7VOrVo9FXcT1brGxWicTbOYDRYl4qvNOnJtxH6ROXhB\n",
              "zL69ZSp9K3Lt79cCBFYxICk7GXiVeXsE0O9W/5m6JAzQFxDlf0CE0SaGKilUtwry9Y2LNMyrMpfH\n",
              "xPWS+jBHPDqY0lKJ1uW/xSnW4qYRLqIAgD4yOsSxnWSNEfrp85TUali1ePidg3Km2MTnV0VclVd7\n",
              "cYqZfzDjePO77KvZCIa3Ds1tX/oU0QACuspwkXNWyVg5yMamPHL3dt2DZhGHSxexLBJhOwYHoVDs\n",
              "G4x/HlLvYdLcZ6p1z4y7h9bG4V0ueYBUZpqzX/YU+ws37FBe4rsXezVVjIUSSG87kl3Nj/TkfuyN\n",
              "fa8jLbEiCWZr4T2VhjzqhhfT36wsTu6f4sYa7QszPZ7d6LhTscPzFDdu6ps615PqyAjxz8maigMb\n",
              "+JZ7sS/NKS1QJQCNz+jFfHq+QdOPN4QLbrVRdCYRetGKbPaWbZZ09FnkJe9xPfB+Z0JUOJlraspE\n",
              "qD++cjM/fx+By1+/X1idbotSGO70DlveLfYp7WVolNEjjaRCgNKR7xyXtKCPH0x3CCV9ObRNVSE0\n",
              "QYCzd44ZfWqs86AoBLSGC5dRHj7Pc6yME5oQf4lypHdPJqh/+Suyq7deunoamgVykcUTHhrUSOYH\n",
              "pejGJgyA87mCpMDPC7TvKIc2IY2YV2hiaQtSZ+ieaOIZEorvJCmDaNsTCtFlk4NQM4a2DgHb5zb8\n",
              "q6HYEHnBAAAB6wGfrWpDfwCHV66MDikFY3zm1Y3W/9tABdBWUswebXKlI1B2dwdEbciQfV6JrYRC\n",
              "7y91su1rH++JP56b90nxZrorFjpbskOL7ASog3O0lutYkDYU1Ubzti9JvTB+rYY+s4c+44cQIaso\n",
              "jG7qs2dIisODkxMcpiMRjeRPLgBVvGFWUxHN00XiYaexsElGBUQsqlkIt0EXL/wb33zTkHscOZG9\n",
              "Tu/DMpFjZLwu+Rnn8aEyLRSOe7JExAavEhE/ndhZncg045lz8pqODhri9UwclteJqTjwD+BgTPuL\n",
              "F0j+DETPD9Dj/X8a14hFmiNHCrsFms/Cv9eyPBZZ+/WUJ40zRU51vsDIEaTr+56a+DqrESfVrhJe\n",
              "F9WmtPkyEDOQcKW/Mr6/s11vd7SXMRHkZ4dUKEATh2fK9WPWes3UXfXWNZmJ4gTwBb6XNozaV6YW\n",
              "66JQCIQZYT7A/vMbWHBLDeIEe0HAKCHAh7sKQBC/AWUXJcfW7EgESB8OPY6DBDHUTukCDRlYIWJD\n",
              "dvY0op40zmzoRevWPacOYvGUE4BtqtX6x07hDrfRHaQliVYFlLB/ZGu0wUMOuJwyDdGGSiJ8Tp4o\n",
              "sihkS1rMJ2qk6cUTO3xI9iEPdsUfkPDepfrKJlEZv5pMjlXgqTi1uB5WpZ9/AAACGkGbsUmoQWyZ\n",
              "TAgj//61KoAAAAMAHSc0Z7G2AD9I2CPg7+IIQuFEYFpBNX38kZB/AjzMmSl5zmpRwyz8MhObkQsU\n",
              "NrabkMCvrO9jpaeWmRuVNY0QhySL8kaKYFs8zTbwnaR4RJORhruI8hohvHHCBqm8h2dE2nGj4Su+\n",
              "ZH+FhMdXAdu8t7U4CXEVrdrAYZ/EJiag4dhP4xew9Aw9RN05XpzVkKoybC1B+oKnGAXz2Uq3Taup\n",
              "VeyHW4EVOpvGf4VfFU0+aEsc0cPti802+L8tDRG/P46w2vSfbeNpNQmU9ZT8PdesaODJIYddiaXw\n",
              "x2I+taAiylmYYmde27j2BRkdSA3TeIVeuPEw06+7bWKuwQdq3v369M4WRaeD2lldFCsuOqgwgL1G\n",
              "orStRSQPpjOfcXGPhxO/5v1CYlo1vtd4IKCJpi0njpDtygCk8FfIcySPieUjokdTabCQA0IMV8S8\n",
              "BMgoPnX5TvqtPrlgqBUJ20vVNJE+hGfJwwoc151ADIiZ1ibSK3cGpvjG+GHa2vZbZRxaWBJpaIl3\n",
              "/PMscFdFZQquuJEpcFQBbfa94jKcO00Cu4BTEfciApx4FwMbNsCtJaEaegNdroWjfr0ePQOEGJ+n\n",
              "9UjkIZ09x/1vClgyIU/5zfpGv/OOl4JEJujcBpelSopKonCUF4nXQR/gu+cN0k+yzIBdvX3yL6Iu\n",
              "ku9W/TD2CEjTu7rn53SCGAsAAAC5QZ/PRRUsN/8Ah2RerjFQPMqsDfOPlKNLfQiACC2hqsDTCSph\n",
              "T3DkQuTbcpFkZSJTpRTROaCE1LHGh+uxcNaA8JqIVKUtVeM4/kKC9a33PMgy3r2yg3M1NgwjJSO7\n",
              "8zRNE/DsKEweDcuaSLsSVGFnXUlNSif7vbLURPGDV8CQTm0YIHbxvhR4lmxx+jWhPp1+j3re5pUV\n",
              "LBCPCY3HqaEyQdp5ea3utVwJPCNn2nHOlroRJL+zwVn2AiAAAABkAZ/wakN/AIdXrowOKQVjfObV\n",
              "hkBAAh9sRUg+wPAxovLvcdfJpMjDlUnh7WdaU0sdiHGRc3HMK+unCGfEShOwv4Z7aPhfnXu89I5j\n",
              "CyXdJnQXClPmBjhQcIVqYCF+/xTJ8+Gu4AAABXRBm/NJqEFsmUwUTBH//rUqgAt/RvYk6TQB0RzU\n",
              "sm7I+Hp/EQA4wZf/5/wJ9ECyNLd0kT9ddMAx4nUfbY5scRXCivUnbbSW0QOJswWHUDlXdFywcNUR\n",
              "g9Vq6/u6IhcfViNTxf6E8L47MkLu13Z6kuJVBkEVPNnxCodkBn3SIb+S0yh4XZA8yfyVmDVfSXS7\n",
              "kjbGKltDGJhdgLpOOoOdhhF9V6bcXAB5d1XPEQwL5RHdtRN0B1YBV4ow4bdUWbZBHhs7gV8LKtLl\n",
              "iWd11hjomsVcI0Vc54MtxDizLU2FwqAT222xkfs9gqYmDnpIqteegX0ZdD4E+Rn1YulbdjrEzAFl\n",
              "M3St6J5oGf4V4IisA43Z5ymbi1N1IwgYuQ/LOgoT71GEhsoclX89gAGNYNcQQDHODpcBJ6rfYkrR\n",
              "Uu3OoB5+1R+nJ0JfHIb1Cc2il/wuDOB2BUgwGJ/Ntsq8+y7rI91u1Xt9DaZi2yTNUfUZA1waZwRI\n",
              "D6+aIaoQBxTpCcUMVr7TP1/4ZcLQwP7L2Bwg+IyGov5gqbD3IAglcoRC+Gobp21QFu/iTfVaFs18\n",
              "gsN3aMXtcm+oHhs/PdJ07yyfFMSzlkUlcWAeVFhS2wGOG3UHilMvw2ggTkEttsgZmo8yksUIMti9\n",
              "x07RrzS0Uy5WyI/v4vLAU7Z4kbuiLYFWC3y+b/H9mCLUF56KfMnV9V2u29l05fImflOEZPHOFwsu\n",
              "H102RUTTu0izSdi2hJaSV0Ld+c2CplTahpC8/gG3KVGzVw39lQZJiavQZsFf+latOa+5CP8zmTpP\n",
              "PHyT+0y5LVglrmYVznTqyFZD/eQAWEs26cY6zK6ctsnSn9tDSFZQrL9HW1RnV2Bu/y2UWFiEd3Cv\n",
              "YiDYm0FOYsAaqSMgqnUic9iO23Oee0WJ3sPEx1uCRAJtXOkuRsijDMAgBINcI/SAid0BLy8DikCy\n",
              "ItVBNaftVGqgUzKdL7jr+sPv/OcmryY6dUREiVeya4J4pd1TweTzk05ZcsS8ATTfun9qWHIz1uG3\n",
              "yK8tfeSZS/bKeoxER5hskx2oXchAi7FLZUE6r33v8O29EEPW3gu2Bp7kjJtvMB5bypx43tLZ3XC+\n",
              "jyYBira/IfKWCOmytj+29RnUF5J3UDLcNFA8ujqVpvAVRKkywKDHGB405LfRNfzo1TVGz7J+O9Yl\n",
              "N93x6I5wxi6VVwi/y8lBkJfHf/HH94+7cB9tLMmvqHyI5WrjbrOBjHqqY4zVDzkPDrwWQ214CYHP\n",
              "arJ9EEJ2nCdG65BAKzwslT9JPK4qpjC6ipu0wavsWcPdBttzD5R81NOU1dtevUKN2phJN1KGVXXI\n",
              "hdD95dFCOOKDVinTUestn+PYZxlQmIekVRADcCEEYZ/Yv6buiqMOsxkfHip+6aPemRpt/rEgDwKB\n",
              "0pyibCPkuX4AEK0gP5ZaLu8xAXqfaWiyOpwGcbb/Q6gOys1qQwo0RSb4LwLjUcr8nG6UTKa9dIR4\n",
              "in7w43xYrbHTxYOYX554vXMsffEJoJpGNAVvxSry+yyQdyADqapcAshGYhu0yh4V49hFm6I60sG7\n",
              "RAku//dtPApMNbQ/MN3142wzNkfpLF+sb61wjcO4BKhvQwzl0SbGmd8esRtE0qCzt6TXv5jD9Mwg\n",
              "lmtgORzcIKo7OKGI8dz9K6QrY+y9f4jI6riXUgMjwJVN+jBeZtsVDTfO5xm2OHCH/msMU7tsZMSj\n",
              "zgkYVjYTI2l55wC8GCc1X+lr9OW08QRoDNKlvDztrFXge2eSc/HZ7CY3deiFdSDegkW4wDDS8SlO\n",
              "suag2En1pLHELGc7Ry4qVOYeWXKcHsN/h/b/T6dxMCIYo5HdE9zxKJC4toblBGv/nldmu1kROpzd\n",
              "AAABHQGeEmpDfwCHZF6uUiG0Wemf+vngNFJ2p+6AST5wJqSJnlifr8vABtMAnjsy4ocvB4OtZ+jS\n",
              "49uZqOLLHNcO3gVZEPM1N/ZgEg5OtJtNRYvB4p5wtuygXU4LL5IayE8w3/380G2D3VPIbrA+P+Np\n",
              "AaiJ2cwPlkGLtBcsZNtOBai7MOE0Rz1jGf0VIT42tlEIu7f/OpJRPhsjTVYuOjY0YCTqJbd1pXts\n",
              "1D1T2TOMO/r4eZX4uwV5P55/Y7B/KlM4gWa4eW6iMMxXM/Ngp5llSbYlX0tPw5xDFuNJ9fm4urFR\n",
              "nmooQFBIH/RfHvAJACxnC84MRIlEVQQjE7E3neh9VKSrlWEII+s4rUKCTClhIMtknkMH+7t/4h95\n",
              "D/r+OAAAAolBmhdJ4QpSZTAgj//+tSqAAAADAB3+Q+NiTucDp1W13AeADaff50WLhYnO/YT22DDL\n",
              "7NHX09F3GqAy8CSRRkltWnVv6la4KMra0ZpuNxChUP5gQTWaUfE28a72q6Dqn0chIfB5eZdgQX83\n",
              "0xj5sHlHWWKCT5cTewL1OuQ3n9L/ARuNGzNwDRezxbmJI8jjBo4KX1L+vnaeYCDC77XtUeKi7/29\n",
              "ocGpDEDxz1I/DDf5qmcl8wbd4FbmPluchNMmwYOPxDGxdc8qJ+LjpG5j7qwXfkBQ9nxoxdfqIlUO\n",
              "Mqn+8TaUsBewsDV/OyYc8Rsfj6zrlLdTGuko9qBAqQB5qrl4cGKP1LbwVKqa0vmkBrucToQmB0GV\n",
              "6Q8GiSBA1EBxM4DPaLaZuxxUv70vspvBbGO7jf+fSfYR9YlszU7967RvQFq5B4bJkucumuhHNj2v\n",
              "cXRJyzupPQtK4n294Y4TzxRT4jymxHHr4wdkNOIr+NVFjCR3tJg7ACP2jDz1btGbrCxOMHu1gdfk\n",
              "LaES0+MsFsWoZjpUkpLlGHm0kaoDyc/PRj5J9NAh8tE/HzNF6n7hCJ4oMhi4XVFT5wx2ADAnadzD\n",
              "pUu9a01HGRVVK+emW/LbKn36IC+dIjwBDXUN8lYNgsHvSHvuLz9h7ivwVJHhK8pqmEPrVSpWa0cL\n",
              "d6BSyVENlr+vakDY1JsxdEIj0c1U95l+vIge8d8qU+6bO5Py4MqKQEXzvCU86gyinF+jSgEvu/ue\n",
              "vSwpelMrcQpy0X+PkneldzoqDY1wPhLYoa+xDZy344+JCs+3j5n+EPubj2ayHgetuN87nhPKfaly\n",
              "CY/XkLzg+7kw3D0vRq/cxgP3CLUc6VvT66O/mQ5gAAAA50GeNUU0TDv/AGBFFjdAqB2vRmsEEyTB\n",
              "2pB/1EAG1RbpE2ImftJaeRwAFMb/OpDx6Fc34UCO8UWM71pMBGzAgfNDJdYVgQypLJh6dPdxuVnJ\n",
              "+/qiQD49Ay0Etfj1By9TxOKtQ1oNASMT4UtlrYadAywzDmwKhWofuk9Z4N1t3i252TEHWmhlX1Xi\n",
              "xg4jPUv/x1V60E06sN44XQrifojM3cGjyRNnd7pqnfJNQQ2ogNr0s0cxZ5UJwd/XkxNnlE5qhzwA\n",
              "dLrpKnly1El7jwH+bdZWiUv7sGb3uN6r5/OMktC1x7ayet/lpQAAAI4BnlR0Q38Ahz7HjA3NscsD\n",
              "QRXcrIq4aVub/Im3johtSACHaI4Icvhe6iLupVFy9kuqsOV6r9hopHzfNuFLiv2ODOCBbuuFqe5K\n",
              "BBTWGkqMOkAK8wwNaPc1mySCSPMIzALw65R0dBN0lCa7QFQi/b23fX2K7/uxIv2gdDyV45j0DEPS\n",
              "vEuKb24vP4xAt2+2AAAAggGeVmpDfwCHV66MDdFbBCtS6zWtMEaJjc8AGoMKqF1w9Ont5RWT9tTM\n",
              "rx0WnqZc5EpOUB2kwxc7AQVO9SpFLTZsq0o8acJT8khb3M09tdSmScDO0ljNm0p2Vvfc01/TrRxG\n",
              "YQL4qRIBHZexdxG2aIGK7OV6mYtJKxRArN0xwMtSj9EAAAFYQZpbSahBaJlMCCP//rUqgAAAAwAd\n",
              "JyaN9uADGqUfjjdqcGomaI9PeMYby52ouOdFYHJR8yed16qOo2sWb+sUPri391Ld/0O1rwMHR2qR\n",
              "+ylfwimq0wy0NoeSG+BNJhwFmFxEG8T2ZjGhtGnQoojGI+KgkzrNBZWef+qK3oXrh4C88dn0MzbF\n",
              "jTh6JYZKPG365OI6rCbxQbCFTqihNemjYK/xbUO+3xpYtl0zQIlFCfhtWJ5HrR5JM3A0cvBv6CMg\n",
              "9nJlIkCmRi6bylp6FgSzVy9mH2tMv+KZCNw5+7iq7eKhCvIeHRxGqntCBkhMnzTzl82At51QcpZi\n",
              "5N30Rlt1iieG8oNN4kZ5QiHUr0pblq8fLFZm8YLkBphUDidpLsGyUqdQPWkwhu7rGcruueoxQW6q\n",
              "udELH28O5DpKt4hhy7IkI7yYz7f/vgu6UooCqMVfYZkYJBSE0HEAAADSQZ55RREsO/8AYEj8N0Co\n",
              "Ha9GawQNQ8RYS5NUAH92oSYbIqSOXRmAmG3jUh0WrZbI5kXxoE4oxHL3XyDA+I0FVdHwpNnTO2rf\n",
              "4zDpofnsrTqLzNCyf74tKNXVOcdrBN3m1nw473uK09UQgfw2gaGxUnlpuvuLmYQ8V1DfkdvB1jO+\n",
              "3YaD32WStZxoyHFAwpFv9YkDa20vFbguJYzYpeM1LfXvvvOj8ubhBo9FklMiPlAUbNcWF0tEaJLt\n",
              "GiWSNMQBCpxjPFLdMr62Pk/wX/HZdsaAAAAAXgGemHRDfwCHPseMDc2xywNBE0W14EAD9EgXfmiy\n",
              "CphsBJiKPEAn0K9ZL641ZK7kKcrOozbJ8qdh+zjZLZuNdWWzR4zgGWDu6Ik0Zw+M3rJNfjdH3tPI\n",
              "VJBNZ92q/b0AAACFAZ6aakN/AIdXrowN0VsEK1LrgW0IBd0HAcTbnsAIIXl4pAsh7mwLKVUw8FFu\n",
              "2gmoaqfSlrHIuA0SamZAgm6y8NYC8qB2dUUYokLvQ6Bu7O8ZQPl/jsinsKES+GFvyed2wIYJPC5+\n",
              "GOy7SQoJrTo6ByV85xFQezh0qUnhFIyhW33rD6bqiwAABRlBmp9JqEFsmUwII//+tSqAC3bExhot\n",
              "Kys2uZd+7AQALYQkuLjeAjKitwyECdRUebkYps1uqHajLPA8bWa/imZE3pV2TvNCOXWRTu/bOyoY\n",
              "dj9swZlGRxNTyFo7Vj3iwpWuMR6hZQmK1RRAI2Qg4idBAhJBTuIzw1+q6iH10+mweE3lCHV4krtq\n",
              "LNmp/n9jdtPkPVy+66HE4iBxGwx2Zk+WfXWZPaZ+vJPFH/KOpZeckCk9RAo1tNJ4VJwck5oT8Q5m\n",
              "Qv8GT58/zVR35v4uqQxnspSf07tV8FWUM6gZg5OPxd4kHQvyv/8Aqi7A16L98Af4yW7affa0vRHW\n",
              "oflJ+uoEL9GsQBZ1SL4Skxp2HLW7FDI7/xRB5CNoB1wQffjPWQG1LkGrQA+dIx2OyNDc+mfOCXf9\n",
              "nkrRffkjTygShKHMNdpgM/nnJG1izVWYHVoY6N66ODHxXi9Yz9I4jSDWJgaG/HewmCxVnLzU520g\n",
              "HtqLj/ElMm+QZCMqRMPYRy26AEb7ua/rn68mWAXlUxhtLs+DFyzoXJrQcBi7bSgz8/UoN3QMh3b+\n",
              "AJHXg27mUn4nAuJ+Qi3UWt/nu2jPkUewSPDI75b2nKo+EHY37TP0CmGS9W73HRBPPs2WGiAEBiCC\n",
              "JgzhewF1MciL5PsnYzrrGZVybcTs0sP5+2Lehtdv6HPv0raJo3u5Yc+rEBMorogWnadnG4IDk8Mz\n",
              "BSUS8rUi8luLfmarXIipaUbZMPJ04wAmLvBLEuwI1qQZSqaWPpV6x9Q8iTdbL0d+GuRRPC8ubj3T\n",
              "ebHlUcEZzCDZ3IMaGZFz6gVkiy2sXPI7TCgip5p7UrhOhuWEBmYOwEmRiq4j5RHcU3m+tbFgUIRS\n",
              "f6wV/lYWPNRLJAGxoSaTu5nPDKEzCWrAS3d280pefPAB3bANBzZRVWZjJp7a64edYBmRWY9Cu0gc\n",
              "Zu17z8rKPep1ryl6t8+7i4rAFL4s/tuDVBvpzD14IkWiaTW3Dv/tV7Za54KmIUrH8D870iutv6sD\n",
              "g+Bv5lSrkBAp5lQ2S4SE7lBa4Bc9lGK2g2q2eXMI3dLihuamf9PdEQwee6TyWfAHYmwOR+p5YQrl\n",
              "tuCyopSJGPjNXbi72cwl2ELZfUhH+qOdFraIef9QgKoBKjl7c3ROEpVtX2L2b2WNy9cUgotysNRA\n",
              "wpMt9XHgUfEb0LXS6IAGeUuvdMIyBo6MvHKYaloCzWzaTJrikMbMOzjOKVEVdFN6oq0CHHMTmYyK\n",
              "u9UPIAaeixvblC60DVM1mL7KrI6xp08nzodp5WTN3jjX1NIpG/StqPSNe5q/dGk+4chkfamYDTNb\n",
              "vXb5smO0JWBaqZzfz4zG2HLlk1ZdDpEkABLFGkcym+1Dseg2yGLdo5B1sVIW3tMADEm8CtZ0jGZR\n",
              "9fR9EJ5HKiYIZw+p8HkejDUHXl4dHL6pGNYXlSic5jBjSsTubG4Qq2RvExsWUXQQ9rOeVJ8GC6vZ\n",
              "Okin/z/md278Uk4RkNZFPvqYqKZ0K05eWTw6iDWOB6PG6iJip2qUspttRxMJMZdXyLKAM272c/GF\n",
              "14BKNBd7fpONB8WjKUvCOR8cJ2Vo1UHfWNXHu0Ehs7OKJllSkCdSzobyNzDG53wptYdpARMvQgwD\n",
              "pV/3t5C9VSKiZVUGiN4qH5lYjZj4v4uTdAGR1wxOJFmiT99TpiL+DufuFvySC8TMrEIF4p6H/+kf\n",
              "Tk0zrUhZSFxDKujJuKaGHRCNWfZYnuSzAL0UDYcAAANMQZ69RRUsO/8AYEj9pb0xuOmSd7iUXgOI\n",
              "F2p+6ASEAXvfF+IBNRBT4Nw3n8ADrk42mi8euxFXGvx5QJd5X6AzT7/wQ82pvkNTztsZpemPiY64\n",
              "tClDZv4Wa7PcDOEiRVkJ10lpE/N0AH2Fx9EAiJwgL7Qxc84/8sT4CdH6CIrk2eMpMUqyZEbQpSmu\n",
              "zSvcn040iij7+xoJ0pegnPw2z8GJu3uAzHkg9vX57ffazkSuBQqHmv/6M4wYDXnLL/8DUWbBgdrf\n",
              "FuuOAPCOSBSG+OmsisDPpUjRD0IEgHhZHSkuAJ1QnrYjGrIAKfEwupeiJKLtN2t96zB0WKwbf6Ih\n",
              "7PVU1L1frmPAbj4ntiF347CaCFxtV/9ckAn4fQ31O4xiJuJeL2gWJ2eOeWJ+mMcnP5zVqiAhKF9Q\n",
              "qoLIARbYXtzNRm2g+QZOEigUXHIEPjaP5vEcwQZxZJPOYU1rCftMtazGmi6GYPC+sMRzee993UfZ\n",
              "metZGLgLx1hJk/o83ZX9tFaZv2gYMCBj6tTw5/SzHGcZyYguhMBuZbHf8A+3hJUnGwFBWSZ3Z5bt\n",
              "0WMB9q65GwYsHuAauTC8azv4C7R29g/ipOTX8JnN2zQdvtgn3ftDvxnW1oc/Doe+OUJJ15mu/Tth\n",
              "4G6HCLpSllhR4T3NxYymiEfTUYOu/becTXgFsoE0kFS78ppUqxQOvJT81BEPRjVF2j5422hz3+MN\n",
              "DlflYrQW2TfkafLsZHv8AqvzpW9ALxo7d/eR921dT4FiwsAeP0dzk3azrxpE6Ox2YelgwgeOzTYq\n",
              "B9vbbfbFxxbREU9iucs/VXsYdhuYmGc8lhqtceOIKNiz+Y+TA9+XJJ5f7zzTPdDcd29rvXOpMAA8\n",
              "2GE4WS5cP27Qqq5xHk2rTwe661aX9yaQJCwtADl33CgFuBqRulqWoVf5F7GB9gQ+o1tfa/tTP+l6\n",
              "Y9U8cCRXLXuO4LtZ7Pv0GqvdTexH/Z3AxP+afI9bdF+KJ/94fD+FAIFHa7V+f9SK7U7Amnteqf9S\n",
              "E9eluRyeArta9QNUjzND9vvIMAHl5HeOIHVl4+u+nbB/YJfan5i4uoZkqZuVgEHXxyEH9WaoPrjQ\n",
              "wEkoxJutw0qh2zVyrJWlGiledRVxwQAAAjoBntx0Q38Ahz7K5oaPg6O+Ln+5WBr5+1TI4BIQBCRZ\n",
              "rICSAEDhj49dV4YojHFKEvmfJWjMrgBJDD8vl3RhPtrOeNsQv1/+zzVA1y6A/wK1ZUKl983yGZIs\n",
              "UYtpMU4M1R9Kqo/fMkj+toCW7tK27rGiShRPwqScFhR9D6cF3XM61XqYSpNmjAklGNpslSWEHL+A\n",
              "QSbouVTnUAFuMGCFWYyIoLQo/erDQ1hEYPCFTuzbiqSQQaUzGojPmmH2tDgj4RJygmYvl8fQ0OZv\n",
              "OeU6jDF+QJMiObwnO6cUnXeqZ+m7olf/1tQ58A8nG1ti730IhgJ+wWtUA4KfRZZ+ZJ7U93YnUUbc\n",
              "XEaNF+Z3BsmAEWWV8JnBUnIsj6BA6mqBz6aKbrMa3CDe2NhWwRY9VeS7KWZz2PccSVQmoMiMgcWC\n",
              "3M0IcXUuIScv1e6I6g2J/wV2TPBHNyFDFaV7hmp4MfmhNL+QgTUhC08LPhwu/sUFr3dUwtKkwyNw\n",
              "HKkXelh6UYj0soYmx6xZr7np4jKjPpDsfRP7E3jwoWlP0SsioaZRX1MMnPtDEao7H5GLPnPBGGE1\n",
              "RVB1KcxB6Ytc5xCGC+4JHzLOmb7gH9TA5s68YAx8+wUE3ryHCd1RQm8zJcbXZrwwaroBDpdU2oWH\n",
              "0Knfh1rMb9RGR4SP7wVwql88FWSH/C6kxcLHGq7U1vUku5WfKYUF5IowfJ9+MFnzKxfKKZQqGsIj\n",
              "RuV44NgGRYol+Vzj5OFRwzoTOgbeMSzFHJ8AAAObAZ7eakN/AIdXrowAE1rWdo0DwL6/AEAbGRk3\n",
              "6X08zMfMTVTsjd7uhMN7VTl1GIJndo9cQMbs65ES488xWdZ7ry/TMAet78lNb8+I+mxjU3gB3kPZ\n",
              "9yraCTmd7o9l1+5Qvsy6YX9EgUXzomelUJuC+CqDRNUqcUDMZSMOSNRP9onjJMFYom9m8cJh5nKG\n",
              "RfoV0UY71hVXv9z02FrGYynYEqPaY2ZuVj2SekZVPqovrxb6XWQLZ59ZyhJNIJdE8HfII/sE8oBz\n",
              "ez+8h0/6Ik1wgiztpSFyYJSAmnjLbgqIx/bEha50wRp5RiaHWx4QGLPDHrT1j+U5bGa6hlZxlp7w\n",
              "8UF73n8BVNxzBfyQ7cV/ZFVjDk5UpcgrvunvJiRkiv7X5f52QK70fMgocRBwJcdI0oAlZm8nW/Aq\n",
              "UG0C3MB8T9pUuyVXaahoMA4k/iMOmAs6xctaHSt/fBMCy2Q8zD13ntTctgjd4kHxlUBIUh0Atzvx\n",
              "xEj/boDvX8JYSn17u4bUy2Mx1ciRh2KeQCFpREqRpiYBG/KCjHPo0f2AVe3NtAK6yQi+PECx3/+Z\n",
              "0f1rK+B+A0u2I5QsYAo0/HLJGlZaYRnzhb9qtGiF4rHxADYeSUTwhUP4mXZ4ibTeFaWogA7J5ILm\n",
              "ukIYegn4Jn7PI8wGCB+RpjfZaWtIrTYNUcvIasi/r9k6QNaYFetVUW1yDocVUzOOA256km2qScUZ\n",
              "GPfz6NDLlmYVJONRHP/pvK/cpi4KaDjh+SeyeXpAH2SwxBcj6wi6q8QK+AVctT1yz374wS15iaKX\n",
              "k68pyxrBTZHve17jiL/IQJJKaEHTs/bBgnQUdqIptLF671GlXEJcjKtf9KHiuQY9xB3euQgw5+2W\n",
              "5s/Oa9TlU935yzl60JaIjcHYtSB8VgK8AjwLsVt6nfJO/m2W0mrsyfR/84FpnS/RFtzK+w9uBB9k\n",
              "D09ZTZNzoRlI3iS+W6CoGO81ZXlMF1wDkkKdbakXohfxZ+hmFdYNL6z6Vi2lTXmgrxvNyNq1bsCW\n",
              "M8hIPzuNmXWZ3ilWZf7QJxV5CCKYSZzNdHccv2wwmN2ZijjNPJI17EqM8JiodbCvZekFMhZnO8L5\n",
              "UICm4vvkTtn9T8vYmV8KRSge30XHKFuzqX/yi9lyFMey37bLW17j/juCix07h99X9yFtihhklkXJ\n",
              "osAIE0Q07C0L9N9wFBldw6JKRMLxaHBGZz6LG/1OUDQiDqyxcq0On+gAAASqQZrBSahBbJlMFEwR\n",
              "//61KoAEIPPtDwAAGx+PiyvK+X+IO7JwA430rKHMuP+o5Qr9enGQKJ3/noBa4Ws9Q+nTeTUeY2RG\n",
              "/2p9KTDbaeoeWzRoJ4+5X9wyjf91sf3UyOfmseQw7Ppo57I6JYuYqZTIA7VS5ZM68MM/UNI3Jkr/\n",
              "AHF9/y+R6L1Im5mhxeH7ZNnqcIawsHF4Y37WXYC2HbIFZdGKLlCkpPJMvN97vlMOj7dYKtTXynE4\n",
              "2a5q2o8mXuEN060W1yxbjKmBk1fcIroW0KaReeGEAsS2AOf7DbUj5Ol8l+ZiQrYpEM0SqbIRVmOR\n",
              "80TFXxmoxTSrEb36ru7KcTkr3o+G0B95HrgH3xaS/Z97CeTNCOi3Fh6ew4ieS8RbzED9LfxVAGb2\n",
              "hKvac7iqb18r/qug0ghSQKffth8IVMpLF95eflhY/XygqGMAbpgvxIutGJnQx/pcLlfHAr78Qb/0\n",
              "3hCiCwZiw/5mkWX/W0EMZG5/n9mU4fySSsgQRt6GMfDeRRFmO9/ZWojSlm32vsg5eSuBs7vrQCGt\n",
              "TCK3V5FP/QNBxh80gmLe7UUN2vQC12MJJCA0ykvMiOhWlo1xDD+DeqXy+9y3HkGFuvb4SEEdhHiy\n",
              "L+hQPaX2g8U2Mis47PY7I7lBTpsMifMLTX8WTplp2olu6oyM4omIpvzN8Kt1Mo+8mctXH8yXsBkr\n",
              "Wzeu2RYEdIYtMWIXR0kUQd4G+LkC3MDqNJzmzlElizNI6xjsZPIM/7gEc6XbyjgS61Gfb6Ljfm1t\n",
              "isOSSZMl9968yRP1jBZ2H7tyEUnoPEVsKS9h4qhcb+Dbw+fAeRFp2vF3magujWf49O3i/pd4lr3v\n",
              "/tybMbAAz7MB32jiVKcOiAejGCc1nn1XCgDzfXGdA6LoOP/FkV8c8aYE86spt3M67OF/5r0XHCfP\n",
              "3O2At3rap4K/uE8Ap/R5SXUV+xpaAisbaTR2Bz23IjwbntBo6JzWvrwhY2zsnnsbfRKwYvCurpEd\n",
              "n67/6S0Iy3isrAqL/2Si2jHkbQd1FZMXsDC/XM9PebR80xCc6un3AAI8a7/wLtUgXrRE5oqsHGgb\n",
              "CkoBFwLw2Nx4Q2VTfJpg1ZkV53YFEoKPPidUICiQOUfqiCElDVcItQ/8W5iMLBBaIKwEyZAaOnLM\n",
              "Ukvp+ONGvSSAm5TqkHqj9adf8KzfB//5gPty7PekQQ/ehbEC9ClkFdU8bFuRSuutz1W9tmGUXciI\n",
              "ZCF/HNDhGzNvAtC75y5Y75qsRf7obnC7HjuC+CsDia/YHU5+RiPaVdCdNH05Qdm73oGaqQ23JJKF\n",
              "ygOqwo24hZ+/9lV0Uc4TbmbD6rWHio2abqGYhRJiPHijBBXEJZZzYBY92Vywt7sZQSDa5Yg/Gw76\n",
              "TK4nD/6QKwy40Ge2e5YA7qvXQ9YK/pKn47ANZrl13RuvrSQCCMpoS75M0r8I5Wjv3equyPWwej6f\n",
              "q5HtCj7AiIkbTk4XqQw1eOoZB8RWOUnr/tPIiMbEy9muxnZD0QSV+CMnjLmG4/GE4fvnSPiFvmgd\n",
              "YuQ1emVmltKHYE+nnp128alSfbycl9HGB+kfHURaOMadZhtDzYyxXnPNAAACIgGe4GpDfwCHZF6u\n",
              "MVAAVCfac7RNV8+Y6iZpe0CY5Ajkltw4AIcQ96b90gzSDfDumRTzFq9Jh4sPdsQv1w1XAO30MFF8\n",
              "vFQEGOuFDc2+bREGfzDvkXVtURP4HLxC4oB8d2bzs+JbF/HElMtLDtq3H3PNYjZ9d8jrjzWcpzug\n",
              "VoGIaruSUmNNCeesXls3GmCYKRNR6S95y31GGyenGxhzB/7w22jq1DhLb35W7zbSSse9R70Go0NI\n",
              "gqYDRFlBFkHr+B7tJIltjVR9qxpFY0pikEyKtNPPx03p75NQs05INIKP5laTPl+VonJJdKEuIiLk\n",
              "Tcl8zkP2j3vQHJPHHHnBtncjeYH1ZtI8VdkV6RP5pBN2ZgMcM8PO3xNVTBLs9EFE28thOPjw3kcQ\n",
              "9XACdYH9Z4gbKGyrh+QNjKKT2o03xfyUXyK8CSww13WdULEycU8IKWjcJSZEbrrxnFLIHgGKQCAC\n",
              "qbSNPqydv/pr7yy6eHiTt6NTyWwvQfPEKaOkm/mA7jsg866Mm1keG2XH7ABRo22if5QseqgvCdqV\n",
              "7f/rYtXJlLxwpaQRUDWHiEUu7KStd04SCZhvEkgJ2OEs/WipOAcQTgXzdbfGT89LQz48kdwLAV1V\n",
              "lTcMtVLb2xKsMJqPag7/I46ysgqrGCJ5XvgsD6fX6UF2WIgsYU29Pr0tZBfmnOOF7efF8EjTMKnE\n",
              "rdUarAoFtFal9CrkBmc4SCEWRKu5+QAAAaZBmuVJ4QpSZTAgj//+tSqAAAADAAEZ+zdQUaTG8t5b\n",
              "3zeMeACdvc9Tpwmzkb9TtkRj0iIIwU86Zx7s9YKcl9gv4csA+c8UpYw5tZ896tV8f4BoAAl6A226\n",
              "yFyQi+XRRG88PgkPhk926+W8HpvnBRWJZnTeRFFXnZPwSj6Xo5dT9wH9vVWVyXfQuFzEBGZZL6ro\n",
              "ROhmiBUOFFUYgpZ4pdMyVLtVLmbi7hPi2rtkHKd7rpQh35uEGcSvvXkWj+Q9XTPWyd+mIRxtfnXq\n",
              "iVRvb+9HaU8mRQeRryqCw5tk87qCFU8f8fcB6GmHlg0j5WFT9Jzqzrj/1bfqwhgKTi0Qfbllfypb\n",
              "Z2DA5q8btjRVO7zOeJSP+CA0mXdD5nICLVHsncd2MRbatbA6skGsu9EAi/y8vtVtbiopvBNVc+sD\n",
              "k/tt0Rpk+pPpPnEfnwzcmeEwdF+dOrF3aqSgnIO3dcFla8T31hpDDcH8T93HdzVXCi/QYjJiO78u\n",
              "ly0cpoNuSvk425F5PNEF8kpQE4NMjWFcdgwHJOD3nk8UOHwEzaZ7cG1wAI/gr9M0uQAAAJ1BnwNF\n",
              "NEw7/wBgRRdTDngAIqyzzoFh8P7K3xx9kOAEniKRlG5nfb8xb9F78WbNlcl2vS49YYnWYMqWcUwd\n",
              "Xe8rT9JvWcMONKOFCGpF7+dttgISrHL3Ob82TFMvYx36ZwAjBC94KyW/uzo3Sn7Jse85W9ylhVWi\n",
              "61hfQrhy1H4HLHk9j5XIZC0AciklVeRn/fZkjWFMWwo/awTEr3BAAAAAsgGfInRDfwCHPseMABNW\n",
              "Vg1qe6bkBV28xWI+AD5HCk7Y/JGuVadiQ1znPTsbxwwar3J3NDvO3HT10UjTnJYr1+6hXebj4tBP\n",
              "4pZEg1NV5dimteIAK3tCSRNLSuGYw3aAouTBCL36LH+a5HVhFQosXAiWnK/BMqNhMOgPBHBiz+7K\n",
              "1x/5Vu93bjREvab1vyxoXlBMzr5nP9rdGVgT7ipFrPdeRKuaId13pf7+uoBUrwm/FMEAAAA8AZ8k\n",
              "akN/AIdXrowAE1rVymMTKRJEk7tDP6cNYvwlHX4Duk8A9HG2XldCMq3NFIIACCZZik9/sQxx7G45\n",
              "AAAFAkGbKEmoQWiZTAgj//61KoALf0b2JOsfAgjh23oNfjFnmjREALYSVlfv5/TP5mxP8/W1uSUE\n",
              "x/f3KAZjR0HUcPczD7bf2UrDqHSfIOHAjtR+uN3saI5keR5TnEwS8+5Re/jrMnZKZucQoPeQTSta\n",
              "22ywt3Z5CyqYOoFzMkNBDnV3F3dTSp/i2pRgIUlwxfzK1NISFlchx7jXMbkMZEdVBKqmp84xUJPY\n",
              "56SE1AiBljWlDUOESHiMkRACRHp18NFtO4QM0EY3NjQZ5NfyiUXm7ZAa5OqOB9BPZSbdhN8wJiuv\n",
              "+1VOy9tDfc5eZyW5cHyu5quyd5+3HBDvgdmDcxEE1gVmDKVAhT36egmkXuka0JiArlILwkEvBdvp\n",
              "REFeSmnAp/Q/3aL9+mLVpE/Bx/VjkfqRrVp3bAB8KliFsMvHSE1i0SwVrm1LPmuA6XfbBRyty5LD\n",
              "Q05OSxyIJD0BkXt3H4/3kwASfUiTzluhraR9rFPViDGRauJHQmVvO3u5GJfz+a/13R9QJtbX2AO7\n",
              "DgM8Ie6VWdrdhAfIcvPTEHkVrfh189uxx+nAQV/TQWq86YUEXRZ4H/MOGZSsUaI/vJ6zhls9Z6VO\n",
              "sHA2D5NtwFAbVcyVLI36ydqUpoMLqoc4Yt/tkjquUD0q2IwPmXzbPJrI6g/mCSzv6FumrxRe8K7R\n",
              "w8C7cff4D/8tdJbpawrUHDkrOhf7bKCMaNuQYxHsZZQO9BKLG0N6oZfaNaeSI9I8UQaLhUFcesFW\n",
              "YzGUJCChC3jmb/sl29Nc2N8HX/buMIP+lvRN8ZQtRBLWkd4yfVgJYrgbLhNnC7qNAzzijJSzAyQ9\n",
              "MxkxFiwb/5xEqM4EBhN8wlcBOkDBljM6pG+p21Ub13Fe5Zs17gtDdRoqHsJ9bz2R0p0w47rbEdtn\n",
              "zXlFkhYQ01g5Y3icXZE6lK6W5SgDLLeXwbTqfdYeV1OXxK8lJN1N16g8g4hH6ywAzms5q2XZPrqX\n",
              "0HqlxtnG05Ij85zrdVQyj1GrAw7xEss7xb8FtkRwVYFxejE+LHPbQ4dDi51ZCUkjoNd9JJ1getL3\n",
              "nFDlPQ3ZahQ5pvLtEg/qi0Ekfx+9ouxbCYmCY43USp5xnEhfc/3PMYt007/DWAb/SYfSC6QWhwuC\n",
              "VyFJLuok6OOjdrRpKdt0B6dXzH4Y2HV+/XlIF+4UPLw4+RVo/kRCYckMCF9GKLsQn8U+CNuQEH52\n",
              "RKbDpGT6EHz6jDATD54NhoRRe1Cjn3XXLHNDwdH58vFXcfkgxw0bIhasUqkyzt3+vALKy0JVoSi0\n",
              "Vzr1gRDKM78NPzCpa7SBDQ4Ah8DkgYS4EcRG63Fqm1A/5BSrKsQaYaNi0n2jV1bmn0BvnanPmt1G\n",
              "Hj3kPi9fN9wTRNY291AnH2wpM+E8i/AqAPrRZIdgTzUC6t4Fa+vu31pX2CyEW1WvXzmk4xTAJ0aD\n",
              "WYcuTPT2mEUFqQ3J9DT0NgJqA2HJ9PxZN2TTQa84bTlPiU5K8w411TKmhVyEkGzuMOf1LiMM+06v\n",
              "vZra62eU7ZyvE469ahEPVVMohQUGm3iceHP07CuMLa30UasWBpfiju80QvmErmk8l8LE2nFBgr87\n",
              "RNJVmgqOwgBhS0FldxN101zUon07fJapW1lOUaQoE9LJIYEzdjVEJJmnV6St8bvVmjxs1j9uRKtJ\n",
              "yekynjy6Qo8PCaux0yk1xbGrr0JOsgk+Pv0LoA+fLc8AAAImQZ9GRREsN/8Ah2RbqhGHAf8DwctJ\n",
              "IQpc4ldVMjgACAgFylzZFYdAlttoADPVkUu3WBjxhH3Jj6AOtTj1RUUuCLMKO9JamI0P6wu/GNcf\n",
              "9mUgBs6lUsgvlhwAlduyV7j5s4AbEUAVKQbnOaEHCKxmvFOa7+9MLvfAXJm5w3da6IQqdT1++EmL\n",
              "lMHescsDryh+F8ZTszgzU4FBEqRgBROWNBlSi4zXIaKM88oEa4NuTn6hQn/n5E+146CSZ4wwLxUN\n",
              "OFp5sw9wxbhtQHyaAtF4fC7uenGBNeIsbeuV3BIhfzue6zcUWXiTXPathCnTHP7AQ3eWc+zaiJfk\n",
              "R15vQNvFq1w2N/z9J0PkGlD3JoHnyKdh+Vq2rHYz3Hik1G18uckfAekkeVhFIa6x6jKLO011tbxB\n",
              "nCQ/BbuUJkurtaaJa8J/pkQGFXllveOK2avXkPrgAdWUNWDIW2yTdhX2Cpj3YYWC7DZsWBdsopkq\n",
              "qCqA/JQNYlZUjBB+e8hNXBuuAub8XQxz2lkFTBbFYC6EwtFc1Z8s3EvpPvAfV2rvhhyvuicT23cL\n",
              "r1zWisMxjrxbKKFcMtMs+E2wWzh/4EgBXvvjJhDCZSBCuMkdCKebOVTn8adMwQDo3VHnXN+LP2xu\n",
              "ptFEepV5bcxTPpjNYAnjlBEFYD8cEz9CDH7zcimiA2QeOhhwJJa2NY2tyu93Skdnvi7UaD7vUcbP\n",
              "mVIxD3GXa1Px1mqBlkLxeQAAAoUBn2dqQ38Ah1ewJitgQAJbUq/xUtTCWob/bMnuKs77ABzSHlxn\n",
              "YMp8g42qIRJjaqkXSlGyJk0FmTuLDlqf6lHodvSHGzjJ2o9cC94RKtQumXrW4/JqwJGTqG/oChmn\n",
              "GAidHK3X0J77I9ANbk1rzrSSma5GMWpLPhtdHmYQYFgApDxVM734sUa2omON5kfDTybuXmmt2GLr\n",
              "xKa0f7Dmzo9TS+Bypux0cHtdzXI7lcfKVk2yMzG0O6875SOL7d9QHD7NzrI8qSTy11K23ZduDCf2\n",
              "cB86YpOE8Gxf704rubLVrap4E6lXI+E/9r41FjhfsrIsn6MzxOmUSD0R44zDwvu+xawUuIGFV96h\n",
              "aUbBwjqDl1Fh9e1r++4crTHoLt8A6VqbzzgKSvPLVgqlgnHEwzneGdAMnKdOb0EXfX1tJ7qOEwjS\n",
              "Anq3F+Zgpetp/FdacNa10gUC3kAyBeVgAyQ4DBuaP5pkgYc5lJoMHGaxmIA8MM2+VvkpDldQJX/L\n",
              "f8vHQkre97uAk8W8xI7HbbvlOYdzsm6gFp1j437CAbUmA15f7AEejf8d90WONPbrNWKfCvHSjM35\n",
              "hRObiMDT+rgVlMmzKzxge60LOJrIsibXJucRAIo9AmMRZqlTbGYYwnnRJqnrJqUGi9Pl3pBes1/t\n",
              "awv4W6mF59EIiOtED25Wt9vqFp0VUBHSGzvtnNDbtYhha6kAKVrbkfZ7UGbTCBL4iti22o8YijnV\n",
              "ks9aSe3udrQnX4bdeZhle2JhtNgNxC7r6OSwAytSXVXJ6pPJf+VisgZ/4e7PcAmAOc5zNNbXu+Cs\n",
              "5mvVNyHUdQh6BaekBnjTfv9kb0HiSahnMLUjFVIugut9iqb1qakAAAOqQZtsSahBbJlMCCH//qpV\n",
              "AAADAAAQnlzbztAIJfsAHaXnJSa73QgSalHexI/BGtqXqJihPrlMWavGwns5KgZeFVnYGxB7WHmP\n",
              "TCQxYt2rHP/Ysf2SNf4BVpxEIkH6ls6DRBCYnhP5EiTtKg+NzIPQc5gKOOmLGTKWs6gCGy4DpfPK\n",
              "6zYozux77rxwQnb1/N6fX4Z491gtrhwXg3IVbUBejA59f6B8tOYReoS74n0DdEB/QrzQobHa0X3P\n",
              "vFmDtM4oWprXXjwxJWV1Ye58w6xQWhugdy3Ay+ht8jCBgonWOLq4g7umBfXzYevs5RSyyhFj+vUB\n",
              "mIO+XlJmMxf2l/w8Fuz5NwL4+HB0VYMhe+M5eaFpsGLWag1UN/toDKuBAKrifouA8g9Zm5BcES+J\n",
              "UnnYn4DOxfEwbzsu3Oj+5GN81XNQwR7JWpzKf5pm+fjlNajt0yKiYlKcM4QtjoiIpc9V5EMZmH5H\n",
              "NO6begg60Q2k7Z3syG5XRojDJPSlGWATTgEgcU0QNgo74IXevWq3I/j3IcbCMlTVFLaixr02T5uH\n",
              "r72Yz9Q2M2d0m1DV36bUabzZ5gkGtlll8gv0AMcWyUA1HqVUiztlIXieIPAMdIkDGzyg8WBdrw1D\n",
              "UVLvweUXXbiVbOapBxn6zV2e/cEzWiOl8Hh17VaR6qnsvf0+0jIakHZ9RHYUG9yGq41125YJx4LV\n",
              "tmTOBzwzcbJg6/knzfqoq1lr4qpAIG9CFrFcwtbJJm20U1/YdAhG9Xwl+1xDf9tJJZRNI0qCyz/H\n",
              "r1UiZLMiSWGbqh1HiFU72p1AobEqUHaP6d9Ynh4WcBVbOUcPg0UC8NUlpJ7ImUuRMXhopV+S3kbM\n",
              "IXIrYV/RHIWroUBJNBU3hzwHO+Ag6ciCsD+sjtwvixUjjbTgThQd1TqYafIc29R2/021vUELEIl6\n",
              "9xxvj8oO+2pvTGxc5+OgxXY/rxXjGrcAlcs6HftNr/n1uVv/DYVWZgrSWQREgDKfcQ9nhvB9MTaP\n",
              "Ill9FwQtjOsk/9GKaPHLQ85kyacQUEJrz1Er7PvvtlDiB8fZQ0E0SPY87zLcZr+wu386+bBuZZg+\n",
              "44hZJeJXNt7nG4UgAR7YCC4ZXgBOzRjur38okQFpJUGpsM+bgKZKrMNnmHhpLfh87RVi9upHBtUy\n",
              "wGq7u5jtAEM4TqtmLLD6PZS6J0hWIYAAwJG6qhaOIfFDcNy9JKKy9TT80aOVRrbYx2p5/LZiXo0E\n",
              "d+O8nNpzJDXOAcwAAAGYQZ+KRRUsO/8AYEj8N0Qb90AgArKbCQx4umQZ/ikY6CjFf3lpvXHmdHAC\n",
              "aa71Py5Vw/1/adEfWbn0MVojSdZqhX45Pz+CRcyzkOZUTP0FXS0yQjzi/xmkWtonoQKZv9dGa3Tp\n",
              "x96xyKI1ZDhN/3Byq+odAWLB+uJPx2AYjvMAEOr7NTZkPFtooFNSzWlm4mnwaMrfXRt7fop/zUBc\n",
              "PuSe075GEHgBye/cP9OBnRf/53iqJekk34o60RrQBziWALB/iAq+R8RSPwUd4pbnuX6SyMhqIlVx\n",
              "7rFw0VBY7PcLx6X1pT6FOTMZr4a8bf3Gehe0/E0vrs7SgIOWjtfsD8D6d0dkiVLLZ5hMEiemR0rX\n",
              "9fN/PLZJmbkhEgc98r3Drc40/M3cCNsyCSe9nqgkHW9LgPoxhlmyWN3PJcuWfoLb60ilRMPHDeKA\n",
              "+hltTkMJQfDUsD66x0RNb8qsd7+wcUhyCQR83R84M/uMBJ+2ngnOQDtkllZvs1arBOUnPdM5xjl9\n",
              "RVRZb8LNF/06doiMf/BItjP34dojuCCBAAACcgGfqXRDfwCHPskltjkAAz9Aru7cMV4MdQMno7cO\n",
              "AHGsBAnAVumP/oVA175u/ponCOH/xSH0o1pLr2WLVpgu4WDNfaafk6Wg6UQ4u1nHVFRj7yv7nrRZ\n",
              "MAcxU6bKT0CKj2s7CqJ7yisIaVMOiWPq0QXAvABOjesm7AkL/K/34zfRhdpCdbR7CMWmKIx6XEiv\n",
              "uzj5lWI9jGBXztQkiBhq/qvhD9DmzZdavDmpl2FbNHJXcj6+nEylQyyubOoFAVdd79OtSVpqyCHi\n",
              "ODcnFgKW1wwN99mcT0WaWp6vFCZ4C4zFw1FKm7E9mIPMN7isiJUv9R6xKS8ldl8JXKLENh13reUi\n",
              "4XBGp1GUiPbx4jxT94LawW2qCfocc9SUUUxQtYYTDi/cacMnWxp65bTX5rQZgj/qm0jkBMDtqlYU\n",
              "JI8rJGxVCDFytrEfebWl5fPOkdv3jNDZJrnR/db5lHJ13aK4g+Kyuf5/24y5jLoDfLoc66TgCwnN\n",
              "+Kik+41DazbN6p+YlA8WFvHrefs6dOZC8o2qnJTzvciAd9heuXqEdKDfKXWyPKPIvA2ZzdG44Vm8\n",
              "ZbgMarUwpCJYCgIdAr46RnyFNBhMHMs+CwCgyrV86LxbbaVdUIWjdp07Mj9lGyrkVhExB5M9AglO\n",
              "bSW+OXsTldauVM3pLXE6GzliaUpTO3PtP3R2wlDfrNcubIcfME2UWhgjU/h60j9EIiPmwciFpXxA\n",
              "pp25Lo2RKC+l43UeTZuaoCSV/AceDdpqWoW3v0K4nIT92a9FpE3ouNzYbiEP4/8vdqanmaJjOkm9\n",
              "C9GlD0ys+jg5lXZBRSrVr4uYw3nVpG4obIWHAAACZgGfq2pDfwCHV7AmK2BAAltSv4qWpcrUPB/C\n",
              "ArULACavd9aaqhy4h1191BUJ/h4kBuLSX7AntrxqfOux3Pkt7/B0AUikvd9uC4ilUNeS+o8HZN8D\n",
              "FMxVHuLzSJBvd0kABN4LTT7APza7k4cUfQkOkqrnFMvn2AE5pGdR7SAYMl+pKcHjWyshxXXNFQ+I\n",
              "PFFAPj9/PYNlHLxlLyB5DFzr4/TW1sfDSXQfiJsvGxjVAWwxtSI51HWFNKFDIk4WoCZEI8TwNPlp\n",
              "OIhRkdIKwplG67QSLQ2Ex8KtSRJ9tptaJWgKzbiXLVGbiQ0WibSWVphyr23UpKUGSYHQYGfC5H2p\n",
              "H8ua/6jDqV8pVqZUzh912/S4ii/iy4UdphA9gPTSkpANu42uPE8h8hSm7EHWw0R4mn0Nw7K7gPEU\n",
              "FsbpECc439upAM6OOFJXap7IvDrUk7rZXt+gchaCysdy2dR1leVxn5I0r04pPQWmEq6UVewFjqnZ\n",
              "IUxS8/Y9D7FaR5ZGo9ZLcd0MCGRjBW2HxCBHIKBxl0CYTHq72M4I8jBj/Eqzugs3nGU2+U9r21Qa\n",
              "V/Kl9Og7q1A42g25fysG/vW3VPUsIUhN1ksQvM8wFRVYTvKeCjMjiuokbM5EnyWgJSfMT86DJxmO\n",
              "KyZr+FtbZjZvMDGOmDwd4pSkGsoO/vE3vnk7GHwqrVgvGxHMp1aZqdAML2BQNfhnd/BCfiqTd7nB\n",
              "73y6sI0RXnEZ+IF87EcEP2+4Dm3LmhCUSIO8Fm1xV9W3TftaFrVcHtw7Gr+PLEYDH2eNvy5DX3+o\n",
              "upwZO6zhDhHxvdKAUruiPyeIAAAB8kGbrkmoQWyZTBRMEP/+qlUAAAMAAC7egkBV3lf45ZLN73R+\n",
              "3DImd7K9NkcMfqoKK3lkiF/C0+IgZpf1Jh2JVns/Qsh2seJ0/MjqvGlFRga4ueKqnNrMGH4vqFuC\n",
              "3TbrQGeGYYnrdInchx3r74qnwK0CSaqWFGWtaeOPRkAcv3xJBUn9RQ9BqEbJS0hthKR0D+cXLpvw\n",
              "xbd7aaor7lp7Jt1dX7adXnQvhj1gFPTset4IWu2x4MQHHUvrPbj0p7xAjYSnvW+TXPMjaMEm++W5\n",
              "iUMqAYS0K/OxDDQe4hj3oZ3FuKilZTdYk85jB+WFvEy7mphROKVZPyZYhANHvokqgMTUC/gJTKEX\n",
              "p0lmLyQjUfFABpSYCmR5v2EGB4qdispIW9Jx3VvYMxMlHhnz1pXK15Dsm0qk6f9f8nyDHpwEHezA\n",
              "6BnjdHdTcGZP4SpM4K1kvy/M8VTF9fZwg2sW5tM2HCQGGsoCTL+94yF1tmUeBRlHO7Qtv2ZGOhII\n",
              "OOrw98e/0nAY48I9DqA5ZhfrnpbEa8wFBNwwmGw1Wmc0pnwVuKXuFf2G1k7OWZtSBWdkYwko8CXJ\n",
              "4RiseyGywi/I10OCRhOnHNTzr4/mputfx/XCbsgkN/Q7QHL6itIcxseQF5ep7aF+5nknSFEpfG9O\n",
              "WcJ7fDjs9wAAAHwBn81qQ38Ah2Rerjg5ZzEACW0Xc5V0YMemIcbHAAOO7VXBnPH5aYR/Fmen9zVZ\n",
              "g/7kK+ObrYre6VAZjv6r1WtyiIMZsvwCdVwPEZ1DD/wlNnPOOrUdy2dwunzCWFgkQjq1dFnHLpBm\n",
              "RMyhbiRLXHVO+Zfmn0PFVY/9We7BAAAFokGb0knhClJlMCCH//6qVQAW3lC3sfAOTBQjwqOAiynT\n",
              "MAFlS8oWKD08YOGJaZ2OfJc2M9GagKiKVrm6x81LXLzJbT/qA8rtT8rj24KpbsZIlRCdIL5f/oPa\n",
              "njcvL8/zN6kCme6hwu8E4hNauiqvgbwlz00m9i8nu4PIErm4V6vcdczwDm+vr+jQkIZqlklrDPZ8\n",
              "H0NqAY7ZMhT2Nvxrt5tBb2Ila5RHAYltUjeVJj5ZImAm3fPDRVzRMqXnuR5/2xGTqVWGrQVo9U3O\n",
              "EEAGY21eJHJffRJ+y96BBnAI4tVdb9Xtr90/tBMvunhwTTrW8qBSSZLCiLeggL1Jm1x9tqH0BlYL\n",
              "zyKYl1MptMACcrYKmGtSdIx5KgDDhHLmdjEgI6/szje7Jp/mPQMR+cob3M1SYHE5nw+EICTEYCg+\n",
              "rZeRFhLC4I2azz2a75PrKD6NmkZBBBWh+bSXTVukxbTO9Qd4y5MrWy/EVQWkAv4ta86iSTv91w9E\n",
              "PMt2mwHz9Pmli3WlHX6+TNBm/zZTsfgY1Fup1SwX2kaTzYTpghSiolmjZ8RjM94+TC+lb0rkzxsH\n",
              "pxfqCrf0pXYGV+MT79+MMtVfDwclatHPJG+ROC44Y0pVFHdD1mNiuwOcgJo0nazsF0SWISPLuoof\n",
              "ivv4lZSMIIdp0bd3Fk0FtpAg3YtXRRhrL+3RVSIx65/QdNgrBas0iAZ5z0Wk245kA9V0uY0Y24mz\n",
              "QbCyoNWCLKRZCI+YWOgxJDyRqWxBctbAyaPPZSjbJbwntkSkH1X9wD2tmztU33NOMByhFEMUjotg\n",
              "LlXxuGeScoawgXK2k9k5/nmbS2W5thpRjCDw5g2182CuwSZwxfPItBfAEeIbf8IaEoYUULmThTjH\n",
              "eX4OhkUmbUZHzY4KcBxi89ZxHH1GbiFuQxNWc+HVE5bMxLUjppgPXNSKAAdAvOtCDLOqD4C7py+u\n",
              "j8h/CS+CQOOptJxTHB0omf+WC+9YRRzxyOF/xomDKYO2CSAfB9VpQKXXNidxp7c52zyHexyqEr3k\n",
              "gjQ2CNu+aAS3zq7Lr2V1wT0W8cHLD2+YHDUz9+Rtxu4AdJX7souCdtzqAOCxTYckm4koQ4NvyJcC\n",
              "/ZSw/F4BRqPnQvMaucnA5p673L2h6l29tg3lnPqBRdhIC5Plc1zB5W3/4SPvKG+2nyscR/7Hr9oZ\n",
              "MsvNzKtmNnY++5wrE2jfGnyi1BxGmdWfCgod39rAjqFCWIUNWZENT8hI7x7yy5ZyE0dyvtQVr4sx\n",
              "EzLdriBq8U1BzFn2Bf/F6KvNtA2xf1FqcR3UDc1CBHBCJDZEXxNRJCdCzf8XJEkO2LH9Qbx2reN0\n",
              "oeynDf7wUt2zaRnddCGYYl5L2Tyr9KJsEdKzfcF6pnFdcGKSEyRH0heyCt25HGMSu459Ck9tCr0r\n",
              "YttG5pNxG9LOjz6ha1h0N6ch49UiXf4wnwntdn/e3gZyJ4lRRUvfpkq3N7OEAyVvLv1NAnLSwek7\n",
              "HT2wiXONT8gSuTWQCZ8ziX+dV6rws62yjlzCqPXFg6wR3Xl6YWPS64oHYAaHgeZVVjegoVYSTer5\n",
              "BiFt4LZ2ZzvnK8lvtTib6hyD68Rqb+Cgno9Azv6nRkf6pllyf7OlO/06GBR01UFL/o9Mbz7pX5Sl\n",
              "xChcWkNZ5eQ4JpxYZd8RmECHIhqTdk0aMTug2qb5J8ZEuwsRshKY8GONxLuUKWX7xvozLuWUZvCK\n",
              "1yPuIs3OKsTOCJzTBrVHoHrjf7dWkf2iuHflzf4vpkYx6G4KO3Og1pflLGDoXvRKSOgsam9qP4HE\n",
              "77I4jmo0IUTBmeU0ecdurZh55EQa64AkT98FYQBQznEVyNPKYR2LyAWMyci+3ad5fwmbvXf9c08/\n",
              "8punFvV5cabPChNAClt4YmaktLcoyO2q1b6v8kWzq3542BxTTg/Gxl9xAAAChUGf8EU0TDv/AHH/\n",
              "u6YGM9kNF1WD1EsiYAHCs7RuIAAJPjxATlxKD8EACdsQHbBSh2lxrRXMMbF46VRScC330+ePNlzG\n",
              "ekbGeiRVknXnWI35JTkGv+vqbSGTYgDeumbI/d8/Hiy4JyhCLODhsH+WI35VPOpJQCTCFsvvCg3c\n",
              "sN7ktQLy12hVfmr54Ikx/C4f3KjDqeHVP3P4M5L+crIiPst3jlziJ31gCPQ3O9S2sOWz395g2dEh\n",
              "bh41aLUgU+JGuW+AC0ZLatIqkfcdZj4vbYRLp8fSi3s1zHc+kP7+dtATpKIHfRvh3Ba+aKHHcAtu\n",
              "IvG2I72/ugqd8ai00vB4rQBfsVNgyDtDzaN18XURKFtHIuNO6Mx+elrapT+/ScAizUmG+9GL5HMw\n",
              "hyAWD3IOVwhgrscYKnhgQs8vtog1VGILDUJHTzyMhE+cGdRN8iTKTrxq535FAgJA3nr6cma50PiK\n",
              "RJtdHEpvSLpyNIGhXMv32PBz/7yc/V7Nf/Jutq+HV0kTf6WthYxwsWiJ5OCFoTjI6Q/nKHd56U+3\n",
              "azWf9G/M7e+VswHuZeYB12jh5By/hbXCc/iClgsBemHKfrXTMnsdIS1ZNPzSQ9UQZZ6+Ab3b39UM\n",
              "iKwaXQC1F0abLI42K9AcH6fWma3ohsXmd4YSzJZev0BazwM9WQsqonOv3C5Eu84u4S+oLw7OztBL\n",
              "hAIbPmIm0uvBGCq3N9/83v10gbzWx9Yxvn24o1Atn1qy/RbZ5lwh/4JEEtFvhVw8MvB2xGfN0J0T\n",
              "fVwSZbSQMCUBgz0RfyHSOz320x/nCcz4e5DqQ16suDtwvi4t7KXVSwsjSsJxbI7WR5TFdpjQcs/F\n",
              "T/8Ci41esQAAAP8Bng90Q38Ahz7K6PUJS9xL+WI5ZD+oPa9qmRwAAxzfxuxur3iGtS4AP4nVQ5gO\n",
              "3KtfJ/I3H1T97pv0f8+8Eue9AIPsZMRXnTrCZbNvstSrtrfkhlVKHMlw38qxliNei6vZZWaf737K\n",
              "4SC/DTZl1dGlZHgnMrc/i7m1osZWt5KFXFI30u4K+H3sK1bDUF6gRIVjuaWfpSbxBfVkql2iopjF\n",
              "vvrG02zU0va33HyPECtTAJMm9o4ziPJKiCh5fMMWZDr4plY+o2qxp1z0V5g+g4rvWHYCgiHdv7Xj\n",
              "lGTYb2BWzdqEZNN1G/LA4IG74/EWLbKay+V4XNAdOD8CAjSUYlQAAAJxAZ4RakN/AKQ8+SY4XHJg\n",
              "AMkGNP57Uwy651dPsZESUGYHDQAOLDg6szJSMX5dCgtY8V0qS5VOggQz3K6H/JZCujbjOPBPvgYP\n",
              "wPvEjSGTpEgE1F7qJW935zoqbJofxzWBqUW86HOFIMdv2DSdeTg5RiGVDrUMlWOhL4a29BnQtpQJ\n",
              "ulRUN3bM6WlyGrKgwx7vrzlMPBwPr47eFqu1NjxBJTTg5fBuJZcNr0vFVUPEPq4FTBtzZcHVVi80\n",
              "etgtKftuXDYs1O/n+2MLrdBiGs1OVBC0FyLmOrnzgOrZ3oaxYNRjmjtStvqjWWJ4OJcjJ3mXj5mx\n",
              "rQXXC2GhhPh6xE0n5FHfQvvql5jCtrqwbVmrxj4zivHDFcR9Ci5FmBBM6t+kxJEhbj4gzA/rwIaP\n",
              "DyEL3q2cVy9HHVlxx1LJ/YGfMSTWCT7OW6VsWw12orfFe5QGVjXiVWBStZ1ZI90F6Rw43KjSVcHn\n",
              "PsWSyq4yQKAObmYAFPvvXZIOXczrzxIH5efYYYCo4B+OzjEc8zsj6gS+kesmAQrNAXPPtddy6xl2\n",
              "HV5YhgM247EDcYbWRHjkenbZzMf9E/7JwW9HgvJyhXJVxXxcktP9eiZxTmUsr5fgqVej4ruARkMl\n",
              "9ciS+D+f2HD/zeiP5epUWeLg4Y0CRD9A+/syo4M1dMogvcJTn5c1Vjh5UX21/8BsMXSfvPXitOrm\n",
              "ZZhGgwSgEnA5WC6Tofctof1ZciSR10s4l5dG3Ql0Db5tvPZTBdsKajF6A+xYs9AG3YIBFL7KL0Lb\n",
              "ADDQMj3+KHELeimUz1BZU2aYMKBuOrWF/SaGftyXiPsDPxLomAckgQAAA0xBmhNJqEFomUwIIf/+\n",
              "qlUAAAMAA7qGIcU9XT3FI4L/cQ7GiAQ7bZKGQ3q4owTOiP5Fp839AQoX0G6qbFkloCW2hrmHkYSc\n",
              "RX0ckWhhLrlnzIXFoWewV1E2sJBQuYNhx+9+tDpUkvQ+WzrWRLXz9dzof155taFVmVsKK6fRnYSg\n",
              "AJnUeHrzW0lXuizNysHYaoruwGRxAjOdE6BXrwvPRLOCyTUu0dCKFVYSx2h7XsTUjx+Z0G+u8Fkf\n",
              "L59CuqnCR3fJZgPGPbXN8UkYVodXfGIQrJ9VsfrYI6JCXyJZ6t5kBnH/m+KEj5PaILHjFtyYejC6\n",
              "r62dveCiaHwhO4gGtBEAvfSVIW/E5Y+gmcSVKFehoHGHKe4QsUWHbh8R1GUMdcdOLjPOo15sv2QM\n",
              "wpHevEl2BQdweTlzT9AIm92x8dz7g1Kh2Olw0LCBYSIy+xe7/OHMdm9nfTpVKMmXRJXr0I7UXeqa\n",
              "6BNLYQva50wPKgBsrj0wmHlNGRfKYz2t1pm84uIl0AXBdMDC39jerDYTYlzkyWD/wVwkl2JHvQga\n",
              "s9D2x4VfvBlixZnEuT7F4bbS82ekOYDiyt0SPRUvlPG6XTYsiLkefVuF0ywj2go+cTlin8tLZ0D6\n",
              "rxht6+BERoOQPo5nV+Ghzzp9R4kN2UQpMZd5967JrFG9d9YxqpRC1O4BCEuaJ5WGwmdyIVdfW4eF\n",
              "y2Od908RmtbDuhC8VjxeONZT3hiadnPGYgD+tZOaZ8ci7Grx8GJtcXr3K6FFDGgXjNFhWUAIdvU6\n",
              "ov4NzK8wTNwW6EwzvH5JI5qjGtmZbin4Wn3WJS8lFdILn3DoNf7gmLlvBrsjrw5H6ZfgTgEg3Wlq\n",
              "8d1fuebN2rd824F4AHwmwFRjBGE49ZXWstHc9A6AxOPU/E0uIomxc5xaHUdqEfEakDr/zV22aF/T\n",
              "fhhs3oH7IijkCtNB6fba1e2b18vd2s8a+5g3N9eR3NHO7e0g58S5rIrYAOAR2W+yN2/GOsX9lXqY\n",
              "0tuERDJhddfwIxw3KFDI7lFSQJNrCDn/pzG5WSEAgTNP7TAB12IGgr8B7SFbNvb/woddU6x3a4Z7\n",
              "Ez+Wxz8vKa7TfRJFBGgRDB0VKxWLATx9uVsvFkhk2O6AAAADgkGaNknhClJlMCH//qmWAAADAAYL\n",
              "3Stmt/4jZ8NAC3raa8+QtCPI4sJYkfVXipccO3GtPyrOX3xyN8HtqblGbO0DGaicm5xneAT4dIAC\n",
              "KJBPrI+bw6UEp/rnStUAMQA/iJSeLFkdG1Fm+WqnINdsu98JcFzUn3kOjGVUkHB399p+J5xg3+df\n",
              "RopDuMWB5Ad+jugkJ6IgMBB3QE8KSU3FrmgdQCuc4TucDrB5Md8+WxFY8N+KPnLhvaFF66aAb8By\n",
              "/6tvWkfWaGGVrsNu5iKbKtFE02uUquZ1oRSnO8jCiG9MP+U8xJOkXgjKHfq5oDH2bd1KnrFT+GJe\n",
              "t0EPE9E11E9fVyCYySH8RRfhIWljDnW0TTci3uLLTEuGF3b9bxpZxahj1AvZfTTQyPbrtESuAdUL\n",
              "QSyE6R1SZZ2lfEAq0jFuBoA3+xzVeKQs/zR1jKNVC8kEoCVP7IG5qm1lblZDpLEEeZV6/KQCcBqu\n",
              "SGrC/2WtN2O1P4LNhI7Gi0ggJm/pBt+WLFaTV5sLkiTm/P94kUh3we7PoOCfpER+zIlIdGV4tiRc\n",
              "VeyP/EmMNuE/JpiJDIEuEIjroRaKG8032nWm3pQyPzVTkLXsncncyMup2B+DDmCi5wMYks5KPhAA\n",
              "DH84MmxPefsLub7Dm9t+9cE7qIBZQIjoI329wWlGC1V9ntITluuyT9xxCLPw5yqQwME5eH9kaXK6\n",
              "GExjKp9GfRuKpYttl1oZ1lProfxY8U6ehR1eTuOCxx4/AnCv7W0DCXLBtVr3PCeUwOxkSf7j3EFP\n",
              "wPacdY00lf8DzVsgGBWBtihCGzE7icaIvDKDy0G5fsIHRzktTELTHDEQb08dGPG65bxDB0fLJ61x\n",
              "TgG7plSuD/0o2vAoTRIvU9/qvBCPQgE7N4VzLgZG9+HsVvbpDYLZLkfr3KR0FMmjYx9fXfiKNjKy\n",
              "McGRe1WjaWpDomRvaGdNtqIEX4+9aNL1K6phI4iZ+QCMow8ShecuPPGO+aLlPg/q1iyk+Abt6/Bh\n",
              "x8crXOX8e0E10Wc38rWdxbiv1zxSxavh3xYv4dzjAaCPvwIUaoDKw5EXK5c5bpDh8NJfTSABHlUk\n",
              "hR6wfTVPKK6UZ+XeNdVpxwPSMuvbWP/UaC0u2c12XoDtNOSTGVu0/jweP/tuCW6WfaZNk6xuH69I\n",
              "DzvYuLbp5NjAlRaLFqqaJrHHYZWv0WkAAAHmQZ5URTRMN/8ApEROCuZaemvBgAmiNfI/4TLNwAhB\n",
              "EyckTzgBgCH3eBXx8O1PBmWIrvPnnVXoYphTkEKL1GUOr8ui18dtzhaGRKGC12NjaoUCneSPDRKN\n",
              "7gQA9YARiWAr2cP6LnrEfd0Rs+DuJUv7GobaS4p5pmCQdAAneQC7HnFRzXhURCWADulkhQH6QAGy\n",
              "3y424mvTYDj8zEcCMyfm+8zv3/XR4xoNUrTqtoextD+E6DJGnz7v66Jo2gA0kRNVYkp9bVADMneI\n",
              "OVwsUKPdLJWiw/TzCaL5YtCAHUAFymhXeRRq3ppdmACCHinUe/O1zGH66CcTrQGiIADYRx/eRlqx\n",
              "vhr2Ew9LJVHlkiqc76K7kEkpAxp655yPNUFVfJp7p4VJEfIry0v7JWzgPD+GxRT1Prl6d100GXGs\n",
              "wpQe2UlyhQFcIP49YrgmwOJsmNXjedjUv28CI6CJqVfeulxq4tV7l01uogAoEkhx1V6TQqFM73tz\n",
              "NFQNoJeniEV/hntbJ8+FjvRyzRnNyE8ge7f4fSZUiuLNPNCGs0bVGM82mZVb+EO4lJdv2ZZst2qi\n",
              "pu867h9lSaytbLpbSE144VLC2FrOVYGvFBJxpgan1O4fvwE2j8DrY7z/bAjjLr8IgOiY4DNDSdaR\n",
              "AAACJAGedWpDfwCkPPkmOFxyYAQ040E9WO59WR15LgA5tAZzUg56redcHiD3XeQ6EoCGucpN6svl\n",
              "gK8du00HvwgO77R6FfyX3PJQdrOBqmWKtBHeO+4iY0c50evNXSCVyI0UlsaucZly3DkfoMWU8/HV\n",
              "LGhF16pd9rST0P2iNJWESIOkrwXrccabzixGQwKRna7hXsYJ7Wglcmihh3nW3NWE5+Eg1BZ0HNd+\n",
              "4KRdHalLgf9eZ384N2drIqNcCWILvYRlEDRRDn1hKWyEWzLdCg9VSLYSzCGBoj66SKUvsw239U9p\n",
              "MRKgCzzUV6hwhdzdaI6YEAVC5MD9TIy2OdwjQqc4j4MnBUVlZiHtNd6VlgVoP897mj9N+/+5h2gW\n",
              "PjlbHQ4GEt6GjZA3NJPTm4kohStQr64iWcVLy19ZOhBHpL2Egv8wg0WJdjyd5sDXsZzlPz5dbuB9\n",
              "YN/qEoQuDdMPGUztoBGd/ilvosy305hnr25c7+m7qp5gyXdVd79fNCLTh97CTVVjVGgnxQ42/gkv\n",
              "PDPvwsu+gIgC+0077COwM2Es1v+tDWbaUtywOMhvSHdOAV3UYRpZ9nGk/PqNQH68b90z88AyAk4O\n",
              "INCe/aZkaG24Lzhe+qyhkdz6109Oe4+gWMpHHTDRwdVUbh0agZNIs/XWIat4SZY92xj4G6tI3Rxp\n",
              "rF7YTvA2EgSCykzxu0jyq6kfeIubGkBUqqiX2KT4YXIEbz2PgZ3QAAABJ0GaeUmoQWiZTAhv//6n\n",
              "hAAAAwAK17wDk39x7ABvfLrCV+U93260WdPsk6tFCbh2feTd6dVI0+9Mdg9Xyo3Nsj4dvugUaL1t\n",
              "4VgYL5sDVULVBARwsj6mCS8pb1FgMHcsuhvBmLORMlMdzszTY01VEkfjX26Gtz7y7m2TSk4RMmuG\n",
              "t0mJTo+5gfPfuw37wzzKShr8zjRbKcjmmnu20dw3QT2tzv7ZNSNWl6dlqWIcKcPtTrlPMs9cVLwV\n",
              "xN1qqlTEQIatrnJXJVx/uLXg9Ru0PlOhpA82caQSLb/A5jr3/45aKnlv6gPqMhwhWpzNXeH3P/rz\n",
              "ntShybnrhz5Hp8lR2fzV4ovmfNQcDBC+tCgOQy9cjRGY4l7+T5cxLeszqpg+Ef5vG9FH6ycAAADG\n",
              "QZ6XRREsN/8ApEwIh47zoDeDABHXWewckCu+syd4ABEGf+2uOmQ4u2km6Bfowq6OZobvcbzYtgfS\n",
              "8e5OGco9b9TiOdIRIGI7r+lK7IO3D0jFsC//PddSigUHZDcjkHwokHAwcGlAusRYrHiNtxVje9FP\n",
              "sZOENdv7BRZHcvgJjSvjT6WByYJB9anpdJCvRuf1P874adCJdDoZ29z0hOkwH45D7dhcqO8r40jp\n",
              "VWpw5HA0ZcvmUVP3i7mcW3OB2zCYYM8L6+yhAAAAYgGeuGpDfwCkPPkmOFxyYAFz7sxZ+PLEahZP\n",
              "w9//OH19Aj4y9YsFZBvqe1UQAN9i6wfhddUaKVeKao85YhzlreJvIblYx9jkgfJh1EXN3hjvz8wh\n",
              "KQWgbaxl01ieC1Ubg1FwAAAHIm1vb3YAAABsbXZoZAAAAAAAAAAAAAAAAAAAA+gAACMoAAEAAAEA\n",
              "AAAAAAAAAAAAAAABAAAAAAAAAAAAAAAAAAAAAQAAAAAAAAAAAAAAAAAAQAAAAAAAAAAAAAAAAAAA\n",
              "AAAAAAAAAAAAAAAAAAAAAAIAAAZMdHJhawAAAFx0a2hkAAAAAwAAAAAAAAAAAAAAAQAAAAAAACMo\n",
              "AAAAAAAAAAAAAAAAAAAAAAABAAAAAAAAAAAAAAAAAAAAAQAAAAAAAAAAAAAAAAAAQAAAAAKAAAAB\n",
              "4AAAAAAAJGVkdHMAAAAcZWxzdAAAAAAAAAABAAAjKAAACAAAAQAAAAAFxG1kaWEAAAAgbWRoZAAA\n",
              "AAAAAAAAAAAAAAAAKAAAAWgAVcQAAAAAAC1oZGxyAAAAAAAAAAB2aWRlAAAAAAAAAAAAAAAAVmlk\n",
              "ZW9IYW5kbGVyAAAABW9taW5mAAAAFHZtaGQAAAABAAAAAAAAAAAAAAAkZGluZgAAABxkcmVmAAAA\n",
              "AAAAAAEAAAAMdXJsIAAAAAEAAAUvc3RibAAAALdzdHNkAAAAAAAAAAEAAACnYXZjMQAAAAAAAAAB\n",
              "AAAAAAAAAAAAAAAAAAAAAAKAAeAASAAAAEgAAAAAAAAAAQAAAAAAAAAAAAAAAAAAAAAAAAAAAAAA\n",
              "AAAAAAAAAAAAABj//wAAADVhdmNDAWQAFv/hABhnZAAWrNlAoD2hAAADAAEAAAMAFA8WLZYBAAZo\n",
              "6+PLIsD9+PgAAAAAHHV1aWRraEDyXyRPxbo5pRvPAyPzAAAAAAAAABhzdHRzAAAAAAAAAAEAAABa\n",
              "AAAEAAAAABRzdHNzAAAAAAAAAAEAAAABAAACmGN0dHMAAAAAAAAAUQAAAAMAAAgAAAAAAQAAFAAA\n",
              "AAABAAAIAAAAAAEAAAAAAAAAAQAABAAAAAABAAAQAAAAAAIAAAQAAAAAAQAACAAAAAABAAAMAAAA\n",
              "AAEAAAQAAAAAAQAACAAAAAABAAAMAAAAAAEAAAQAAAAAAQAAFAAAAAABAAAIAAAAAAEAAAAAAAAA\n",
              "AQAABAAAAAABAAAMAAAAAAEAAAQAAAAAAQAACAAAAAABAAAMAAAAAAEAAAQAAAAAAQAACAAAAAAB\n",
              "AAAUAAAAAAEAAAgAAAAAAQAAAAAAAAABAAAEAAAAAAEAAAwAAAAAAQAABAAAAAABAAAIAAAAAAEA\n",
              "ABAAAAAAAgAABAAAAAABAAAUAAAAAAEAAAgAAAAAAQAAAAAAAAABAAAEAAAAAAEAABAAAAAAAgAA\n",
              "BAAAAAABAAAUAAAAAAEAAAgAAAAAAQAAAAAAAAABAAAEAAAAAAEAABAAAAAAAgAABAAAAAABAAAM\n",
              "AAAAAAEAAAQAAAAAAQAAFAAAAAABAAAIAAAAAAEAAAAAAAAAAQAABAAAAAABAAAUAAAAAAEAAAgA\n",
              "AAAAAQAAAAAAAAABAAAEAAAAAAEAABQAAAAAAQAACAAAAAABAAAAAAAAAAEAAAQAAAAAAQAADAAA\n",
              "AAABAAAEAAAAAAEAABQAAAAAAQAACAAAAAABAAAAAAAAAAEAAAQAAAAAAQAAEAAAAAACAAAEAAAA\n",
              "AAEAABQAAAAAAQAACAAAAAABAAAAAAAAAAEAAAQAAAAAAQAADAAAAAABAAAEAAAAAAEAABQAAAAA\n",
              "AQAACAAAAAABAAAAAAAAAAEAAAQAAAAAAQAACAAAAAABAAAQAAAAAAIAAAQAAAAAAQAAEAAAAAAC\n",
              "AAAEAAAAABxzdHNjAAAAAAAAAAEAAAABAAAAWgAAAAEAAAF8c3RzegAAAAAAAAAAAAAAWgAAFLAA\n",
              "AAQ5AAADpQAAAVIAAADXAAAAoAAAAKUAAADTAAAAtAAAAHsAAAbKAAAD5gAAAjoAAAJzAAAFBwAA\n",
              "AWcAAAEbAAAAiQAAAHcAAABuAAAENAAAAR8AAAV+AAABSQAAAjQAAAGsAAABNQAAAMEAAACAAAAA\n",
              "cQAABWQAAAJaAAADOgAAAvoAAAEhAAAAtAAAAQ8AAAC+AAAAfAAAAIsAAAefAAAB+wAAAlsAAAQT\n",
              "AAAB6QAAAsMAAAHvAAACHgAAAL0AAABoAAAFeAAAASEAAAKNAAAA6wAAAJIAAACGAAABXAAAANYA\n",
              "AABiAAAAiQAABR0AAANQAAACPgAAA58AAASuAAACJgAAAaoAAAChAAAAtgAAAEAAAAUGAAACKgAA\n",
              "AokAAAOuAAABnAAAAnYAAAJqAAAB9gAAAIAAAAWmAAACiQAAAQMAAAJ1AAADUAAAA4YAAAHqAAAC\n",
              "KAAAASsAAADKAAAAZgAAABRzdGNvAAAAAAAAAAEAAAAwAAAAYnVkdGEAAABabWV0YQAAAAAAAAAh\n",
              "aGRscgAAAAAAAAAAbWRpcmFwcGwAAAAAAAAAAAAAAAAtaWxzdAAAACWpdG9vAAAAHWRhdGEAAAAB\n",
              "AAAAAExhdmY1OC43Ni4xMDA=\n",
              "\">\n",
              "  Your browser does not support the video tag.\n",
              "</video>"
            ]
          },
          "metadata": {},
          "execution_count": 12
        },
        {
          "output_type": "stream",
          "name": "stdout",
          "text": [
            "Step: 0, Action Word: Cat\n"
          ]
        },
        {
          "output_type": "display_data",
          "data": {
            "text/plain": [
              "<Figure size 640x480 with 1 Axes>"
            ],
            "image/png": "[encoded data removed]"
          },
          "metadata": {}
        }
      ]
    },
    {
      "cell_type": "code",
      "source": [],
      "metadata": {
        "id": "zTcZ7-Gwf7Qu"
      },
      "execution_count": 12,
      "outputs": []
    }
  ]
}