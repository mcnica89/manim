{
  "nbformat": 4,
  "nbformat_minor": 0,
  "metadata": {
    "colab": {
      "provenance": [],
      "authorship_tag": "ABX9TyN/e+QzsMg4DYR19ApYtO/t",
      "include_colab_link": true
    },
    "kernelspec": {
      "name": "python3",
      "display_name": "Python 3"
    },
    "language_info": {
      "name": "python"
    }
  },
  "cells": [
    {
      "cell_type": "markdown",
      "metadata": {
        "id": "view-in-github",
        "colab_type": "text"
      },
      "source": [
        "<a href=\"https://colab.research.google.com/github/mcnica89/manim/blob/main/Array_Broadcasting_Examples.ipynb\" target=\"_parent\"><img src=\"https://colab.research.google.com/assets/colab-badge.svg\" alt=\"Open In Colab\"/></a>"
      ]
    },
    {
      "cell_type": "code",
      "source": [
        "import numpy as np\n",
        "np.set_printoptions(suppress=True)"
      ],
      "metadata": {
        "id": "14WX7Mxemyg9"
      },
      "execution_count": 1,
      "outputs": []
    },
    {
      "cell_type": "markdown",
      "source": [
        "#Motivation \n",
        "\n",
        "Start with the \"Pairwise Diff Problem\" for loop vs broadcasting\n"
      ],
      "metadata": {
        "id": "SNS1I_wYmQIy"
      }
    },
    {
      "cell_type": "code",
      "source": [
        "N = 1000 #Change this to 10,000 to see a bigger effect!\n",
        "X = np.random.rand(N)"
      ],
      "metadata": {
        "id": "VryRGds3mv9i"
      },
      "execution_count": 2,
      "outputs": []
    },
    {
      "cell_type": "code",
      "source": [
        "%%time\n",
        "PairwiseDiff = np.zeros((N,N))\n",
        "for i in range(N):\n",
        "  for j in range(N):\n",
        "    PairwiseDiff[i,j] = X[i] - X[j]"
      ],
      "metadata": {
        "colab": {
          "base_uri": "https://localhost:8080/"
        },
        "id": "bPzVm5fCm1S8",
        "outputId": "a07dbaf8-67a5-40dd-92a4-bd0ce0dbc8fa"
      },
      "execution_count": 3,
      "outputs": [
        {
          "output_type": "stream",
          "name": "stdout",
          "text": [
            "CPU times: user 691 ms, sys: 7.4 ms, total: 698 ms\n",
            "Wall time: 738 ms\n"
          ]
        }
      ]
    },
    {
      "cell_type": "code",
      "source": [
        "%%time\n",
        "PairwiseDiff_2 = X.reshape((N,1)) - X.reshape((1,N))"
      ],
      "metadata": {
        "colab": {
          "base_uri": "https://localhost:8080/"
        },
        "id": "a0b7MxCDm99f",
        "outputId": "97b49992-a164-47d0-aac8-255b13a71a28"
      },
      "execution_count": 4,
      "outputs": [
        {
          "output_type": "stream",
          "name": "stdout",
          "text": [
            "CPU times: user 3.29 ms, sys: 3.04 ms, total: 6.34 ms\n",
            "Wall time: 8.35 ms\n"
          ]
        }
      ]
    },
    {
      "cell_type": "code",
      "source": [
        "%%time\n",
        "PairwiseDiff_3 = np.expand_dims(X,axis=-1) - X"
      ],
      "metadata": {
        "colab": {
          "base_uri": "https://localhost:8080/"
        },
        "id": "DE1WBmb-yjeb",
        "outputId": "3bf7280f-96dc-4bdb-af4b-0b4c95dcf06d"
      },
      "execution_count": 5,
      "outputs": [
        {
          "output_type": "stream",
          "name": "stdout",
          "text": [
            "CPU times: user 4.73 ms, sys: 3.09 ms, total: 7.82 ms\n",
            "Wall time: 5.72 ms\n"
          ]
        }
      ]
    },
    {
      "cell_type": "code",
      "source": [
        "print(PairwiseDiff - PairwiseDiff_2)"
      ],
      "metadata": {
        "colab": {
          "base_uri": "https://localhost:8080/"
        },
        "id": "IvrlcFn3nP4B",
        "outputId": "d1bca514-534c-4864-c14c-c620f795eec1"
      },
      "execution_count": 21,
      "outputs": [
        {
          "output_type": "stream",
          "name": "stdout",
          "text": [
            "[[0. 0. 0. ... 0. 0. 0.]\n",
            " [0. 0. 0. ... 0. 0. 0.]\n",
            " [0. 0. 0. ... 0. 0. 0.]\n",
            " ...\n",
            " [0. 0. 0. ... 0. 0. 0.]\n",
            " [0. 0. 0. ... 0. 0. 0.]\n",
            " [0. 0. 0. ... 0. 0. 0.]]\n"
          ]
        }
      ]
    },
    {
      "cell_type": "markdown",
      "source": [
        "# Level 0: Same ndim, Same shape\n",
        "\n",
        "In this case NumPy just does the operation entriwise"
      ],
      "metadata": {
        "id": "jlgOZSEsoO_Z"
      }
    },
    {
      "cell_type": "code",
      "source": [
        "A_2x3 = np.array([[10,20,30],[40,50,60]])\n",
        "B_2x3 = np.array([[5,6,7],[8,9,0]])\n",
        "print(A_2x3+B_2x3)"
      ],
      "metadata": {
        "id": "YRLrlmGUR5Su",
        "colab": {
          "base_uri": "https://localhost:8080/"
        },
        "outputId": "ed44a8bd-5cf3-42bd-f9e4-672d50665fad"
      },
      "execution_count": 7,
      "outputs": [
        {
          "output_type": "stream",
          "name": "stdout",
          "text": [
            "[[15 26 37]\n",
            " [48 59 60]]\n"
          ]
        }
      ]
    },
    {
      "cell_type": "markdown",
      "source": [
        "#Level 1: Same ndim, Different shape\n",
        "\n",
        "In this case, any dimension with a 1 is BROADCAST to be the size of the other array. Then the entriwise operation is the same"
      ],
      "metadata": {
        "id": "p2jNa0vRoY3i"
      }
    },
    {
      "cell_type": "code",
      "source": [
        "A_2x3 = np.array([[10,20,30],[40,50,60]])\n",
        "B_1x3 = np.array([[7,8,9]])\n",
        "print(A_2x3+B_1x3)"
      ],
      "metadata": {
        "colab": {
          "base_uri": "https://localhost:8080/"
        },
        "id": "vqwpP3PGl_CY",
        "outputId": "52c6ae17-bd12-4cb6-dc4a-ed1efbba5bd5"
      },
      "execution_count": 8,
      "outputs": [
        {
          "output_type": "stream",
          "name": "stdout",
          "text": [
            "[[17 28 39]\n",
            " [47 58 69]]\n"
          ]
        }
      ]
    },
    {
      "cell_type": "code",
      "source": [
        "A_2x3 = np.array([[10,20,30],[40,50,60]])\n",
        "B_2x1 = np.array([[7],[8]])\n",
        "print(A_2x3+B_2x1)"
      ],
      "metadata": {
        "colab": {
          "base_uri": "https://localhost:8080/"
        },
        "id": "96Ebl0CCmhuW",
        "outputId": "977297d2-b41a-486a-b3e4-a57692926b7c"
      },
      "execution_count": 9,
      "outputs": [
        {
          "output_type": "stream",
          "name": "stdout",
          "text": [
            "[[17 27 37]\n",
            " [48 58 68]]\n"
          ]
        }
      ]
    },
    {
      "cell_type": "code",
      "source": [
        "A_1x3 = np.array([[10,20,30]])\n",
        "B_2x1 = np.array([[4],[5]])\n",
        "print(A_1x3+B_2x1)"
      ],
      "metadata": {
        "colab": {
          "base_uri": "https://localhost:8080/"
        },
        "id": "nOnLKofpo3Yq",
        "outputId": "08e94471-9d7a-49a9-dfaf-11753c023ee1"
      },
      "execution_count": 10,
      "outputs": [
        {
          "output_type": "stream",
          "name": "stdout",
          "text": [
            "[[14 24 34]\n",
            " [15 25 35]]\n"
          ]
        }
      ]
    },
    {
      "cell_type": "code",
      "source": [
        "X = np.array([3,5,7])\n",
        "print(X.reshape((3,1)) - X.reshape((1,3)))"
      ],
      "metadata": {
        "colab": {
          "base_uri": "https://localhost:8080/"
        },
        "id": "N80oZWT1uA4r",
        "outputId": "840f4550-65c6-419f-8aeb-cd53e48bbcc5"
      },
      "execution_count": 11,
      "outputs": [
        {
          "output_type": "stream",
          "name": "stdout",
          "text": [
            "[[ 0 -2 -4]\n",
            " [ 2  0 -2]\n",
            " [ 4  2  0]]\n"
          ]
        }
      ]
    },
    {
      "cell_type": "markdown",
      "source": [
        "Note that if there is a dimension where the shapes are both not 1 and not equal, the broadcasting does not work!"
      ],
      "metadata": {
        "id": "j99LPg72vBjq"
      }
    },
    {
      "cell_type": "code",
      "source": [
        "A_1x3x4 = np.random.rand(1,3,4)\n",
        "B_2x1x5 = np.random.rand(2,1,5)\n",
        "try:\n",
        "  print(A_1x3x4+B_2x1x5)\n",
        "except ValueError as error:\n",
        "  print(error)"
      ],
      "metadata": {
        "colab": {
          "base_uri": "https://localhost:8080/"
        },
        "id": "oPt6sU-FsHGh",
        "outputId": "6435ffd5-7d42-4ad8-832e-a28287d5eee5"
      },
      "execution_count": 12,
      "outputs": [
        {
          "output_type": "stream",
          "name": "stdout",
          "text": [
            "operands could not be broadcast together with shapes (1,3,4) (2,1,5) \n"
          ]
        }
      ]
    },
    {
      "cell_type": "markdown",
      "source": [
        "# Level 2: Different ndim, Different shape\n",
        "\n",
        "In this case the shapes get right aligned, and 1's are added to the shorter shape."
      ],
      "metadata": {
        "id": "mWnYdg91orP0"
      }
    },
    {
      "cell_type": "code",
      "source": [
        "import numpy as np\n",
        "A_2x3 = np.array([[10,20,30],[40,50,60]])\n",
        "B_3vec = np.array([7,8,9])\n",
        "print(A_2x3+B_3vec)"
      ],
      "metadata": {
        "colab": {
          "base_uri": "https://localhost:8080/"
        },
        "id": "UGHztl42tVS-",
        "outputId": "6eb749a0-7770-41b3-8c46-40bce5bc3093"
      },
      "execution_count": 13,
      "outputs": [
        {
          "output_type": "stream",
          "name": "stdout",
          "text": [
            "[[17 28 39]\n",
            " [47 58 69]]\n"
          ]
        }
      ]
    },
    {
      "cell_type": "markdown",
      "source": [
        "Note that the 1's are always added to the LEFT, so even if you think it might make sense to broadcast, it will not work unless the RIGHT dimensions line up"
      ],
      "metadata": {
        "id": "8xWlEfMJvQ0w"
      }
    },
    {
      "cell_type": "code",
      "source": [
        "A_2x3 = np.array([[10,20,30],[40,50,60]])\n",
        "B_2vec = np.array([7,8])\n",
        "try:\n",
        "  print(A_2x3+B_2vec)\n",
        "except ValueError as error:\n",
        "  print(error)"
      ],
      "metadata": {
        "colab": {
          "base_uri": "https://localhost:8080/"
        },
        "id": "Rgpnz5B5mijs",
        "outputId": "2fada71a-cd7f-43ab-dd62-9a68e40a5fb4"
      },
      "execution_count": 14,
      "outputs": [
        {
          "output_type": "stream",
          "name": "stdout",
          "text": [
            "operands could not be broadcast together with shapes (2,3) (2,) \n"
          ]
        }
      ]
    },
    {
      "cell_type": "markdown",
      "source": [
        "Here is how can you do pairwise difference, but this is a lot harder to read and easy for bugs to happen!!"
      ],
      "metadata": {
        "id": "mcFvD5QavZCC"
      }
    },
    {
      "cell_type": "code",
      "source": [
        "X = np.array([3,5,7])\n",
        "print(X.reshape((3,1)) - X)\n",
        "print(np.expand_dims(X,axis=-1) - X) "
      ],
      "metadata": {
        "colab": {
          "base_uri": "https://localhost:8080/"
        },
        "id": "FSGyaM5Xmqwl",
        "outputId": "df2fe58a-dc21-4f25-aef2-a45e1a71001a"
      },
      "execution_count": 15,
      "outputs": [
        {
          "output_type": "stream",
          "name": "stdout",
          "text": [
            "[[ 0 -2 -4]\n",
            " [ 2  0 -2]\n",
            " [ 4  2  0]]\n",
            "[[ 0 -2 -4]\n",
            " [ 2  0 -2]\n",
            " [ 4  2  0]]\n"
          ]
        }
      ]
    },
    {
      "cell_type": "markdown",
      "source": [
        "# Broadcasting and KeepDims=True\n",
        "\n",
        "Imagine you have an array of observations of how often counts appeared and you want to normalize the rows to sum to 1."
      ],
      "metadata": {
        "id": "dkEuqZ50ve5K"
      }
    },
    {
      "cell_type": "code",
      "source": [
        "Counts = np.array([[2,3,5],[10,20,70],[300,100,600]])"
      ],
      "metadata": {
        "id": "6flTkc6PviXa"
      },
      "execution_count": 16,
      "outputs": []
    },
    {
      "cell_type": "code",
      "source": [
        "TotalSum = np.sum(Counts) #This is the total sum, not the row sum!"
      ],
      "metadata": {
        "id": "7S9iKuqzwf25"
      },
      "execution_count": 17,
      "outputs": []
    },
    {
      "cell_type": "code",
      "source": [
        "RowSumsVec = np.sum(Counts,axis=1) #Must specify the axis to be collapsed! \n",
        "print(\"RowSumsVec:\\n\", RowSumsVec)\n",
        "\n",
        "WRONG_Percents = Counts / RowSumsVec #This wont work because the broadcasting is wrong!\n",
        "print(\"Wrong Percents:\\n\", WRONG_Percents)"
      ],
      "metadata": {
        "colab": {
          "base_uri": "https://localhost:8080/"
        },
        "id": "u-HPMNV3wKJU",
        "outputId": "69e670fc-b1e3-4f03-8c16-7c8938700009"
      },
      "execution_count": 18,
      "outputs": [
        {
          "output_type": "stream",
          "name": "stdout",
          "text": [
            "RowSumsVec:\n",
            " [  10  100 1000]\n",
            "Wrong Percents:\n",
            " [[ 0.2    0.03   0.005]\n",
            " [ 1.     0.2    0.07 ]\n",
            " [30.     1.     0.6  ]]\n"
          ]
        }
      ]
    },
    {
      "cell_type": "code",
      "source": [
        "RowSumsKeepDims = np.sum(Counts,axis=1,keepdims=True) #Must specify the axis to be collapsed! \n",
        "print(\"RowSumsKeepDims:\\n\", RowSumsKeepDims)\n",
        "\n",
        "Percents = Counts / RowSumsKeepDims #This wont work because the broadcasting is wrong!\n",
        "print(\"Correct Percents:\\n\", Percents)"
      ],
      "metadata": {
        "colab": {
          "base_uri": "https://localhost:8080/"
        },
        "id": "peCCafCjwZUB",
        "outputId": "fa004b5c-a220-4921-bd5b-8bf5d10186ba"
      },
      "execution_count": 19,
      "outputs": [
        {
          "output_type": "stream",
          "name": "stdout",
          "text": [
            "RowSumsKeepDims:\n",
            " [[  10]\n",
            " [ 100]\n",
            " [1000]]\n",
            "Correct Percents:\n",
            " [[0.2 0.3 0.5]\n",
            " [0.1 0.2 0.7]\n",
            " [0.3 0.1 0.6]]\n"
          ]
        }
      ]
    }
  ]
}