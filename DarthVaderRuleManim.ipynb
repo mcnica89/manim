{
 "cells": [
  {
   "cell_type": "code",
   "execution_count": 2,
   "id": "fa4b3a4a",
   "metadata": {},
   "outputs": [],
   "source": [
    "from manim import *"
   ]
  },
  {
   "cell_type": "markdown",
   "id": "fba4e883",
   "metadata": {},
   "source": [
    "- Show the Darth Vader Rule for probaility\n",
    "- Do all the layouts AT THE BEGINNING"
   ]
  },
  {
   "cell_type": "code",
   "execution_count": 210,
   "id": "75d25923",
   "metadata": {},
   "outputs": [],
   "source": [
    "DELAY = 2"
   ]
  },
  {
   "cell_type": "code",
   "execution_count": 211,
   "id": "e06e2ddc",
   "metadata": {},
   "outputs": [
    {
     "name": "stderr",
     "output_type": "stream",
     "text": [
      "                                                                                \r"
     ]
    },
    {
     "name": "stdout",
     "output_type": "stream",
     "text": [
      "Thing #0:  SingleStringMathTex('\\\\mathbb{E}[X] = ')\n",
      "Thing #1:  SingleStringMathTex('\\\\mathbb{P}(X=1)')\n",
      "Thing #2:  SingleStringMathTex('+')\n",
      "Thing #3:  SingleStringMathTex('\\\\mathbb{P}(X=2)')\n",
      "Thing #4:  SingleStringMathTex(' +')\n",
      "Thing #5:  SingleStringMathTex(' \\\\mathbb{P}(X=3)')\n",
      "Thing #6:  SingleStringMathTex('+ \\\\ldots')\n"
     ]
    },
    {
     "data": {
      "text/html": [
       "<video src=\"media/jupyter/DarthVader@2024-11-01@13-49-58.mp4\" controls autoplay loop style=\"max-width: 60%;\"  >\n",
       "      Your browser does not support the <code>video</code> element.\n",
       "    </video>"
      ],
      "text/plain": [
       "<IPython.core.display.Video object>"
      ]
     },
     "metadata": {},
     "output_type": "display_data"
    }
   ],
   "source": [
    "%%manim -qh -v CRITICAL DarthVader\n",
    "#-ql = quality low. change to -qh before final production\n",
    "#CRITICAL = only show critical errors\n",
    "\n",
    "my_fontsize = 65\n",
    "\n",
    "\n",
    "FINAL_MOBJECTS = None\n",
    "\n",
    "class DarthVader(Scene):\n",
    "    def construct(self):\n",
    "        \n",
    "        #CREATE EQUATIONS\n",
    "        #my_fontsize = 65\n",
    "        eqn_1 = MathTex(r\"\\mathbb{E}[X] = \", r\"\\mathbb{P}(X=1)\", r\"+\",\"\\mathbb{P}(X=2)\", r\" +\", r\" \\mathbb{P}(X=3)\", r\"+ \\ldots\", font_size = my_fontsize)\n",
    "        eqn_1_geq = MathTex(r\"\\mathbb{E}[X] = \", r\"\\mathbb{P}(X \\geq 1)\", r\"+\",\"\\mathbb{P}(X \\geq 2)\", r\" +\", r\" \\mathbb{P}(X \\geq 3)\", r\"+ \\ldots\", font_size = my_fontsize)\n",
    "        \n",
    "        smaller_fontsize = 59.5\n",
    "        \n",
    "        eqn_1_alt = MathTex(r\"\\mathbb{E}[X] = \", r\"1\",r\"\\mathbb{P}(X=1)\", r\"+\",r\"2\",r\"\\mathbb{P}(X=2)\", r\" +\", \"3\", r\" \\mathbb{P}(X=3)\", r\"+ \\ldots\", font_size = smaller_fontsize)\n",
    "        eqn_1_alt[0].scale( my_fontsize / smaller_fontsize)\n",
    "        eqn_1_alt[0].next_to(eqn_1_alt[1:],LEFT)\n",
    "        \n",
    "        \n",
    "        eqn_2 = MathTex(r\"+\",r\"\\: \\mathbb{P}(X=2)\", r\"+\", r\"\\mathbb{P}(X=3)\", r\"+\\ldots\",font_size =my_fontsize)\n",
    "        eqn_3 = MathTex(r\"+\",r\"\\: \\mathbb{P}(X=3)\", r\"+\\ldots\",font_size =my_fontsize)\n",
    "        eqn_2_geq = MathTex(r\"+\",r\"\\: \\mathbb{P}(X \\geq 2)\", r\"+\", r\"\\mathbb{P}(X \\geq 3)\", r\"+\\ldots\",font_size =my_fontsize)\n",
    "        eqn_3_geq = MathTex(r\"+\",r\"\\: \\mathbb{P}(X \\geq 3)\", r\"+\\ldots\",font_size =my_fontsize)\n",
    "\n",
    "        \n",
    "        \n",
    "        spacing_buff = 0.5\n",
    "        \n",
    "        \n",
    "        eqn_1.to_edge(UP,buff=1.5)\n",
    "        eqn_1.to_edge(LEFT)\n",
    "        \n",
    "        \n",
    "        eqn_1_alt.align_to(eqn_1,UP)\n",
    "        eqn_1_alt.align_to(eqn_1,LEFT)\n",
    "        #self.add(eqn_1_alt)\n",
    "        \n",
    "        eqn_2.next_to(eqn_1,DOWN,buff=spacing_buff)\n",
    "        eqn_3.next_to(eqn_2,DOWN,buff=spacing_buff)\n",
    "        \n",
    "        eqn_2.align_to(eqn_1[2],LEFT)\n",
    "        eqn_3.align_to(eqn_2[2],LEFT)\n",
    "        \n",
    "        eqn_1_geq.move_to(eqn_1)\n",
    "        eqn_2_geq.move_to(eqn_2)\n",
    "        eqn_3_geq.move_to(eqn_3)\n",
    "        \n",
    "        #self.add(eqn_1_geq,eqn_2_geq,eqn_3_geq)\n",
    "        #return 0\n",
    "        \n",
    "        \n",
    "        #self.add(eqn_1,eqn_2,eqn_3)\n",
    "        \n",
    "        #CREATE BOXES FOR THE EQUATIONS\n",
    "        h_box_buff = 0.15\n",
    "        h_box_color = BLUE\n",
    "        h_box_1 = SurroundingRectangle( eqn_1[1:], buff=h_box_buff, color = h_box_color )\n",
    "        h_box_2 = SurroundingRectangle( eqn_2[0:], buff=h_box_buff, color = h_box_color )\n",
    "        h_box_3 = SurroundingRectangle( eqn_3[0:], buff=h_box_buff, color = h_box_color )\n",
    "        #self.add(h_box_1,h_box_2,h_box_3)\n",
    "        \n",
    "        #CREATE VERTICAL BOXES FOR THE EQUATIONS\n",
    "        v_box_buff = 0.15\n",
    "        v_box_color = RED\n",
    "        #for i, thing in enumerate(eqn_2):\n",
    "        #    print(f\"Thing #{i}: \",thing)\n",
    "            \n",
    "        v_box_1 = SurroundingRectangle( eqn_1[1], buff=v_box_buff, color = v_box_color )\n",
    "        v_box_2 = SurroundingRectangle( VGroup(eqn_1[3],eqn_2[1]) , buff=v_box_buff, color = v_box_color )\n",
    "        v_box_3 = SurroundingRectangle( VGroup(eqn_1[5],eqn_2[3],eqn_3[1]) , buff=v_box_buff, color = v_box_color )\n",
    "        #self.add(v_box_1, v_box_2, v_box_3) #,h_box_2,h_box_3)\n",
    "        \n",
    "        #NOW ANIMATE\n",
    "        for i, thing in enumerate(eqn_1_alt):\n",
    "            self.play(Write(thing))\n",
    "            \n",
    "        self.wait(DELAY)\n",
    "        \n",
    "        #copy over P(X=1)\n",
    "        self.play(FadeIn(v_box_1),ReplacementTransform(eqn_1_alt[2],eqn_1[1]),FadeOut(eqn_1_alt[1]))\n",
    "        self.wait(DELAY)\n",
    "        \n",
    "        #copy over P(X=2)\n",
    "        self.play(FadeIn(v_box_2),ReplacementTransform(eqn_1_alt[3].copy(),eqn_2[0]),ReplacementTransform(eqn_1_alt[5].copy(),eqn_1[3]),ReplacementTransform(eqn_1_alt[5],eqn_2[1]),FadeOut(eqn_1_alt[4]))\n",
    "        self.wait(DELAY)\n",
    "        \n",
    "        #copy over P(X=3)\n",
    "        plus_signs_move_over = [ReplacementTransform(eqn_1_alt[6].copy(),eqn_2[2]),ReplacementTransform(eqn_1_alt[6].copy(),eqn_3[0])]\n",
    "        P_x3_move_over = [ReplacementTransform(eqn_1_alt[8].copy(),eqn_1[5]),ReplacementTransform(eqn_1_alt[8].copy(),eqn_2[3]),ReplacementTransform(eqn_1_alt[8],eqn_3[1])]\n",
    "        self.play(FadeIn(v_box_3),*plus_signs_move_over,*P_x3_move_over,FadeOut(eqn_1_alt[7])) \n",
    "        self.wait(DELAY)\n",
    "        \n",
    "        #copy over plus signs and ... for P(X=4) and above\n",
    "        plus_signs_move_over = [ReplacementTransform(eqn_1_alt[9].copy(),eqn_2[4]),ReplacementTransform(eqn_1_alt[9].copy(),eqn_3[2])]\n",
    "        self.play(*plus_signs_move_over)\n",
    "        self.wait(DELAY)\n",
    "        \n",
    "        #,Transform(eqn_1_alt[5].copy(),eqn_1[3]),Transform(eqn_1_alt[5],eqn_2[1]),FadeOut(eqn_1_alt[4]))\n",
    "        #self.wait(DELAY)\n",
    "        \n",
    "        self.play(LaggedStart(FadeOut(v_box_1),FadeOut(v_box_2),FadeOut(v_box_3),lag_ratio=0.5))\n",
    "        self.wait(DELAY)\n",
    "        \n",
    "        self.play(LaggedStart(FadeIn(h_box_1),FadeIn(h_box_2),FadeIn(h_box_3),lag_ratio=0.5))\n",
    "        self.wait(DELAY)\n",
    "        \n",
    "        stuff_in_h_box_1 = VGroup(h_box_1,eqn_1[1:])\n",
    "        self.play(Transform(stuff_in_h_box_1.copy(),eqn_1_geq[1]),FadeOut(stuff_in_h_box_1))\n",
    "        self.wait(DELAY)\n",
    "        \n",
    "        stuff_in_h_box_2 = VGroup(h_box_2,eqn_2)\n",
    "        self.play(ReplacementTransform(stuff_in_h_box_2.copy(),eqn_2_geq[1]),FadeOut(stuff_in_h_box_2))\n",
    "        self.wait(DELAY)\n",
    "        \n",
    "        stuff_in_h_box_3 = VGroup(h_box_3,eqn_3)\n",
    "        self.play(ReplacementTransform(stuff_in_h_box_3.copy(),eqn_3_geq[1]),FadeOut(stuff_in_h_box_3))\n",
    "        self.wait(DELAY)\n",
    "        \n",
    "        anim_list = [ReplacementTransform(eqn_2_geq[1],eqn_1_geq[3]),ReplacementTransform(eqn_3_geq[1],eqn_1_geq[5])]\n",
    "        self.play(LaggedStart(*anim_list,lag_ratio=0.5))\n",
    "        self.wait(DELAY)\n",
    "        \n",
    "        \n",
    "        for i, thing in enumerate(eqn_1):\n",
    "            print(f\"Thing #{i}: \",thing)\n",
    "        \n",
    "        global FINAL_MOBJECTS\n",
    "        FINAL_MOBJECTS = eqn_1_geq\n",
    "        \n",
    "        self.wait(2)\n",
    "        return 0"
   ]
  },
  {
   "cell_type": "code",
   "execution_count": 213,
   "id": "504ea52b",
   "metadata": {},
   "outputs": [
    {
     "name": "stdout",
     "output_type": "stream",
     "text": [
      "Thing #0:  SingleStringMathTex('\\\\mathbb{E}[X] = ')\n",
      "Thing #1:  SingleStringMathTex('\\\\mathbb{P}(X \\\\geq 1)')\n",
      "Thing #2:  SingleStringMathTex('+')\n",
      "Thing #3:  SingleStringMathTex('\\\\mathbb{P}(X \\\\geq 2)')\n",
      "Thing #4:  SingleStringMathTex(' +')\n",
      "Thing #5:  SingleStringMathTex(' \\\\mathbb{P}(X \\\\geq 3)')\n",
      "Thing #6:  SingleStringMathTex('+ \\\\ldots')\n"
     ]
    },
    {
     "name": "stderr",
     "output_type": "stream",
     "text": [
      "                                                                                \r"
     ]
    },
    {
     "name": "stdout",
     "output_type": "stream",
     "text": [
      "#0:  SingleStringMathTex('\\\\mathbb{E}[X]')\n",
      "#1:  SingleStringMathTex('-')\n",
      "#2:  SingleStringMathTex('{\\\\mathbb{E}[X] \\\\over 2}')\n",
      "#3:  SingleStringMathTex('=')\n",
      "#4:  SingleStringMathTex('1')\n",
      "#5:  SingleStringMathTex('+0')\n",
      "#6:  SingleStringMathTex('+0')\n",
      "#7:  SingleStringMathTex('+0')\n"
     ]
    },
    {
     "name": "stderr",
     "output_type": "stream",
     "text": [
      "                                                                                \r"
     ]
    },
    {
     "name": "stdout",
     "output_type": "stream",
     "text": [
      "#0:  SingleStringMathTex('\\\\mathbb{E}[X]')\n",
      "#1:  SingleStringMathTex('=')\n",
      "#2:  SingleStringMathTex('2')\n"
     ]
    },
    {
     "name": "stderr",
     "output_type": "stream",
     "text": [
      "                                                                                \r"
     ]
    },
    {
     "data": {
      "text/html": [
       "<video src=\"media/jupyter/DarthVader2@2024-11-01@13-51-46.mp4\" controls autoplay loop style=\"max-width: 60%;\"  >\n",
       "      Your browser does not support the <code>video</code> element.\n",
       "    </video>"
      ],
      "text/plain": [
       "<IPython.core.display.Video object>"
      ]
     },
     "metadata": {},
     "output_type": "display_data"
    }
   ],
   "source": [
    "%%manim -qh -v CRITICAL DarthVader2\n",
    "#-ql = quality low. change to -qh before final production\n",
    "#CRITICAL = only show critical errors\n",
    "\n",
    "class DarthVader2(Scene):\n",
    "    def construct(self):\n",
    "        eqn_1_geq = FINAL_MOBJECTS.copy()\n",
    "        self.add(eqn_1_geq)\n",
    "        \n",
    "        for i, thing in enumerate(eqn_1_geq):\n",
    "            print(f\"Thing #{i}: \",thing)\n",
    "        \n",
    "        X_description = MathTex(r\"X = \\text{Number of Coinflips Until First H}\",font_size = my_fontsize)\n",
    "        X_description.to_edge(UP)\n",
    "        self.play(FadeIn(X_description,shift=DOWN))\n",
    "        self.wait(DELAY)\n",
    "        \n",
    "        # To make the intro scene\n",
    "        #\n",
    "        #self.play(FadeOut(X_description,shift=UP),FadeOut(eqn_1_geq))\n",
    "        #self.wait(2)\n",
    "        #return 0\n",
    "        #\n",
    "        \n",
    "        line_2 = MathTex(r\"\\mathbb{E}[X]=\", r\"1\",\"+\", r\"\\mathbb{P}(T \\ldots)\", r\"+\", r\"\\mathbb{P}(TT \\ldots)\", r\" + \\ldots\", font_size = my_fontsize)\n",
    "        line_2.next_to(eqn_1_geq,DOWN,buff=0.5)\n",
    "        for i, thing in enumerate(line_2):\n",
    "            line_2[i].align_to(eqn_1_geq[i],LEFT)\n",
    "            \n",
    "            self.play(FadeIn(line_2[i],shift=DOWN))\n",
    "            self.wait(DELAY)\n",
    "        \n",
    "        line_3 = MathTex(r\"\\mathbb{E}[X]=\", r\"1\",\"+\", r\"\\frac{1}{2}\", r\"+\", r\"\\frac{1}{4}\", r\" + \\ldots\", font_size = my_fontsize)\n",
    "        line_3.set_y(line_2.get_y())\n",
    "        line_3.shift(0.05*UP)\n",
    "        for i, thing in enumerate(line_3):\n",
    "            line_3[i].align_to(eqn_1_geq[i],LEFT)\n",
    "        \n",
    "        \n",
    "        \n",
    "        self.play(ReplacementTransform(line_2[3],line_3[3]))\n",
    "        self.wait(DELAY)\n",
    "        \n",
    "        self.play(ReplacementTransform(line_2[5],line_3[5]))\n",
    "        self.wait(DELAY)    \n",
    "        \n",
    "        line_4 = MathTex(r\"\\frac{\\mathbb{E}[X]}{2}=\", r\"\\phantom{1}\",\"+\", r\"\\frac{1}{2}\", r\"+\", r\"\\frac{1}{4}\", r\" + \\ldots\", font_size = my_fontsize)\n",
    "        line_4.next_to(line_3,DOWN)\n",
    "        for i, thing in enumerate(line_4):\n",
    "            line_4[i].align_to(eqn_1_geq[i],LEFT)\n",
    "        \n",
    "        \n",
    "        self.play(FadeIn(line_4[0],shift=DOWN))\n",
    "        self.wait(DELAY)\n",
    "        \n",
    "        self.play(ReplacementTransform(line_3[1].copy(),line_4[3]))\n",
    "        self.wait(DELAY)\n",
    "        \n",
    "        self.play(FadeIn(line_4[4]),ReplacementTransform(line_3[3].copy(),line_4[5]))\n",
    "        self.wait(DELAY)\n",
    "        \n",
    "        self.play(ReplacementTransform(line_3[5].copy(),line_4[6]))\n",
    "        self.wait(DELAY)\n",
    "                \n",
    "        last_line = MathTex(r\"\\mathbb{E}[X]\",r\"-\",r\"{\\mathbb{E}[X] \\over 2}\",r\"=\",\"1\",\"+0\",\"+0\",\"+0\",font_size=my_fontsize)\n",
    "        for i, thing in enumerate(last_line):\n",
    "            print(f\"#{i}: \",thing)\n",
    "        \n",
    "        last_line.next_to(line_4,DOWN)\n",
    "        last_line.to_edge(RIGHT)\n",
    "        \n",
    "        final_answer = MathTex(r\"\\mathbb{E}[X]\",r\"=\", r\"2\",font_size=my_fontsize)\n",
    "        final_answer.set_y(last_line.get_y())\n",
    "        final_answer.shift(0.08*DOWN)\n",
    "        final_answer.align_to(last_line[4],RIGHT)\n",
    "        \n",
    "        \n",
    "        #subtract the equations\n",
    "        self.play(ReplacementTransform(line_3[0].copy(),last_line[0]))\n",
    "        self.play(FadeIn(last_line[1]))\n",
    "        self.play(ReplacementTransform(line_4[0].copy(),last_line[2]))\n",
    "        self.wait(DELAY)\n",
    "        \n",
    "        self.play(FadeIn(last_line[3]))\n",
    "        self.play(ReplacementTransform(line_3[1].copy(),last_line[4]))\n",
    "        self.wait(DELAY)\n",
    "        \n",
    "        self.play(ReplacementTransform(VGroup(line_3[3].copy(),line_4[3].copy()),last_line[5]))\n",
    "        self.wait(DELAY)\n",
    "        \n",
    "        \n",
    "        self.play(ReplacementTransform(VGroup(line_3[5].copy(),line_4[5].copy()),last_line[6]))\n",
    "        self.wait(DELAY)\n",
    "        \n",
    "        self.play(ReplacementTransform(VGroup(line_3[6].copy(),line_4[6].copy()),last_line[7]))\n",
    "        self.wait(DELAY)\n",
    "        \n",
    "        #do E[X] - E[X]/2\n",
    "        self.play(FadeOut(last_line[5:]),ReplacementTransform(last_line[0],last_line[2]), FadeOut(last_line[1],last_line[2].copy()))\n",
    "        self.wait(DELAY)\n",
    "        \n",
    "        for i, thing in enumerate(final_answer):\n",
    "            print(f\"#{i}: \",thing)\n",
    "            \n",
    "        #return 0\n",
    "            \n",
    "        #multiply both sides of eqn by 2\n",
    "        self.play(ReplacementTransform(last_line[2],final_answer[0]),ReplacementTransform(last_line[4],final_answer[2]))\n",
    "        self.wait(DELAY)\n",
    "        \n",
    "                  \n",
    "        self.wait(2)\n",
    "        return 0\n",
    "\n",
    "            \n",
    "        self.add(line_2,line_3,line_4,last_line,final_answer)"
   ]
  },
  {
   "cell_type": "code",
   "execution_count": null,
   "id": "730efa44",
   "metadata": {},
   "outputs": [],
   "source": []
  }
 ],
 "metadata": {
  "kernelspec": {
   "display_name": "Python 3 (ipykernel)",
   "language": "python",
   "name": "python3"
  },
  "language_info": {
   "codemirror_mode": {
    "name": "ipython",
    "version": 3
   },
   "file_extension": ".py",
   "mimetype": "text/x-python",
   "name": "python",
   "nbconvert_exporter": "python",
   "pygments_lexer": "ipython3",
   "version": "3.9.12"
  }
 },
 "nbformat": 4,
 "nbformat_minor": 5
}
