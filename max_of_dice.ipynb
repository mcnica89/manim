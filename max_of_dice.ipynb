{
 "cells": [
  {
   "cell_type": "code",
   "execution_count": 273,
   "id": "09be4c87",
   "metadata": {},
   "outputs": [
    {
     "ename": "ImportError",
     "evalue": "cannot import name 'arc_path' from 'manim.utils.paths' (/Users/mnica/opt/anaconda3/lib/python3.9/site-packages/manim/utils/paths.py)",
     "output_type": "error",
     "traceback": [
      "\u001b[0;31m---------------------------------------------------------------------------\u001b[0m",
      "\u001b[0;31mImportError\u001b[0m                               Traceback (most recent call last)",
      "Input \u001b[0;32mIn [273]\u001b[0m, in \u001b[0;36m<cell line: 2>\u001b[0;34m()\u001b[0m\n\u001b[1;32m      1\u001b[0m \u001b[38;5;28;01mfrom\u001b[39;00m \u001b[38;5;21;01mmanim\u001b[39;00m \u001b[38;5;28;01mimport\u001b[39;00m \u001b[38;5;241m*\u001b[39m\n\u001b[0;32m----> 2\u001b[0m \u001b[38;5;28;01mfrom\u001b[39;00m \u001b[38;5;21;01mmanim\u001b[39;00m\u001b[38;5;21;01m.\u001b[39;00m\u001b[38;5;21;01mutils\u001b[39;00m\u001b[38;5;21;01m.\u001b[39;00m\u001b[38;5;21;01mpaths\u001b[39;00m \u001b[38;5;28;01mimport\u001b[39;00m arc_path\n\u001b[1;32m      3\u001b[0m \u001b[38;5;28;01mimport\u001b[39;00m \u001b[38;5;21;01mmath\u001b[39;00m\n\u001b[1;32m      4\u001b[0m \u001b[38;5;28;01mimport\u001b[39;00m \u001b[38;5;21;01mnumpy\u001b[39;00m \u001b[38;5;28;01mas\u001b[39;00m \u001b[38;5;21;01mnp\u001b[39;00m\n",
      "\u001b[0;31mImportError\u001b[0m: cannot import name 'arc_path' from 'manim.utils.paths' (/Users/mnica/opt/anaconda3/lib/python3.9/site-packages/manim/utils/paths.py)"
     ]
    }
   ],
   "source": [
    "from manim import *\n",
    "import math\n",
    "import numpy as np"
   ]
  },
  {
   "cell_type": "code",
   "execution_count": 201,
   "id": "3da40962",
   "metadata": {},
   "outputs": [],
   "source": [
    "texPre = TexTemplate()\n",
    "texPre.add_to_preamble(r\"\"\"\n",
    "    \\usepackage{amsmath}\n",
    "    \\usepackage{amssymb}\n",
    "    \\newcommand{\\E}{\\mathbb{E}}\n",
    "    \\newcommand{\\vect}[1]{\\mathbf{#1}}\n",
    "\"\"\") \n",
    "E_color = GREY_B\n",
    "n_color = BLUE\n",
    "m_color = ORANGE\n",
    "t2cD = {\n",
    "    \"\\E\":E_color,\n",
    "    \"[\" : E_color,\n",
    "    \"]\" : E_color,\n",
    "    \"n \": n_color,\n",
    "    \"X \": n_color,\n",
    "    \"m \": m_color,\n",
    "}\n",
    "Mihai = Rectangle(\n",
    "    width=3,        # Width of the rectangle\n",
    "    height=4,       # Height of the rectangle\n",
    "    fill_color=WHITE,  # Fill color\n",
    "    fill_opacity=0.3  # Opacity of the fill (0 is fully transparent, 1 is fully opaque)\n",
    ")\n",
    "\n",
    "Mihai.to_corner(DL,buff=0)\n",
    "\n",
    "Hints = MathTex( r\"n : \\# \\text{ of Sides},\",r\"\\text{  }\", r\" m : \\# \\text{ of Dice}\", #  r\"\\text{ }\", r\"X : \\text{Dice RV,} \", r\"\\text{ }\", r\"U : \\text{Unif}[0,1] \\text{ RV}\", # r\", $U=$ Unif$[0,1]$ R.V.\",\n",
    "            tex_template=texPre, tex_to_color_map=t2cD,font_size=50)\n",
    "\n",
    "Hints.to_corner(DR)\n",
    "\n",
    "\n",
    "my_fontsize = 65\n",
    "my_fs = 100\n",
    "\n",
    "DELAY = 0.1"
   ]
  },
  {
   "cell_type": "code",
   "execution_count": null,
   "id": "e1b06c0b",
   "metadata": {},
   "outputs": [],
   "source": [
    "FINAL_MOBJECTS = None"
   ]
  },
  {
   "cell_type": "code",
   "execution_count": 290,
   "id": "b7cdb7d9",
   "metadata": {},
   "outputs": [
    {
     "name": "stderr",
     "output_type": "stream",
     "text": [
      "                                                                                \r"
     ]
    },
    {
     "data": {
      "text/html": [
       "<video src=\"media/jupyter/FirstApprox@2024-12-18@19-25-54.mp4\" controls autoplay loop style=\"max-width: 60%;\"  >\n",
       "      Your browser does not support the <code>video</code> element.\n",
       "    </video>"
      ],
      "text/plain": [
       "<IPython.core.display.Video object>"
      ]
     },
     "metadata": {},
     "output_type": "display_data"
    }
   ],
   "source": [
    "%%manim -ql -v CRITICAL FirstApprox\n",
    "#-ql = quality low. change to -qh before final production\n",
    "#CRITICAL = only show critical errors\n",
    "\n",
    "\n",
    "\n",
    "class FirstApprox(Scene):\n",
    "    def construct(self):\n",
    "        \n",
    "        self.add(Mihai,Hints)\n",
    "        # Step 2: Create a Text object using the t2c argument\n",
    "        \n",
    "        approx = MathTex(r\"X \", r\" \\approx\", r\"n \", r\"U\",\n",
    "                       tex_template=texPre, tex_to_color_map=t2cD,font_size=my_fs)\n",
    "        \n",
    "        # Step 3: Add the colored text to the scene\n",
    "        \n",
    "        #self.add(text)\n",
    "        approx.to_edge(UP)\n",
    "        self.play(Create(approx))\n",
    "        #self.add(approx)\n",
    "        self.wait(DELAY)\n",
    "        \n",
    "        off_y = 0.5\n",
    "        \n",
    "        n_pts_numberline = 6\n",
    "        number_line_top = NumberLine(\n",
    "            x_range=[0, 6, 1],  # Range: start=-5, end=5, step=1\n",
    "            length=8,           # Total length of the number line\n",
    "            color=WHITE,          # Line color\n",
    "            include_numbers=True, # Show numbers on the line\n",
    "            #label_direction=UP,  # Place labels above the line\n",
    "        ).shift(off_y*UP)\n",
    "        \n",
    "        positions_top = [number_line_top.n2p(num) for num in range(0, n_pts_numberline+1)]  # Getting positions for -4 to 4\n",
    "        dots_top = VGroup(*[Dot(point=positions_top[i], color=n_color, radius=0.1) for i in range(1,n_pts_numberline+1)])\n",
    "        \n",
    "        X = MathTex(r\"X \",font_size=my_fs,tex_to_color_map=t2cD).next_to(dots_top,UP)\n",
    "        \n",
    "        self.play(Write(number_line_top))\n",
    "        self.wait(DELAY)\n",
    "        self.play(LaggedStart(ReplacementTransform(approx[0].copy(),dots_top),\n",
    "                FadeIn(X,shift=UP),\n",
    "                lag_ratio=0.5))\n",
    "        self.wait(DELAY)\n",
    "        \n",
    "        \n",
    "        number_line = NumberLine(\n",
    "            x_range=[0,n_pts_numberline, 1],  # Range: start=-5, end=5, step=1\n",
    "            length=8,           # Total length of the number line\n",
    "            color=WHITE,          # Line color\n",
    "            include_numbers=True, # Show numbers on the line\n",
    "            #label_direction=UP,  # Place labels above the line\n",
    "        ).shift(off_y*DOWN)\n",
    "            \n",
    "        positions = [number_line.n2p(num) for num in range(0, n_pts_numberline+1)]  # Getting positions for -4 to 4\n",
    "        dots = VGroup(*[Dot(point=positions[i], color=n_color, radius=0.1) for i in range(1,n_pts_numberline+1)])\n",
    "        \n",
    "        self.play(FadeIn(number_line,shift=DOWN))\n",
    "        self.wait(DELAY)\n",
    "        \n",
    "        RectOne = Rectangle(width=positions[1][0] - positions[0][0],\n",
    "                            height=0.3,\n",
    "                            fill_color=WHITE,  # Fill color\n",
    "                            fill_opacity=0.3  # Opacity of the fill (0 is fully transparent, 1 is fully opaque)\n",
    "                           )\n",
    "        RectOne.set_x(0.5*(positions[0][0]+positions[1][0]))\n",
    "        RectOne.set_y(0.5*(positions[0][1]+positions[1][1]))\n",
    "        \n",
    "        U = MathTex(r\"U\",font_size=my_fs).next_to(RectOne,DOWN)\n",
    "        \n",
    "        self.play(LaggedStart(ReplacementTransform(approx[-1].copy(),RectOne),\n",
    "                  FadeIn(U,shift=DOWN),\n",
    "                 lag_ratio=0.5))\n",
    "        self.wait(DELAY)\n",
    "        \n",
    "        RectAll = Rectangle(width=positions[n_pts_numberline][0] - positions[0][0],\n",
    "                            height=0.3,\n",
    "                            fill_color=n_color,  # Fill color\n",
    "                            fill_opacity=0.5  # Opacity of the fill (0 is fully transparent, 1 is fully opaque)\n",
    "                           )\n",
    "        RectAll.set_x(0.5*(positions[0][0]+positions[n_pts_numberline][0]))\n",
    "        RectAll.set_y(0.5*(positions[0][1]+positions[n_pts_numberline][1]))\n",
    "        \n",
    "        \n",
    "        nU = MathTex(r\"n \", r\"U \",font_size=my_fs,tex_to_color_map=t2cD).next_to(RectAll,DOWN)\n",
    "        \n",
    "        n_copy = approx[-2].copy()\n",
    "        self.play(n_copy.animate.move_to(U))\n",
    "        self.play(ReplacementTransform(n_copy,nU[0]),ReplacementTransform(RectOne,RectAll),ReplacementTransform(U,nU[1]))\n",
    "        self.wait(DELAY)\n",
    "        \n",
    "        self.play(FadeOut(RectAll,number_line,number_line_top,dots_top,nU,X,shift=DOWN))\n",
    "        \n",
    "        #self.play(Transform(approx[0].copy(),dots))\n",
    "        #self.add(number_line,dots)\n",
    "        \n",
    "        global FINAL_MOBJECTS\n",
    "        FINAL_MOBJECTS = approx\n",
    "\n",
    "        \n",
    "        self.wait()"
   ]
  },
  {
   "cell_type": "code",
   "execution_count": 291,
   "id": "76a00e8d",
   "metadata": {},
   "outputs": [],
   "source": [
    "fs2 = 60\n",
    "FINAL_MOBJECTS_2 = None"
   ]
  },
  {
   "cell_type": "code",
   "execution_count": 325,
   "id": "53899f13",
   "metadata": {},
   "outputs": [
    {
     "name": "stdout",
     "output_type": "stream",
     "text": [
      "[(0, SingleStringMathTex('\\\\E')), (1, SingleStringMathTex('[')), (2, SingleStringMathTex(' \\\\max\\\\{')), (3, SingleStringMathTex('X ')), (4, SingleStringMathTex('_1,')), (5, SingleStringMathTex('X ')), (6, SingleStringMathTex('_2,')), (7, SingleStringMathTex('..,')), (8, SingleStringMathTex('X ')), (9, SingleStringMathTex('_{')), (10, SingleStringMathTex('m ')), (11, SingleStringMathTex('}')), (12, SingleStringMathTex('\\\\}')), (13, SingleStringMathTex(']'))]\n",
      "[(0, SingleStringMathTex(' \\\\max\\\\{')), (1, SingleStringMathTex('n ')), (2, SingleStringMathTex(' U _1,')), (3, SingleStringMathTex('n ')), (4, SingleStringMathTex(' U _2,')), (5, SingleStringMathTex('..,')), (6, SingleStringMathTex('n ')), (7, SingleStringMathTex(' U _{')), (8, SingleStringMathTex('m ')), (9, SingleStringMathTex('}')), (10, SingleStringMathTex('\\\\}'))]\n"
     ]
    },
    {
     "name": "stderr",
     "output_type": "stream",
     "text": [
      "                                                                                \r"
     ]
    },
    {
     "data": {
      "text/html": [
       "<video src=\"media/jupyter/FirstApproxP2@2024-12-18@19-48-33.mp4\" controls autoplay loop style=\"max-width: 60%;\"  >\n",
       "      Your browser does not support the <code>video</code> element.\n",
       "    </video>"
      ],
      "text/plain": [
       "<IPython.core.display.Video object>"
      ]
     },
     "metadata": {},
     "output_type": "display_data"
    }
   ],
   "source": [
    "%%manim -ql -v CRITICAL FirstApproxP2\n",
    "#-ql = quality low. change to -qh before final production\n",
    "#CRITICAL = only show critical errors\n",
    "\n",
    "\n",
    "\n",
    "class FirstApproxP2(Scene):\n",
    "    def construct(self):\n",
    "        \n",
    "        approx = FINAL_MOBJECTS\n",
    "        self.add(Mihai,Hints,approx)\n",
    "        \n",
    "        eqnLHS = MathTex(r\"\\E[\", r\" \\max\\{\", r\"X _1,\", r\"X _2,\", r\"..,\" , r\"X _{m }\",  r\"\\}\", r\"]\",\n",
    "                      tex_template=texPre, tex_to_color_map=t2cD,font_size=fs2)\n",
    "        \n",
    "        print(list(enumerate(eqnLHS)))\n",
    "        \n",
    "        eqnEq = MathTex(r\"\\approx\",\n",
    "                       tex_template=texPre, tex_to_color_map=t2cD,font_size=fs2)\n",
    "        \n",
    "        \n",
    "        eqnRHS = MathTex(r\" \\max\\{\", r\"n \", r\" U _1,\", r\"n \", r\" U _2,\", r\"..,\" , r\"n \", r\" U _{m }\",  r\"\\}\",\n",
    "                     tex_template=texPre, tex_to_color_map=t2cD,font_size=fs2)\n",
    "        \n",
    "        #eqnRHS[0].color = BLACK #hide the expected value on init\n",
    "        #eqnRHS[1].color = BLACK\n",
    "        #eqnRHS[-1].color = BLACK\n",
    "        \n",
    "        \n",
    "        print(list(enumerate(eqnRHS)))\n",
    "        \n",
    "        eqns = VGroup(eqnLHS, eqnEq, eqnRHS).arrange(RIGHT).next_to(approx,DOWN,buff=0.6)\n",
    "        eqns.shift( (eqnEq.get_x() - approx[1].get_x())*LEFT )\n",
    "        \n",
    "        eqnRHS2 = MathTex(r\"\\E[\", r\"n \", r\" \\max\\{\", r\" U _1,\", r\" U _2,\", r\"..,\" , r\" U _{m }\",  r\"\\}\", r\"]\",\n",
    "                     tex_template=texPre, tex_to_color_map=t2cD,font_size=fs2)\n",
    "        \n",
    "        eqnRHS2[0].color = BLACK\n",
    "        eqnRHS2[1].color = BLACK\n",
    "        eqnRHS2[-1].color = BLACK\n",
    "        eqnRHS2.set_y(eqnRHS.get_y())\n",
    "        eqnRHS2.align_to(eqnRHS,LEFT)\n",
    "        \n",
    "        eqnRHS3 = MathTex(r\"n \",r\"\\E[\",  r\" \\max\\{\", r\" U _1,\", r\" U _2,\", r\"..,\" , r\" U _{m }\",  r\"\\}\", r\"]\",\n",
    "                     tex_template=texPre, tex_to_color_map=t2cD,font_size=fs2)\n",
    "        \n",
    "        eqnRHS3.set_y(eqnRHS.get_y())\n",
    "        eqnRHS3.align_to(eqnRHS,LEFT)\n",
    "        \n",
    "        \n",
    "        #self.add(eqns)\n",
    "        #self.play(*[ReplacementTransform(approx[0].copy(),eqnLHS) for i in [1,2,3,4]])\n",
    "        \n",
    "        #self.play(Write(eqnLHS))\n",
    "        \n",
    "        #write in X_1,X_2,...,X_m from the X\n",
    "        self.play(LaggedStart(*[ReplacementTransform(approx[0].copy(),mob) \n",
    "                                for mob in [eqnLHS[3:5],eqnLHS[5:7],eqnLHS[7],eqnLHS[8:12]]],\n",
    "                               lag_ratio=0.7),\n",
    "                  run_time = 2,\n",
    "                 )\n",
    "        \n",
    "        #Write in \\approx\n",
    "        self.play(ReplacementTransform(approx[1].copy(),eqnEq))\n",
    "        \n",
    "        #Write in nU_1, \\ldots ,nU_m\n",
    "        self.play(LaggedStart(*[ReplacementTransform(approx[2:4].copy(),mob) \n",
    "                                for mob in [eqnRHS[1:3],eqnRHS[3:5],eqnRHS[5],eqnRHS[6:10]]],\n",
    "                               lag_ratio=0.7),\n",
    "                  run_time = 2,\n",
    "                 )\n",
    "        self.wait(DELAY)\n",
    "        \n",
    "        #add in the max to LHS and RHS\n",
    "        self.play(FadeIn(eqnLHS[2],eqnRHS[0],shift=RIGHT),FadeIn(eqnLHS[12],eqnRHS[10],shift=LEFT))\n",
    "        self.wait(DELAY)\n",
    "        \n",
    "        #group the factor of n to the outslide\n",
    "        self.play(TransformMatchingTex(eqnRHS,eqnRHS2,path_arc=-90 * DEGREES))\n",
    "        self.wait(DELAY)\n",
    "        \n",
    "        #prepare and fade in E\n",
    "        eqnRHS2[0].color = E_color #recolor these which were hidden before\n",
    "        eqnRHS2[1].color = E_color\n",
    "        eqnRHS2[-1].color = E_color\n",
    "        self.play(FadeIn(eqnLHS[0],eqnLHS[1],eqnRHS2[0],eqnRHS2[1],shift=RIGHT),FadeIn(eqnLHS[-1],eqnRHS2[-1],shift=LEFT))\n",
    "        self.wait(DELAY)\n",
    "        \n",
    "        #pull factor of n out of E\n",
    "        self.play(TransformMatchingTex(eqnRHS2,eqnRHS3,path_arc=-90 * DEGREES))\n",
    "        self.wait(DELAY)\n",
    "        \n",
    "        global FINAL_MOBJECTS_2\n",
    "        FINAL_MOBJECTS_2 = approx, eqnLHS, eqnEq, eqnRHS3\n",
    "        \n",
    "        \n",
    "        "
   ]
  },
  {
   "cell_type": "code",
   "execution_count": 327,
   "id": "62ac6a8e",
   "metadata": {},
   "outputs": [
    {
     "name": "stderr",
     "output_type": "stream",
     "text": [
      "                                                                                \r"
     ]
    },
    {
     "data": {
      "text/html": [
       "<video src=\"media/jupyter/FirstApproxP3@2024-12-18@19-49-43.mp4\" controls autoplay loop style=\"max-width: 60%;\"  >\n",
       "      Your browser does not support the <code>video</code> element.\n",
       "    </video>"
      ],
      "text/plain": [
       "<IPython.core.display.Video object>"
      ]
     },
     "metadata": {},
     "output_type": "display_data"
    }
   ],
   "source": [
    "%%manim -ql -v CRITICAL FirstApproxP3\n",
    "#-ql = quality low. change to -qh before final production\n",
    "#CRITICAL = only show critical errors\n",
    "\n",
    "\n",
    "\n",
    "class FirstApproxP3(Scene):\n",
    "    def construct(self):\n",
    "        approx, eqnLHS_old, eqnEq_old, eqnRHS_old = FINAL_MOBJECTS_2\n",
    "        \n",
    "        self.add(Mihai,Hints,approx,eqnLHS_old, eqnEq_old, eqnRHS_old)\n",
    "        \n",
    "        eqnLHS = MathTex(r\"\\E[\",  r\" \\max\\{\", r\" U _1,\", r\" U _2,\", r\"..,\" , r\" U _{m }\",  r\"\\}\", r\"]\",\n",
    "                     tex_template=texPre, tex_to_color_map=t2cD,font_size=fs2)\n",
    "        \n",
    "        eqnEq = MathTex(r\"=\",\n",
    "                       tex_template=texPre, tex_to_color_map=t2cD,font_size=fs2)\n",
    "        \n",
    "        \n",
    "        eqnRHS = MathTex(r\"{\", r\"m \", r\"\\over\", r\"{m + 1}\", r\"}\",\n",
    "                         tex_template=texPre, tex_to_color_map=t2cD,font_size=fs2)\n",
    "        \n",
    "        \n",
    "        eqns = VGroup(eqnLHS, eqnEq, eqnRHS).arrange(RIGHT).next_to(eqnRHS_old,DOWN,buff=0.6)\n",
    "        eqns.shift( (eqnEq.get_x() - eqnEq_old.get_x())*LEFT )\n",
    "        \n",
    "        #self.add(eqnRHS)\n",
    "        self.play(TransformMatchingTex(eqnRHS_old.copy(),eqnLHS))\n",
    "        self.play(FadeIn(eqnEq,shift=RIGHT))\n",
    "        self.wait(DELAY)\n",
    "        \n",
    "        #print(list(enumerate(eqnRHS)))\n",
    "        self.play(LaggedStart(*[Create(piece) for piece in eqnRHS],lag_ratio=0.75),run_time=3)\n",
    "        #self.wait(DELAY)\n",
    "        \n",
    "        eqnRHS_copy = eqnRHS.copy()\n",
    "        eqnRHS_copy.generate_target()\n",
    "        eqnRHS_copy.target.next_to(eqnRHS_old[0],RIGHT)\n",
    "        self.play(MoveToTarget(eqnRHS_copy),FadeOut(eqnRHS_old[1:]))\n",
    "        self.wait(DELAY)\n",
    "        \n",
    "        \n",
    "        "
   ]
  },
  {
   "cell_type": "code",
   "execution_count": 112,
   "id": "1781559e",
   "metadata": {},
   "outputs": [
    {
     "name": "stdout",
     "output_type": "stream",
     "text": [
      "[0, 0.1, 0.4, 0.6000000000000001, 1.0]\n",
      "[0, 0.3, 0.5, 0.9, 1.0]\n",
      "[0, 0.2, 0.6000000000000001, 0.7000000000000001, 1.0]\n",
      "[0, 0.4, 0.5, 0.8, 1.0]\n"
     ]
    },
    {
     "name": "stderr",
     "output_type": "stream",
     "text": [
      "                                                                                \r"
     ]
    },
    {
     "data": {
      "text/html": [
       "<video src=\"media/jupyter/BetaRV@2024-12-17@20-37-33.mp4\" controls autoplay loop style=\"max-width: 60%;\"  >\n",
       "      Your browser does not support the <code>video</code> element.\n",
       "    </video>"
      ],
      "text/plain": [
       "<IPython.core.display.Video object>"
      ]
     },
     "metadata": {},
     "output_type": "display_data"
    }
   ],
   "source": [
    "%%manim -ql -v CRITICAL BetaRV\n",
    "#-ql = quality low. change to -qh before final production\n",
    "#CRITICAL = only show critical errors\n",
    "\n",
    "my_fontsize = 65\n",
    "\n",
    "\n",
    "FINAL_MOBJECTS = None\n",
    "\n",
    "def rotate_list(lst, n):\n",
    "    n = n % len(lst)  # Handle cases where n > len(lst)\n",
    "    return lst[n:] + lst[:n]\n",
    "\n",
    "def cumulative_sum(lst):\n",
    "    result = [0]  # Start with 0\n",
    "    total = 0\n",
    "    for num in lst:\n",
    "        total += num\n",
    "        result.append(total)\n",
    "    return result\n",
    "\n",
    "class BetaRV(Scene):\n",
    "    def construct(self):\n",
    "        \n",
    "        num_arcs = 4\n",
    "        spaces = [0.1, 0.3, 0.2, 0.4] #must sum to 1\n",
    "        original_U_vals = cumulative_sum(spaces) #[0] + non_trivial_U_vals + [1]\n",
    "        U_vals = cumulative_sum(spaces)\n",
    "        angles = [2*PI*U_vals[i] for i in range(num_arcs+1)]\n",
    "        mycolor = [RED, BLUE, ORANGE, GREEN]\n",
    "        END_PT_COLOR = GREY\n",
    "        lbl_txt = [r\"S_1\",r\"S_2\",r\"S_3\",r\"S_4\"]\n",
    "        \n",
    "        my_radius = 1.25\n",
    "        \n",
    "        arcs = [Arc(radius=my_radius,start_angle=angles[i],angle=angles[i+1]-angles[i]) for i in range(num_arcs)]\n",
    "        labels = [ MathTex(lbl_txt[i],font_size = my_fontsize) for i in range(num_arcs)]\n",
    "        braces = [ArcBrace(arcs[i],RIGHT) for i in range(num_arcs)]\n",
    "        arc_dots = [Dot([my_radius*math.cos(angles[i]),my_radius*math.sin(angles[i]),0]) for i in range(num_arcs) ]\n",
    "        arc_dots[0].set_color(END_PT_COLOR)\n",
    "        \n",
    "        for i in range(num_arcs):\n",
    "            labels[i].move_to(1.0*braces[i].get_tip())# num_arc_points//2])\n",
    "            arcs[i].set_color(mycolor[i])\n",
    "            #labels[i].set_color(mycolor[i])\n",
    "            \n",
    "        VGroup(*arcs,*labels,*braces,*arc_dots).to_edge(DOWN,buff=0.2)\n",
    "        \n",
    "        self.add(*arcs,*labels,*arc_dots)\n",
    "        self.wait(2)\n",
    "        \n",
    "        num_arc_points = braces[0].n_points_per_curve\n",
    "        \n",
    "        my_lines = [None for i in range(num_arcs)]\n",
    "        my_line_dots = [None for i in range(num_arcs)]\n",
    "        \n",
    "        for perm in range(num_arcs):\n",
    "            l_scale = 2*PI*my_radius #/(2*spaces[0]+2*spaces[1]+2*spaces[2]+spaces[3])\n",
    "            U_vals = cumulative_sum(rotate_list(spaces,perm))\n",
    "            print(U_vals)\n",
    "            lines = [Line(start=U_vals[i]*RIGHT*l_scale, end=U_vals[i+1]*RIGHT*l_scale) for i in range(num_arcs)]    \n",
    "            line_dots = [Dot(U_vals[i]*RIGHT*l_scale) for i in range(num_arcs+1)]  \n",
    "            line_dots[0].set_color(END_PT_COLOR)\n",
    "            line_dots[-1].set_color(END_PT_COLOR)\n",
    "            \n",
    "            for i in range(num_arcs):\n",
    "                #arcs[i].set_color(mycolor[i])\n",
    "                #labels[i].set_color(rotate_list(mycolor,perm)[i])\n",
    "                lines[i].set_color(rotate_list(mycolor,perm)[i])\n",
    "            #labels[i].move_to(arcs[i].points[0])\n",
    "            #labels[i].move_to(1.0*braces[i].get_tip())# num_arc_points//2])\n",
    "            temp = VGroup(*lines,*line_dots).to_edge(LEFT).to_edge(UP, buff = 0.4*(1+perm)).shift(RIGHT*l_scale*original_U_vals[perm])\n",
    "            my_lines[perm] = lines\n",
    "            my_line_dots[perm] = line_dots\n",
    "            \n",
    "        for perm in range(num_arcs):\n",
    "            lines = my_lines[perm]\n",
    "            line_dots = my_line_dots[perm]\n",
    "            edge_anims = [ReplacementTransform(rotate_list(arcs,perm)[i].copy(),lines[i],arc_angle=270) for i in range(num_arcs)]\n",
    "            vertex_anims = [ReplacementTransform(rotate_list(arc_dots,0)[i].copy(),line_dots[i],arc_angle=90) for i in range(num_arcs)]\n",
    "            vertex_anims.append(ReplacementTransform(rotate_list(arc_dots,0)[0].copy(),line_dots[-1]))\n",
    "            \n",
    "            self.play(*edge_anims,*vertex_anims)\n",
    "            \n",
    "            if perm < num_arcs - 1:\n",
    "                label_anims = [labels[k].animate.move_to(labels[(k+1)%num_arcs]) for k in range(num_arcs)]\n",
    "                dot_anims = [arc_dots[k].animate.move_to(arc_dots[(k+1)%num_arcs]) for k in range(num_arcs)]\n",
    "                self.play(*label_anims, *dot_anims)\n",
    "            \n",
    "        #self.add(my_line[perm])\n",
    "            \n",
    "            \n",
    "        \n",
    "        \n",
    "        \n",
    "        self.wait(2)"
   ]
  },
  {
   "cell_type": "code",
   "execution_count": 12,
   "id": "41cc6c39",
   "metadata": {},
   "outputs": [
    {
     "name": "stderr",
     "output_type": "stream",
     "text": [
      "                                                                                \r"
     ]
    },
    {
     "data": {
      "text/html": [
       "<video src=\"media/jupyter/UnrollCircle@2024-12-17@19-57-13.mp4\" controls autoplay loop style=\"max-width: 60%;\"  >\n",
       "      Your browser does not support the <code>video</code> element.\n",
       "    </video>"
      ],
      "text/plain": [
       "<IPython.core.display.Video object>"
      ]
     },
     "metadata": {},
     "output_type": "display_data"
    }
   ],
   "source": [
    "%%manim -qh -v CRITICAL UnrollCircle\n",
    "from manim import *\n",
    "\n",
    "class UnrollCircle(Scene):\n",
    "    def construct(self):\n",
    "        # Create a circle and a line\n",
    "        circle_radius = 2\n",
    "        circle = Circle(radius=circle_radius, color=BLUE)\n",
    "        line_length = 2 * PI * circle_radius\n",
    "        line = Line(start=[-line_length / 2, 0, 0], end=[line_length / 2, 0, 0], color=GREEN)\n",
    "\n",
    "        # Position the circle above the line\n",
    "        circle.shift(UP * circle_radius)\n",
    "\n",
    "        # Create a dot at the circle's edge\n",
    "        dot = Dot(point=circle.point_from_proportion(0), color=RED)\n",
    "\n",
    "        # Add the circle, line, and dot to the scene\n",
    "        self.add(line, circle, dot)\n",
    "\n",
    "        # Animate the unrolling\n",
    "        self.play(\n",
    "            UnrollCircleToLine(circle, line, dot),\n",
    "            run_time=6,\n",
    "            rate_func=linear,\n",
    "        )\n",
    "        self.wait()\n",
    "\n",
    "\n",
    "class UnrollCircleToLine(Animation):\n",
    "    def __init__(self, circle, line, dot, **kwargs):\n",
    "        super().__init__(circle, **kwargs)\n",
    "        self.circle = circle\n",
    "        self.line = line\n",
    "        self.dot = dot\n",
    "        self.circle_radius = circle.radius\n",
    "        self.line_start = self.line.get_start()\n",
    "        self.line_length = self.line.get_length()\n",
    "\n",
    "    def interpolate_mobject(self, alpha):\n",
    "        # Compute the current x position of the circle center\n",
    "        new_center_x = self.line_start[0] + self.line_length * alpha\n",
    "\n",
    "        # Move the circle horizontally while keeping it tangent to the line\n",
    "        self.circle.move_to([new_center_x, self.circle_radius, 0])\n",
    "\n",
    "        # Rotate the circle to simulate unrolling\n",
    "        angle = -TAU * alpha\n",
    "        self.circle.rotate(angle)\n",
    "\n",
    "        # Move the dot along the edge of the circle\n",
    "        proportion = alpha % 1  # Ensure proportion stays between 0 and 1\n",
    "        dot_position = self.circle.point_from_proportion(proportion)\n",
    "        self.dot.move_to(dot_position)\n"
   ]
  },
  {
   "cell_type": "code",
   "execution_count": 126,
   "id": "788b29b5",
   "metadata": {},
   "outputs": [
    {
     "name": "stderr",
     "output_type": "stream",
     "text": [
      "                                                                                \r"
     ]
    },
    {
     "data": {
      "text/html": [
       "<video src=\"media/jupyter/UpdaterTest@2024-11-10@16-44-07.mp4\" controls autoplay loop style=\"max-width: 60%;\"  >\n",
       "      Your browser does not support the <code>video</code> element.\n",
       "    </video>"
      ],
      "text/plain": [
       "<IPython.core.display.Video object>"
      ]
     },
     "metadata": {},
     "output_type": "display_data"
    }
   ],
   "source": [
    "%%manim -qh -v CRITICAL UpdaterTest\n",
    "\n",
    "class UpdaterTest(Scene):\n",
    "    def construct(self):\n",
    "        # Create a dot and set its initial position\n",
    "        dot = Dot(point=LEFT * 4)\n",
    "\n",
    "        # Define the updater function to move the dot based on an absolute position\n",
    "        def update_dot(mob, dt):\n",
    "            # Calculate the new absolute position\n",
    "            new_x_position = mob.get_center()[0] + dt * 2  # Moving to the right at 2 units per second\n",
    "            new_position = np.array([new_x_position, mob.get_center()[1], 0])\n",
    "            \n",
    "            # Move dot to the new absolute position\n",
    "            mob.move_to(new_position)\n",
    "\n",
    "        # Add the updater to the dot\n",
    "        dot.add_updater(update_dot)\n",
    "\n",
    "        # Add the dot to the scene\n",
    "        self.add(dot)\n",
    "\n",
    "        # Play the animation for 4 seconds, dot will move to the right\n",
    "        self.wait(4)\n",
    "\n",
    "        # Remove the updater after animation\n",
    "        dot.remove_updater(update_dot)"
   ]
  },
  {
   "cell_type": "code",
   "execution_count": null,
   "id": "07410f82",
   "metadata": {},
   "outputs": [],
   "source": []
  }
 ],
 "metadata": {
  "kernelspec": {
   "display_name": "Python 3 (ipykernel)",
   "language": "python",
   "name": "python3"
  },
  "language_info": {
   "codemirror_mode": {
    "name": "ipython",
    "version": 3
   },
   "file_extension": ".py",
   "mimetype": "text/x-python",
   "name": "python",
   "nbconvert_exporter": "python",
   "pygments_lexer": "ipython3",
   "version": "3.9.12"
  }
 },
 "nbformat": 4,
 "nbformat_minor": 5
}
