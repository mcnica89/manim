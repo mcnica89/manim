{
  "nbformat": 4,
  "nbformat_minor": 0,
  "metadata": {
    "colab": {
      "provenance": [],
      "authorship_tag": "ABX9TyOqHRZvsksLwtW/tOXrE78Y",
      "include_colab_link": true
    },
    "kernelspec": {
      "name": "python3",
      "display_name": "Python 3"
    },
    "language_info": {
      "name": "python"
    }
  },
  "cells": [
    {
      "cell_type": "markdown",
      "metadata": {
        "id": "view-in-github",
        "colab_type": "text"
      },
      "source": [
        "<a href=\"https://colab.research.google.com/github/mcnica89/manim/blob/main/Heads-Tails-vs-Head-Heads-Coinflip_Game_Sims.ipynb\" target=\"_parent\"><img src=\"https://colab.research.google.com/assets/colab-badge.svg\" alt=\"Open In Colab\"/></a>"
      ]
    },
    {
      "cell_type": "code",
      "source": [
        "import numpy as np\n",
        "import matplotlib.pyplot as plt"
      ],
      "metadata": {
        "id": "0NEvM8ZoGEgI"
      },
      "execution_count": 1,
      "outputs": []
    },
    {
      "cell_type": "code",
      "source": [
        "def target_seq_sample(target_sequence,N_samples,N_max_coin_flips=100):\n",
        "  # Simulates playing the game until the \"target sequenence appears\"\n",
        "  # N_sample times and return an array of lenght N_samples with the outcomes\n",
        "  #\n",
        "  #Example: If N_sample = 2, and target_sequence = [0,0] then it will play the \n",
        "  #  game twice and see how many flips until \"HH\" appears\n",
        "  #  and return an array of size 2 with the two outcomes\n",
        "  #\n",
        "  #Important: It will give up after \"N_max_coin_flips\", so if HH does not appear\n",
        "  #  in this many coinflips, it will just return that number instead\n",
        "\n",
        "\n",
        "  #Generate a bunch of random coin flips\n",
        "  #Note that '0,2' means from 0 inclusive to 2 inclusive, so this is random binary \n",
        "  coin_flips = np.random.randint(0,2,(N_samples,N_max_coin_flips))\n",
        "  \n",
        "  def first_index(my_array,target):\n",
        "    #Find the index of the first appearence of the array b in a\n",
        "    for ix in range(len(my_array)-len(target)+1):\n",
        "      if np.all(my_array[ix:ix+len(target)] == target):\n",
        "        return ix+len(target)\n",
        "    \n",
        "    #If we haven't found it yet, just give up and return the maximum number\n",
        "    return N_max_coin_flips\n",
        "\n",
        "  #Find the first index \n",
        "  return np.array([first_index(coin_flips[i,:],target_sequence) for i in range(N_samples)])\n"
      ],
      "metadata": {
        "id": "BFNd7VsfHkK5"
      },
      "execution_count": 18,
      "outputs": []
    },
    {
      "cell_type": "code",
      "source": [
        "HT = np.array([0,1])\n",
        "HH = np.array([1,1])\n",
        "\n",
        "print(\"---HH----\")\n",
        "#Example: Flips until HH 3 times\n",
        "print(f\"3 samples for HH: {target_seq_sample(HH,3)}\")\n",
        "#Average afer 10,000 samp;ls\"\n",
        "print(f\" Avg for HH after 10,000 samples: {np.mean(target_seq_sample(HH,10000))}\")\n",
        "\n",
        "print(\"---HT----\")\n",
        "#Example: Flips until HH 3 times\n",
        "print(f\"3 samples for HT: {target_seq_sample(HT,3)}\")\n",
        "#Average afer 10,000 samp;ls\"\n",
        "print(f\" Avg for HT after 10,000 samples: {np.mean(target_seq_sample(HT,10000))}\")\n"
      ],
      "metadata": {
        "colab": {
          "base_uri": "https://localhost:8080/"
        },
        "id": "cI8Yfd_kfBse",
        "outputId": "a8a23955-23d3-4f00-e981-ebe860d049d3"
      },
      "execution_count": 28,
      "outputs": [
        {
          "output_type": "stream",
          "name": "stdout",
          "text": [
            "---HH----\n",
            "3 samples for HH: [6 4 5]\n",
            " Avg for HH after 10,000 samples: 6.0473\n",
            "---HT----\n",
            "3 samples for HT: [8 6 4]\n",
            " Avg for HT after 10,000 samples: 3.9955\n"
          ]
        }
      ]
    },
    {
      "cell_type": "code",
      "execution_count": 44,
      "metadata": {
        "colab": {
          "base_uri": "https://localhost:8080/",
          "height": 259
        },
        "id": "2lOzfYa1GA_5",
        "outputId": "f08ba5d9-263f-4324-c0b0-4982b71bac31"
      },
      "outputs": [
        {
          "output_type": "display_data",
          "data": {
            "text/plain": [
              "<Figure size 1008x504 with 0 Axes>"
            ]
          },
          "metadata": {}
        },
        {
          "output_type": "display_data",
          "data": {
            "text/plain": [
              "<Figure size 432x216 with 1 Axes>"
            ],
            "image/png": "[encoded data removed]"
          },
          "metadata": {}
        }
      ],
      "source": [
        "plt.style.use('dark_background')\n",
        "plt. figure(figsize=(14,7))\n",
        "\n",
        "HT = np.array([0,1])\n",
        "HH = np.array([1,1])\n",
        "\n",
        "myfontsize = 20\n",
        "fig, ax = plt.subplots()\n",
        "ax.set_xlabel('Number of rounds',fontsize=myfontsize)\n",
        "ax.set_ylabel('Cumulative flips',fontsize=myfontsize)\n",
        "\n",
        "N = 1000\n",
        "x = np.arange(1,N+1)\n",
        "HT_data = np.cumsum(target_seq_sample(HT,N))\n",
        "HH_data = np.cumsum(target_seq_sample(HH,N))\n",
        "\n",
        "HTa_line, = plt.plot(x, HT_data, linestyle='-',color='cornflowerblue', lw=3)\n",
        "HTb_line, = plt.plot(x, HT_data, color='yellow', linestyle=(2, (2, 2)), lw=3)\n",
        "\n",
        "HH_line, = plt.plot(x, HH_data, linestyle='-',color='cornflowerblue', lw=3)\n",
        "\n",
        "extreme = max(np.max(np.abs(HT_data)), np.max(np.abs(HH_data)))\n",
        "\n",
        "plt.axis([1,N, 0, max(extreme,6*N)])\n",
        "plt.legend([(HTa_line, HTb_line),(HH_line)], ['HT','HH'],fontsize=16)\n",
        "\n",
        "\n",
        "#L = 6\n",
        "#x = np.linspace(0, L)\n",
        "#ncolors = len(plt.rcParams['axes.prop_cycle'])\n",
        "#shift = np.linspace(0, L, ncolors, endpoint=False)\n",
        "#for s in shift:\n",
        "#    ax.plot(x, np.sin(x + s), 'o-')\n",
        "\n",
        "#ax.set_title(\"'dark_background' style sheet\")\n",
        "\n",
        "#plt.show()\n",
        "r = 0.3\n",
        "fig.tight_layout()\n",
        "fig.set_size_inches(20*r, 10*r)\n",
        "plt.savefig('bets.png', dpi=300)"
      ]
    }
  ]
}