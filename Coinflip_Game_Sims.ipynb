{
  "nbformat": 4,
  "nbformat_minor": 0,
  "metadata": {
    "colab": {
      "name": "Coinflip Game Sims.ipynb",
      "provenance": [],
      "authorship_tag": "ABX9TyNs3ZqEN5yEjhPOqBFA5yLx",
      "include_colab_link": true
    },
    "kernelspec": {
      "name": "python3",
      "display_name": "Python 3"
    },
    "language_info": {
      "name": "python"
    }
  },
  "cells": [
    {
      "cell_type": "markdown",
      "metadata": {
        "id": "view-in-github",
        "colab_type": "text"
      },
      "source": [
        "<a href=\"https://colab.research.google.com/github/mcnica89/manim/blob/main/Coinflip_Game_Sims.ipynb\" target=\"_parent\"><img src=\"https://colab.research.google.com/assets/colab-badge.svg\" alt=\"Open In Colab\"/></a>"
      ]
    },
    {
      "cell_type": "code",
      "source": [
        "import numpy as np\n",
        "import matplotlib.pyplot as plt"
      ],
      "metadata": {
        "id": "0NEvM8ZoGEgI"
      },
      "execution_count": 2,
      "outputs": []
    },
    {
      "cell_type": "code",
      "source": [
        "N = 30\n",
        "S = 100\n",
        "\n",
        "def sample(target_sequence,N_samples,N_coin_flips=30):\n",
        "  \n",
        "  coin_flips = np.random.random_integers(0,1,(N_samples,N_coin_flips))\n",
        "  \n",
        "  def first_index(a,b):\n",
        "    #Find the index of the first appearence of the array b in a\n",
        "    for ix in range(len(a)-len(b)+1):\n",
        "      if np.all(a[ix:ix+len(b)] == b):\n",
        "        return ix+len(b)\n",
        "    \n",
        "    return N_coin_flips\n",
        "\n",
        "  return np.array([first_index(coin_flips[i,:],target_sequence) for i in range(N_samples)])\n"
      ],
      "metadata": {
        "colab": {
          "base_uri": "https://localhost:8080/"
        },
        "id": "BFNd7VsfHkK5",
        "outputId": "95eaa4b9-dfe3-497c-e7d7-aae5f0e3b67b"
      },
      "execution_count": 32,
      "outputs": [
        {
          "output_type": "stream",
          "name": "stdout",
          "text": [
            "[5 4 2 2 7 3 2 3 4 3]\n"
          ]
        },
        {
          "output_type": "stream",
          "name": "stderr",
          "text": [
            "/usr/local/lib/python3.7/dist-packages/ipykernel_launcher.py:6: DeprecationWarning: This function is deprecated. Please call randint(0, 1 + 1) instead\n",
            "  \n"
          ]
        }
      ]
    },
    {
      "cell_type": "code",
      "execution_count": 94,
      "metadata": {
        "colab": {
          "base_uri": "https://localhost:8080/",
          "height": 314
        },
        "id": "2lOzfYa1GA_5",
        "outputId": "e0c62769-f4ef-42d6-e02c-bbc7866b93f4"
      },
      "outputs": [
        {
          "output_type": "stream",
          "name": "stderr",
          "text": [
            "/usr/local/lib/python3.7/dist-packages/ipykernel_launcher.py:6: DeprecationWarning: This function is deprecated. Please call randint(0, 1 + 1) instead\n",
            "  \n"
          ]
        },
        {
          "output_type": "display_data",
          "data": {
            "text/plain": [
              "<Figure size 1008x504 with 0 Axes>"
            ]
          },
          "metadata": {}
        },
        {
          "output_type": "display_data",
          "data": {
            "text/plain": [
              "<Figure size 432x216 with 1 Axes>"
            ],
            "image/png": "[encoded data removed]"
          },
          "metadata": {}
        }
      ],
      "source": [
        "plt.style.use('dark_background')\n",
        "plt. figure(figsize=(14,7))\n",
        "\n",
        "HT = np.array([0,1])\n",
        "HH = np.array([1,1])\n",
        "\n",
        "myfontsize = 20\n",
        "fig, ax = plt.subplots()\n",
        "ax.set_xlabel('Number of rounds',fontsize=myfontsize)\n",
        "ax.set_ylabel('Profit ($)',fontsize=myfontsize)\n",
        "\n",
        "N = 100\n",
        "x = np.arange(1,N+1) #np.arange(0, 2*np.pi, 0.2)\n",
        "HT_data = np.cumsum(5-sample(HT,N))\n",
        "HH_data = np.cumsum(5-sample(HH,N))\n",
        "\n",
        "HTa_line, = plt.plot(x, HT_data, linestyle='-',color='cornflowerblue', lw=3)\n",
        "HTb_line, = plt.plot(x, HT_data, color='yellow', linestyle=(2, (2, 2)), lw=3)\n",
        "\n",
        "HH_line, = plt.plot(x, HH_data, linestyle='-',color='cornflowerblue', lw=3)\n",
        "\n",
        "extreme = max(np.max(np.abs(HT_data)), np.max(np.abs(HH_data)))\n",
        "\n",
        "plt.axis([1,N, -extreme, extreme])\n",
        "plt.legend([(HTa_line, HTb_line),(HH_line)], ['HT','HH'],fontsize=16)\n",
        "\n",
        "\n",
        "#L = 6\n",
        "#x = np.linspace(0, L)\n",
        "#ncolors = len(plt.rcParams['axes.prop_cycle'])\n",
        "#shift = np.linspace(0, L, ncolors, endpoint=False)\n",
        "#for s in shift:\n",
        "#    ax.plot(x, np.sin(x + s), 'o-')\n",
        "\n",
        "#ax.set_title(\"'dark_background' style sheet\")\n",
        "\n",
        "#plt.show()\n",
        "r = 0.3\n",
        "fig.tight_layout()\n",
        "fig.set_size_inches(20*r, 10*r)\n",
        "plt.savefig('bets.png', dpi=300)"
      ]
    },
    {
      "cell_type": "code",
      "source": [
        ""
      ],
      "metadata": {
        "id": "8Qha_uBuGZSR"
      },
      "execution_count": null,
      "outputs": []
    }
  ]
}