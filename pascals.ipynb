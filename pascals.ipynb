{
 "cells": [
  {
   "cell_type": "code",
   "execution_count": 1,
   "id": "0dc9e868",
   "metadata": {},
   "outputs": [
    {
     "data": {
      "text/html": [
       "<pre style=\"white-space:pre;overflow-x:auto;line-height:normal;font-family:Menlo,'DejaVu Sans Mono',consolas,'Courier New',monospace\">Manim Community <span style=\"color: #008000; text-decoration-color: #008000\">v0.17.3</span>\n",
       "\n",
       "</pre>\n"
      ],
      "text/plain": [
       "Manim Community \u001b[32mv0.\u001b[0m\u001b[32m17.3\u001b[0m\n",
       "\n"
      ]
     },
     "metadata": {},
     "output_type": "display_data"
    },
    {
     "name": "stderr",
     "output_type": "stream",
     "text": [
      "/Users/mnica/opt/anaconda3/lib/python3.9/site-packages/_distutils_hack/__init__.py:33: UserWarning: Setuptools is replacing distutils.\n",
      "  warnings.warn(\"Setuptools is replacing distutils.\")\n"
     ]
    }
   ],
   "source": [
    "from manim import *\n",
    "from manim_voiceover import VoiceoverScene\n",
    "from manim_voiceover.services.gtts import GTTSService"
   ]
  },
  {
   "cell_type": "code",
   "execution_count": 192,
   "id": "33c688bc",
   "metadata": {},
   "outputs": [
    {
     "name": "stderr",
     "output_type": "stream",
     "text": [
      "                                                                                \r"
     ]
    },
    {
     "data": {
      "text/html": [
       "<video src=\"media/jupyter/pascal@2023-09-28@23-06-30.mp4\" controls autoplay loop style=\"max-width: 60%;\"  >\n",
       "      Your browser does not support the <code>video</code> element.\n",
       "    </video>"
      ],
      "text/plain": [
       "<IPython.core.display.Video object>"
      ]
     },
     "metadata": {},
     "output_type": "display_data"
    }
   ],
   "source": [
    "%%manim -ql -v CRITICAL pascal \n",
    "#--disable_caching tt_book\n",
    "#note that without --disable_caching the voice_over service will have a bug!\n",
    "#Description:\n",
    "#Intro scene that starts with dice rolls, and get to the question, But why is the CLT true?\n",
    "\n",
    "COLORS = [GREY,BLUE,RED]\n",
    "\n",
    "def LabeledTriangle(label='',my_scale=1,**triangle_args):\n",
    "    tri = Triangle(**triangle_args).scale(my_scale)\n",
    "    text = MathTex(label)\n",
    "    text.height = tri.height/2\n",
    "    text.set_x(tri.get_x())\n",
    "    text.align_to(tri,DOWN)\n",
    "    \n",
    "    text.shift(my_scale*0.21*UP)\n",
    "    tri.set_z_index(-1)\n",
    "    return VGroup(tri,text)\n",
    "\n",
    "def generate_pascals_triangle(num_rows,mod_k=None):\n",
    "    #generates num_rows of pascals triangle as a numpy array.\n",
    "    # if mod_k is not None, will return mod k of each row\n",
    "    pascal_t = np.zeros((num_rows, num_rows), dtype=int)\n",
    "    pascal_t[0,0] = 1\n",
    "    for i in range(num_rows-1):\n",
    "        if mod_k:\n",
    "            pascal_t[i+1,:] =np.mod( pascal_t[i,:] + np.roll(pascal_t[i,:],1) , mod_k)\n",
    "        else:\n",
    "            pascal_t[i+1,:] = pascal_t[i,:] + np.roll(pascal_t[i,:],1)\n",
    "    return pascal_t\n",
    "\n",
    "\n",
    "#,fill_color = BLUE,fill_opacity=0.5\n",
    "TRI = [LabeledTriangle(str(i),color=WHITE).scale(0.8) for i in range(10)]\n",
    "DELAY = 0.1\n",
    "\n",
    "class pascal(MovingCameraScene):\n",
    "    def construct(self):\n",
    "        n_rows = 33\n",
    "        \n",
    "        P_val = generate_pascals_triangle(n_rows+1)\n",
    "        P = [[None for i in range(n_rows)] for j in range(n_rows)]\n",
    "        P_temp = [[None for i in range(n_rows)] for j in range(n_rows)]\n",
    "        P[0][0] = TRI[1].copy()\n",
    "        P[0][0].to_edge(UP)\n",
    "        \n",
    "        w = P[0][0].width\n",
    "        h = P[0][0].height\n",
    "        x_init = P[0][0].get_x()\n",
    "        y_init = P[0][0].get_y()\n",
    "        \n",
    "        \n",
    "        #self.play(self.camera.frame.animate.set_height(h))\n",
    "        self.play(Create(P[0][0]))\n",
    "        self.wait(DELAY)\n",
    "        \n",
    "        \n",
    "        \n",
    "        #tri[0][0].color = BLUE\n",
    "        \n",
    "        \n",
    "        \n",
    "        \n",
    "        for n in range(1,n_rows):\n",
    "            for k in range(n+1):\n",
    "                tri = LabeledTriangle(str(P_val[n,k]),color=WHITE).scale(0.8)\n",
    "                P[n][k] = tri #TRI[int(P_val[n,k])].copy() #set the triangle\n",
    "                P[n][k].set_x(x_init + w*(k-0.5*n)) #set the position\n",
    "                P[n][k].set_y(y_init - h*n)\n",
    "        \n",
    "        \n",
    "        def AnimateIn(n,k): \n",
    "            #animation to bring in the box [n,k]\n",
    "            anim_list = []\n",
    "            if k > 0:\n",
    "                anim_list.append(Transform(P[n-1][k-1].copy(),P[n][k])) #left parent\n",
    "            if k < n:\n",
    "                anim_list.append(Transform(P[n-1][k].copy(),P[n][k])) #right parent\n",
    "            return anim_list\n",
    "        \n",
    "        \n",
    "        \n",
    "        #animate in the first 5 rows, 1 row at a time\n",
    "        for n in range(1,5):\n",
    "            anim_list = []\n",
    "            for k in range(n+1):\n",
    "                anim_list.extend(AnimateIn(n,k))\n",
    "            self.play(*anim_list)\n",
    "            \n",
    "        P_copy = P[0][0].copy()\n",
    "        P_copy[0].set_fill(BLUE,opacity=1.0)\n",
    "        self.play(FadeTransform(P[0][0],P_copy))\n",
    "        #self.play(FadeIn(P[0][0],shift=DOWN).copy())    \n",
    "        #set color for odd guys!\n",
    "        for n in range(n_rows):\n",
    "            for k in range(n+1):\n",
    "                if P_val[n,k] % 2 == 1:\n",
    "                    P[n][k][0].set_fill(BLUE, opacity=1.0)\n",
    "                \n",
    "        \n",
    "        #reanimate first 5 rows, should add in the colors!\n",
    "        for n in range(1,5):\n",
    "            anim_list = []\n",
    "            for k in range(n+1):\n",
    "                anim_list.extend(AnimateIn(n,k))\n",
    "            self.play(*anim_list)\n",
    "        \n",
    "        #add more rows while zooming out\n",
    "        for n in range(5,n_rows):\n",
    "            anim_list = []\n",
    "            for k in range(n+1):\n",
    "                anim_list.extend(AnimateIn(n,k))\n",
    "            \n",
    "            self.play(\n",
    "                AnimationGroup(\n",
    "                    self.camera.frame.animate.move_to(np.array([x_init,y_init-h*(n+1)/2,0])).scale(1.0+1.0/n),\n",
    "                    #self.camera.frame.ScreenRectangle.animate.set_height((n+1)*h+4),\n",
    "                    *anim_list,\n",
    "                ),\n",
    "                rate_func=rate_functions.linear\n",
    "            )\n",
    "            #self.play(*anim_list)\n",
    "                \n",
    "            #self.play(*anim_list)\n",
    "        \n",
    "        \n",
    "        "
   ]
  },
  {
   "cell_type": "code",
   "execution_count": null,
   "id": "a294b223",
   "metadata": {},
   "outputs": [],
   "source": []
  }
 ],
 "metadata": {
  "kernelspec": {
   "display_name": "Python 3 (ipykernel)",
   "language": "python",
   "name": "python3"
  },
  "language_info": {
   "codemirror_mode": {
    "name": "ipython",
    "version": 3
   },
   "file_extension": ".py",
   "mimetype": "text/x-python",
   "name": "python",
   "nbconvert_exporter": "python",
   "pygments_lexer": "ipython3",
   "version": "3.9.12"
  }
 },
 "nbformat": 4,
 "nbformat_minor": 5
}
