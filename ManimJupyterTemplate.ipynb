{
 "cells": [
  {
   "cell_type": "code",
   "execution_count": 1,
   "id": "800d5110",
   "metadata": {},
   "outputs": [
    {
     "name": "stderr",
     "output_type": "stream",
     "text": [
      "/Users/mnica/opt/anaconda3/lib/python3.9/site-packages/scipy/__init__.py:146: UserWarning: A NumPy version >=1.16.5 and <1.23.0 is required for this version of SciPy (detected version 1.26.4\n",
      "  warnings.warn(f\"A NumPy version >={np_minversion} and <{np_maxversion}\"\n",
      "/Users/mnica/opt/anaconda3/lib/python3.9/site-packages/_distutils_hack/__init__.py:33: UserWarning: Setuptools is replacing distutils.\n",
      "  warnings.warn(\"Setuptools is replacing distutils.\")\n"
     ]
    }
   ],
   "source": [
    "from manim import *\n",
    "import math\n",
    "import numpy as np\n",
    "from manim_slides import *\n",
    "\n",
    "####\n",
    "# Instructions for using manim-slides/manim in Jupyter and then how to render final product:\n",
    "#1. Make a function in each scene callsed:\n",
    "# DELAY = 0.1\n",
    "# def pause(self):\n",
    "#   self.wait(DELAY)\n",
    "#   self.next_slide()\n",
    "#2. Put self.pause() after every animation where you want to pause\n",
    "#3. Decide to use either manim-slides or manim jupyter magic for the notebook:\n",
    "# a. For manim-slides make each class MyScene(Slide) and then use:\n",
    "#    %%manim_slides -ql -v WARNING MyScene --manim-slides controls=true data_uri=false\n",
    "#    Controls: Toggle Full Screen (F), Quit (Q), Play/Pause (Space), Next (Right), Previous (Left), Reverse (V), Replay (R), Hide/Show Mouse (H).\n",
    "#    See all slides (Esc)\n",
    "#    custom cli commands other than controls=false can be found at. https://manim-slides.eertmans.be/latest/reference/customize_html.html\n",
    "# b. For regular manim video use class MyScene(Scene) and then use:\n",
    "#    %%manim -ql -v CRITICAL MySlide\n",
    "#    -ql means quality low, this is useful for faster rendering during development\n",
    "#    Can also use: --progress_bar [display|leave|none] for the progress bar\n",
    "#.   -v WARNING sets the verboisty level to \"WARNING\"\n",
    "#.  Muse comment out #self.next_slide() in the pause function.\n",
    "#4. Use self.next_section to skip animations (for faster rendering)\n",
    "#   In regular manim (not slides)\n",
    "#   Use:\n",
    "#    self.next_section(skip_animations=True)\n",
    "#    ...code you want to skip the animations for here...\n",
    "#    self.next_section() \n",
    "#    ...code you are wokring on here...\n",
    "#\n",
    "# When ready to render do:\n",
    "# 1. Comment out all the jupyter magic and all the next_section(skip_animations=True)\n",
    "# 2. Save as all_scenes.py file with all the scenes\n",
    "# 3. In terminal run:\n",
    "# manim -qh all_scenes.py Scene1 Scene2 Scene3\n",
    "# manim-slides present Scene1 Scene2 Scene3\n",
    "#\n",
    "# Manim juptyer magic commands:\n",
    "# %%manim -ql -v WARNING MyScene\n",
    "# %%manim_slides -ql -v WARNING MyScene --manim-slides controls=true\n"
   ]
  },
  {
   "cell_type": "code",
   "execution_count": 2,
   "id": "0cef9bcc",
   "metadata": {},
   "outputs": [],
   "source": [
    "## Global Variables and Stuff ##\n",
    "config.media_embed = True\n",
    "DELAY = 0.1\n",
    "\n",
    "# latex preamble\n",
    "texPre = TexTemplate()\n",
    "texPre.add_to_preamble(r\"\"\"\n",
    "    \\usepackage{amsmath}\n",
    "    \\usepackage{amssymb}\n",
    "    \\newcommand{\\E}{\\mathbb{E}}\n",
    "    \\newcommand{\\vect}[1]{\\mathbf{#1}}\n",
    "\"\"\") \n",
    "\n",
    "# tex color dictionary\n",
    "E_color = GREY_B\n",
    "t2cD = {\n",
    "    \"\\E\":E_color,\n",
    "}\n",
    "\n",
    "# font sizes\n",
    "my_fs = 75"
   ]
  },
  {
   "cell_type": "code",
   "execution_count": 3,
   "id": "05be3326",
   "metadata": {},
   "outputs": [],
   "source": [
    "## Global Variables to Store Final Mobjects Passed Between Scenes ##\n",
    "FINAL_MOBJECTS = None"
   ]
  },
  {
   "cell_type": "code",
   "execution_count": 4,
   "id": "c207c849",
   "metadata": {},
   "outputs": [
    {
     "data": {
      "text/html": [
       "<pre style=\"white-space:pre;overflow-x:auto;line-height:normal;font-family:Menlo,'DejaVu Sans Mono',consolas,'Courier New',monospace\">Manim Community <span style=\"color: #008000; text-decoration-color: #008000\">v0.18.1</span>\n",
       "\n",
       "</pre>\n"
      ],
      "text/plain": [
       "Manim Community \u001b[32mv0.\u001b[0m\u001b[32m18.1\u001b[0m\n",
       "\n"
      ]
     },
     "metadata": {},
     "output_type": "display_data"
    },
    {
     "name": "stderr",
     "output_type": "stream",
     "text": [
      "                                                                                \r"
     ]
    },
    {
     "name": "stdout",
     "output_type": "stream",
     "text": [
      "(0, SingleStringMathTex('Hello World'))\n"
     ]
    },
    {
     "name": "stderr",
     "output_type": "stream",
     "text": [
      "                                                                                \r"
     ]
    },
    {
     "data": {
      "text/html": [
       "<video controls autoplay loop style=\"max-width: 60%;\"  >\n",
       " <source src=\"data:video/mp4;base64,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\" type=\"video/mp4\">\n",
       " Your browser does not support the video tag.\n",
       " </video>"
      ],
      "text/plain": [
       "<IPython.core.display.Video object>"
      ]
     },
     "metadata": {},
     "output_type": "display_data"
    }
   ],
   "source": [
    "%%manim -ql -v WARNING MyScene\n",
    "# %%manim_slides -ql -v WARNING MyScene --manim-slides controls=true\n",
    "# Choose to do regular manim or manim-slides by choosing the correct jupyter magic. Must be first line.\n",
    "\n",
    "class MyScene(Scene): # change to MyScene(Slide) for manim-slides\n",
    "    def pause(self):\n",
    "        self.wait(DELAY)\n",
    "        #self.next_slide() #comment in for manim-slides\n",
    "    def construct(self):\n",
    "        self.next_section(skip_animations=True) #comment out for manim-slides\n",
    "        self.pause()\n",
    "        \n",
    "        square = Square()\n",
    "        circle = Circle()\n",
    "\n",
    "        self.play(Create(square))\n",
    "        self.pause()\n",
    "        \n",
    "        self.play(Transform(square, circle))\n",
    "        self.pause()\n",
    "        \n",
    "        ###\n",
    "        self.next_section() #comment out for manim-slied\n",
    "        \n",
    "        text = MathTex(\"Hello World\",\n",
    "                       tex_template=texPre, tex_to_color_map=t2cD,font_size=my_fs)\n",
    "        text.to_edge(UP)\n",
    "        print(*enumerate(text),sep=\"\\n\")\n",
    "        \n",
    "        self.play(FadeIn(text,shift=DOWN))\n",
    "        self.pause()"
   ]
  },
  {
   "cell_type": "code",
   "execution_count": null,
   "id": "f0af65b7",
   "metadata": {},
   "outputs": [],
   "source": []
  },
  {
   "cell_type": "code",
   "execution_count": null,
   "id": "22ed9c59",
   "metadata": {},
   "outputs": [],
   "source": []
  }
 ],
 "metadata": {
  "kernelspec": {
   "display_name": "Python 3 (ipykernel)",
   "language": "python",
   "name": "python3"
  },
  "language_info": {
   "codemirror_mode": {
    "name": "ipython",
    "version": 3
   },
   "file_extension": ".py",
   "mimetype": "text/x-python",
   "name": "python",
   "nbconvert_exporter": "python",
   "pygments_lexer": "ipython3",
   "version": "3.9.12"
  }
 },
 "nbformat": 4,
 "nbformat_minor": 5
}
