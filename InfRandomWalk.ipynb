{
 "cells": [
  {
   "cell_type": "code",
   "execution_count": 98,
   "id": "bf630561",
   "metadata": {},
   "outputs": [],
   "source": [
    "from manim import *\n",
    "import math\n",
    "import numpy as np\n",
    "from manim_slides import *\n",
    "import random\n",
    "import os\n",
    "os.environ[\"PATH\"] = \"/Library/TeX/texbin:\" + os.environ[\"PATH\"]"
   ]
  },
  {
   "cell_type": "code",
   "execution_count": 2,
   "id": "7a0f2d29",
   "metadata": {},
   "outputs": [],
   "source": [
    "## Global Variables and Stuff ##\n",
    "#config.media_embed = True\n",
    "DELAY = 0.1\n",
    "\n",
    "# latex preamble\n",
    "texPre = TexTemplate()\n",
    "texPre.add_to_preamble(r\"\"\"\n",
    "    \\usepackage{amsmath}\n",
    "    \\usepackage{amssymb}\n",
    "    \\newcommand{\\E}{\\mathbb{E}}\n",
    "    \\newcommand{\\P}{\\mathbb{P}}\n",
    "    \\newcommand{\\vect}[1]{\\mathbf{#1}}\n",
    "\"\"\") \n",
    "\n",
    "# tex color dictionary\n",
    "E_color = GREY_B\n",
    "n_color = BLUE_C\n",
    "T_color = ORANGE\n",
    "F_color = PURPLE_A\n",
    "k_color = GREEN\n",
    "x_color = TEAL\n",
    "f_color = r\"#FFB347\"\n",
    "t2cD = {\n",
    "    r\"\\mathbb{E}\": E_color,\n",
    "    r\"\\mathbb{P}\": E_color,\n",
    "    r\"\\big(\": E_color,\n",
    "    r\"\\big)\": E_color,\n",
    "    \"n \": n_color,\n",
    "    \"T \": T_color,\n",
    "    \"F_\": F_color,\n",
    "    \"k \": k_color,\n",
    "    \"x \": x_color,\n",
    "    \"x{}\": x_color,\n",
    "    \"1{}\": x_color,\n",
    "    \" f\" : f_color\n",
    "}\n",
    "\n",
    "# font sizes\n",
    "my_fs = 75\n",
    "\n",
    "#other colors\n",
    "\n",
    "house_color = WHITE\n",
    "dot_color = WHITE\n",
    "edge_color = BLUE"
   ]
  },
  {
   "cell_type": "code",
   "execution_count": 15,
   "id": "8f0befb9",
   "metadata": {},
   "outputs": [],
   "source": [
    "\n",
    "def stick_man(eye_angle = 0.1, my_scale = 0.5):\n",
    "    # Head\n",
    "    head = Circle(radius=0.7, fill_opacity=1,color=WHITE ).shift(UP * 0.5)\n",
    "    # Draw the spider's eyes\n",
    "    eye1 = Circle(radius=0.25, color=BLACK, fill_opacity=1).shift(UP * 0.7 + LEFT * 0.3)\n",
    "    eye2 = Circle(radius=0.25, color=BLACK, fill_opacity=1).shift(UP * 0.7 + RIGHT * 0.3)\n",
    "    # Add eyeballs to the eyes\n",
    "    eye_x = np.cos(eye_angle)*0.1\n",
    "    eye_y = np.sin(eye_angle)*0.1\n",
    "    eyeball1 = Circle(radius=0.1, color=WHITE, fill_opacity=1).shift(UP * 0.7 + RIGHT*eye_x + UP*eye_y + LEFT * 0.3)\n",
    "    eyeball2 = Circle(radius=0.1, color=WHITE, fill_opacity=1).shift(UP * 0.7 + RIGHT*eye_x + UP*eye_y + RIGHT * 0.3)\n",
    "    # Body\n",
    "    body = Line(head.get_bottom(), head.get_bottom() + DOWN * 1.5)\n",
    "    # Arms (sloped downward from shoulders)\n",
    "    shoulder_y = head.get_bottom()[1] - 0.3\n",
    "    arms = VGroup(\n",
    "        Line(start=[0, shoulder_y, 0], end=[-0.8, shoulder_y - 0.4, 0]),  # Left arm sloping down\n",
    "        Line(start=[0, shoulder_y, 0], end=[0.8, shoulder_y - 0.4, 0])   # Right arm sloping down\n",
    "    )\n",
    "    # Legs (from bottom of body)\n",
    "    leg_start = body.get_end()\n",
    "    legs = VGroup(\n",
    "        Line(leg_start, leg_start + DOWN * 1 + LEFT * 0.5),  # Left leg\n",
    "        Line(leg_start, leg_start + DOWN * 1 + RIGHT * 0.5)  # Right leg\n",
    "    )\n",
    "    # Group and display\n",
    "    return VGroup(head, eye1, eye2, eyeball1, eyeball2, body, arms, legs).scale(my_scale).set_z_index(2)\n",
    "\n",
    "def get_angle(mobject1, mobject2):\n",
    "    # Get direction vectors of the two Mobjects\n",
    "    delta_x = mobject2.get_x() - mobject1.get_x()\n",
    "    delta_y = mobject2.get_y() - mobject1.get_y()\n",
    "\n",
    "    # Calculate the angle between the two vectors\n",
    "    return math.atan2(delta_y, delta_x)\n",
    "    "
   ]
  },
  {
   "cell_type": "code",
   "execution_count": 16,
   "id": "befde896",
   "metadata": {},
   "outputs": [],
   "source": [
    "## Global Variables to Store Final Mobjects Passed Between Scenes ##\n",
    "FINAL_MOBJECTS = None\n",
    "FINAL_MOBJECTS_2 = None"
   ]
  },
  {
   "cell_type": "code",
   "execution_count": 106,
   "id": "ef16ba7d",
   "metadata": {},
   "outputs": [
    {
     "data": {
      "text/html": [
       "<pre style=\"white-space:pre;overflow-x:auto;line-height:normal;font-family:Menlo,'DejaVu Sans Mono',consolas,'Courier New',monospace\">Manim Community <span style=\"color: #008000; text-decoration-color: #008000\">v0.19.0</span>\n",
       "\n",
       "</pre>\n"
      ],
      "text/plain": [
       "Manim Community \u001b[32mv0.\u001b[0m\u001b[32m19.0\u001b[0m\n",
       "\n"
      ]
     },
     "metadata": {},
     "output_type": "display_data"
    },
    {
     "name": "stderr",
     "output_type": "stream",
     "text": [
      "                                                                                           \r"
     ]
    },
    {
     "data": {
      "text/html": [
       "<video src=\"media/jupyter/Test@2025-06-05@14-07-49.mp4\" controls autoplay loop style=\"max-width: 60%;\"  >\n",
       "      Your browser does not support the <code>video</code> element.\n",
       "    </video>"
      ],
      "text/plain": [
       "<IPython.core.display.Video object>"
      ]
     },
     "metadata": {},
     "output_type": "display_data"
    }
   ],
   "source": [
    "%%manim -ql -v WARNING Test\n",
    "#%%manim_slides -ql -v WARNING Spider --manim-slides controls=false\n",
    "# Choose to do regular manim or manim-slides by choosing the correct jupyter magic. Must be first line.\n",
    "\n",
    "class Test(Scene):  # Scene): # change to MyScene(Slide) for manim-slides\n",
    "    def pause(self):\n",
    "        self.wait(DELAY)\n",
    "        #self.next_slide() #comment in for manim-slides\n",
    "    \n",
    "    def construct(self):\n",
    "        # Create the number line using dots and connecting lines\n",
    "        number_line_max = 4\n",
    "        number_range = range(-number_line_max, number_line_max + 1)  # -2 to 2\n",
    "        spacing = 1  # Horizontal spacing between dots\n",
    "\n",
    "        dots = [Dot(point=[x * spacing, 0, 0],color=x_color) for x in number_range]\n",
    "        lines = VGroup()\n",
    "        line_color = GREY_A\n",
    "        for i in range(len(dots) - 1):\n",
    "            line = Line(dots[i].get_center(), dots[i + 1].get_center(),color=line_color).set_z_index(-1)\n",
    "            lines.add(line)\n",
    "\n",
    "        # Add ellipses on each end to suggest infinite extension\n",
    "        x_buff = 0.6\n",
    "        \n",
    "        left_ellipsis = MathTex(r\"\\ldots\",color=line_color).next_to(dots[0], LEFT, buff=x_buff)\n",
    "        right_ellipsis = MathTex(r\"\\ldots\",color=line_color).next_to(dots[-1], RIGHT, buff=x_buff)\n",
    "        \n",
    "        lines.add(Line(dots[0].get_center(), left_ellipsis.get_right() + RIGHT*x_buff*0.2,color=line_color).set_z_index(-1))\n",
    "        lines.add(Line(dots[-1].get_center(), right_ellipsis.get_left() + LEFT*x_buff*0.2,color=line_color).set_z_index(-1))\n",
    "        \n",
    "\n",
    "        # Add labels below each dot\n",
    "        labels = VGroup()\n",
    "        y_buff = 0.4\n",
    "        for i, x in enumerate(number_range):\n",
    "            if x < 0:\n",
    "                label = MathTex(\"-\", str(abs(x)),color=x_color)\n",
    "                target = dots[i].get_bottom() + DOWN * y_buff\n",
    "                offset = target - label[1].get_center()\n",
    "                label.shift(offset)\n",
    "            else:\n",
    "                label = MathTex(str(x),color=x_color)\n",
    "                label.move_to(dots[i].get_bottom() + DOWN * y_buff)\n",
    "            labels.add(label)\n",
    "\n",
    "        # Assemble the number line\n",
    "        number_line = VGroup(*dots, lines, labels, left_ellipsis, right_ellipsis)\n",
    "\n",
    "        # Add the stick figure above the center dot (at 0)\n",
    "        figure_pos = 0\n",
    "        figure = stick_man().next_to(dots[number_line_max+figure_pos], UP, buff=0.1)  # dots[2] corresponds to x = 0\n",
    "\n",
    "        #self.play(FadeIn(number_line), FadeIn(figure))\n",
    "        self.add(number_line, figure)\n",
    "        self.wait()\n",
    "\n",
    "        #coin_flips = 'HTHH'\n",
    "        n_flips = 6\n",
    "        random.seed(1)\n",
    "        coin_flips = ''.join(random.choice(['H', 'T']) for _ in range(n_flips))\n",
    "        c_scale = 1.0\n",
    "        coin_mobs = VGroup(*[H.copy().scale(c_scale) if c=='H' else T.copy().scale(c_scale) for c in coin_flips]).arrange(RIGHT)\n",
    "        coin_mobs.to_corner(UL)\n",
    "        \n",
    "        for i in range(len(coin_mobs)):\n",
    "            delta_x = (1 if coin_flips[i]=='H' else -1)\n",
    "           \n",
    "            flip_anims = animate_flip(coin_mobs[i],coin_flips[i])\n",
    "            for ix in range(len(flip_anims)):\n",
    "                #print(ix)\n",
    "                flip_anim = flip_anims[ix]\n",
    "                figure.generate_target()\n",
    "                #print(figure_pos + (-1)**(ix%2))\n",
    "                figure.target = stick_man(eye_angle = 3*PI/2 + PI/3*(-1)**(ix%2 + (delta_x+1)/2 ))\n",
    "                 # get_angle(figure[0],))  #dots[number_line_max + figure_pos + 2*(-1)**(ix%2)]))\n",
    "                figure.target.move_to(figure)\n",
    "                self.play(flip_anim,MoveToTarget(figure),run_time=0.2)\n",
    "\n",
    "            figure.generate_target()\n",
    "            figure.target = stick_man(eye_angle = 3*PI/2)\n",
    "            figure_pos_post = figure_pos + delta_x\n",
    "            #print(figure_pos,figure_pos_post)\n",
    "            figure.target.next_to(dots[number_line_max+figure_pos_post], UP, buff=0.1)\n",
    "            self.play(MoveToTarget(figure,path_arc=(-1)**((delta_x+1)/2)*PI/2))\n",
    "            figure_pos = figure_pos_post\n",
    "\n",
    "        self.wait(2)\n"
   ]
  },
  {
   "cell_type": "code",
   "execution_count": 70,
   "id": "4d3366b4",
   "metadata": {},
   "outputs": [],
   "source": [
    "#Global variable with H coin and T coin used throughout\n",
    "H = LabeledDot(MathTex(r\"\\stackrel{\\text{H}}{\\rightarrow}\", color=BLACK), radius=0.35, color=BLUE).scale(1.5)\n",
    "T = LabeledDot(MathTex(r\"\\stackrel{\\text{T}}{\\leftarrow}\", color=BLACK), radius=0.35, color=YELLOW_B).scale(1.5)\n",
    "empty_coin = LabeledDot(Tex(\"$T$\", color=BLACK), radius=0.35, color=BLACK).scale(1.5)   \n",
    "\n",
    "\n",
    "def set_target_location(A,B):\n",
    "    A.target.set_x(B.get_x())\n",
    "    A.target.set_y(B.get_y())\n",
    "    \n",
    "def set_new_location(A,B):\n",
    "    A.set_x(B.get_x())\n",
    "    A.set_y(B.get_y())\n",
    "\n",
    "\n",
    "def animate_flip(coin,final='H',n_flips=1,side_H = None, side_T = None,my_scale=1):\n",
    "    #RETURNS a list of animations that animate the mobject \"coin\" being flipped\n",
    "    #The \"final\" variable incidicates what you want it to be at the end of the flipping\n",
    "    #To animate a coin, use a loop to play the animations:\n",
    "    \n",
    "    # for a in animate_flip(coins[i],coin_flips[i]):\n",
    "    #            self.play(a,run_time=0.2)\n",
    "    \n",
    "    global H,T\n",
    "    \n",
    "    if side_H == None:\n",
    "        side_H = H\n",
    "    \n",
    "    if side_T == None:\n",
    "        side_T = T\n",
    "    \n",
    "    full_fc = [side_H.copy().move_to(coin.get_center()),side_T.copy().move_to(coin.get_center())]\n",
    "    anim_list = []\n",
    "    for i in range(2):\n",
    "        coin.generate_target()\n",
    "        coin.target.stretch(0.01,dim=1)\n",
    "        #coin.target.color = BLACK\n",
    "        anim_list.append(MoveToTarget(coin))\n",
    "\n",
    "        coin.color = BLACK\n",
    "        coin.generate_target()\n",
    "\n",
    "        offset = 1 if final=='H' else 0 #Ensures the coin lands on the side requested\n",
    "        coin.target = full_fc[ (i+offset) % 2]\n",
    "\n",
    "        anim_list.append(MoveToTarget(coin))\n",
    "    return anim_list*n_flips"
   ]
  },
  {
   "cell_type": "code",
   "execution_count": null,
   "id": "8c0747f3",
   "metadata": {},
   "outputs": [
    {
     "data": {
      "text/html": [
       "<pre style=\"white-space:pre;overflow-x:auto;line-height:normal;font-family:Menlo,'DejaVu Sans Mono',consolas,'Courier New',monospace\">Manim Community <span style=\"color: #008000; text-decoration-color: #008000\">v0.19.0</span>\n",
       "\n",
       "</pre>\n"
      ],
      "text/plain": [
       "Manim Community \u001b[32mv0.\u001b[0m\u001b[32m19.0\u001b[0m\n",
       "\n"
      ]
     },
     "metadata": {},
     "output_type": "display_data"
    },
    {
     "name": "stderr",
     "output_type": "stream",
     "text": [
      "                                                                             \r"
     ]
    },
    {
     "data": {
      "text/html": [
       "<video src=\"media/jupyter/Test2@2025-06-05@13-38-42.mp4\" controls autoplay loop style=\"max-width: 60%;\"  >\n",
       "      Your browser does not support the <code>video</code> element.\n",
       "    </video>"
      ],
      "text/plain": [
       "<IPython.core.display.Video object>"
      ]
     },
     "metadata": {},
     "output_type": "display_data"
    }
   ],
   "source": [
    "%%manim -ql -v WARNING Test2\n",
    "#%%manim_slides -ql -v WARNING Spider --manim-slides controls=false\n",
    "# Choose to do regular manim or manim-slides by choosing the correct jupyter magic. Must be first line.\n",
    "\n",
    "class Test2(Scene):  # Scene): # change to MyScene(Slide) for manim-slides\n",
    "    def pause(self):\n",
    "        self.wait(DELAY)\n",
    "        #self.next_slide() #comment in for manim-slides\n",
    "    def construct(self):\n",
    "        #self.next_section()\n",
    "        coin_flips = 'HTHH'\n",
    "        c_scale = 1.0\n",
    "        coin_mobs = VGroup(*[H.copy().scale(c_scale) if c=='H' else T.copy().scale(c_scale) for c in coin_flips]).arrange(RIGHT)\n",
    "        \n",
    "        for i in range(len(coin_mobs)):\n",
    "            for a in animate_flip(coin_mobs[i],coin_flips[i]):\n",
    "                self.play(a,run_time=0.2)\n",
    "        self.wait(2)\n",
    "    "
   ]
  },
  {
   "cell_type": "code",
   "execution_count": null,
   "id": "787004b5",
   "metadata": {},
   "outputs": [],
   "source": []
  }
 ],
 "metadata": {
  "kernelspec": {
   "display_name": ".venv",
   "language": "python",
   "name": "python3"
  },
  "language_info": {
   "codemirror_mode": {
    "name": "ipython",
    "version": 3
   },
   "file_extension": ".py",
   "mimetype": "text/x-python",
   "name": "python",
   "nbconvert_exporter": "python",
   "pygments_lexer": "ipython3",
   "version": "3.9.6"
  }
 },
 "nbformat": 4,
 "nbformat_minor": 5
}
