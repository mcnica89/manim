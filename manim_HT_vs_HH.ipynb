{
 "cells": [
  {
   "cell_type": "code",
   "execution_count": 83,
   "metadata": {},
   "outputs": [
    {
     "data": {
      "text/plain": [
       "[2]"
      ]
     },
     "execution_count": 83,
     "metadata": {},
     "output_type": "execute_result"
    }
   ],
   "source": [
    "l = []\n",
    "l.append(2)\n",
    "l"
   ]
  },
  {
   "cell_type": "code",
   "execution_count": 1,
   "metadata": {
    "id": "e9SPvhhmxRTr"
   },
   "outputs": [
    {
     "data": {
      "text/html": [
       "<pre style=\"white-space:pre;overflow-x:auto;line-height:normal;font-family:Menlo,'DejaVu Sans Mono',consolas,'Courier New',monospace\">Manim Community <span style=\"color: #008000; text-decoration-color: #008000\">v0.16.0.post0</span>\n",
       "\n",
       "</pre>\n"
      ],
      "text/plain": [
       "Manim Community \u001b[32mv0.\u001b[0m\u001b[32m16.0\u001b[0m\u001b[32m.post0\u001b[0m\n",
       "\n"
      ]
     },
     "metadata": {},
     "output_type": "display_data"
    }
   ],
   "source": [
    "from manim import *"
   ]
  },
  {
   "cell_type": "code",
   "execution_count": 426,
   "metadata": {},
   "outputs": [],
   "source": [
    "#Global variable with H coin and T coin used throughout\n",
    "H = LabeledDot(Tex(\"H\", color=BLACK), radius=0.35, color=BLUE).scale(1.5)\n",
    "T = LabeledDot(Tex(\"T\", color=BLACK), radius=0.35, color=YELLOW).scale(1.5)\n",
    "empty_coin = LabeledDot(Tex(\"$T$\", color=BLACK), radius=0.35, color=BLACK).scale(1.5)   \n",
    "\n",
    "def animate_flip(coin,final='H',n_flips=2,side_H = None, side_T = None):\n",
    "    #RETURNS a list of animations that animate the mobject \"coin\" being flipped\n",
    "    #The \"final\" variable incidicates what you want it to be at the end of the flipping\n",
    "    #To animate a coin, use a loop to play the animations:\n",
    "    \n",
    "    # for a in animate_flip(coins[i],coin_flips[i]):\n",
    "    #            self.play(a,run_time=0.2)\n",
    "    \n",
    "    global H,T\n",
    "    \n",
    "    if side_H == None:\n",
    "        side_H = H\n",
    "    \n",
    "    if side_T == None:\n",
    "        side_T = T\n",
    "    \n",
    "    full_fc = [side_H.copy().move_to(coin.get_center()),side_T.copy().move_to(coin.get_center())]\n",
    "    anim_list = []\n",
    "    for i in range(2):\n",
    "        coin.generate_target()\n",
    "        coin.target.stretch(0.01,dim=1)\n",
    "        #coin.target.color = BLACK\n",
    "        anim_list.append(MoveToTarget(coin))\n",
    "\n",
    "        coin.color = BLACK\n",
    "        coin.generate_target()\n",
    "\n",
    "        offset = 1 if final=='H' else 0 #Ensures the coin lands on the side requested\n",
    "        coin.target = full_fc[ (i+offset) % 2]\n",
    "\n",
    "        anim_list.append(MoveToTarget(coin))\n",
    "    return anim_list*n_flips"
   ]
  },
  {
   "cell_type": "markdown",
   "metadata": {},
   "source": [
    "# Teaser"
   ]
  },
  {
   "cell_type": "code",
   "execution_count": null,
   "metadata": {},
   "outputs": [],
   "source": [
    "#Bunch of coins flipping accross the screen and title of the video written. \n",
    "#Idea: Letters on the coinflips accross the screen?\n",
    "#Title:\n",
    "# Betting on coin flips: Are two heads better than one?"
   ]
  },
  {
   "cell_type": "markdown",
   "metadata": {},
   "source": []
  },
  {
   "cell_type": "code",
   "execution_count": 489,
   "metadata": {},
   "outputs": [
    {
     "name": "stderr",
     "output_type": "stream",
     "text": [
      "                                                                                                                                                                                                                                                             \r"
     ]
    },
    {
     "data": {
      "text/html": [
       "<video src=\"media/jupyter/teaser@2022-07-27@11-51-56.mp4\" controls autoplay loop style=\"max-width: 60%;\"  >\n",
       "      Your browser does not support the <code>video</code> element.\n",
       "    </video>"
      ],
      "text/plain": [
       "<IPython.core.display.Video object>"
      ]
     },
     "metadata": {},
     "output_type": "display_data"
    }
   ],
   "source": [
    "%%manim -v CRITICAL teaser\n",
    "class teaser(Scene):\n",
    "    def construct(self):\n",
    "        \n",
    "                \n",
    "        nflip = 4\n",
    "        colr = [BLUE, YELLOW]\n",
    "        \n",
    "        def create_coins(n):\n",
    "            coins = VGroup()\n",
    "            for i in range(n):    \n",
    "                my_H = LabeledDot(Tex('H', color=BLACK), radius=0.35, color=BLUE).scale(1.5)\n",
    "                coins += my_H\n",
    "            coins.arrange(RIGHT)\n",
    "            return coins\n",
    "        \n",
    "        def create_coins_anim(coins_H,coins_T,coins):             \n",
    "            coins_anim = [None for i in range(len(coins))]\n",
    "            for i in range(len(coins)):\n",
    "                my_H = LabeledDot(Tex(coins_H[i], color=BLACK), radius=0.35, color=colr[ i % 2]).scale(1.5)\n",
    "                my_T = LabeledDot(Tex(coins_T[i], color=BLACK), radius=0.35, color=colr[ (i+1) % 2]).scale(1.5)\n",
    "                coins_anim[i] = animate_flip(coins[i],final='H',n_flips=nflip,side_H = my_H, side_T = my_T)\n",
    "            return coins_anim\n",
    "        \n",
    "        coins1 = create_coins(4)\n",
    "        \n",
    "        coins2 = create_coins(4)\n",
    "        vg = VGroup(coins1,coins2).arrange(RIGHT)\n",
    "        vg.shift(3*UP)\n",
    "        coins1.shift(0.5*LEFT)\n",
    "        coins2.shift(0.5*RIGHT)\n",
    "        \n",
    "        coins1_anim = create_coins_anim('COIN','PROB',coins1) \n",
    "        for i in range(2*nflip):\n",
    "            anim_list = [ my_anim[i] for my_anim in coins1_anim ]\n",
    "            self.play(*anim_list, run_time = 0.1)\n",
    "        \n",
    "        \n",
    "        coins2_anim = create_coins_anim('FLIP','BLTY',coins2)\n",
    "        for i in range(2*nflip):\n",
    "            anim_list = [ my_anim[i] for my_anim in coins2_anim ]\n",
    "            self.play(*anim_list, run_time = 0.1)\n",
    "        \n",
    "        \n",
    "        coins3 = create_coins(6)\n",
    "        coins3.next_to(coins1,DOWN)\n",
    "        coins3.set_x(0)\n",
    "        coins3_anim = create_coins_anim('CASINO','MAGIC!',coins3)\n",
    "        for i in range(2*nflip):\n",
    "            anim_list = [ my_anim[i] for my_anim in coins3_anim ]\n",
    "            self.play(*anim_list, run_time = 0.1)\n",
    "        \n",
    "        \n",
    "        \n",
    "        \n",
    "        text = Tex(\"Are two heads better than one?\").scale(1.5)\n",
    "        #text.next_to(coins2,2*DOWN)\n",
    "        text.set_x(0)\n",
    "        text.set_y(0)\n",
    "        self.play(Write(text))\n",
    "        "
   ]
  },
  {
   "cell_type": "markdown",
   "metadata": {},
   "source": [
    "# Example Flips"
   ]
  },
  {
   "cell_type": "code",
   "execution_count": 427,
   "metadata": {},
   "outputs": [
    {
     "name": "stderr",
     "output_type": "stream",
     "text": [
      "                                                                                                                                                                                                                                                             \r"
     ]
    },
    {
     "data": {
      "text/html": [
       "<video src=\"media/jupyter/game_rules@2022-07-27@11-02-28.mp4\" controls autoplay loop style=\"max-width: 60%;\"  >\n",
       "      Your browser does not support the <code>video</code> element.\n",
       "    </video>"
      ],
      "text/plain": [
       "<IPython.core.display.Video object>"
      ]
     },
     "metadata": {},
     "output_type": "display_data"
    }
   ],
   "source": [
    "%%manim -v CRITICAL game_rules\n",
    "class game_rules(Scene):\n",
    "    def construct(self):\n",
    "        \n",
    "        pause_len = 0\n",
    "        \n",
    "        \n",
    "        \n",
    "        \n",
    "        global H,T,empty_coin\n",
    "        \n",
    "        \n",
    "        question = Tex(\"\\emph{Q}: Which target sequence should you choose?\").scale(1.25)\n",
    "        question.to_corner(UL)\n",
    "        #self.play(Write(question))\n",
    "        \n",
    "        title = Tex(\"Game Rules\").scale(1.25)\n",
    "        title.to_corner(UL)\n",
    "        title.set_x(0)\n",
    "        \n",
    "        \n",
    "        text1a = Tex(r\"$\\bullet$ You choose a \\emph{target sequence} of 2 coins\")\n",
    "        text1b = Tex(r\" e.g. \")\n",
    "        step1 = VGroup(text1a,text1b,H.copy().scale(0.75),H.copy().scale(0.75))\n",
    "        step1.arrange(RIGHT)\n",
    "        step1.next_to(question,DOWN)\n",
    "        step1.align_to(question,LEFT)\n",
    "        \n",
    "        \n",
    "        \n",
    "        step2 = Tex(r\"$\\bullet$ We flip coins until target appears\")\n",
    "        step2.to_corner(UL)\n",
    "        step2.next_to(text1a,DOWN)\n",
    "        step2.align_to(text1a,LEFT)\n",
    "        \n",
    "        \n",
    "        coin_flips = 'THTHH'\n",
    "        coins = VGroup(*[H.copy() if c=='H' else T.copy() for c in coin_flips])\n",
    "        coins.arrange(RIGHT)\n",
    "        coins.next_to(step2,4*DOWN) #shift(UP*0.5)\n",
    "        coins.set_x(0)\n",
    "        \n",
    "        coin_flip_animations = [None for i in range(len(coin_flips))]\n",
    "        for i in range(len(coin_flips)):\n",
    "            coin_flip_animations[i] = animate_flip(coins[i],coin_flips[i])\n",
    "        \n",
    "        \n",
    "        eg = Tex(\"e.g. \")\n",
    "        eg.next_to(coins,LEFT)\n",
    "        \n",
    "        \n",
    "        \n",
    "        #Animations\n",
    "        \n",
    "        #Initial coin flipping sequence\n",
    "        for i in range(len(coin_flips)):\n",
    "            for a in coin_flip_animations[i]:\n",
    "                self.play(a,run_time=0.1)\n",
    "        \n",
    "        self.play(FadeOut(coins))\n",
    "        \n",
    "        #Rules for target sequence game\n",
    "        self.play(Write(title))\n",
    "        \n",
    "        #Step 1 \n",
    "        self.play(Write(text1a))\n",
    "        self.wait(pause_len)\n",
    "        step1 -= text1a\n",
    "        self.play(Write(step1))\n",
    "        self.wait(pause_len)\n",
    "        \n",
    "        #Step 2\n",
    "        self.play(Write(step2))\n",
    "        self.wait(pause_len)\n",
    "        \n",
    "        #Example Coin flips\n",
    "        \n",
    "        self.play(Write(eg))\n",
    "        for i in range(len(coin_flips)):\n",
    "            for a in coin_flip_animations[i]:\n",
    "                self.play(a,run_time=0.1)\n",
    "        \n",
    "        \n",
    "        box = SurroundingRectangle( VGroup(coins[-2],coins[-1]), color=WHITE, buff=SMALL_BUFF)\n",
    "        self.play(Write(box))\n",
    "        self.wait(pause_len)\n",
    "        \n",
    "        \n",
    "        #text3 = Tex(r\"Define $N_{HH} := $ Number of coinflips until target reached\",color=WHITE)\n",
    "        #text3.next_to(coins,3*DOWN)\n",
    "        #self.play(Write(text3))\n",
    "        #self.wait(pause_len)\n",
    "        \n",
    "        step3 = VGroup( Tex(r\"$\\bullet$ You pay \"),Tex(r\"$\\$1$\",color=RED),Tex(\" for each coin flipped\") )\n",
    "        step3.arrange(RIGHT)\n",
    "        step3.next_to(coins,4*DOWN)\n",
    "        step3.align_to(step2,LEFT)\n",
    "        self.play(Write(step3))\n",
    "        self.wait(pause_len)\n",
    "        \n",
    "        step4 = VGroup( Tex(r\"$\\bullet$ You win \"),Tex(r\"$\\$5$\",color=GREEN), Tex(\" once target is reached\"))\n",
    "        step4.arrange(RIGHT)\n",
    "        step4.next_to(step3,DOWN)\n",
    "        step4.align_to(step3,LEFT)\n",
    "        self.play(Write(step4))\n",
    "        self.wait(pause_len)\n",
    "        \n",
    "        N_HH = Tex(r\"$N_{HH}=5$\",color=WHITE)\n",
    "        N_HH.next_to(box,UP)\n",
    "        self.play(Write(N_HH))\n",
    "        self.wait(pause_len)\n",
    "        \n",
    "        \n",
    "        question.set_x(0)\n",
    "        title.generate_target()\n",
    "        title.target = question\n",
    "        self.play(MoveToTarget(title))#Write(question))\n",
    "        self.wait(pause_len)\n",
    "        \n",
    "        \n",
    "        \n",
    "        \n",
    "        \n",
    "        #outcome_text = Tex(\"Your net winnings: \")\n",
    "        #p5 = Tex(r\"$+\\$5 $\", color=GREEN)\n",
    "        #m5 = Tex(r\"$-\\$ N$\", color=RED) #Tex(r\"$-\\$5 $\", color=RED)\n",
    "        #e0 = Tex(r\"$ = \\$0 $\", color=WHITE)\n",
    "        #outcome = VGroup(outcome_text,p5,m5,e0)\n",
    "        #outcome.arrange(RIGHT)\n",
    "        #outcome.next_to(step3,DOWN)\n",
    "        #outcome.set_x(0)\n",
    "        #self.play(Write(outcome))\n",
    "        \n",
    "        \n",
    "        \n",
    "        \n",
    "        "
   ]
  },
  {
   "cell_type": "markdown",
   "metadata": {},
   "source": [
    "Voiceover:\n",
    "\n",
    "Welcome to the coinflip casino where the only thing we bet on are sequences of fair coin flips. Here are the rules to one of our most popular casino games.\n",
    "\n",
    "You start by choosing a target sequence of 2 coin flips. For example, you could choose the sequence \"Heads Heads\".\n",
    "\n",
    "We then start flipping coins and only stop once we reach the target. For example, the coins might come out Tails, Heads, Tails, Heads, Heads, at which point we have reached the target and we stop.\n",
    "\n",
    "You have to pay $1 for each coin that was flipped, but you win $5 once the target is reached. In this example, there were N equals 5 flips until Heads-Head was reached, so by serindipty you break even on the bet. In general, you win money if your target sequence appears in less than 5 coin flips, and you lose money when it takes more than 5. \n",
    "\n",
    "The question in this video is which target sequence should you chose? Of the 4 possible sequences, HH, HT, TH or TT can you pick the best one? Or can you convinve yourself that it doesn't matter which sequence is chosen? Pause and ponder which sequence you would choose if offered this bet. Write in the comments which target sequence you think is best."
   ]
  },
  {
   "cell_type": "markdown",
   "metadata": {},
   "source": [
    "# Answer"
   ]
  },
  {
   "cell_type": "code",
   "execution_count": 254,
   "metadata": {},
   "outputs": [
    {
     "name": "stderr",
     "output_type": "stream",
     "text": [
      "                                                                                                                                                                                                                                                             \r"
     ]
    },
    {
     "data": {
      "text/html": [
       "<video src=\"media/jupyter/answer@2022-07-25@14-13-05.mp4\" controls autoplay loop style=\"max-width: 60%;\"  >\n",
       "      Your browser does not support the <code>video</code> element.\n",
       "    </video>"
      ],
      "text/plain": [
       "<IPython.core.display.Video object>"
      ]
     },
     "metadata": {},
     "output_type": "display_data"
    }
   ],
   "source": [
    "%%manim -v CRITICAL answer\n",
    "class answer(Scene):\n",
    "    def construct(self):\n",
    "        pause_len = 1\n",
    "        global H,T,empty_coin\n",
    "        \n",
    "        answer = Tex(\"\\emph{A}: Not all target sequences are the same!\").scale(1.15)\n",
    "        answer.to_corner(UL)\n",
    "        answer.set_x(0)\n",
    "        self.play(Write(answer))\n",
    "        self.pause(pause_len)\n",
    "        \n",
    "        myTemplate = TexTemplate()\n",
    "        myTemplate.add_to_preamble(r\"\\usepackage{mathrsfs}\") \n",
    "        \n",
    "        \n",
    "        cflips = [[H.copy(),H.copy()],[H.copy(),T.copy()],[T.copy(),H.copy()],[T.copy(),T.copy()]]\n",
    "        E_cflips = [r\"$\\mathbb{E}[N_{HH}]=6$\",r\"$\\mathbb{E}[N_{HT}]=4$\",r\"$\\mathbb{E}[N_{TH}]=4$\",r\"$\\mathbb{E}[N_{TT}]=6$\"]\n",
    "        final_colrs = [RED,GREEN,GREEN,RED]\n",
    "        CC = cflips\n",
    "        ECC = E_cflips\n",
    "        TblEntry = cflips\n",
    "        \n",
    "        for i in range(4):\n",
    "            CC[i] = VGroup(*cflips[i]).arrange(RIGHT).scale(0.8) #Tex(cflips[i],color=WHITE).scale(1.5)\n",
    "            ECC[i] = Tex(E_cflips[i],tex_template=myTemplate,color=BLACK) # final_colrs[i])\n",
    "            TblEntry[i] = VGroup(CC[i],ECC[i]).arrange(DOWN)\n",
    "        \n",
    "        tbl = MobjectTable([[TblEntry[0],TblEntry[1]],[TblEntry[2],TblEntry[3]]]).scale(1.2)  \n",
    "        #tbl = MobjectTable([[TblEntry[0],TblEntry[1]],[TblEntry[2],TblEntry[3]]]).scale(1.2)  \n",
    "        \n",
    "        \n",
    "        self.play(Write(tbl),run_time=1)\n",
    "        self.wait(pause_len)\n",
    "        \n",
    "        def animate_and_show(which_ix):\n",
    "            for ix in which_ix:\n",
    "                CC[ix].generate_target()\n",
    "                ECC[ix].generate_target()\n",
    "                ECC[ix].target.set_color(final_colrs[ix])\n",
    "                CC[ix].target.scale(1.2)\n",
    "            self.play(*[MoveToTarget(CC[ix]) for ix in which_ix ])\n",
    "            self.play(*[MoveToTarget(ECC[ix]) for ix in which_ix ])\n",
    "            self.wait(pause_len)\n",
    "        \n",
    "        animate_and_show([0])\n",
    "        animate_and_show([1])    \n",
    "        animate_and_show([2,3])\n",
    "        \n",
    "        \n",
    "    \n",
    "        \n",
    "        \n",
    "        "
   ]
  },
  {
   "cell_type": "markdown",
   "metadata": {},
   "source": [
    "The completly counterintuitive answer is that some sequences are better than others! Heads-Heads is a losing target-sequence! It takes on average 6 coinflips to reach HH, which means you are losing a dollar each time you play the game on average. We indicate this fact here with an \"E\" for \"expected value\" or \"average value\", and use the notation N_HH to mean the \"number of coinflips until HH is reached\".  \n",
    "\n",
    "On the other hand, the target sequence Heads-Tails is winning! It only takes 4 coinflips on average to reach this, so you gain a dollar on average each time you play. \n",
    "\n",
    "\n",
    "By the symmetry of swapping the label Heads with the label Tails on the coin, the target sequences TT and TH are the same as HH and HT respectively. The surprsing counterintuitive fact is that a target sequence with two of the same coin is genuinly differnt than one with two different coins. In the rest of the video, I'll give an intuitive explanation of why HH takes longer than HT on average and also show a really slick way to calcualt these numbers 4 and 6."
   ]
  },
  {
   "cell_type": "markdown",
   "metadata": {},
   "source": [
    "# Intuition"
   ]
  },
  {
   "cell_type": "code",
   "execution_count": null,
   "metadata": {},
   "outputs": [],
   "source": [
    "# Might consider putting this before the problems?\n",
    "# Graphs with three nodes"
   ]
  },
  {
   "cell_type": "markdown",
   "metadata": {},
   "source": [
    "# Problems to solve"
   ]
  },
  {
   "cell_type": "code",
   "execution_count": 258,
   "metadata": {},
   "outputs": [
    {
     "name": "stderr",
     "output_type": "stream",
     "text": [
      "                                                                                                                                                                                                                                                             \r"
     ]
    },
    {
     "data": {
      "text/html": [
       "<video src=\"media/jupyter/problem@2022-07-25@14-19-25.mp4\" controls autoplay loop style=\"max-width: 60%;\"  >\n",
       "      Your browser does not support the <code>video</code> element.\n",
       "    </video>"
      ],
      "text/plain": [
       "<IPython.core.display.Video object>"
      ]
     },
     "metadata": {},
     "output_type": "display_data"
    }
   ],
   "source": [
    "%%manim -v CRITICAL problem\n",
    "class problem(Scene):\n",
    "    def construct(self):\n",
    "        pause_len = 1\n",
    "        global H,T,empty_coin\n",
    "        \n",
    "        define = Tex(\"For target sequences of any length, define:\")\n",
    "        define.to_corner(UL)\n",
    "        defns = MathTex(r\"N_{\\text{target}} &= \\text{Number of coinflips until target} \\\\ \\mathbb{E}[N_{\\text{target}}] &= \\text{Average number of coinflips until target}\")\n",
    "        defns.next_to(define,DOWN)\n",
    "        defns.set_x(0)\n",
    "        self.play(Write(define))\n",
    "        self.play(Write(defns))\n",
    "        \n",
    "        #myTemplate = TexTemplate()\n",
    "        #myTemplate.add_to_preamble(r\"\\usepackage{mathrsfs}\") \n",
    "        \n",
    "        #textB = Tex(r\"b\")\n",
    "        #textC = Tex(r\"a\")\n",
    "        #defn = VGroup(textA,textB,textC).arrange(DOWN,aligned_edge=LEFT)\n",
    "        #defn.to_corner(UL)\n",
    "        \n",
    "        q = Tex(\"Which of these length  4 target sequences takes the longest?\")\n",
    "        q.next_to(defns,DOWN)\n",
    "        q.align_to(define,LEFT)\n",
    "        q.shift(DOWN)\n",
    "        self.play(Write(q))\n",
    "        \n",
    "        text1 = Tex(r\"$\\mathbb{E}[N_{HHTT}]=?$\")\n",
    "        text2 = Tex(r\"$\\mathbb{E}[N_{HTHT}]=?$\")\n",
    "        text3 = Tex(r\"$\\mathbb{E}[N_{HTTH}]=?$\")\n",
    "        vg = VGroup(text1,text2,text3).arrange(DOWN)\n",
    "        vg.next_to(q,DOWN)\n",
    "        #self.play(Write(defn))\n",
    "        self.play(Write(vg))\n",
    "        \n",
    "        "
   ]
  },
  {
   "cell_type": "markdown",
   "metadata": {},
   "source": [
    "The same counterintiuitve phenonomena applies to longer target sequences. Using the same notation that N subscript a target sequence is the number of coinflips until the sequence is reached, we can ask the question how many flips on aveage do these length 4 sequences take on average? All three sequences have 2 tails and 2 heads, and it intuitively seems like they should all be the same, but actually they give three different values. Can you guess which ones takes the most number of flips and which one takes the fewest? By the end of the video we will have a quick and easy one line solution for these sequences!"
   ]
  },
  {
   "cell_type": "markdown",
   "metadata": {},
   "source": [
    "# Setting up the Casino"
   ]
  },
  {
   "cell_type": "code",
   "execution_count": 498,
   "metadata": {},
   "outputs": [
    {
     "name": "stderr",
     "output_type": "stream",
     "text": [
      "                                                                                                                                                                                                                                                             \r"
     ]
    },
    {
     "data": {
      "text/html": [
       "<video src=\"media/jupyter/casino@2022-07-27@11-58-54.mp4\" controls autoplay loop style=\"max-width: 60%;\"  >\n",
       "      Your browser does not support the <code>video</code> element.\n",
       "    </video>"
      ],
      "text/plain": [
       "<IPython.core.display.Video object>"
      ]
     },
     "metadata": {},
     "output_type": "display_data"
    }
   ],
   "source": [
    "%%manim -v CRITICAL casino\n",
    "class casino(Scene):\n",
    "    def construct(self):\n",
    "        \n",
    "        pause_len = 0\n",
    "        text1 = Tex(r'Idea: Imagine a \\underline{FAIR}  Casino').scale(1.2)\n",
    "        text1.to_corner(UL)\n",
    "        self.play(Write(text1))\n",
    "        self.wait(pause_len)\n",
    "        \n",
    "        global H\n",
    "        \n",
    "        text_top = Tex(r\"$50\\%$ chance to go to \", \"\\$2\")\n",
    "        text_top.set_color_by_tex(r\"\\$2\",GREEN)\n",
    "        text_bot = Tex(r\"$50\\%$ chance to go to \", \"\\$0\")\n",
    "        text_bot.set_color_by_tex(r\"\\$0\",RED)\n",
    "        matrix = MobjectMatrix([[text_top], \n",
    "                                [text_bot]], \n",
    "        v_buff=0.8, \n",
    "        h_buff=0.8, \n",
    "        bracket_h_buff=SMALL_BUFF, \n",
    "        bracket_v_buff=SMALL_BUFF, \n",
    "        left_bracket=\"\\{\", \n",
    "        right_bracket=\"\\}\").scale(1.2) \n",
    "        #mob.set_row_colors(YELLOW, YELLOW) \n",
    "        \n",
    "        bra = matrix.get_brackets()\n",
    "        bra[1].set_color(BLACK)\n",
    "        \n",
    "        text = Tex(r\"Bet \", r\"\\$1\", \" on \").scale(1.2)\n",
    "        #text.set_color_by_tex(r\"\\$1\",WHITE)\n",
    "        \n",
    "        vg = VGroup(text,H.copy(),Tex(r\"$\\rightarrow$\"),matrix)\n",
    "        vg.arrange(RIGHT)  \n",
    "        \n",
    "        vg.next_to(text1,2*DOWN)\n",
    "        vg.set_x(0)\n",
    "        \n",
    "        vg -= matrix\n",
    "        self.play(Write(vg))   \n",
    "        self.play(Write(bra[0]))\n",
    "        self.play(Write(text_top))\n",
    "        self.play(Write(text_bot))\n",
    "        self.wait(pause_len)\n",
    "        \n",
    "        text2 = Tex(r'\\underline{No-Free-Lunch Theorem}').scale(1.2)\n",
    "        ast = Tex(r'$*$ terms and conditions apply $*$').scale(0.8)\n",
    "        \n",
    "        text3 = VGroup(Tex(r\"No matter how gamblers place bets at a fair casino,\"),\n",
    "                       Tex(r\"the avererage profit is always 0\")).arrange(DOWN, aligned_edge=LEFT)\n",
    "        eqn = Tex(r\"$\\mathbb{E}[\\text{Profit}] = 0$\").scale(1.2)\n",
    "        eqn2 = Tex(r\"e.g. If Profit = $X - 4$\")\n",
    "        eqn3 = Tex(r\", then $\\mathbb{E}[X]=4$\")\n",
    "        \n",
    "        text2.next_to(vg,3*DOWN)\n",
    "        text2.align_to(text1,LEFT)\n",
    "        ast.next_to(text2,RIGHT)\n",
    "        self.play(Write(text2))\n",
    "        self.wait(pause_len)\n",
    "        \n",
    "        text3.next_to(text2,DOWN)\n",
    "        text3.align_to(text2,LEFT)\n",
    "        self.play(Write(text3))\n",
    "        self.wait(pause_len)\n",
    "        \n",
    "        eqn.next_to(text3,DOWN)\n",
    "        eqn.set_x(0)\n",
    "        self.play(Write(eqn))\n",
    "        self.wait(pause_len)\n",
    "        \n",
    "        \n",
    "        vg = VGroup(eqn2,eqn3).arrange(RIGHT)\n",
    "        \n",
    "        vg.next_to(eqn,DOWN)\n",
    "        self.play(Write(eqn2))\n",
    "        self.wait(pause_len)\n",
    "        self.play(Write(eqn3))\n",
    "        self.wait(pause_len)\n",
    "        \n",
    "        self.play(Write(ast))\n",
    "        self.wait(pause_len)"
   ]
  },
  {
   "cell_type": "markdown",
   "metadata": {},
   "source": [
    "Voiceover:\n",
    "\n",
    "The idea of the solution is to imagine a fair casino. Unlike any real casinos, which offer all sort of bamboozling bets designed to trick you, the fair casino only offers one simple bet gaurenteed which neither wins or loses money on average. Specifically, the only bet on offer is the simple bet of betting on the outcome of a single coinflip in the sequence. 50% of the time your coin comes up, you win and double your bet and 50% of the time you lose your bet. On average you neither win or lose money. \n",
    "\n",
    "Of course real casinos are not fair casinos! But we can use a hypothetical fair casino as a thought experiment to help us understand the world. This is an extremly counterintiutive  and completly out there idea at first: how could an imaginary fair casino help us with anything? The mathematical tool we can use for fair casinos is the \"no-free-lunch-theorem\". This tells you that no mattter how one arranges bets at a fair casino, the profit of such a Casino is always   0 on average. Since we are free to imagine any bets we want at the casino, by thinking of a carefully constructed sequence of bets we can arrange, for quantities of interest to appear as the casino's profit. For example, if we care about a certain quantity X, and we can arrange a sequence of bets so that the Casino's profit is X-7, then it must be that the average value of X is 7. Coming up with the creative sequence of bets for the target sequence problem is exactly what we will do!\n",
    "\n",
    "Its also worth pointing out that as with every theorem, there are terms and conditions. The no-free-lunch theorem can fail when infinites are involved! Fortunatly in our problem these infinities don't pose a problem so we can safely apply the theorem. "
   ]
  },
  {
   "cell_type": "markdown",
   "metadata": {},
   "source": [
    "# Bet animation"
   ]
  },
  {
   "cell_type": "code",
   "execution_count": 503,
   "metadata": {},
   "outputs": [
    {
     "name": "stderr",
     "output_type": "stream",
     "text": [
      "                                                                                                                                                                                                                                                             \r"
     ]
    },
    {
     "data": {
      "text/html": [
       "<video src=\"media/jupyter/matrix_test@2022-07-27@12-08-58.mp4\" controls autoplay loop style=\"max-width: 60%;\"  >\n",
       "      Your browser does not support the <code>video</code> element.\n",
       "    </video>"
      ],
      "text/plain": [
       "<IPython.core.display.Video object>"
      ]
     },
     "metadata": {},
     "output_type": "display_data"
    }
   ],
   "source": [
    "%%manim -v CRITICAL matrix_test\n",
    "class matrix_test(Scene):\n",
    "    def construct(self):\n",
    "        \n",
    "        pause_len = 2\n",
    "        \n",
    "        global H,T,empty_coin\n",
    "        \n",
    "        target = 'HT'\n",
    "        \n",
    "        target_mobject = [H.copy().scale(0.75) if c=='H' else T.copy().scale(0.75) for c in target]\n",
    "        target_mobject2 = [H.copy().scale(0.75) if c=='H' else T.copy().scale(0.75) for c in target]\n",
    "        target_mobject3 = [H.copy().scale(0.75) if c=='H' else T.copy().scale(0.75) for c in target]\n",
    "        target_mobject4 = [H.copy().scale(0.75) if c=='H' else T.copy().scale(0.75) for c in target]\n",
    "        \n",
    "        \n",
    "        coin_flips = 'THHHT' #'THHT'\n",
    "        \n",
    "        s = 0.8\n",
    "        \n",
    "        target_coins = VGroup(Tex(r\"$\\bullet$ The Casino flips coins and takes simple bets until \"),*target_mobject, Tex(r\" appears\")).arrange(RIGHT).scale(s)\n",
    "        target_coins.to_corner(UL)\n",
    "        self.add(target_coins)\n",
    "        \n",
    "        t1 = Tex(r\"$\\bullet$ Before each flip, a new gambler arrives with \\$1 in their pocket\").scale(s)\n",
    "        t2 = VGroup(Tex(r\"$\\bullet$ One flip at a time, they repeatedly bet ALL IN for \"),*target_mobject2,Tex(\" to happen\")).arrange(RIGHT).scale(s)\n",
    "        t3 =  Tex(r\"until they lose all their money or Casino closes. i.e. they hope for\").scale(s)\n",
    "        \n",
    "        bet1_arrow = Tex(r\"$\\longrightarrow$\").scale(s)\n",
    "        bet2_arrow = Tex(r\"$\\longrightarrow$\").scale(s)\n",
    "        \n",
    "        t4 =  VGroup(Tex(r\"Bet \\$1 on\"),target_mobject3[0], bet1_arrow, Tex(r\"Bet \\$2 on \"), target_mobject3[1], bet2_arrow, Tex(r\"Leave Casino with \\$4\")).arrange(RIGHT).scale(s)\n",
    "        \n",
    "        \n",
    "        #VGroup(Tex(\"until they lose all their money or\"),*target_mobject4,Tex(\"reached\")).arrange(RIGHT).scale(s)\n",
    "        #rule1 = VGroup(, target_mobject[0].copy()).arrange(RIGHT)\n",
    "        #rule2 = VGroup(Tex(r\"Rule $2$: If 1st bet is WON, then they  on \"),target_mobject[1].copy()).arrange(RIGHT)\n",
    "        \n",
    "        t1.next_to(target_coins,DOWN)\n",
    "        t1.align_to(target_coins,LEFT)\n",
    "        \n",
    "        t2.next_to(t1,DOWN)\n",
    "        t2.align_to(t1,LEFT)\n",
    "        \n",
    "        t3.next_to(t2,DOWN)\n",
    "        t3.align_to(t2,LEFT)\n",
    "        t3.shift(0.5*RIGHT)\n",
    "        \n",
    "        \n",
    "        t4.next_to(t3,DOWN)\n",
    "        t4.align_to(t3,LEFT)\n",
    "        t4.set_x(0)\n",
    "    \n",
    "        self.add(t1)\n",
    "        self.add(t2)\n",
    "        self.add(t3)\n",
    "        self.add(t4)\n",
    "        \n",
    "        \n",
    "        \n",
    "        \n",
    "        coins = VGroup(*[H.copy() if c=='H' else T.copy() for c in coin_flips],empty_coin.copy())\n",
    "        coins.arrange(RIGHT)\n",
    "        coins.next_to(t4,4*DOWN)\n",
    "        coins.align_to(t1,LEFT)\n",
    "        \n",
    "        self.add(coins)\n",
    "        #for i in range(len(coin_flips)):\n",
    "        #    for a in animate_flip(coins[i],coin_flips[i]):\n",
    "        #        self.play(a,run_time=0.1)\n",
    "                \n",
    "        self.wait(pause_len)\n",
    "        \n",
    "        profit_scale = 1.2\n",
    "        \n",
    "        profit_plus_text = Tex(r\"Casino Gain $=$\").scale(profit_scale)\n",
    "        profit_minus_text = Tex(r\"Casino Loss $=$\").scale(profit_scale)\n",
    "    \n",
    "        profit_plus = Tex(r\"\\$0\",color=WHITE).scale(profit_scale)\n",
    "        profit_minus = Tex(r\"\\$0\",color=WHITE).scale(profit_scale)\n",
    "        vg1 = VGroup(profit_plus_text,profit_plus).arrange(RIGHT)\n",
    "        vg2 = VGroup(profit_minus_text,profit_minus).arrange(RIGHT)\n",
    "        vgg = VGroup(vg1,vg2).arrange(DOWN, aligned_edge=RIGHT)\n",
    "        vgg.next_to(coins,RIGHT)\n",
    "        self.play(Write(vgg))\n",
    "        self.pause(pause_len)\n",
    "        \n",
    "        #eg = Tex(\"e.g.\")\n",
    "        #eg.next_to(coins,LEFT)\n",
    "        #self.add(eg)\n",
    "        \n",
    "        #casino_text = Tex(r\"Casino Account:\",color=WHITE).next_to(coins,LEFT)\n",
    "        #casino_text.shift(DOWN*1.95)\n",
    "        #self.add(casino_text)\n",
    "        \n",
    "        box = [None for m in range(len(coins))]\n",
    "        bet_one = [None for m in range(len(coins))]\n",
    "        bet_two = [None for m in range(len(coins))]\n",
    "        bet_one_a = [None for m in range(len(coins))]\n",
    "        bet_two_a = [None for m in range(len(coins))]\n",
    "        \n",
    "        \n",
    "        #casino = [None for m in range(len(coins))]\n",
    "        \n",
    "        for i in range(len(coins)-1):\n",
    "            \n",
    "            my_box = SurroundingRectangle( VGroup(coins[i],coins[i+1]), color=WHITE, buff=SMALL_BUFF)\n",
    "            my_text = Tex(f\"Gambler \\#{i+1}\")\n",
    "            my_text.next_to(my_box,DOWN)\n",
    "            \n",
    "            box[i] = VGroup()\n",
    "            box[i] += my_box\n",
    "            box[i] += my_text\n",
    "            \n",
    "            #casino_val = \"-2\"\n",
    "            #casino_color = RED\n",
    "            \n",
    "            bet_scale = 1.2\n",
    "            \n",
    "            if coin_flips[i]==target[0]:    \n",
    "                bet_string = r\"\\checkmark\" \n",
    "                bet_color = GREEN\n",
    "            else:\n",
    "                bet_string = r\"$X$\"\n",
    "                bet_color = RED\n",
    "                casino_val = \"+1\"\n",
    "                casino_color = GREEN\n",
    "                \n",
    "            bet_one[i] = Tex(bet_string, color=bet_color).scale(bet_scale).next_to(coins[i],UP)\n",
    "            bet_one_a[i] = bet_one[i].copy().scale(s)\n",
    "            bet_one_a[i].next_to(bet1_arrow,0.25*UP)\n",
    "            \n",
    "            \n",
    "            if coin_flips[i]!=target[0] or i+1 == len(coins)-1:\n",
    "                bet_string = r\".\" \n",
    "                bet_color = BLACK\n",
    "                #casino_color and casino_val are unchanged!\n",
    "            elif coin_flips[i+1]==target[1]:    \n",
    "                bet_string = r\"\\checkmark\" \n",
    "                bet_color = GREEN\n",
    "                #casino_val = \"-4\"\n",
    "                #casino_color = RED\n",
    "            else:\n",
    "                bet_string = r\"$X$\"\n",
    "                bet_color = RED\n",
    "                #casino_val = \"+1\"\n",
    "                #casino_color = GREEN\n",
    "                \n",
    "            \n",
    "            bet_two[i] = Tex(bet_string, color=bet_color).scale(bet_scale).next_to(coins[i+1],UP)\n",
    "            bet_two_a[i] = bet_two[i].copy().scale(s)\n",
    "            bet_two_a[i].next_to(bet2_arrow,0.25*UP)\n",
    "            \n",
    "            #casino[i] = Tex(casino_val,color=casino_color).next_to(coins[i],5*DOWN)\n",
    "\n",
    "        \n",
    "        my_box = box[0]\n",
    "        self.play(Write(my_box))\n",
    "        for i in range(len(coins)-1):\n",
    "            self.play(Write(bet_one[i]),Write(bet_one_a[i]))\n",
    "            self.play(Write(bet_two[i]),Write(bet_two_a[i]))\n",
    "            \n",
    "            profit_plus.generate_target()\n",
    "            profit_plus.target = Tex(f\"\\\\${i+1}\").scale(profit_scale)\n",
    "            profit_plus.target.set_x( profit_plus.get_x() )\n",
    "            profit_plus.target.set_y( profit_plus.get_y() )\n",
    "            self.play(MoveToTarget(profit_plus))\n",
    "            self.play(Indicate(profit_plus,color=RED))\n",
    "            \n",
    "            if i+1 == len(coins)-2:\n",
    "                profit_minus.generate_target()\n",
    "                profit_minus.target = Tex(f\"\\$4\").scale(profit_scale)\n",
    "                profit_minus.target.set_x( profit_minus.get_x() )\n",
    "                profit_minus.target.set_y( profit_minus.get_y() )\n",
    "                self.play(MoveToTarget(profit_minus))\n",
    "                self.play(Indicate(profit_minus,color=GREEN))\n",
    "\n",
    "            \n",
    "            \n",
    "            \n",
    "            #self.play(Write(casino[i]))\n",
    "            self.play(FadeOut(bet_one[i]),FadeOut(bet_two[i]),FadeOut(bet_one_a[i]),FadeOut(bet_two_a[i]))\n",
    "            \n",
    "            if i+1 < len(coins)-1:\n",
    "                my_box.generate_target()\n",
    "                my_box.target = box[i+1]   \n",
    "                self.play(MoveToTarget(my_box))\n",
    "                \n",
    "        self.play(FadeOut(my_box))\n",
    "            \n",
    "        \n",
    "        profit_plus.generate_target()\n",
    "        profit_plus.target = Tex(r\"$N_{\\text{ppl}}$\").scale(profit_scale)\n",
    "        profit_plus.target.next_to(profit_plus_text,RIGHT)\n",
    "        self.play(MoveToTarget(profit_plus))\n",
    "        self.wait(pause_len)\n",
    "        \n",
    "        profit_plus.generate_target()\n",
    "        profit_plus.target = Tex(r\"$N_{HT}$\").scale(profit_scale)\n",
    "        profit_plus.target.next_to(profit_plus_text,RIGHT)\n",
    "        self.play(MoveToTarget(profit_plus))\n",
    "        self.wait(pause_len)\n",
    "        \n",
    "        self.play(FadeOut(t1,t2,t3,t4))\n",
    "        \n",
    "     \n",
    "        \n",
    "        \n",
    "        #Rearrange to solve for E[N_HT] here!\n",
    "        \n",
    "        #Fadeout all the text\n",
    "        #E[Casino Profit] = 0\n",
    "        #E[Casino $ In - Casino $ Out] = 0\n",
    "        #slide in Casion In = N_HT and Casino Out = 4\n",
    "        #Rearrange and solve to get E[N_HT] = 4\n",
    "            \n",
    "\n",
    "        "
   ]
  },
  {
   "cell_type": "code",
   "execution_count": null,
   "metadata": {},
   "outputs": [],
   "source": []
  },
  {
   "cell_type": "markdown",
   "metadata": {},
   "source": [
    "Here is the bizzare sequence of bets that we will imagine at our imaginary casino. Even though this casino is completly imaginary, thinking carefully about this particular sequence of bets will reveal the solutution to the target sequence problem. For concreteness, lets analyze the sequence Heads-Tails first. We setup the Casino and gambler's in the following particular way for Heads-Tails:\n",
    "\n",
    "1.\n",
    "The Casino flips coins and takes simple bets until H,T appears. \n",
    "When HT appeears, the Casino closes and no more bets can be placed. \n",
    "\n",
    "2.\n",
    "Before each flip a new gambler arrives with $1 in their pocket. This single dollar is the most money each gambler can possibly lose at the casino. \n",
    "\n",
    "3.\n",
    "One flip at a time they .... \n",
    "This means that each gambler is hoping for the following sequence of outcomes on the next two coin flips, First they bet $1 on Heads. If they win, they will double their bet and bet $2 on Tails. If they win again, they will go home with $4. If at any point they lose either of these bets, they are out of money and go home empty handed. \n",
    "\n",
    "Here is an example. Suppose the flips at the casino come up Tails Heads Heads Heads Tails. Like forensic accountants, we can analyze the profit and loss of the casino after the fact by looking at this sequence. \n",
    "\n",
    "The first gambler ... the second gambler... \n",
    "\n",
    "At the end of the day, we see that the casino took in 5 dollars from teh 5 gamblers, and only had to pay out $4 to lucky gambler #4 who completed the HT sequence. All the other gamblers went bust due to their bet-it-all strategy!\n",
    "\n",
    "In fact, the same conclusion holds no matter the sequence of coinflups! The casino takes in $1 for each gambler, so the casino's income is simply the number of gambelrs who play. But by our setup, the number of gamblers who play is precisly the number of coinfliups until HT is reached! On the other hand, no matter what the sequence that comes up is, only a single lucky gambler leaves the casino with some money. This is precsely the second-to-last gambler who got lucky and arrived exactly at the moment that HT came up. Our setup is exactly chosen so that all the other gamblers lose and leave the casino emptyhanded.\n",
    "\n",
    "This means the profit of the casino is simply....\n",
    "\n",
    "\n",
    "\n"
   ]
  }
 ],
 "metadata": {
  "colab": {
   "authorship_tag": "ABX9TyMOmqMrHwQH9mc+JmC4TNUf",
   "include_colab_link": true,
   "name": "Copy of Copy of Manim.ipynb",
   "provenance": []
  },
  "kernelspec": {
   "display_name": "Python 3 (ipykernel)",
   "language": "python",
   "name": "python3"
  },
  "language_info": {
   "codemirror_mode": {
    "name": "ipython",
    "version": 3
   },
   "file_extension": ".py",
   "mimetype": "text/x-python",
   "name": "python",
   "nbconvert_exporter": "python",
   "pygments_lexer": "ipython3",
   "version": "3.9.13"
  }
 },
 "nbformat": 4,
 "nbformat_minor": 1
}
