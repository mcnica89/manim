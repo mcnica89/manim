{
 "cells": [
  {
   "cell_type": "code",
   "execution_count": 1,
   "metadata": {
    "id": "e9SPvhhmxRTr"
   },
   "outputs": [
    {
     "data": {
      "text/html": [
       "<pre style=\"white-space:pre;overflow-x:auto;line-height:normal;font-family:Menlo,'DejaVu Sans Mono',consolas,'Courier New',monospace\">Manim Community <span style=\"color: #008000; text-decoration-color: #008000\">v0.16.0.post0</span>\n",
       "\n",
       "</pre>\n"
      ],
      "text/plain": [
       "Manim Community \u001b[32mv0.\u001b[0m\u001b[32m16.0\u001b[0m\u001b[32m.post0\u001b[0m\n",
       "\n"
      ]
     },
     "metadata": {},
     "output_type": "display_data"
    }
   ],
   "source": [
    "from manim import *"
   ]
  },
  {
   "cell_type": "code",
   "execution_count": 2,
   "metadata": {},
   "outputs": [],
   "source": [
    "#Global variable with H coin and T coin used throughout\n",
    "H = LabeledDot(Tex(\"H\", color=BLACK), radius=0.35, color=BLUE).scale(1.5)\n",
    "T = LabeledDot(Tex(\"T\", color=BLACK), radius=0.35, color=YELLOW).scale(1.5)\n",
    "empty_coin = LabeledDot(Tex(\"$T$\", color=BLACK), radius=0.35, color=BLACK).scale(1.5)   "
   ]
  },
  {
   "cell_type": "markdown",
   "metadata": {},
   "source": [
    "# Bet animation"
   ]
  },
  {
   "cell_type": "code",
   "execution_count": 3,
   "metadata": {},
   "outputs": [
    {
     "name": "stderr",
     "output_type": "stream",
     "text": [
      "                                                                                                                                                                                                                                                                \r"
     ]
    },
    {
     "data": {
      "text/html": [
       "<video src=\"media/jupyter/matrix_test@2022-07-24@22-03-15.mp4\" controls autoplay loop style=\"max-width: 60%;\"  >\n",
       "      Your browser does not support the <code>video</code> element.\n",
       "    </video>"
      ],
      "text/plain": [
       "<IPython.core.display.Video object>"
      ]
     },
     "metadata": {},
     "output_type": "display_data"
    }
   ],
   "source": [
    "%%manim -v CRITICAL matrix_test\n",
    "class matrix_test(Scene):\n",
    "    def construct(self):\n",
    "        \n",
    "        global H,T,empty_coin\n",
    "        \n",
    "        target = 'HH'\n",
    "        coin_flips = 'THTHH'\n",
    "        \n",
    "        target_coins = VGroup(Tex(r\"Target Sequence: \"),*[H.copy() if c=='H' else T.copy() for c in target])\n",
    "        target_coins.arrange(RIGHT)\n",
    "        target_coins.shift(3*(LEFT+UP))\n",
    "        self.add(target_coins)\n",
    "        \n",
    "        coins = VGroup(*[H.copy() if c=='H' else T.copy() for c in coin_flips],empty_coin.copy())\n",
    "        coins.arrange(RIGHT)\n",
    "        self.add(coins)\n",
    "        \n",
    "        #casino_text = Tex(r\"Casino Account:\",color=WHITE).next_to(coins,LEFT)\n",
    "        #casino_text.shift(DOWN*1.95)\n",
    "        #self.add(casino_text)\n",
    "        \n",
    "        box = [None for m in range(len(coins))]\n",
    "        bet_one = [None for m in range(len(coins))]\n",
    "        bet_two = [None for m in range(len(coins))]\n",
    "        #casino = [None for m in range(len(coins))]\n",
    "        \n",
    "        for i in range(len(coins)-1):\n",
    "            \n",
    "            my_box = SurroundingRectangle( VGroup(coins[i],coins[i+1]), color=WHITE, buff=SMALL_BUFF)\n",
    "            my_text = Tex(f\"Gambler \\#{i+1}\")\n",
    "            my_text.next_to(my_box,UP)\n",
    "            \n",
    "            box[i] = VGroup()\n",
    "            box[i] += my_box\n",
    "            box[i] += my_text\n",
    "            \n",
    "            #casino_val = \"-2\"\n",
    "            #casino_color = RED\n",
    "            \n",
    "            if coin_flips[i]==target[0]:    \n",
    "                bet_string = r\"\\checkmark\" \n",
    "                bet_color = GREEN\n",
    "            else:\n",
    "                bet_string = r\"$X$\"\n",
    "                bet_color = RED\n",
    "                casino_val = \"+1\"\n",
    "                casino_color = GREEN\n",
    "                \n",
    "            bet_one[i] = Tex(bet_string, color=bet_color).next_to(coins[i],2*DOWN)\n",
    "            \n",
    "            \n",
    "            if coin_flips[i]!=target[0] or i+1 == len(coins)-1:\n",
    "                bet_string = r\".\" \n",
    "                bet_color = BLACK\n",
    "                #casino_color and casino_val are unchanged!\n",
    "            elif coin_flips[i+1]==target[1]:    \n",
    "                bet_string = r\"\\checkmark\" \n",
    "                bet_color = GREEN\n",
    "                #casino_val = \"-4\"\n",
    "                #casino_color = RED\n",
    "            else:\n",
    "                bet_string = r\"$X$\"\n",
    "                bet_color = RED\n",
    "                #casino_val = \"+1\"\n",
    "                #casino_color = GREEN\n",
    "                \n",
    "            \n",
    "            bet_two[i] = Tex(bet_string, color=bet_color).next_to(coins[i+1],2*DOWN)\n",
    "            \n",
    "            #casino[i] = Tex(casino_val,color=casino_color).next_to(coins[i],5*DOWN)\n",
    "\n",
    "        \n",
    "        my_box = box[0]\n",
    "        self.play(Write(my_box))\n",
    "        for i in range(len(coins)-1):\n",
    "            self.play(Write(bet_one[i]))\n",
    "            self.play(Write(bet_two[i]))\n",
    "            #self.play(Write(casino[i]))\n",
    "            self.play(FadeOut(bet_one[i]),FadeOut(bet_two[i]))\n",
    "            \n",
    "            if i+1 < len(coins)-1:\n",
    "                my_box.generate_target()\n",
    "                my_box.target = box[i+1]   \n",
    "                self.play(MoveToTarget(my_box))\n",
    "            \n",
    "        "
   ]
  },
  {
   "cell_type": "code",
   "execution_count": 4,
   "metadata": {},
   "outputs": [
    {
     "name": "stderr",
     "output_type": "stream",
     "text": [
      "                                                                                                                                                                                                                                                                \r"
     ]
    },
    {
     "data": {
      "text/html": [
       "<video src=\"media/jupyter/matrix_test@2022-07-24@22-03-20.mp4\" controls autoplay loop style=\"max-width: 60%;\"  >\n",
       "      Your browser does not support the <code>video</code> element.\n",
       "    </video>"
      ],
      "text/plain": [
       "<IPython.core.display.Video object>"
      ]
     },
     "metadata": {},
     "output_type": "display_data"
    }
   ],
   "source": [
    "%%manim -v CRITICAL matrix_test\n",
    "class matrix_test(Scene):\n",
    "    def construct(self):\n",
    "     \n",
    "        global H\n",
    "        \n",
    "        text_top = Tex(r\"$50\\%$ chance to get \", \"\\$2\")\n",
    "        text_top.set_color_by_tex(r\"\\$2\",GREEN)\n",
    "        text_bot = Tex(r\"$50\\%$ chance to get \", \"\\$0\")\n",
    "        text_bot.set_color_by_tex(r\"\\$0\",GREEN)\n",
    "        matrix = MobjectMatrix([[text_top], \n",
    "                                [text_bot]], \n",
    "        v_buff=0.8, \n",
    "        h_buff=0.8, \n",
    "        bracket_h_buff=SMALL_BUFF, \n",
    "        bracket_v_buff=SMALL_BUFF, \n",
    "        left_bracket=\"\\{\", \n",
    "        right_bracket=\"\\}\").scale(1.2) \n",
    "        #mob.set_row_colors(YELLOW, YELLOW) \n",
    "        \n",
    "        bra = matrix.get_brackets()\n",
    "        bra[1].set_color(BLACK)\n",
    "        \n",
    "        vg = VGroup(Text(\"Bet\"), Text(r\"$1\",color=GREEN),Text(\"on\"),H.copy(),Tex(r\"$\\rightarrow$\"),matrix)\n",
    "        #vg.set_color_by_tex(r\"1\",BLUE)\n",
    "        vg.arrange(RIGHT)  \n",
    "        vg -= matrix\n",
    "        self.play(Write(vg))   \n",
    "        self.play(Write(bra[0]))\n",
    "        self.play(Write(text_top))\n",
    "        self.play(Write(text_bot))\n",
    "        self.wait(2)\n",
    "        \n",
    "        "
   ]
  }
 ],
 "metadata": {
  "colab": {
   "authorship_tag": "ABX9TyMOmqMrHwQH9mc+JmC4TNUf",
   "include_colab_link": true,
   "name": "Copy of Copy of Manim.ipynb",
   "provenance": []
  },
  "kernelspec": {
   "display_name": "Python 3 (ipykernel)",
   "language": "python",
   "name": "python3"
  },
  "language_info": {
   "codemirror_mode": {
    "name": "ipython",
    "version": 3
   },
   "file_extension": ".py",
   "mimetype": "text/x-python",
   "name": "python",
   "nbconvert_exporter": "python",
   "pygments_lexer": "ipython3",
   "version": "3.9.13"
  }
 },
 "nbformat": 4,
 "nbformat_minor": 1
}
