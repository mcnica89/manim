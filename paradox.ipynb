from manim import *
import math
import numpy as np
from manim_slides import *
import random
from MF_Tools import *
import os
os.environ["PATH"] = "/Library/TeX/texbin:" + os.environ["PATH"]